{
  "cells": [
    {
      "cell_type": "markdown",
      "metadata": {
        "id": "view-in-github",
        "colab_type": "text"
      },
      "source": [
        "<a href=\"https://colab.research.google.com/github/deepak-dewani/Data-Structures-and-Algorithms-in-Python/blob/main/02_python_binary_search_trees.ipynb\" target=\"_parent\"><img src=\"https://colab.research.google.com/assets/colab-badge.svg\" alt=\"Open In Colab\"/></a>"
      ]
    },
    {
      "cell_type": "code",
      "execution_count": 131,
      "id": "78e4b767",
      "metadata": {
        "id": "78e4b767"
      },
      "outputs": [],
      "source": [
        "# Jovian Commit Essentials\n",
        "# Please retain and execute this cell without modifying the contents for `jovian.commit` to work\n",
        "!pip install jovian --upgrade -q\n",
        "import jovian\n",
        "jovian.set_project('python-binary-search-trees')\n",
        "jovian.set_colab_id('1biP5eeyhYOZ7f4AcOLa1kJAXRQGf-OnQ')"
      ]
    },
    {
      "cell_type": "markdown",
      "id": "precise-filename",
      "metadata": {
        "id": "precise-filename"
      },
      "source": [
        "# Binary Search Trees, Traversals and Balancing in Python\n",
        "\n",
        "### Part 2 of \"Data Structures and Algorithms in Python\"\n",
        "\n",
        "![](https://i.imgur.com/lVqP63n.png)\n",
        "\n",
        "\n",
        "\n",
        "\n",
        "\n",
        "[Data Structures and Algorithms in Python](https://jovian.ai/learn/data-structures-and-algorithms-in-python) is a beginner-friendly introduction to common data structures (linked lists, stacks, queues, graphs) and algorithms (search, sorting, recursion, dynamic programming) in Python, designed to help you prepare for coding interviews and assessments.\n",
        "\n",
        "\n",
        "Earn a verified certificate of accomplishment for this course by signing up here: http://pythondsa.com.\n",
        "\n",
        "Ask questions, get help & participate in discussions on the community forum: https://jovian.ai/forum/c/data-structures-and-algorithms-in-python/78"
      ]
    },
    {
      "cell_type": "markdown",
      "id": "adaptive-birmingham",
      "metadata": {
        "id": "adaptive-birmingham"
      },
      "source": [
        "### Prerequisites\n",
        "\n",
        "This course assumes very little background in programming and mathematics, and you can learn the required concepts here:\n",
        "\n",
        "- Basic programming with Python ([variables](https://jovian.ai/aakashns/first-steps-with-python), [data types](https://jovian.ai/aakashns/python-variables-and-data-types), [loops](https://jovian.ai/aakashns/python-branching-and-loops), [functions](https://jovian.ai/aakashns/python-functions-and-scope) etc.)\n",
        "- Some high school mathematics ([polynomials](https://www.youtube.com/watch?v=Vm7H0VTlIco), [vectors, matrices](https://www.youtube.com/watch?v=0oGJTQCy4cQ&list=PLSQl0a2vh4HCs4zPpOEdF2GuydqS90Yb6) and [probability](https://www.youtube.com/watch?v=uzkc-qNVoOk))\n",
        "- No prior knowledge of data structures or algorithms is required\n",
        "\n",
        "We'll cover any additional mathematical and theoretical concepts we need as we go along.\n",
        "\n"
      ]
    },
    {
      "cell_type": "markdown",
      "id": "polished-current",
      "metadata": {
        "id": "polished-current"
      },
      "source": [
        "## How to Run the Code\n",
        "\n",
        "The best way to learn the material is to execute the code and experiment with it yourself. This tutorial is an executable [Jupyter notebook](https://jupyter.org). You can _run_ this tutorial and experiment with the code examples in a couple of ways: *using free online resources* (recommended) or *on your computer*.\n",
        "\n",
        "#### Option 1: Running using free online resources (1-click, recommended)\n",
        "\n",
        "The easiest way to start executing the code is to click the **Run** button at the top of this page and select **Run on Binder**. You can also select \"Run on Colab\" or \"Run on Kaggle\", but you'll need to create an account on [Google Colab](https://colab.research.google.com) or [Kaggle](https://kaggle.com) to use these platforms.\n",
        "\n",
        "\n",
        "#### Option 2: Running on your computer locally\n",
        "\n",
        "To run the code on your computer locally, you'll need to set up [Python](https://www.python.org), download the notebook and install the required libraries. We recommend using the [Conda](https://docs.conda.io/projects/conda/en/latest/user-guide/install/) distribution of Python. Click the **Run** button at the top of this page, select the **Run Locally** option, and follow the instructions.\n"
      ]
    },
    {
      "cell_type": "markdown",
      "id": "governmental-worry",
      "metadata": {
        "id": "governmental-worry"
      },
      "source": [
        "## Problem \n",
        "\n",
        "\n",
        "In this notebook, we'll focus on solving the following problem:\n",
        "\n",
        "> **QUESTION 1**: As a senior backend engineer at Jovian, you are tasked with developing a fast in-memory data structure to manage profile information (username, name and email) for 100 million users. It should allow the following operations to be performed efficiently:\n",
        "> \n",
        "> 1. **Insert** the profile information for a new user.\n",
        "> 2. **Find** the profile information of a user, given their username\n",
        "> 3. **Update** the profile information of a user, given their usrname\n",
        "> 5. **List** all the users of the platform, sorted by username\n",
        ">\n",
        "> You can assume that usernames are unique. \n",
        "\n",
        "Along the way, we will also solve several other questions related to binary trees and binary search trees that are often asked in coding interviews and assessments. "
      ]
    },
    {
      "cell_type": "markdown",
      "id": "primary-adjustment",
      "metadata": {
        "id": "primary-adjustment"
      },
      "source": [
        "## The Method\n",
        "\n",
        "\n",
        "Here's a systematic strategy we'll apply for solving problems:\n",
        "\n",
        "1. State the problem clearly. Identify the input & output formats.\n",
        "2. Come up with some example inputs & outputs. Try to cover all edge cases.\n",
        "3. Come up with a correct solution for the problem. State it in plain English.\n",
        "4. Implement the solution and test it using example inputs. Fix bugs, if any.\n",
        "5. Analyze the algorithm's complexity and identify inefficiencies, if any.\n",
        "6. Apply the right technique to overcome the inefficiency. Repeat steps 3 to 6.\n",
        "\n"
      ]
    },
    {
      "cell_type": "markdown",
      "id": "three-register",
      "metadata": {
        "id": "three-register"
      },
      "source": [
        "## 1. State the problem clearly. Identify the input & output formats.\n",
        "\n",
        "#### Problem\n",
        "\n",
        "> We need to create a data structure which can store 100 million records and perform insertion, search, update and list operations efficiently.\n",
        "\n",
        "#### Input\n",
        "\n",
        "The key inputs to our data structure are user profiles, which contain the username, name and email of a user. \n",
        "\n",
        "A Python _class_ would be a great way to represent the information for a user. A class is a blueprint for creating _objects_. Everything in Python is an _object_ belonging to some _class_. Here's the simples possible class in Python, with nothing in it:"
      ]
    },
    {
      "cell_type": "code",
      "execution_count": 132,
      "id": "exempt-financing",
      "metadata": {
        "id": "exempt-financing"
      },
      "outputs": [],
      "source": [
        "class User:\n",
        "    pass"
      ]
    },
    {
      "cell_type": "markdown",
      "id": "pointed-navigator",
      "metadata": {
        "id": "pointed-navigator"
      },
      "source": [
        "We can create or _instantiate_ an object of the class by calling it like a function."
      ]
    },
    {
      "cell_type": "code",
      "execution_count": 133,
      "id": "smooth-copyright",
      "metadata": {
        "id": "smooth-copyright"
      },
      "outputs": [],
      "source": [
        "user1 = User()"
      ]
    },
    {
      "cell_type": "markdown",
      "id": "unavailable-silly",
      "metadata": {
        "id": "unavailable-silly"
      },
      "source": [
        "We can verify that the object is of the class `User`."
      ]
    },
    {
      "cell_type": "code",
      "execution_count": 134,
      "id": "frank-launch",
      "metadata": {
        "colab": {
          "base_uri": "https://localhost:8080/"
        },
        "id": "frank-launch",
        "outputId": "43aabe4b-79db-4d82-fa76-be47e93f5c1b"
      },
      "outputs": [
        {
          "output_type": "execute_result",
          "data": {
            "text/plain": [
              "<__main__.User at 0x7fc1122838d0>"
            ]
          },
          "metadata": {},
          "execution_count": 134
        }
      ],
      "source": [
        "user1"
      ]
    },
    {
      "cell_type": "code",
      "execution_count": 135,
      "id": "variable-enclosure",
      "metadata": {
        "colab": {
          "base_uri": "https://localhost:8080/"
        },
        "id": "variable-enclosure",
        "outputId": "75c8c1ef-6cc1-4e58-8606-f339873cda1e"
      },
      "outputs": [
        {
          "output_type": "execute_result",
          "data": {
            "text/plain": [
              "__main__.User"
            ]
          },
          "metadata": {},
          "execution_count": 135
        }
      ],
      "source": [
        "type(user1)"
      ]
    },
    {
      "cell_type": "markdown",
      "id": "direct-projector",
      "metadata": {
        "id": "direct-projector"
      },
      "source": [
        "The object `user1` does not contain any useful information. Let's add a _constructor method_ to the class to store some _attributes_ or _properties_."
      ]
    },
    {
      "cell_type": "code",
      "execution_count": 136,
      "id": "excessive-force",
      "metadata": {
        "id": "excessive-force"
      },
      "outputs": [],
      "source": [
        "class User:\n",
        "    def __init__(self, username, name, email):\n",
        "        self.username = username\n",
        "        self.name = name\n",
        "        self.email = email\n",
        "        print('User created!')"
      ]
    },
    {
      "cell_type": "markdown",
      "id": "biblical-recommendation",
      "metadata": {
        "id": "biblical-recommendation"
      },
      "source": [
        "We can now create an object with some properties."
      ]
    },
    {
      "cell_type": "code",
      "execution_count": 137,
      "id": "above-daughter",
      "metadata": {
        "colab": {
          "base_uri": "https://localhost:8080/"
        },
        "id": "above-daughter",
        "outputId": "10d2f970-7ea1-4fa0-ac76-ddcfe158be39"
      },
      "outputs": [
        {
          "output_type": "stream",
          "name": "stdout",
          "text": [
            "User created!\n"
          ]
        }
      ],
      "source": [
        "user2 = User('john', 'John Doe', 'john@doe.com')"
      ]
    },
    {
      "cell_type": "code",
      "execution_count": 138,
      "id": "0cbcf071",
      "metadata": {
        "colab": {
          "base_uri": "https://localhost:8080/"
        },
        "id": "0cbcf071",
        "outputId": "0a30bf0d-fba2-4d60-95d9-4f35b061b210"
      },
      "outputs": [
        {
          "output_type": "stream",
          "name": "stdout",
          "text": [
            "User created!\n"
          ]
        }
      ],
      "source": [
        "user195 = User('deepak', 'Deepak', 'deepak@dee.com')"
      ]
    },
    {
      "cell_type": "code",
      "execution_count": 139,
      "id": "ab9753b3",
      "metadata": {
        "colab": {
          "base_uri": "https://localhost:8080/",
          "height": 35
        },
        "id": "ab9753b3",
        "outputId": "d3cb050f-8816-4bcf-aaf2-f9505769ee36"
      },
      "outputs": [
        {
          "output_type": "execute_result",
          "data": {
            "application/vnd.google.colaboratory.intrinsic+json": {
              "type": "string"
            },
            "text/plain": [
              "'Deepak'"
            ]
          },
          "metadata": {},
          "execution_count": 139
        }
      ],
      "source": [
        "user195.name"
      ]
    },
    {
      "cell_type": "code",
      "execution_count": 140,
      "id": "0323a77c",
      "metadata": {
        "colab": {
          "base_uri": "https://localhost:8080/",
          "height": 35
        },
        "id": "0323a77c",
        "outputId": "58280119-74ff-4dc0-834b-456f61651252"
      },
      "outputs": [
        {
          "output_type": "execute_result",
          "data": {
            "application/vnd.google.colaboratory.intrinsic+json": {
              "type": "string"
            },
            "text/plain": [
              "'deepak'"
            ]
          },
          "metadata": {},
          "execution_count": 140
        }
      ],
      "source": [
        "user195.username"
      ]
    },
    {
      "cell_type": "code",
      "execution_count": 141,
      "id": "d30b22be",
      "metadata": {
        "colab": {
          "base_uri": "https://localhost:8080/",
          "height": 35
        },
        "id": "d30b22be",
        "outputId": "17ae89e3-ba81-49df-b7e0-e09c2a8f019c"
      },
      "outputs": [
        {
          "output_type": "execute_result",
          "data": {
            "application/vnd.google.colaboratory.intrinsic+json": {
              "type": "string"
            },
            "text/plain": [
              "'deepak@dee.com'"
            ]
          },
          "metadata": {},
          "execution_count": 141
        }
      ],
      "source": [
        "user195.email"
      ]
    },
    {
      "cell_type": "code",
      "execution_count": 142,
      "id": "e1208ad3",
      "metadata": {
        "colab": {
          "base_uri": "https://localhost:8080/"
        },
        "id": "e1208ad3",
        "outputId": "1dfeb3b4-f468-4097-d92f-be14e075acad"
      },
      "outputs": [
        {
          "output_type": "execute_result",
          "data": {
            "text/plain": [
              "<__main__.User at 0x7fc1127896d0>"
            ]
          },
          "metadata": {},
          "execution_count": 142
        }
      ],
      "source": [
        "user195"
      ]
    },
    {
      "cell_type": "code",
      "execution_count": 143,
      "id": "single-roads",
      "metadata": {
        "colab": {
          "base_uri": "https://localhost:8080/"
        },
        "id": "single-roads",
        "outputId": "0c8f9eff-790c-4550-fa7e-a42d0d21eced"
      },
      "outputs": [
        {
          "output_type": "execute_result",
          "data": {
            "text/plain": [
              "<__main__.User at 0x7fc11228eb50>"
            ]
          },
          "metadata": {},
          "execution_count": 143
        }
      ],
      "source": [
        "user2"
      ]
    },
    {
      "cell_type": "markdown",
      "id": "narrow-seeker",
      "metadata": {
        "id": "narrow-seeker"
      },
      "source": [
        "Here's what's happening above (conceptually):\n",
        "\n",
        "- Python creates an empty object of the type user and stores in the variable `user2`\n",
        "- Python then invokes the function `User.___init__` with the arguments `user2`, `\"john\"`, `\"John Doe\"` and `\"john@doe.com\"`\n",
        "- As the `__init__` function is executed, the properties `username`, `name` and `email` are set on the object `user2`\n"
      ]
    },
    {
      "cell_type": "markdown",
      "id": "injured-sheffield",
      "metadata": {
        "id": "injured-sheffield"
      },
      "source": [
        "We can access the properties of the object using the `.` notation."
      ]
    },
    {
      "cell_type": "code",
      "execution_count": 144,
      "id": "blessed-albert",
      "metadata": {
        "colab": {
          "base_uri": "https://localhost:8080/",
          "height": 35
        },
        "id": "blessed-albert",
        "outputId": "1ae82928-d865-4072-930c-8ca322344469"
      },
      "outputs": [
        {
          "output_type": "execute_result",
          "data": {
            "application/vnd.google.colaboratory.intrinsic+json": {
              "type": "string"
            },
            "text/plain": [
              "'John Doe'"
            ]
          },
          "metadata": {},
          "execution_count": 144
        }
      ],
      "source": [
        "user2.name"
      ]
    },
    {
      "cell_type": "code",
      "execution_count": 145,
      "id": "strategic-mixture",
      "metadata": {
        "colab": {
          "base_uri": "https://localhost:8080/"
        },
        "id": "strategic-mixture",
        "outputId": "2c087fc8-b6f5-4a45-9e49-bcbae59049fd"
      },
      "outputs": [
        {
          "output_type": "execute_result",
          "data": {
            "text/plain": [
              "('john@doe.com', 'john')"
            ]
          },
          "metadata": {},
          "execution_count": 145
        }
      ],
      "source": [
        "user2.email, user2.username"
      ]
    },
    {
      "cell_type": "markdown",
      "id": "international-arrow",
      "metadata": {
        "id": "international-arrow"
      },
      "source": [
        "You can also define custom methods inside a class."
      ]
    },
    {
      "cell_type": "code",
      "execution_count": 146,
      "id": "trying-listening",
      "metadata": {
        "id": "trying-listening"
      },
      "outputs": [],
      "source": [
        "class User:\n",
        "    def __init__(self, username, name, email):\n",
        "        self.username = username\n",
        "        self.name = name\n",
        "        self.email = email\n",
        "    \n",
        "    def introduce_yourself(self, guest_name):\n",
        "        print(f\"Hi {guest_name}, I'm {self.name}! Contact me at {self.email} .\")"
      ]
    },
    {
      "cell_type": "code",
      "execution_count": 147,
      "id": "previous-nicaragua",
      "metadata": {
        "id": "previous-nicaragua"
      },
      "outputs": [],
      "source": [
        "user3 = User('jane', 'Jane Doe', 'jane@doe.com')"
      ]
    },
    {
      "cell_type": "code",
      "execution_count": 148,
      "id": "negative-tunisia",
      "metadata": {
        "colab": {
          "base_uri": "https://localhost:8080/"
        },
        "id": "negative-tunisia",
        "outputId": "82f87eae-c740-4210-9fcf-154fa971392b"
      },
      "outputs": [
        {
          "output_type": "stream",
          "name": "stdout",
          "text": [
            "Hi David, I'm Jane Doe! Contact me at jane@doe.com .\n"
          ]
        }
      ],
      "source": [
        "user3.introduce_yourself('David')"
      ]
    },
    {
      "cell_type": "markdown",
      "id": "rental-power",
      "metadata": {
        "id": "rental-power"
      },
      "source": [
        "When we try to invoke the method `user3.introduce_yourself`, the object `user3` is automatically passed as the first argument `self`. Indeed, the following statement is equivalent to the above statement."
      ]
    },
    {
      "cell_type": "code",
      "execution_count": 149,
      "id": "apparent-spring",
      "metadata": {
        "colab": {
          "base_uri": "https://localhost:8080/"
        },
        "id": "apparent-spring",
        "outputId": "02edf817-6f5e-4697-b35e-28baf788dd0e"
      },
      "outputs": [
        {
          "output_type": "stream",
          "name": "stdout",
          "text": [
            "Hi David, I'm Jane Doe! Contact me at jane@doe.com .\n"
          ]
        }
      ],
      "source": [
        "User.introduce_yourself(user3, 'David')"
      ]
    },
    {
      "cell_type": "markdown",
      "id": "veterinary-sustainability",
      "metadata": {
        "id": "veterinary-sustainability"
      },
      "source": [
        "Finally, we'll define a couple of helper methods to display user objects nicely within Jupyter."
      ]
    },
    {
      "cell_type": "code",
      "execution_count": 150,
      "id": "regular-equivalent",
      "metadata": {
        "id": "regular-equivalent"
      },
      "outputs": [],
      "source": [
        "class User:\n",
        "    def __init__(self, username, name, email):\n",
        "        self.username = username\n",
        "        self.name = name\n",
        "        self.email = email\n",
        "        \n",
        "    def __repr__(self):\n",
        "        return \"User(username='{}', name='{}', email='{}')\".format(self.username, self.name, self.email)\n",
        "    \n",
        "    def __str__(self):\n",
        "        return self.__repr__()"
      ]
    },
    {
      "cell_type": "code",
      "execution_count": 151,
      "id": "bright-vegetation",
      "metadata": {
        "id": "bright-vegetation"
      },
      "outputs": [],
      "source": [
        "user4 = User('jane', 'Jane Doe', 'jane@doe.com')"
      ]
    },
    {
      "cell_type": "code",
      "execution_count": 152,
      "id": "controlling-vehicle",
      "metadata": {
        "colab": {
          "base_uri": "https://localhost:8080/"
        },
        "id": "controlling-vehicle",
        "outputId": "51e63714-be43-4fae-ed62-27cdd215f1a7"
      },
      "outputs": [
        {
          "output_type": "execute_result",
          "data": {
            "text/plain": [
              "User(username='jane', name='Jane Doe', email='jane@doe.com')"
            ]
          },
          "metadata": {},
          "execution_count": 152
        }
      ],
      "source": [
        "user4"
      ]
    },
    {
      "cell_type": "markdown",
      "id": "closing-auditor",
      "metadata": {
        "id": "closing-auditor"
      },
      "source": [
        "**Exercise:** What is the purpose of defining the functions `__str__` and `__repr__` within a class? How are the two functions different? Illustrate with some examples using the empty cells below.\n",
        "\n",
        "\n",
        "Learn more about classes in Python here: https://jovian.ai/aakashns/python-classes-and-linked-lists ."
      ]
    },
    {
      "cell_type": "markdown",
      "id": "aF29S8IEStuM",
      "metadata": {
        "id": "aF29S8IEStuM"
      },
      "source": [
        "The __str__ function is supposed to return a human-readable format, which is good for logging or to display some information about the object. Whereas, the __repr__ function is supposed to return an “official” string representation of the object, which can be used to construct the object again. Let’s look at some examples below to understand this difference in a better way."
      ]
    },
    {
      "cell_type": "code",
      "execution_count": 153,
      "id": "uuBHtulIWTIF",
      "metadata": {
        "colab": {
          "base_uri": "https://localhost:8080/"
        },
        "id": "uuBHtulIWTIF",
        "outputId": "c3770cfe-edbc-45f6-e546-0504b4b3c0cf"
      },
      "outputs": [
        {
          "output_type": "stream",
          "name": "stdout",
          "text": [
            "Car is Toyota and its model is Fortuner, where number is 4566\n",
            "<bound method car.__repr__ of Car is Toyota and its model is Fortuner, where number is 4566>\n"
          ]
        }
      ],
      "source": [
        "class car():\n",
        "  def __init__(self,car_name, car_model, car_number):\n",
        "    self.name = car_name\n",
        "    self.model = car_model\n",
        "    self.number = car_number\n",
        "\n",
        "  def __repr__(self):\n",
        "    return f\"Car is {self.name} and its model is {self.model}, where number is {self.number}\"\n",
        "\n",
        "  def __str__(self):\n",
        "    return self.__repr__\n",
        "  \n",
        "  \n",
        "\n",
        "\n",
        "p = car('Toyota', 'Fortuner', 4566)\n",
        "\n",
        "print(p.__repr__())\n",
        "print(p.__str__())"
      ]
    },
    {
      "cell_type": "code",
      "execution_count": 154,
      "id": "w4uBz-UaWS2j",
      "metadata": {
        "colab": {
          "base_uri": "https://localhost:8080/"
        },
        "id": "w4uBz-UaWS2j",
        "outputId": "dc12c7c1-ef76-4894-ee11-097a5ee4475e"
      },
      "outputs": [
        {
          "output_type": "stream",
          "name": "stdout",
          "text": [
            "Person(name=Pankaj, age=34)\n",
            "<bound method Person.__repr__ of Person(name=Pankaj, age=34)>\n"
          ]
        }
      ],
      "source": [
        "class Person:\n",
        "\n",
        "    def __init__(self, person_name, person_age):\n",
        "        self.name = person_name\n",
        "        self.age = person_age\n",
        "\n",
        "    def __repr__(self):\n",
        "        return f'Person(name={self.name}, age={self.age})'\n",
        "\n",
        "    def __str__(self):\n",
        "      return self.__repr__\n",
        "\n",
        "\n",
        "p = Person('Pankaj', 34)\n",
        "\n",
        "print(p.__repr__())\n",
        "print(p.__str__())"
      ]
    },
    {
      "cell_type": "markdown",
      "id": "enclosed-surface",
      "metadata": {
        "id": "enclosed-surface"
      },
      "source": [
        "#### Output\n",
        "\n",
        "We can also express our desired data structure as a Python class `UserDatabase` with four methods: `insert`, `find`, `update` and `list_all`. "
      ]
    },
    {
      "cell_type": "code",
      "execution_count": 155,
      "id": "matched-homework",
      "metadata": {
        "id": "matched-homework"
      },
      "outputs": [],
      "source": [
        "class UserDatabase:\n",
        "    def insert(self, user):\n",
        "        pass\n",
        "    \n",
        "    def find(self, username):\n",
        "        pass\n",
        "    \n",
        "    def update(self, user):\n",
        "        pass\n",
        "        \n",
        "    def list_all(self):\n",
        "        pass"
      ]
    },
    {
      "cell_type": "markdown",
      "id": "temporal-tender",
      "metadata": {
        "id": "temporal-tender"
      },
      "source": [
        "It's good programming practice to list out the signatures of different class functions before we actually implement the class."
      ]
    },
    {
      "cell_type": "markdown",
      "id": "laden-tiger",
      "metadata": {
        "id": "laden-tiger"
      },
      "source": [
        "## 2. Come up with some example inputs & outputs. \n",
        "\n",
        "Let's create some sample user profiles that we can use to test our functions once we implement them."
      ]
    },
    {
      "cell_type": "code",
      "execution_count": 320,
      "id": "appointed-guatemala",
      "metadata": {
        "id": "appointed-guatemala"
      },
      "outputs": [],
      "source": [
        "aakash = User('aakash', 'Aakash Rai', 'aakash@example.com')\n",
        "biraj = User('biraj', 'Biraj Das', 'biraj@example.com')\n",
        "hemanth = User('hemanth', 'Hemanth Jain', 'hemanth@example.com')\n",
        "jadhesh = User('jadhesh', 'Jadhesh Verma', 'jadhesh@example.com')\n",
        "siddhant = User('siddhant', 'Siddhant Sinha', 'siddhant@example.com')\n",
        "sonaksh = User('sonaksh', 'Sonaksh Kumar', 'sonaksh@example.com')\n",
        "vishal = User('vishal', 'Vishal Goel', 'vishal@example.com')\n",
        "tanya = User('tanya', 'Tanya Sharma', 'tanya@xyz.com')"
      ]
    },
    {
      "cell_type": "code",
      "execution_count": 321,
      "id": "digital-happening",
      "metadata": {
        "id": "digital-happening"
      },
      "outputs": [],
      "source": [
        "users = [aakash, biraj, hemanth, jadhesh, siddhant, sonaksh, vishal]"
      ]
    },
    {
      "cell_type": "markdown",
      "id": "introductory-prison",
      "metadata": {
        "id": "introductory-prison"
      },
      "source": [
        "We can access different fields within a user profile object using the `.` (dot) notation."
      ]
    },
    {
      "cell_type": "code",
      "execution_count": 158,
      "id": "extreme-judge",
      "metadata": {
        "colab": {
          "base_uri": "https://localhost:8080/"
        },
        "id": "extreme-judge",
        "outputId": "8d5e5516-b34b-44b6-d863-5aa542777b3d"
      },
      "outputs": [
        {
          "output_type": "execute_result",
          "data": {
            "text/plain": [
              "('biraj', 'biraj@example.com', 'Biraj Das')"
            ]
          },
          "metadata": {},
          "execution_count": 158
        }
      ],
      "source": [
        "biraj.username, biraj.email, biraj.name"
      ]
    },
    {
      "cell_type": "markdown",
      "id": "reserved-transition",
      "metadata": {
        "id": "reserved-transition"
      },
      "source": [
        "We can also view a string representation of the object, since defined the `__repr__` and `__str__` methods"
      ]
    },
    {
      "cell_type": "code",
      "execution_count": 159,
      "id": "conceptual-clearing",
      "metadata": {
        "colab": {
          "base_uri": "https://localhost:8080/"
        },
        "id": "conceptual-clearing",
        "outputId": "0c4e2a1a-93bf-4705-8b48-f1d94e75c34a",
        "scrolled": true
      },
      "outputs": [
        {
          "output_type": "stream",
          "name": "stdout",
          "text": [
            "User(username='aakash', name='Aakash Rai', email='aakash@example.com')\n"
          ]
        }
      ],
      "source": [
        "print(aakash)"
      ]
    },
    {
      "cell_type": "code",
      "execution_count": 160,
      "id": "funky-start",
      "metadata": {
        "colab": {
          "base_uri": "https://localhost:8080/"
        },
        "id": "funky-start",
        "outputId": "fcc5258f-ac40-4403-952f-2c4d99e06cec"
      },
      "outputs": [
        {
          "output_type": "execute_result",
          "data": {
            "text/plain": [
              "[User(username='aakash', name='Aakash Rai', email='aakash@example.com'),\n",
              " User(username='biraj', name='Biraj Das', email='biraj@example.com'),\n",
              " User(username='hemanth', name='Hemanth Jain', email='hemanth@example.com'),\n",
              " User(username='jadhesh', name='Jadhesh Verma', email='jadhesh@example.com'),\n",
              " User(username='siddhant', name='Siddhant Sinha', email='siddhant@example.com'),\n",
              " User(username='sonaksh', name='Sonaksh Kumar', email='sonaksh@example.com'),\n",
              " User(username='vishal', name='Vishal Goel', email='vishal@example.com')]"
            ]
          },
          "metadata": {},
          "execution_count": 160
        }
      ],
      "source": [
        "users"
      ]
    },
    {
      "cell_type": "markdown",
      "id": "broken-methodology",
      "metadata": {
        "id": "broken-methodology"
      },
      "source": [
        "Since we haven't implemented our data structure yet, it's not possible to list sample outputs. However you can try to come up with different scenarios to test future implementations\n",
        "\n",
        "**Exercise:** List some scenarios for testing the class methods `insert`, `find`, `update` and `list_all`.\n",
        "\n",
        "1. Insert:\n",
        "    1. Inserting into an empty database of users\n",
        "    2. Trying to insert a user with a username that already exists\n",
        "    3. Inserting a user with a username that does not exist\n",
        "    4. Insering a user with data that already exist\n",
        "\n",
        "2. Find:\n",
        "    1. finding the particular username\n",
        "    2. finding the user with their mail id \n",
        "    3. finding the user with the first name only\n",
        "\n",
        "3. Update:\n",
        "    1. updating the list with some changes in name of particular user\n",
        "    2. updating their email\n",
        "    3. updating their last name\n",
        "\n",
        "4. List:\n",
        "    1. list all the users\n",
        "    2. list user within the specified range\n",
        "    3. list user according to their mail id\n",
        "\n",
        "\n"
      ]
    },
    {
      "cell_type": "markdown",
      "id": "nuclear-infrared",
      "metadata": {
        "id": "nuclear-infrared"
      },
      "source": [
        "## 3. Come up with a correct solution. State it in plain English.\n",
        "\n",
        "Here's a simple and easy solution to the problem: we store the `User` objects in a list sorted by usernames. \n",
        "\n",
        "The various functions can be implemented as follows:\n",
        "\n",
        "1. **Insert**: Loop through the list and add the new user at a position that keeps the list sorted.\n",
        "2. **Find**: Loop through the list and find the user object with the username matching the query.\n",
        "3. **Update**: Loop through the list, find the user object matching the query and update the details\n",
        "4. **List**: Return the list of user objects.\n",
        "\n",
        "We can use the fact usernames, which are are strings can be compared using the `<`, `>` and `==` operators in Python."
      ]
    },
    {
      "cell_type": "code",
      "execution_count": 161,
      "id": "fifth-polymer",
      "metadata": {
        "colab": {
          "base_uri": "https://localhost:8080/"
        },
        "id": "fifth-polymer",
        "outputId": "5f1e7eda-3c4e-41d3-a231-4f3760cfab01"
      },
      "outputs": [
        {
          "output_type": "execute_result",
          "data": {
            "text/plain": [
              "True"
            ]
          },
          "metadata": {},
          "execution_count": 161
        }
      ],
      "source": [
        "'biraj' < 'hemanth'"
      ]
    },
    {
      "cell_type": "markdown",
      "id": "computational-affairs",
      "metadata": {
        "id": "computational-affairs"
      },
      "source": [
        "## 4. Implement the solution and test it using example inputs.\n",
        "\n",
        "The code for implementing the above solution is also fairly straightfoward."
      ]
    },
    {
      "cell_type": "code",
      "execution_count": 162,
      "id": "detailed-technician",
      "metadata": {
        "id": "detailed-technician"
      },
      "outputs": [],
      "source": [
        "class UserDatabase:\n",
        "    def __init__(self):\n",
        "        self.users = []                 # Initiating the empty list, initially we have the empty list and we need to add the data of the user.\n",
        "    \n",
        "    def insert(self, user):\n",
        "        i = 0\n",
        "        while i < len(self.users):\n",
        "            # Find the first username greater than the new user's username\n",
        "            if self.users[i].username > user.username:\n",
        "                break\n",
        "            i += 1\n",
        "        self.users.insert(i, user)\n",
        "    \n",
        "    def find(self, username):                     # Finding the particular user\n",
        "        for user in self.users:\n",
        "            if user.username == username:\n",
        "              return user\n",
        "    \n",
        "    def update(self, user):                       # Finding the user need to be update, then updating the changes\n",
        "        target = self.find(user.username)\n",
        "        target.name, target.email = user.name, user.email\n",
        "        \n",
        "    def list_all(self):                           # Listing all the users\n",
        "        return self.users"
      ]
    },
    {
      "cell_type": "markdown",
      "id": "rational-retrieval",
      "metadata": {
        "id": "rational-retrieval"
      },
      "source": [
        "We can create a new database of users by _instantiating_ and object of the `UserDatabase` class."
      ]
    },
    {
      "cell_type": "code",
      "execution_count": 163,
      "id": "useful-sperm",
      "metadata": {
        "id": "useful-sperm"
      },
      "outputs": [],
      "source": [
        "database = UserDatabase()"
      ]
    },
    {
      "cell_type": "markdown",
      "id": "enabling-billion",
      "metadata": {
        "id": "enabling-billion"
      },
      "source": [
        "Let's insert some entires into the object."
      ]
    },
    {
      "cell_type": "code",
      "execution_count": 164,
      "id": "regular-relevance",
      "metadata": {
        "id": "regular-relevance"
      },
      "outputs": [],
      "source": [
        "database.insert(hemanth)\n",
        "database.insert(aakash)\n",
        "database.insert(siddhant)"
      ]
    },
    {
      "cell_type": "markdown",
      "id": "entire-professional",
      "metadata": {
        "id": "entire-professional"
      },
      "source": [
        "We can now retrieve the data for a user, given their username."
      ]
    },
    {
      "cell_type": "code",
      "execution_count": 165,
      "id": "incoming-session",
      "metadata": {
        "colab": {
          "base_uri": "https://localhost:8080/"
        },
        "id": "incoming-session",
        "outputId": "0121a34b-9013-4df3-d720-bf40e7b4960d"
      },
      "outputs": [
        {
          "output_type": "execute_result",
          "data": {
            "text/plain": [
              "User(username='siddhant', name='Siddhant Sinha', email='siddhant@example.com')"
            ]
          },
          "metadata": {},
          "execution_count": 165
        }
      ],
      "source": [
        "user = database.find('siddhant')\n",
        "user"
      ]
    },
    {
      "cell_type": "markdown",
      "id": "lesbian-location",
      "metadata": {
        "id": "lesbian-location"
      },
      "source": [
        "Let's try changing the information for a user"
      ]
    },
    {
      "cell_type": "code",
      "execution_count": 166,
      "id": "wanted-colonial",
      "metadata": {
        "id": "wanted-colonial"
      },
      "outputs": [],
      "source": [
        "database.update(User(username='siddhant', name='Siddhant U', email='siddhantu@example.com'))"
      ]
    },
    {
      "cell_type": "code",
      "execution_count": 167,
      "id": "starting-hurricane",
      "metadata": {
        "colab": {
          "base_uri": "https://localhost:8080/"
        },
        "id": "starting-hurricane",
        "outputId": "d9fac4b8-9db7-4314-d2ff-39fd434c2881"
      },
      "outputs": [
        {
          "output_type": "execute_result",
          "data": {
            "text/plain": [
              "User(username='siddhant', name='Siddhant U', email='siddhantu@example.com')"
            ]
          },
          "metadata": {},
          "execution_count": 167
        }
      ],
      "source": [
        "user = database.find('siddhant')\n",
        "user"
      ]
    },
    {
      "cell_type": "markdown",
      "id": "minor-accident",
      "metadata": {
        "id": "minor-accident"
      },
      "source": [
        "Finally, we can retrieve a list of users in alphabetical order."
      ]
    },
    {
      "cell_type": "code",
      "execution_count": 168,
      "id": "approved-square",
      "metadata": {
        "colab": {
          "base_uri": "https://localhost:8080/"
        },
        "id": "approved-square",
        "outputId": "c9b64845-1e48-4fc0-8f3c-117908f3ce86"
      },
      "outputs": [
        {
          "output_type": "execute_result",
          "data": {
            "text/plain": [
              "[User(username='aakash', name='Aakash Rai', email='aakash@example.com'),\n",
              " User(username='hemanth', name='Hemanth Jain', email='hemanth@example.com'),\n",
              " User(username='siddhant', name='Siddhant U', email='siddhantu@example.com')]"
            ]
          },
          "metadata": {},
          "execution_count": 168
        }
      ],
      "source": [
        "database.list_all()"
      ]
    },
    {
      "cell_type": "markdown",
      "id": "together-basketball",
      "metadata": {
        "id": "together-basketball"
      },
      "source": [
        "Let's verify that a new user is inserted into the correct position."
      ]
    },
    {
      "cell_type": "code",
      "execution_count": 169,
      "id": "advised-hungarian",
      "metadata": {
        "id": "advised-hungarian"
      },
      "outputs": [],
      "source": [
        "database.insert(biraj)"
      ]
    },
    {
      "cell_type": "code",
      "execution_count": 170,
      "id": "radio-smell",
      "metadata": {
        "colab": {
          "base_uri": "https://localhost:8080/"
        },
        "id": "radio-smell",
        "outputId": "2de20419-d089-43a1-89f2-6c161cdbe29b"
      },
      "outputs": [
        {
          "output_type": "execute_result",
          "data": {
            "text/plain": [
              "[User(username='aakash', name='Aakash Rai', email='aakash@example.com'),\n",
              " User(username='biraj', name='Biraj Das', email='biraj@example.com'),\n",
              " User(username='hemanth', name='Hemanth Jain', email='hemanth@example.com'),\n",
              " User(username='siddhant', name='Siddhant U', email='siddhantu@example.com')]"
            ]
          },
          "metadata": {},
          "execution_count": 170
        }
      ],
      "source": [
        "database.list_all()"
      ]
    },
    {
      "cell_type": "markdown",
      "id": "comfortable-satisfaction",
      "metadata": {
        "id": "comfortable-satisfaction"
      },
      "source": [
        "The user `biraj` was inserted just before `hemanth`, as expected.\n",
        "\n",
        "**Exercise:** Use the empty cells below to test the various scenarios you listed in step 2 above."
      ]
    },
    {
      "cell_type": "code",
      "execution_count": 171,
      "id": "removed-still",
      "metadata": {
        "colab": {
          "base_uri": "https://localhost:8080/"
        },
        "id": "removed-still",
        "outputId": "36954599-d357-4426-aecb-333dffb16521"
      },
      "outputs": [
        {
          "output_type": "stream",
          "name": "stdout",
          "text": [
            "None\n"
          ]
        }
      ],
      "source": [
        "user = database.find('aakash@example.com')\n",
        "print(user)"
      ]
    },
    {
      "cell_type": "code",
      "execution_count": 172,
      "id": "concerned-congress",
      "metadata": {
        "id": "concerned-congress"
      },
      "outputs": [],
      "source": [
        "user = database.find('deepak')\n",
        "user"
      ]
    },
    {
      "cell_type": "markdown",
      "id": "dangerous-venezuela",
      "metadata": {
        "id": "dangerous-venezuela"
      },
      "source": [
        "## 5. Analyze the algorithm's complexity and identify inefficiencies\n",
        "\n",
        "The operations `insert`, `find`, `update` involves iterating over a list of users, in the worst case, they may take up to `N` iterations to return a result, where `N` is the total number of users. `list_all` however, simply returns the existing internal list of users. \n",
        "\n",
        "Thus, the time complexities of the various operations are:\n",
        "\n",
        "1. Insert: **O(N)**\n",
        "2. Find: **O(N)**\n",
        "3. Update: **O(N)**\n",
        "4. List: **O(1)**\n",
        "\n",
        "**Exercise:** Verify that the space complexity of each operation is **O(1)**.\n",
        "\n",
        "Is this good enough? To get a sense how long each function might take if there are 100 million users on the platform, we can simply run an `for` or `while` loop on 10 million numbers."
      ]
    },
    {
      "cell_type": "code",
      "execution_count": 173,
      "id": "healthy-blade",
      "metadata": {
        "colab": {
          "base_uri": "https://localhost:8080/"
        },
        "id": "healthy-blade",
        "outputId": "e6f4ead1-b0ca-41c1-a25e-1137740aa016"
      },
      "outputs": [
        {
          "output_type": "stream",
          "name": "stdout",
          "text": [
            "CPU times: user 15.1 s, sys: 0 ns, total: 15.1 s\n",
            "Wall time: 15.2 s\n"
          ]
        }
      ],
      "source": [
        "%%time\n",
        "for i in range(100000000):\n",
        "    j = i*i"
      ]
    },
    {
      "cell_type": "markdown",
      "id": "endangered-centre",
      "metadata": {
        "id": "endangered-centre"
      },
      "source": [
        "It takes almost 10 seconds to execute all the iterations in the above cell. \n",
        "\n",
        "* A 10-second delay for fetching user profiles will lead to a suboptimal users experience and may cause many users to stop using the platform altogether. \n",
        "* The 10-second processing time for each profile request will also significantly limit the number of users that can access the platform at a time or increase the cloud infrastructure costs for the company by millions of dollars.\n",
        "\n",
        "As a senior backend engineer, you must come up with a more efficient data structure! Choosing the right data structure for the requirements at hand is an important skill. It's apparent that a sorted list of users might not be the best data structure to organize profile information for millions of users. "
      ]
    },
    {
      "cell_type": "markdown",
      "id": "popular-launch",
      "metadata": {
        "id": "popular-launch"
      },
      "source": [
        "### Save and upload your work to Jovian\n",
        "\n",
        "Whether you're running this Jupyter notebook online or on your computer, it's essential to save your work from time to time. You can continue working on a saved notebook later or share it with friends and colleagues to let them execute your code. [Jovian](https://jovian.ai/platform-features) offers an easy way of saving and sharing your Jupyter notebooks online."
      ]
    },
    {
      "cell_type": "code",
      "execution_count": 174,
      "id": "interpreted-engine",
      "metadata": {
        "id": "interpreted-engine"
      },
      "outputs": [],
      "source": [
        "!pip install jovian --upgrade --quiet"
      ]
    },
    {
      "cell_type": "code",
      "execution_count": 175,
      "id": "concrete-groove",
      "metadata": {
        "id": "concrete-groove"
      },
      "outputs": [],
      "source": [
        "import jovian"
      ]
    },
    {
      "cell_type": "code",
      "execution_count": 176,
      "id": "spread-agriculture",
      "metadata": {
        "colab": {
          "base_uri": "https://localhost:8080/",
          "height": 87
        },
        "id": "spread-agriculture",
        "outputId": "b6a06c07-78a2-47c3-ea86-0493d7ade0ad"
      },
      "outputs": [
        {
          "output_type": "stream",
          "name": "stdout",
          "text": [
            "[jovian] Detected Colab notebook...\u001b[0m\n",
            "[jovian] Uploading colab notebook to Jovian...\u001b[0m\n",
            "Committed successfully! https://jovian.ai/deepak-dewani/python-binary-search-trees\n"
          ]
        },
        {
          "output_type": "execute_result",
          "data": {
            "application/vnd.google.colaboratory.intrinsic+json": {
              "type": "string"
            },
            "text/plain": [
              "'https://jovian.ai/deepak-dewani/python-binary-search-trees'"
            ]
          },
          "metadata": {},
          "execution_count": 176
        }
      ],
      "source": [
        "jovian.commit(project='python-binary-search-trees')"
      ]
    },
    {
      "cell_type": "markdown",
      "id": "bright-nothing",
      "metadata": {
        "id": "bright-nothing"
      },
      "source": [
        "## 6. Apply the right technique to overcome the inefficiency\n",
        "\n",
        "We can limit the number of iterations required for common operations like find, insert and update by organizing our data in the following structure, called a **binary tree**:\n",
        "\n",
        "<img src=\"https://i.imgur.com/lVqP63n.png\" width=\"520\">\n",
        "\n",
        "\n",
        "\n",
        "It's called a tree because it vaguely like an inverted tree trunk with branches. \n",
        "* The word \"binary\" indicates that each \"node\" in the tree can have at most 2 children (left or right). \n",
        "* Nodes can have 0, 1 or 2 children. Nodes that do not have any children are sometimes also called \"leaves\".\n",
        "* The single node at the top is called the \"root\" node, and it typically where operations like search, insertion etc. begin.\n",
        "\n",
        "<img src=\"https://i.imgur.com/TZHMKJr.png\" width=\"400\">\n"
      ]
    },
    {
      "cell_type": "markdown",
      "id": "useful-blade",
      "metadata": {
        "id": "useful-blade"
      },
      "source": [
        "## Balanced Binary Search Trees\n",
        "\n",
        "<img src=\"https://i.imgur.com/Mqef5b3.png\" width=\"520\">\n",
        "\n",
        "For our use case, we require the binary tree to have some additional properties:\n",
        "\n",
        "1. **Keys and Values**: Each node of the tree stores a key (a username) and a value (a `User` object). Only keys are shown in the picture above for brevity. A binary tree where nodes have both a key and a value is often referred to as a **map** or **treemap** (because it maps keys to values).\n",
        "2. **Binary Search Tree**: The *left subtree* of any node only contains nodes with keys that are lexicographically smaller than the node's key, and the *right subtree* of any node only contains nodes with keys that lexicographically larger than the node's key. A tree that satisfies this property is called a **binary search trees**, and it's easy to locate a specific key by traversing a single path down from the root note.\n",
        "3. **Balanced Tree**: The tree is **balanced** i.e. it does not skew too heavily to one side or the other. The left and right subtrees of any node shouldn't differ in height/depth by more than 1 level.\n",
        "\n",
        "\n",
        "### Height of a Binary Tree\n",
        "\n",
        "The number of levels in a tree is called its height. As you can tell from the picture above, each level of a tree contains twice as many nodes as the previous level. \n",
        "\n",
        "For a tree of height `k`, here's a list of the number of nodes at each level:\n",
        "\n",
        "Level 0: `1`\n",
        "\n",
        "Level 1: `2`\n",
        "\n",
        "Level 2: `4` i.e. `2^2`\n",
        "\n",
        "Level 3: `8` i.e. `2^3`\n",
        "\n",
        "...\n",
        "\n",
        "Level k-1: `2^(k-1)`\n",
        "\n",
        "If the total number of nodes in the tree is `N`, then it follows that\n",
        "\n",
        "```\n",
        "N = 1 + 2^1 + 2^2 + 2^3 + ... + 2^(k-1)\n",
        "```\n",
        "\n",
        "\n",
        "We can simplify this equation by adding `1` on each side:\n",
        "\n",
        "```\n",
        "N + 1 = 1 + 1 + 2^1 + 2^2 + 2^3 + ... + 2^(k-1) \n",
        "\n",
        "N + 1 = 2^1 + 2^1 + 2^2+ 2^3 + ... + 2^(k-1) \n",
        "\n",
        "N + 1 = = 2^2 + 2^2 + 2^3 + ... + 2^(k-1)\n",
        "\n",
        "N + 1 = = 2^3 + 2^3 + ... + 2^(k-1)\n",
        "\n",
        "...\n",
        "\n",
        "N + 1 = 2^(k-1) + 2^(k-1)\n",
        "\n",
        "N + 1 = 2^k\n",
        "\n",
        "k = log(N + 1) <= log(N) + 1 \n",
        "\n",
        "```\n",
        "\n",
        "Thus, to store `N` records we require a balanced binary search tree (BST) of height no larger than `log(N) + 1`. This is a very useful property, in combination with the fact that nodes are arranged in a way that makes it easy to find a specific key by following a single path down from the root. \n",
        "\n",
        "As we'll see soon, the `insert`, `find` and `update` operations in a balanced BST have time complexity `O(log N)` since they all involve traversing a single path down from the root of the tree."
      ]
    },
    {
      "cell_type": "markdown",
      "id": "fatty-brook",
      "metadata": {
        "id": "fatty-brook"
      },
      "source": [
        "## Binary Tree\n",
        "\n",
        "> **QUESTION 2**: Implement a binary tree using Python, and show its usage with some examples.\n",
        "\n",
        "To begin, we'll create simple binary tree (without any of the additional properties) containing numbers as keys within nodes. Here's an example:\n",
        "\n",
        "<img src=\"https://i.imgur.com/hg2ZG5h.png\" width=\"240\">\n",
        "\n",
        "Here's a simple class representing a node within a binary tree.\n"
      ]
    },
    {
      "cell_type": "code",
      "execution_count": 177,
      "id": "concerned-guarantee",
      "metadata": {
        "id": "concerned-guarantee"
      },
      "outputs": [],
      "source": [
        "class TreeNode:\n",
        "    def __init__(self, key):\n",
        "        self.key = key\n",
        "        self.left = None\n",
        "        self.right = None"
      ]
    },
    {
      "cell_type": "markdown",
      "id": "super-accuracy",
      "metadata": {
        "id": "super-accuracy"
      },
      "source": [
        "Let's create objects representing each node of the above tree"
      ]
    },
    {
      "cell_type": "code",
      "execution_count": 178,
      "id": "activated-medicaid",
      "metadata": {
        "id": "activated-medicaid"
      },
      "outputs": [],
      "source": [
        "node0 = TreeNode(3)\n",
        "node1 = TreeNode(4)\n",
        "node2 = TreeNode(5)"
      ]
    },
    {
      "cell_type": "markdown",
      "id": "suited-accessory",
      "metadata": {
        "id": "suited-accessory"
      },
      "source": [
        "Let's verify that `node0` is an object of the type `TreeNode` and has the property `key` set to `3`."
      ]
    },
    {
      "cell_type": "code",
      "execution_count": 179,
      "id": "different-spelling",
      "metadata": {
        "colab": {
          "base_uri": "https://localhost:8080/"
        },
        "id": "different-spelling",
        "outputId": "54f94503-3b63-4a73-8298-d3b59b032d5d"
      },
      "outputs": [
        {
          "output_type": "execute_result",
          "data": {
            "text/plain": [
              "<__main__.TreeNode at 0x7fc1122b74d0>"
            ]
          },
          "metadata": {},
          "execution_count": 179
        }
      ],
      "source": [
        "node0"
      ]
    },
    {
      "cell_type": "code",
      "execution_count": 180,
      "id": "incorporated-hacker",
      "metadata": {
        "colab": {
          "base_uri": "https://localhost:8080/"
        },
        "id": "incorporated-hacker",
        "outputId": "d8517ac3-b8eb-432f-bf5d-b489d9514340"
      },
      "outputs": [
        {
          "output_type": "execute_result",
          "data": {
            "text/plain": [
              "3"
            ]
          },
          "metadata": {},
          "execution_count": 180
        }
      ],
      "source": [
        "node0.key"
      ]
    },
    {
      "cell_type": "markdown",
      "id": "impressed-charity",
      "metadata": {
        "id": "impressed-charity"
      },
      "source": [
        "We can *connect* the nodes by setting the `.left` and `.right` properties of the root node."
      ]
    },
    {
      "cell_type": "code",
      "execution_count": 181,
      "id": "challenging-seventh",
      "metadata": {
        "id": "challenging-seventh"
      },
      "outputs": [],
      "source": [
        "node0.left = node1\n",
        "node0.right = node2"
      ]
    },
    {
      "cell_type": "markdown",
      "id": "roman-garage",
      "metadata": {
        "id": "roman-garage"
      },
      "source": [
        "And we're done! We can create a new variable *tree* which simply points to the root node, and use it to access all the nodes within the tree.\n",
        "\n",
        "<img src=\"https://i.imgur.com/hg2ZG5h.png\" width=\"240\">"
      ]
    },
    {
      "cell_type": "code",
      "execution_count": 182,
      "id": "recorded-empire",
      "metadata": {
        "id": "recorded-empire"
      },
      "outputs": [],
      "source": [
        "tree = node0"
      ]
    },
    {
      "cell_type": "code",
      "execution_count": 183,
      "id": "elder-fiction",
      "metadata": {
        "colab": {
          "base_uri": "https://localhost:8080/"
        },
        "id": "elder-fiction",
        "outputId": "e3de5092-7d05-418f-9e89-6bcd7b60a8c6"
      },
      "outputs": [
        {
          "output_type": "execute_result",
          "data": {
            "text/plain": [
              "3"
            ]
          },
          "metadata": {},
          "execution_count": 183
        }
      ],
      "source": [
        "tree.key"
      ]
    },
    {
      "cell_type": "code",
      "execution_count": 184,
      "id": "afraid-balloon",
      "metadata": {
        "colab": {
          "base_uri": "https://localhost:8080/"
        },
        "id": "afraid-balloon",
        "outputId": "16ef26be-1f7b-490e-d5ce-5711243e3c03"
      },
      "outputs": [
        {
          "output_type": "execute_result",
          "data": {
            "text/plain": [
              "4"
            ]
          },
          "metadata": {},
          "execution_count": 184
        }
      ],
      "source": [
        "tree.left.key"
      ]
    },
    {
      "cell_type": "code",
      "execution_count": 185,
      "id": "traditional-brother",
      "metadata": {
        "colab": {
          "base_uri": "https://localhost:8080/"
        },
        "id": "traditional-brother",
        "outputId": "0e16c239-142c-4768-efc6-91545247e2d7"
      },
      "outputs": [
        {
          "output_type": "execute_result",
          "data": {
            "text/plain": [
              "5"
            ]
          },
          "metadata": {},
          "execution_count": 185
        }
      ],
      "source": [
        "tree.right.key"
      ]
    },
    {
      "cell_type": "markdown",
      "id": "criminal-leeds",
      "metadata": {
        "id": "criminal-leeds"
      },
      "source": [
        "Going forward, we'll use the term \"tree\" to refer to the root node. The term \"node\" can refer to any node in a tree, not necessarily the root.\n",
        "\n",
        "**Exercise:** Create the following binary tree using the `TreeNode` class defined above.\n",
        "\n",
        "<img src=\"https://i.imgur.com/d7djJAf.png\" width=\"540\">"
      ]
    },
    {
      "cell_type": "code",
      "execution_count": 186,
      "id": "ongoing-assignment",
      "metadata": {
        "id": "ongoing-assignment"
      },
      "outputs": [],
      "source": [
        "class TreeNode1:\n",
        "    def __init__(self, key):\n",
        "        self.key = key\n",
        "        self.left = None\n",
        "        self.right = None"
      ]
    },
    {
      "cell_type": "code",
      "execution_count": 187,
      "id": "headed-discovery",
      "metadata": {
        "id": "headed-discovery"
      },
      "outputs": [],
      "source": [
        "node2 = TreeNode1(2)\n",
        "node3 = TreeNode1(3)\n",
        "node5 = TreeNode1(5)\n",
        "node1 = TreeNode1(1)\n",
        "nodel3 = TreeNode1(3)\n",
        "nodel7 = TreeNode1(7)\n",
        "nodel4 = TreeNode1(4)\n",
        "nodel6 = TreeNode1(6)\n",
        "nodel8 = TreeNode1(8)"
      ]
    },
    {
      "cell_type": "code",
      "execution_count": 188,
      "id": "nVy_pJrvnPrf",
      "metadata": {
        "id": "nVy_pJrvnPrf"
      },
      "outputs": [],
      "source": [
        "node2.left = node3\n",
        "node2.right = node5\n",
        "node2.left.left = node1\n",
        "node2.right.left = nodel3\n",
        "node2.right.right = nodel7\n",
        "node2.right.left.right = nodel4\n",
        "node2.right.right.left = nodel6\n",
        "node2.right.right.right = nodel8"
      ]
    },
    {
      "cell_type": "code",
      "execution_count": 189,
      "id": "hF2yIkHeopcz",
      "metadata": {
        "id": "hF2yIkHeopcz"
      },
      "outputs": [],
      "source": [
        "tree = node2"
      ]
    },
    {
      "cell_type": "code",
      "execution_count": 190,
      "id": "LgBEhp1copVF",
      "metadata": {
        "colab": {
          "base_uri": "https://localhost:8080/"
        },
        "id": "LgBEhp1copVF",
        "outputId": "1deaa5ea-8e83-4b53-8a58-c38e051a156c"
      },
      "outputs": [
        {
          "output_type": "execute_result",
          "data": {
            "text/plain": [
              "2"
            ]
          },
          "metadata": {},
          "execution_count": 190
        }
      ],
      "source": [
        "tree.key\n"
      ]
    },
    {
      "cell_type": "code",
      "execution_count": 191,
      "id": "oNQl0IsaopS6",
      "metadata": {
        "colab": {
          "base_uri": "https://localhost:8080/"
        },
        "id": "oNQl0IsaopS6",
        "outputId": "14692a0d-d192-4794-ff64-fa31c7ce329e"
      },
      "outputs": [
        {
          "output_type": "execute_result",
          "data": {
            "text/plain": [
              "1"
            ]
          },
          "metadata": {},
          "execution_count": 191
        }
      ],
      "source": [
        "tree.left.left.key"
      ]
    },
    {
      "cell_type": "code",
      "execution_count": 192,
      "id": "s19eDZmqpIUd",
      "metadata": {
        "colab": {
          "base_uri": "https://localhost:8080/"
        },
        "id": "s19eDZmqpIUd",
        "outputId": "0d402562-dcb6-43ac-c983-572bd6c83c9f"
      },
      "outputs": [
        {
          "output_type": "execute_result",
          "data": {
            "text/plain": [
              "6"
            ]
          },
          "metadata": {},
          "execution_count": 192
        }
      ],
      "source": [
        "tree.right.right.left.key"
      ]
    },
    {
      "cell_type": "code",
      "execution_count": 193,
      "id": "fya7eQBRpIOT",
      "metadata": {
        "colab": {
          "base_uri": "https://localhost:8080/"
        },
        "id": "fya7eQBRpIOT",
        "outputId": "1bb6c2ed-f8df-4977-9e05-a9cb1f3f3f7f"
      },
      "outputs": [
        {
          "output_type": "execute_result",
          "data": {
            "text/plain": [
              "8"
            ]
          },
          "metadata": {},
          "execution_count": 193
        }
      ],
      "source": [
        "tree.right.right.right.key"
      ]
    },
    {
      "cell_type": "markdown",
      "id": "crucial-bacon",
      "metadata": {
        "id": "crucial-bacon"
      },
      "source": [
        "It's a bit inconvenient to create a tree by manually connecting all the nodes. Let's write a helper function which can convert a tuple with the structure `( left_subtree, key, right_subtree)` (where `left_subtree` and `right_subtree` are themselves tuples) into binary tree.\n",
        "\n",
        "Here's an tuple representing the tree shown above:"
      ]
    },
    {
      "cell_type": "code",
      "execution_count": 194,
      "id": "rising-zealand",
      "metadata": {
        "id": "rising-zealand"
      },
      "outputs": [],
      "source": [
        "tree_tuple = ((1,3,None), 2, ((None, 3, 4), 5, (6, 7, 8)))"
      ]
    },
    {
      "cell_type": "code",
      "execution_count": 195,
      "id": "defined-string",
      "metadata": {
        "id": "defined-string"
      },
      "outputs": [],
      "source": [
        "def parse_tuple(data):\n",
        "    print(data)\n",
        "    if isinstance(data, tuple) and len(data) == 3:\n",
        "        node = TreeNode(data[1])\n",
        "        node.left = parse_tuple(data[0])\n",
        "        node.right = parse_tuple(data[2])\n",
        "    elif data is None:\n",
        "        node = None\n",
        "    else:\n",
        "        node = TreeNode(data)\n",
        "    return node"
      ]
    },
    {
      "cell_type": "markdown",
      "id": "final-cambridge",
      "metadata": {
        "id": "final-cambridge"
      },
      "source": [
        "The `parse_tuple` creates a new root node when a tuple of size 3 as an the input. Interestingly, to create the left and right subtrees for the node, the `parse_tuple` function invokes itself. This technique is called _recursion_. The chain of _recursive_ calls ends when `parse_tuple` encounters a number or `None` as input. We'll use recursion extensively throughout this tutorial.\n",
        "\n",
        "\n",
        "**Exercise:** Add print statements inside `parse_tuple` to display the arguments for each call of the function. Does the sequence of recursive calls make sense to you?\n"
      ]
    },
    {
      "cell_type": "markdown",
      "id": "different-surprise",
      "metadata": {
        "id": "different-surprise"
      },
      "source": [
        "Let's try out `parse_tuple` with the tuple define earlier."
      ]
    },
    {
      "cell_type": "code",
      "execution_count": 196,
      "id": "heavy-consent",
      "metadata": {
        "colab": {
          "base_uri": "https://localhost:8080/"
        },
        "id": "heavy-consent",
        "outputId": "c7906787-ed11-42fa-a56f-f3111fae5307"
      },
      "outputs": [
        {
          "output_type": "stream",
          "name": "stdout",
          "text": [
            "((1, 3, None), 2, ((None, 3, 4), 5, (6, 7, 8)))\n",
            "(1, 3, None)\n",
            "1\n",
            "None\n",
            "((None, 3, 4), 5, (6, 7, 8))\n",
            "(None, 3, 4)\n",
            "None\n",
            "4\n",
            "(6, 7, 8)\n",
            "6\n",
            "8\n"
          ]
        }
      ],
      "source": [
        "tree2 = parse_tuple(((1,3,None), 2, ((None, 3, 4), 5, (6, 7, 8))))"
      ]
    },
    {
      "cell_type": "code",
      "execution_count": 197,
      "id": "received-click",
      "metadata": {
        "colab": {
          "base_uri": "https://localhost:8080/"
        },
        "id": "received-click",
        "outputId": "43988f24-7c20-4888-d996-985e5bd19e2e"
      },
      "outputs": [
        {
          "output_type": "execute_result",
          "data": {
            "text/plain": [
              "<__main__.TreeNode at 0x7fc1122b7750>"
            ]
          },
          "metadata": {},
          "execution_count": 197
        }
      ],
      "source": [
        "tree2"
      ]
    },
    {
      "cell_type": "markdown",
      "id": "urban-result",
      "metadata": {
        "id": "urban-result"
      },
      "source": [
        "We can now examine the tree to verify that it was constructed as expected.\n",
        "\n",
        "<img src=\"https://i.imgur.com/d7djJAf.png\" width=\"540\">"
      ]
    },
    {
      "cell_type": "code",
      "execution_count": 198,
      "id": "precious-hammer",
      "metadata": {
        "colab": {
          "base_uri": "https://localhost:8080/"
        },
        "id": "precious-hammer",
        "outputId": "563c6626-4ed8-4bdd-f7e9-e8230fe765d3"
      },
      "outputs": [
        {
          "output_type": "execute_result",
          "data": {
            "text/plain": [
              "2"
            ]
          },
          "metadata": {},
          "execution_count": 198
        }
      ],
      "source": [
        "tree2.key"
      ]
    },
    {
      "cell_type": "code",
      "execution_count": 199,
      "id": "finished-moses",
      "metadata": {
        "colab": {
          "base_uri": "https://localhost:8080/"
        },
        "id": "finished-moses",
        "outputId": "5d2a5b66-55c1-4bef-e8e1-68211caa4d20"
      },
      "outputs": [
        {
          "output_type": "execute_result",
          "data": {
            "text/plain": [
              "(3, 5)"
            ]
          },
          "metadata": {},
          "execution_count": 199
        }
      ],
      "source": [
        "tree2.left.key, tree2.right.key"
      ]
    },
    {
      "cell_type": "code",
      "execution_count": 200,
      "id": "regulated-monthly",
      "metadata": {
        "colab": {
          "base_uri": "https://localhost:8080/"
        },
        "id": "regulated-monthly",
        "outputId": "38466257-eabf-40c8-b888-740fc7302744"
      },
      "outputs": [
        {
          "output_type": "execute_result",
          "data": {
            "text/plain": [
              "(1, None, 3, 7)"
            ]
          },
          "metadata": {},
          "execution_count": 200
        }
      ],
      "source": [
        "tree2.left.left.key, tree2.left.right, tree2.right.left.key, tree2.right.right.key"
      ]
    },
    {
      "cell_type": "code",
      "execution_count": 201,
      "id": "dedicated-warning",
      "metadata": {
        "colab": {
          "base_uri": "https://localhost:8080/"
        },
        "id": "dedicated-warning",
        "outputId": "5bedaa31-16f6-4322-da01-6ee563eee3f7",
        "scrolled": true
      },
      "outputs": [
        {
          "output_type": "execute_result",
          "data": {
            "text/plain": [
              "(4, 6, 8)"
            ]
          },
          "metadata": {},
          "execution_count": 201
        }
      ],
      "source": [
        "tree2.right.left.right.key, tree2.right.right.left.key, tree2.right.right.right.key"
      ]
    },
    {
      "cell_type": "markdown",
      "id": "parallel-healthcare",
      "metadata": {
        "id": "parallel-healthcare"
      },
      "source": [
        "**Exercise:** Define a function `tree_to_tuple` that converts a binary tree into a tuple representing the same tree. E.g. `tree_to_tuple` converts the tree created above to the tuple `((1, 3, None), 2, ((None, 3, 4), 5, (6, 7, 8)))`. *Hint*: Use recursion."
      ]
    },
    {
      "cell_type": "code",
      "execution_count": 202,
      "id": "unsigned-gabriel",
      "metadata": {
        "id": "unsigned-gabriel"
      },
      "outputs": [],
      "source": [
        "def tree_to_tuple(tree2):\n",
        "  # print(tree2)\n",
        "  if tree2 is None:\n",
        "    return None\n",
        "  if tree2.left is None and tree2.right is None:\n",
        "    return tree2.key\n",
        "  return tree_to_tuple(tree2.left), tree2.key, tree_to_tuple(tree2.right)\n"
      ]
    },
    {
      "cell_type": "code",
      "execution_count": 203,
      "id": "revolutionary-cache",
      "metadata": {
        "colab": {
          "base_uri": "https://localhost:8080/"
        },
        "id": "revolutionary-cache",
        "outputId": "5bab2818-203b-441b-f40d-bf52d24e1c48"
      },
      "outputs": [
        {
          "output_type": "execute_result",
          "data": {
            "text/plain": [
              "((1, 3, None), 2, ((None, 3, 4), 5, (6, 7, 8)))"
            ]
          },
          "metadata": {},
          "execution_count": 203
        }
      ],
      "source": [
        "tree = tree_to_tuple(tree2)\n",
        "tree"
      ]
    },
    {
      "cell_type": "markdown",
      "id": "comparative-civilization",
      "metadata": {
        "id": "comparative-civilization"
      },
      "source": [
        "Let's create another helper function to display all the keys in a tree-like structure for easier visualization."
      ]
    },
    {
      "cell_type": "code",
      "execution_count": 204,
      "id": "advance-bunch",
      "metadata": {
        "id": "advance-bunch"
      },
      "outputs": [],
      "source": [
        "def display_keys(node, space='\\t', level=0):\n",
        "    # print(node.key if node else None, level)\n",
        "    \n",
        "    # If the node is empty\n",
        "    if node is None:\n",
        "        print(space*level + '∅')\n",
        "        return   \n",
        "    \n",
        "    # If the node is a leaf \n",
        "    if node.left is None and node.right is None:\n",
        "        print(space*level + str(node.key))\n",
        "        return\n",
        "    \n",
        "    # If the node has children\n",
        "    display_keys(node.right, space, level+1)\n",
        "    print(space*level + str(node.key))\n",
        "    display_keys(node.left,space, level+1)    "
      ]
    },
    {
      "cell_type": "markdown",
      "id": "international-rider",
      "metadata": {
        "id": "international-rider"
      },
      "source": [
        "Once again, the `display_keys` function users recursion to print all the keys of the left and right subtree with proper indentation.\n",
        "\n",
        "**Exercise:** Add print statements inside `display_keys` to display the arguments for each call of the function. Does the sequence of recursive calls make sense to you?\n",
        "\n",
        "Let's try using the function."
      ]
    },
    {
      "cell_type": "code",
      "execution_count": 205,
      "id": "rental-junction",
      "metadata": {
        "colab": {
          "base_uri": "https://localhost:8080/"
        },
        "id": "rental-junction",
        "outputId": "dfbfbcb8-e0f3-4fd1-f4f6-81d990c963a0"
      },
      "outputs": [
        {
          "output_type": "stream",
          "name": "stdout",
          "text": [
            "      8\n",
            "    7\n",
            "      6\n",
            "  5\n",
            "      4\n",
            "    3\n",
            "      ∅\n",
            "2\n",
            "    ∅\n",
            "  3\n",
            "    1\n"
          ]
        }
      ],
      "source": [
        "display_keys(tree2, '  ')"
      ]
    },
    {
      "cell_type": "markdown",
      "id": "continuing-modification",
      "metadata": {
        "id": "continuing-modification"
      },
      "source": [
        "We can now visualize the tree that was just created (albeit rotated by 90 degrees). It's easy to see that it matches the expected structure.\n",
        "\n",
        "<img src=\"https://i.imgur.com/d7djJAf.png\" width=\"540\">\n",
        "\n",
        "**Exercise**: Create some more trees and visualize them using `display_keys`. You can use [excalidraw.com](https://excalidraw.com) as a digital whiteboard to create trees."
      ]
    },
    {
      "cell_type": "markdown",
      "id": "F1wSH99nvPxp",
      "metadata": {
        "id": "F1wSH99nvPxp"
      },
      "source": [
        "![BST.jpg](data:image/jpeg;base64,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)\n"
      ]
    },
    {
      "cell_type": "code",
      "execution_count": 206,
      "id": "ethical-hazard",
      "metadata": {
        "id": "ethical-hazard"
      },
      "outputs": [],
      "source": [
        "class Treepractice:\n",
        "  def __init__(self, key):\n",
        "    self.key = key\n",
        "    self.left = None\n",
        "    self.right = None\n",
        "\n",
        "node3 = Treepractice(3)\n",
        "node6 = Treepractice(6)\n",
        "node7 = Treepractice(7)\n",
        "node2 = Treepractice(2)\n",
        "nodel3 = Treepractice(3)\n",
        "node5 = Treepractice(5)\n",
        "node1 = Treepractice(1)\n",
        "node8 = Treepractice(8)\n",
        "\n",
        "\n",
        "node3.left = node6\n",
        "node3.right = node7\n",
        "node3.left.left = node2\n",
        "node3.left.right = nodel3\n",
        "node3.right.left = node5\n",
        "node3.right.left.left = node1\n",
        "node3.right.left.right = node8\n",
        "\n",
        "\n",
        "def parse_tuple(data):\n",
        "  print(data)\n",
        "  if isinstance(data, tuple) and len(data) == 3:\n",
        "    node = Treepractice(data[1])\n",
        "    node.left = parse_tuple(data[0])\n",
        "    node.right = parse_tuple(data[2])\n",
        "  elif data is None:\n",
        "    node = None\n",
        "  else:\n",
        "    node = Treepractice(data)\n",
        "  return node\n",
        "\n",
        "\n",
        "def tree_to_tuple(tree2):\n",
        "  # print(tree2)\n",
        "  if tree2 is None:\n",
        "    return None\n",
        "  elif tree2.left is None and tree2.right is None:\n",
        "    return tree2.key\n",
        "  return tree_to_tuple(tree2.left), tree2.key, tree_to_tuple(tree2.right)"
      ]
    },
    {
      "cell_type": "code",
      "execution_count": 207,
      "id": "pleased-hindu",
      "metadata": {
        "id": "pleased-hindu",
        "colab": {
          "base_uri": "https://localhost:8080/"
        },
        "outputId": "44d75248-1a7d-45ba-9772-333954a873bf"
      },
      "outputs": [
        {
          "output_type": "execute_result",
          "data": {
            "text/plain": [
              "((2, 6, 3), 3, ((1, 5, 8), 7, None))"
            ]
          },
          "metadata": {},
          "execution_count": 207
        }
      ],
      "source": [
        "tree_to_tuple(mytree)"
      ]
    },
    {
      "cell_type": "code",
      "source": [
        "display_keys(mytree)"
      ],
      "metadata": {
        "colab": {
          "base_uri": "https://localhost:8080/"
        },
        "id": "5AaIWU2V_ns6",
        "outputId": "4f50cc96-a9f4-4c13-969f-ffac73fde81f"
      },
      "id": "5AaIWU2V_ns6",
      "execution_count": 208,
      "outputs": [
        {
          "output_type": "stream",
          "name": "stdout",
          "text": [
            "\t\t∅\n",
            "\t7\n",
            "\t\t\t8\n",
            "\t\t5\n",
            "\t\t\t1\n",
            "3\n",
            "\t\t3\n",
            "\t6\n",
            "\t\t2\n"
          ]
        }
      ]
    },
    {
      "cell_type": "markdown",
      "id": "rocky-collar",
      "metadata": {
        "id": "rocky-collar"
      },
      "source": [
        "## Traversing a Binary Tree\n",
        "\n",
        "The following questions are frequently asked in coding interviews and assessments:\n",
        "\n",
        "> **QUESTION 3**: Write a function to perform the _inorder_ traversal of a binary tree.\n",
        "\n",
        "> **QUESTION 4**: Write a function to perform the _preorder_ traversal of a binary tree.\n",
        "\n",
        "> **QUESTION 5**: Write a function to perform the _postorder_ traversal of a binary tree.\n",
        "\n",
        "A *traversal* refers to the process of visiting each node of a tree exactly once. _Visiting a node_ generally refers to adding the node's key to a list. There are three ways to traverse a binary tree and return the list of visited keys: \n",
        "\n",
        "### Inorder traversal\n",
        "\n",
        "\n",
        "\n",
        "  1. Traverse the left subtree recursively inorder.\n",
        "  2. Traverse the current node.\n",
        "  3. Traverse the right subtree recursively inorder.\n",
        "\n",
        "\n",
        "<img src=\"https://i.imgur.com/KCXpMA9.png\" width=\"540\">\n",
        "\n",
        "\n",
        "### Preorder traversal\n",
        "\n",
        "  1. Traverse the current node.\n",
        "  2. Traverse the left subtree recursively preorder.\n",
        "  3. Traverse the right subtree recursively preorder.\n",
        "  \n",
        "<img src=\"https://i.imgur.com/2xrMUWP.png\" width=\"540\">\n",
        "\n",
        "\n",
        "Can you guess how **postorder** traversal works??\n",
        "\n",
        "\n",
        "Here's an implementation of inorder traversal of a binary tree."
      ]
    },
    {
      "cell_type": "code",
      "execution_count": 209,
      "id": "vanilla-capability",
      "metadata": {
        "id": "vanilla-capability"
      },
      "outputs": [],
      "source": [
        "def traverse_in_order(node):\n",
        "    if node is None: \n",
        "        return []\n",
        "    return(traverse_in_order(node.left) + \n",
        "           [node.key] + \n",
        "           traverse_in_order(node.right))"
      ]
    },
    {
      "cell_type": "markdown",
      "id": "chicken-benchmark",
      "metadata": {
        "id": "chicken-benchmark"
      },
      "source": [
        "Let's try it out with this tree:\n",
        "\n",
        "<img src=\"https://i.imgur.com/d7djJAf.png\" width=\"540\">"
      ]
    },
    {
      "cell_type": "code",
      "execution_count": 210,
      "id": "natural-nashville",
      "metadata": {
        "colab": {
          "base_uri": "https://localhost:8080/"
        },
        "id": "natural-nashville",
        "outputId": "6e73c918-27bd-47db-f2ac-5689561b2016"
      },
      "outputs": [
        {
          "output_type": "stream",
          "name": "stdout",
          "text": [
            "((1, 3, None), 2, ((None, 3, 4), 5, (6, 7, 8)))\n",
            "(1, 3, None)\n",
            "1\n",
            "None\n",
            "((None, 3, 4), 5, (6, 7, 8))\n",
            "(None, 3, 4)\n",
            "None\n",
            "4\n",
            "(6, 7, 8)\n",
            "6\n",
            "8\n"
          ]
        }
      ],
      "source": [
        "tree = parse_tuple(((1,3,None), 2, ((None, 3, 4), 5, (6, 7, 8))))"
      ]
    },
    {
      "cell_type": "code",
      "execution_count": 211,
      "id": "greatest-return",
      "metadata": {
        "colab": {
          "base_uri": "https://localhost:8080/"
        },
        "id": "greatest-return",
        "outputId": "de89279a-5e5b-4e99-c59d-b1d142cfcdd4"
      },
      "outputs": [
        {
          "output_type": "stream",
          "name": "stdout",
          "text": [
            "      8\n",
            "    7\n",
            "      6\n",
            "  5\n",
            "      4\n",
            "    3\n",
            "      ∅\n",
            "2\n",
            "    ∅\n",
            "  3\n",
            "    1\n"
          ]
        }
      ],
      "source": [
        "display_keys(tree, '  ')"
      ]
    },
    {
      "cell_type": "code",
      "execution_count": 212,
      "id": "continent-twins",
      "metadata": {
        "colab": {
          "base_uri": "https://localhost:8080/"
        },
        "id": "continent-twins",
        "outputId": "dd5720c9-6d45-44dc-b8e6-6a922161c80b"
      },
      "outputs": [
        {
          "output_type": "execute_result",
          "data": {
            "text/plain": [
              "[1, 3, 2, 3, 4, 5, 6, 7, 8]"
            ]
          },
          "metadata": {},
          "execution_count": 212
        }
      ],
      "source": [
        "traverse_in_order(tree)"
      ]
    },
    {
      "cell_type": "code",
      "execution_count": 213,
      "id": "2Z0vIslJx2kh",
      "metadata": {
        "id": "2Z0vIslJx2kh"
      },
      "outputs": [],
      "source": [
        "def transverse_pre_order(node):\n",
        "  if node is None:\n",
        "    return []\n",
        "  return ( [node.key] +\n",
        "          transverse_pre_order(node.left) + \n",
        "          transverse_pre_order(node.right))"
      ]
    },
    {
      "cell_type": "code",
      "execution_count": 214,
      "id": "ogf0w0awx2gs",
      "metadata": {
        "colab": {
          "base_uri": "https://localhost:8080/"
        },
        "id": "ogf0w0awx2gs",
        "outputId": "d6c32b7a-fd4a-4fcd-bee6-72ed15947c42"
      },
      "outputs": [
        {
          "output_type": "execute_result",
          "data": {
            "text/plain": [
              "[2, 3, 1, 5, 3, 4, 7, 6, 8]"
            ]
          },
          "metadata": {},
          "execution_count": 214
        }
      ],
      "source": [
        "transverse_pre_order(tree)"
      ]
    },
    {
      "cell_type": "code",
      "execution_count": 215,
      "id": "Cya-IHzix2ed",
      "metadata": {
        "id": "Cya-IHzix2ed"
      },
      "outputs": [],
      "source": [
        "def transverse_post_order(node):\n",
        "  if node is None:\n",
        "    return []\n",
        "  return ( transverse_post_order(node.left) + \n",
        "          transverse_post_order(node.right) +\n",
        "          [node.key])"
      ]
    },
    {
      "cell_type": "code",
      "execution_count": 216,
      "id": "XWZrlOcxx2I7",
      "metadata": {
        "colab": {
          "base_uri": "https://localhost:8080/"
        },
        "id": "XWZrlOcxx2I7",
        "outputId": "c23ab254-efa1-4b14-8c9d-defbb97ead8a"
      },
      "outputs": [
        {
          "output_type": "execute_result",
          "data": {
            "text/plain": [
              "[1, 3, 4, 3, 6, 8, 7, 5, 2]"
            ]
          },
          "metadata": {},
          "execution_count": 216
        }
      ],
      "source": [
        "transverse_post_order(tree)"
      ]
    },
    {
      "cell_type": "markdown",
      "id": "dirty-street",
      "metadata": {
        "id": "dirty-street"
      },
      "source": [
        "\n",
        "**Exercise:** Implement functions for preorder and postorder traversal of a binary tree.\n",
        "\n",
        "Test your implementations by making submissions to the following problems:\n",
        "\n",
        "* https://leetcode.com/problems/binary-tree-inorder-traversal/\n",
        "* https://leetcode.com/problems/binary-tree-preorder-traversal/\n",
        "* https://leetcode.com/problems/binary-tree-postorder-traversal/"
      ]
    },
    {
      "cell_type": "code",
      "execution_count": 217,
      "id": "burning-breathing",
      "metadata": {
        "colab": {
          "base_uri": "https://localhost:8080/",
          "height": 87
        },
        "id": "burning-breathing",
        "outputId": "6a9ae20a-5b2b-4ce4-8052-44ae13467044"
      },
      "outputs": [
        {
          "output_type": "stream",
          "name": "stdout",
          "text": [
            "[jovian] Detected Colab notebook...\u001b[0m\n",
            "[jovian] Uploading colab notebook to Jovian...\u001b[0m\n",
            "Committed successfully! https://jovian.ai/deepak-dewani/python-binary-search-trees\n"
          ]
        },
        {
          "output_type": "execute_result",
          "data": {
            "application/vnd.google.colaboratory.intrinsic+json": {
              "type": "string"
            },
            "text/plain": [
              "'https://jovian.ai/deepak-dewani/python-binary-search-trees'"
            ]
          },
          "metadata": {},
          "execution_count": 217
        }
      ],
      "source": [
        "jovian.commit()"
      ]
    },
    {
      "cell_type": "markdown",
      "id": "vietnamese-difficulty",
      "metadata": {
        "id": "vietnamese-difficulty"
      },
      "source": [
        "## Height and Size of a Binary Tree\n",
        "\n",
        "\n",
        "> **QUESTION 6**: Write a function to calculate the height/depth of a binary tree\n",
        "\n",
        "> **QUESTION 7**: Write a function to count the number of nodes in a binary tree\n",
        "\n",
        "\n",
        "The _height/depth_ of a binary tree is defined as the length of the longest path from its root node to a leaf. It can be computed recursively, as follows:\n"
      ]
    },
    {
      "cell_type": "code",
      "execution_count": 218,
      "id": "occasional-supplier",
      "metadata": {
        "id": "occasional-supplier"
      },
      "outputs": [],
      "source": [
        "def tree_height(node):\n",
        "    if node is None:\n",
        "        return 0\n",
        "    return 1 + max(tree_height(node.left), tree_height(node.right))"
      ]
    },
    {
      "cell_type": "markdown",
      "id": "potential-jefferson",
      "metadata": {
        "id": "potential-jefferson"
      },
      "source": [
        "Let's compute the height of this tree:\n",
        "\n",
        "<img src=\"https://i.imgur.com/d7djJAf.png\" width=\"540\">"
      ]
    },
    {
      "cell_type": "code",
      "execution_count": 219,
      "id": "integrated-experiment",
      "metadata": {
        "colab": {
          "base_uri": "https://localhost:8080/"
        },
        "id": "integrated-experiment",
        "outputId": "b5ffbcca-1e5f-4487-d8e4-c5f9d5a8eca6"
      },
      "outputs": [
        {
          "output_type": "execute_result",
          "data": {
            "text/plain": [
              "4"
            ]
          },
          "metadata": {},
          "execution_count": 219
        }
      ],
      "source": [
        "tree_height(tree)"
      ]
    },
    {
      "cell_type": "markdown",
      "id": "collect-official",
      "metadata": {
        "id": "collect-official"
      },
      "source": [
        "Here's a function to count the number of nodes in a binary tree."
      ]
    },
    {
      "cell_type": "code",
      "execution_count": 220,
      "id": "presidential-development",
      "metadata": {
        "id": "presidential-development"
      },
      "outputs": [],
      "source": [
        "def tree_size(node):\n",
        "    if node is None:\n",
        "        return 0\n",
        "    return 1 + tree_size(node.left) + tree_size(node.right)"
      ]
    },
    {
      "cell_type": "code",
      "execution_count": 221,
      "id": "significant-cheat",
      "metadata": {
        "colab": {
          "base_uri": "https://localhost:8080/"
        },
        "id": "significant-cheat",
        "outputId": "0c296003-583d-453d-f0e8-d706495b7195"
      },
      "outputs": [
        {
          "output_type": "execute_result",
          "data": {
            "text/plain": [
              "9"
            ]
          },
          "metadata": {},
          "execution_count": 221
        }
      ],
      "source": [
        "\n",
        "tree_size(tree)"
      ]
    },
    {
      "cell_type": "markdown",
      "id": "substantial-electricity",
      "metadata": {
        "id": "substantial-electricity"
      },
      "source": [
        "**Exercise:** Try solving these problems relating to path lengths in a binary tree:\n",
        "\n",
        "* https://leetcode.com/problems/maximum-depth-of-binary-tree/\n",
        "* https://leetcode.com/problems/minimum-depth-of-binary-tree/\n",
        "* https://leetcode.com/problems/diameter-of-binary-tree/"
      ]
    },
    {
      "cell_type": "markdown",
      "id": "painted-auditor",
      "metadata": {
        "id": "painted-auditor"
      },
      "source": [
        "As a final step, let's compile all the functions we've written so far as methods withing the `TreeNode` class itself. Encapsulation of data and functionality within the same class is a good programming practice."
      ]
    },
    {
      "cell_type": "code",
      "execution_count": 222,
      "id": "secret-macintosh",
      "metadata": {
        "id": "secret-macintosh"
      },
      "outputs": [],
      "source": [
        "class TreeNode():\n",
        "    def __init__(self, key):\n",
        "        self.key, self.left, self.right = key, None, None\n",
        "    \n",
        "    def height(self):\n",
        "        if self is None:\n",
        "            return 0\n",
        "        return 1 + max(TreeNode.height(self.left), TreeNode.height(self.right))\n",
        "    \n",
        "    def size(self):\n",
        "        if self is None:\n",
        "            return 0\n",
        "        return 1 + TreeNode.size(self.left) + TreeNode.size(self.right)\n",
        "\n",
        "    def traverse_in_order(self):\n",
        "        if self is None: \n",
        "            return []\n",
        "        return (TreeNode.traverse_in_order(self.left) + \n",
        "                [self.key] + \n",
        "                TreeNode.traverse_in_order(self.right))\n",
        "    \n",
        "    def display_keys(self, space='\\t', level=0):\n",
        "        # If the node is empty\n",
        "        if self is None:\n",
        "            print(space*level + '∅')\n",
        "            return   \n",
        "\n",
        "        # If the node is a leaf \n",
        "        if self.left is None and self.right is None:\n",
        "            print(space*level + str(self.key))\n",
        "            return\n",
        "\n",
        "        # If the node has children\n",
        "        display_keys(self.right, space, level+1)\n",
        "        print(space*level + str(self.key))\n",
        "        display_keys(self.left,space, level+1)    \n",
        "    \n",
        "    def to_tuple(self):\n",
        "        if self is None:\n",
        "            return None\n",
        "        if self.left is None and self.right is None:\n",
        "            return self.key\n",
        "        return TreeNode.to_tuple(self.left),  self.key, TreeNode.to_tuple(self.right)\n",
        "    \n",
        "    def __str__(self):\n",
        "        return \"BinaryTree <{}>\".format(self.to_tuple())\n",
        "    \n",
        "    def __repr__(self):\n",
        "        return \"BinaryTree <{}>\".format(self.to_tuple())\n",
        "    \n",
        "    @staticmethod    \n",
        "    def parse_tuple(data):\n",
        "        if data is None:\n",
        "            node = None\n",
        "        elif isinstance(data, tuple) and len(data) == 3:\n",
        "            node = TreeNode(data[1])\n",
        "            node.left = TreeNode.parse_tuple(data[0])\n",
        "            node.right = TreeNode.parse_tuple(data[2])\n",
        "        else:\n",
        "            node = TreeNode(data)\n",
        "        return node"
      ]
    },
    {
      "cell_type": "markdown",
      "id": "consolidated-language",
      "metadata": {
        "id": "consolidated-language"
      },
      "source": [
        "The class method invocations `TreeNode.height(node)` and `node.height()` are equivalent. Can you guess why we're using the former in the function definitions above? Hint: Track the recursive calls. Discuss on the forum: https://jovian.ai/forum/c/data-structures-and-algorithms-in-python/lesson-2/82\n",
        "\n",
        "Let's try out the various methods defined above for this tree:\n",
        "\n",
        "<img src=\"https://i.imgur.com/d7djJAf.png\" width=\"540\">"
      ]
    },
    {
      "cell_type": "code",
      "execution_count": 223,
      "id": "failing-chrome",
      "metadata": {
        "colab": {
          "base_uri": "https://localhost:8080/"
        },
        "id": "failing-chrome",
        "outputId": "6fc3bbd2-2363-45c8-f6fd-b6dd41b9f000"
      },
      "outputs": [
        {
          "output_type": "execute_result",
          "data": {
            "text/plain": [
              "((1, 3, None), 2, ((None, 3, 4), 5, (6, 7, 8)))"
            ]
          },
          "metadata": {},
          "execution_count": 223
        }
      ],
      "source": [
        "tree_tuple"
      ]
    },
    {
      "cell_type": "code",
      "execution_count": 224,
      "id": "extreme-filling",
      "metadata": {
        "id": "extreme-filling"
      },
      "outputs": [],
      "source": [
        "tree = TreeNode.parse_tuple(tree_tuple)"
      ]
    },
    {
      "cell_type": "code",
      "execution_count": 225,
      "id": "dynamic-satellite",
      "metadata": {
        "colab": {
          "base_uri": "https://localhost:8080/"
        },
        "id": "dynamic-satellite",
        "outputId": "b245c2f0-fbb6-44c9-9dbc-a993a99e9df6"
      },
      "outputs": [
        {
          "output_type": "execute_result",
          "data": {
            "text/plain": [
              "BinaryTree <((1, 3, None), 2, ((None, 3, 4), 5, (6, 7, 8)))>"
            ]
          },
          "metadata": {},
          "execution_count": 225
        }
      ],
      "source": [
        "tree"
      ]
    },
    {
      "cell_type": "code",
      "execution_count": 226,
      "id": "engaging-neutral",
      "metadata": {
        "colab": {
          "base_uri": "https://localhost:8080/"
        },
        "id": "engaging-neutral",
        "outputId": "8d6468e9-fcf0-4615-91ed-9e42083d46ea"
      },
      "outputs": [
        {
          "output_type": "stream",
          "name": "stdout",
          "text": [
            "      8\n",
            "    7\n",
            "      6\n",
            "  5\n",
            "      4\n",
            "    3\n",
            "      ∅\n",
            "2\n",
            "    ∅\n",
            "  3\n",
            "    1\n"
          ]
        }
      ],
      "source": [
        "tree.display_keys('  ')"
      ]
    },
    {
      "cell_type": "code",
      "execution_count": 227,
      "id": "signal-decimal",
      "metadata": {
        "colab": {
          "base_uri": "https://localhost:8080/"
        },
        "id": "signal-decimal",
        "outputId": "69b61e70-ed77-4cab-8271-cf922f1903fb"
      },
      "outputs": [
        {
          "output_type": "execute_result",
          "data": {
            "text/plain": [
              "4"
            ]
          },
          "metadata": {},
          "execution_count": 227
        }
      ],
      "source": [
        "tree.height()"
      ]
    },
    {
      "cell_type": "code",
      "execution_count": 228,
      "id": "chinese-swimming",
      "metadata": {
        "colab": {
          "base_uri": "https://localhost:8080/"
        },
        "id": "chinese-swimming",
        "outputId": "de458338-68e0-4242-ab03-67b18b180fe4"
      },
      "outputs": [
        {
          "output_type": "execute_result",
          "data": {
            "text/plain": [
              "9"
            ]
          },
          "metadata": {},
          "execution_count": 228
        }
      ],
      "source": [
        "tree.size()"
      ]
    },
    {
      "cell_type": "code",
      "execution_count": 229,
      "id": "hearing-network",
      "metadata": {
        "colab": {
          "base_uri": "https://localhost:8080/"
        },
        "id": "hearing-network",
        "outputId": "9f0284b3-120d-4672-c623-8ca9d7c8d50e"
      },
      "outputs": [
        {
          "output_type": "execute_result",
          "data": {
            "text/plain": [
              "[1, 3, 2, 3, 4, 5, 6, 7, 8]"
            ]
          },
          "metadata": {},
          "execution_count": 229
        }
      ],
      "source": [
        "tree.traverse_in_order()"
      ]
    },
    {
      "cell_type": "code",
      "execution_count": 230,
      "id": "protected-vermont",
      "metadata": {
        "colab": {
          "base_uri": "https://localhost:8080/"
        },
        "id": "protected-vermont",
        "outputId": "32b35a46-ff49-429a-b21d-9d13a8d6da47"
      },
      "outputs": [
        {
          "output_type": "execute_result",
          "data": {
            "text/plain": [
              "((1, 3, None), 2, ((None, 3, 4), 5, (6, 7, 8)))"
            ]
          },
          "metadata": {},
          "execution_count": 230
        }
      ],
      "source": [
        "tree.to_tuple()"
      ]
    },
    {
      "cell_type": "markdown",
      "id": "secondary-potter",
      "metadata": {
        "id": "secondary-potter"
      },
      "source": [
        "**Exercise:** Create some more trees and try out the operations defined above. Add more operations to the `TreeNode` class."
      ]
    },
    {
      "cell_type": "code",
      "execution_count": 231,
      "id": "respiratory-invalid",
      "metadata": {
        "id": "respiratory-invalid"
      },
      "outputs": [],
      "source": [
        "class Treenode():\n",
        "  def __init__(self, key):\n",
        "    self.key = key\n",
        "    self.left = None\n",
        "    self.right = None\n",
        "\n",
        "  def tree_height(self):\n",
        "    if self is None:\n",
        "      return 0\n",
        "    return 1 + max(tree_height(self.left), tree_height(self.right))\n",
        "\n",
        "  def tree_size(self):\n",
        "    if self is None:\n",
        "      return 0\n",
        "    return 1 + (tree_size(self.left) + tree_size(self.right))\n",
        "\n",
        "  def tranverse_inorder(self):\n",
        "    if self is None:\n",
        "      return []\n",
        "    return (transverse_inorder(self.left) + [self.key] + transverse_inorder(self.right))\n",
        "\n",
        "  def tranverse_preorder(self):\n",
        "    if self is None:\n",
        "      return []\n",
        "    return ([self.key] + transverse_preorder(self.left) + transverse_preorder(self.right))\n",
        "\n",
        "  def tranverse_postorder(self):\n",
        "    if self is None:\n",
        "      return []\n",
        "    return (transverse_postorder(self.left) + transverse_postorder(self.right) + [self.key])\n",
        "\n",
        "  def display_keys(self, space='\\t', level=0):\n",
        "      # print(self.key if self else None, level)\n",
        "    \n",
        "      # If the self is empty\n",
        "    if self is None:\n",
        "      print(space*level + '∅')\n",
        "      return   \n",
        "    \n",
        "    # If the self is a leaf \n",
        "    if self.left is None and self.right is None:\n",
        "      print(space*level + str(self.key))\n",
        "      return\n",
        "    \n",
        "    # If the self has children\n",
        "    display_keys(self.right, space, level+1)\n",
        "    print(space*level + str(self.key))\n",
        "    display_keys(self.left,space, level+1) \n",
        "\n",
        "  def tree_to_tuple(self):\n",
        "    # print(self)\n",
        "    if self is None:\n",
        "      return None\n",
        "    elif self.left is None and self.right is None:\n",
        "      return self.key\n",
        "    return tree_to_tuple(self.left), self.key, tree_to_tuple(self.right)\n",
        "\n",
        "  def __str__(self):\n",
        "    return f\"Binary tree is {self.tree_to_tuple()}.\"\n",
        "\n",
        "  def __repr__(self):\n",
        "    return f\"Binary Tree is {self.tree_to_tuple()}\"\n",
        "\n",
        "\n",
        "\n",
        "  @staticmethod\n",
        "  def parse_tuple(data):\n",
        "    #print(data)\n",
        "    if isinstance(data, tuple) and len(data)==3:\n",
        "      node = Treenode(data[1])\n",
        "      node.left = parse_tuple(data[0])\n",
        "      node.right = parse_tuple(data[2])\n",
        "    elif data is None:\n",
        "      node = None\n",
        "    else:\n",
        "      node = Treenode(data)\n",
        "    return node\n"
      ]
    },
    {
      "cell_type": "code",
      "execution_count": 232,
      "id": "higher-table",
      "metadata": {
        "id": "higher-table",
        "colab": {
          "base_uri": "https://localhost:8080/"
        },
        "outputId": "ad56e604-09ae-4563-f37e-fcdef81fc721"
      },
      "outputs": [
        {
          "output_type": "execute_result",
          "data": {
            "text/plain": [
              "((2, 6, 3), 3, ((1, 5, 8), 7, None))"
            ]
          },
          "metadata": {},
          "execution_count": 232
        }
      ],
      "source": [
        "tree_to_tuple(mytree)"
      ]
    },
    {
      "cell_type": "code",
      "execution_count": 233,
      "id": "turkish-memorabilia",
      "metadata": {
        "id": "turkish-memorabilia",
        "colab": {
          "base_uri": "https://localhost:8080/"
        },
        "outputId": "6ccc9117-7483-4886-f3ab-25660faad7a4"
      },
      "outputs": [
        {
          "output_type": "execute_result",
          "data": {
            "text/plain": [
              "4"
            ]
          },
          "metadata": {},
          "execution_count": 233
        }
      ],
      "source": [
        "myheight = Treenode.tree_height(mytree)\n",
        "myheight"
      ]
    },
    {
      "cell_type": "code",
      "source": [
        "mysize = Treenode.tree_size(mytree)\n",
        "mysize"
      ],
      "metadata": {
        "colab": {
          "base_uri": "https://localhost:8080/"
        },
        "id": "dY1VUqVl9WFu",
        "outputId": "7be07977-2daf-4a4b-d755-7e669b15890d"
      },
      "id": "dY1VUqVl9WFu",
      "execution_count": 234,
      "outputs": [
        {
          "output_type": "execute_result",
          "data": {
            "text/plain": [
              "8"
            ]
          },
          "metadata": {},
          "execution_count": 234
        }
      ]
    },
    {
      "cell_type": "code",
      "source": [
        "transverse_in_order(mytree)"
      ],
      "metadata": {
        "colab": {
          "base_uri": "https://localhost:8080/"
        },
        "id": "iIHvi29Q9WCp",
        "outputId": "5c777368-74f0-4902-e88d-30e15c87b9b4"
      },
      "id": "iIHvi29Q9WCp",
      "execution_count": 235,
      "outputs": [
        {
          "output_type": "execute_result",
          "data": {
            "text/plain": [
              "[2, 6, 3, 3, 1, 5, 8, 7]"
            ]
          },
          "metadata": {},
          "execution_count": 235
        }
      ]
    },
    {
      "cell_type": "code",
      "source": [
        "transverse_pre_order(mytree)"
      ],
      "metadata": {
        "colab": {
          "base_uri": "https://localhost:8080/"
        },
        "id": "a1OlUYq69hRa",
        "outputId": "bbd37cca-bd1a-4627-e7b5-2c45efe402bb"
      },
      "id": "a1OlUYq69hRa",
      "execution_count": 236,
      "outputs": [
        {
          "output_type": "execute_result",
          "data": {
            "text/plain": [
              "[3, 6, 2, 3, 7, 5, 1, 8]"
            ]
          },
          "metadata": {},
          "execution_count": 236
        }
      ]
    },
    {
      "cell_type": "code",
      "source": [
        "transverse_post_order(mytree)"
      ],
      "metadata": {
        "colab": {
          "base_uri": "https://localhost:8080/"
        },
        "id": "OaEuxMP39hEv",
        "outputId": "488bbbb3-7ffd-4c1c-b94e-8732763c3608"
      },
      "id": "OaEuxMP39hEv",
      "execution_count": 237,
      "outputs": [
        {
          "output_type": "execute_result",
          "data": {
            "text/plain": [
              "[2, 3, 6, 1, 8, 5, 7, 3]"
            ]
          },
          "metadata": {},
          "execution_count": 237
        }
      ]
    },
    {
      "cell_type": "code",
      "source": [
        "jovian.commit()"
      ],
      "metadata": {
        "id": "nc5VSnEr9_YT",
        "outputId": "e133da24-9fb4-4eb6-cb5d-b596017f4d97",
        "colab": {
          "base_uri": "https://localhost:8080/",
          "height": 87
        }
      },
      "id": "nc5VSnEr9_YT",
      "execution_count": 238,
      "outputs": [
        {
          "output_type": "stream",
          "name": "stdout",
          "text": [
            "[jovian] Detected Colab notebook...\u001b[0m\n",
            "[jovian] Uploading colab notebook to Jovian...\u001b[0m\n",
            "Committed successfully! https://jovian.ai/deepak-dewani/python-binary-search-trees\n"
          ]
        },
        {
          "output_type": "execute_result",
          "data": {
            "application/vnd.google.colaboratory.intrinsic+json": {
              "type": "string"
            },
            "text/plain": [
              "'https://jovian.ai/deepak-dewani/python-binary-search-trees'"
            ]
          },
          "metadata": {},
          "execution_count": 238
        }
      ]
    },
    {
      "cell_type": "markdown",
      "id": "dangerous-sweet",
      "metadata": {
        "id": "dangerous-sweet"
      },
      "source": [
        "## Binary Search Tree (BST)\n",
        "\n",
        "A binary search tree or BST is a binary tree that satisfies the following conditions:\n",
        "\n",
        "1. The left subtree of any node only contains nodes with keys less than the node's key\n",
        "2. The right subtree of any node only contains nodes with keys greater than the node's key\n",
        "\n",
        "It follows from the above conditions that every subtree of a binary search tree must also be a binary search tree.\n",
        "\n",
        "\n",
        "> **QUESTION 8**: Write a function to check if a binary tree is a binary search tree (BST).\n",
        "\n",
        "> **QUESTION 9**: Write a function to find the maximum key in a binary tree.\n",
        "\n",
        "> **QUESTION 10**: Write a function to find the minimum key in a binary tree.\n",
        "\n",
        "\n",
        "Here's a function that covers all of the above:"
      ]
    },
    {
      "cell_type": "code",
      "execution_count": 239,
      "id": "silver-credit",
      "metadata": {
        "id": "silver-credit"
      },
      "outputs": [],
      "source": [
        "def remove_none(nums):\n",
        "    return [x for x in nums if x is not None]\n",
        "\n",
        "def is_bst(node):\n",
        "    if node is None:\n",
        "        return True, None, None\n",
        "    \n",
        "    is_bst_l, min_l, max_l = is_bst(node.left)\n",
        "    is_bst_r, min_r, max_r = is_bst(node.right)\n",
        "    \n",
        "    is_bst_node = (is_bst_l and is_bst_r and \n",
        "              (max_l is None or node.key > max_l) and \n",
        "              (min_r is None or node.key < min_r))\n",
        "    \n",
        "    min_key = min(remove_none([min_l, node.key, min_r]))\n",
        "    max_key = max(remove_none([max_l, node.key, max_r]))\n",
        "    \n",
        "    # print(node.key, min_key, max_key, is_bst_node)\n",
        "        \n",
        "    return is_bst_node, min_key, max_key"
      ]
    },
    {
      "cell_type": "markdown",
      "id": "consistent-concentrate",
      "metadata": {
        "id": "consistent-concentrate"
      },
      "source": [
        "The following tree is not a BST (because a node with the key 3 appears in the left subtree of a node with the key 2):\n",
        "\n",
        "<img src=\"https://i.imgur.com/d7djJAf.png\" width=\"540\">\n",
        "\n",
        "Let's verify this using `is_bst`."
      ]
    },
    {
      "cell_type": "code",
      "execution_count": 240,
      "id": "dying-rates",
      "metadata": {
        "id": "dying-rates"
      },
      "outputs": [],
      "source": [
        "tree1 = TreeNode.parse_tuple(((1, 3, None), 2, ((None, 3, 4), 5, (6, 7, 8))))"
      ]
    },
    {
      "cell_type": "code",
      "execution_count": 241,
      "id": "innocent-triumph",
      "metadata": {
        "id": "innocent-triumph",
        "colab": {
          "base_uri": "https://localhost:8080/"
        },
        "outputId": "2e2364c1-63b1-4013-db04-8df00e519391"
      },
      "outputs": [
        {
          "output_type": "execute_result",
          "data": {
            "text/plain": [
              "(False, 1, 8)"
            ]
          },
          "metadata": {},
          "execution_count": 241
        }
      ],
      "source": [
        "is_bst(tree1)"
      ]
    },
    {
      "cell_type": "markdown",
      "id": "polish-offering",
      "metadata": {
        "id": "polish-offering"
      },
      "source": [
        "On the other hand, the following tree is a BST:\n",
        "\n",
        "<img src=\"https://i.imgur.com/JZeF9ix.png\" width=\"520\">\n",
        "\n",
        "Let's create this tree and verify that it is a BST. Note that the `TreeNode` class also supports using strings as keys, as strings support the comparison operators `<` and `>` too."
      ]
    },
    {
      "cell_type": "code",
      "execution_count": 242,
      "id": "about-kenya",
      "metadata": {
        "id": "about-kenya"
      },
      "outputs": [],
      "source": [
        "tree2 = TreeNode.parse_tuple((('aakash', 'biraj', 'hemanth')  , 'jadhesh', ('siddhant', 'sonaksh', 'vishal')))"
      ]
    },
    {
      "cell_type": "code",
      "execution_count": 243,
      "id": "german-volleyball",
      "metadata": {
        "id": "german-volleyball",
        "colab": {
          "base_uri": "https://localhost:8080/"
        },
        "outputId": "8ab70b40-c03c-4207-e7fe-0e0b82509e6c"
      },
      "outputs": [
        {
          "output_type": "execute_result",
          "data": {
            "text/plain": [
              "(True, 'aakash', 'vishal')"
            ]
          },
          "metadata": {},
          "execution_count": 243
        }
      ],
      "source": [
        "is_bst(tree2)"
      ]
    },
    {
      "cell_type": "markdown",
      "id": "strategic-incentive",
      "metadata": {
        "id": "strategic-incentive"
      },
      "source": [
        "**Exercise:** Test the `is_bst` function with some more examples using the empty cells below."
      ]
    },
    {
      "cell_type": "code",
      "execution_count": 260,
      "id": "frank-jonathan",
      "metadata": {
        "id": "frank-jonathan"
      },
      "outputs": [],
      "source": [
        "tree3 = TreeNode.parse_tuple(  ((2, 6, 3), 3, ((1, 5, 8), 7, None)) )"
      ]
    },
    {
      "cell_type": "code",
      "execution_count": 261,
      "id": "auburn-delaware",
      "metadata": {
        "id": "auburn-delaware",
        "colab": {
          "base_uri": "https://localhost:8080/"
        },
        "outputId": "0c8614b8-6a2a-45d7-849c-1854ed2b2b84"
      },
      "outputs": [
        {
          "output_type": "execute_result",
          "data": {
            "text/plain": [
              "(False, 1, 8)"
            ]
          },
          "metadata": {},
          "execution_count": 261
        }
      ],
      "source": [
        "is_bst(tree3)"
      ]
    },
    {
      "cell_type": "markdown",
      "id": "adjustable-upper",
      "metadata": {
        "id": "adjustable-upper"
      },
      "source": [
        "## Storing Key-Value Pairs using BSTs\n",
        "\n",
        "Recall that we need to store user objects with each key in our BST. Let's define new class `BSTNode` to represent the nodes of of our tree. Apart from having properties `key`, `left` and `right`, we'll also store a `value` and pointer to the parent node (for easier upward traversal)."
      ]
    },
    {
      "cell_type": "code",
      "execution_count": 267,
      "id": "polish-maker",
      "metadata": {
        "id": "polish-maker"
      },
      "outputs": [],
      "source": [
        "class BSTNode():\n",
        "    def __init__(self, key, value=None):\n",
        "        self.key = key\n",
        "        self.value = value\n",
        "        self.left = None\n",
        "        self.right = None\n",
        "        self.parent = None"
      ]
    },
    {
      "cell_type": "markdown",
      "id": "literary-effect",
      "metadata": {
        "id": "literary-effect"
      },
      "source": [
        "Let's try to recreate this BST with usernames as keys and user objects as values:\n",
        "\n",
        "<img src=\"https://i.imgur.com/JZeF9ix.png\" width=\"520\">"
      ]
    },
    {
      "cell_type": "code",
      "execution_count": 268,
      "id": "theoretical-cleaner",
      "metadata": {
        "id": "theoretical-cleaner"
      },
      "outputs": [],
      "source": [
        "# Level 0\n",
        "tree = BSTNode(jadhesh.username, jadhesh)"
      ]
    },
    {
      "cell_type": "code",
      "execution_count": 269,
      "id": "homeless-welsh",
      "metadata": {
        "id": "homeless-welsh",
        "colab": {
          "base_uri": "https://localhost:8080/"
        },
        "outputId": "f42f0425-5c35-442c-a214-84e84a93337a"
      },
      "outputs": [
        {
          "output_type": "execute_result",
          "data": {
            "text/plain": [
              "('jadhesh',\n",
              " User(username='jadhesh', name='Jadhesh Verma', email='jadhesh@example.com'))"
            ]
          },
          "metadata": {},
          "execution_count": 269
        }
      ],
      "source": [
        "# View Level 0\n",
        "tree.key, tree.value"
      ]
    },
    {
      "cell_type": "code",
      "execution_count": 270,
      "id": "alternate-antenna",
      "metadata": {
        "id": "alternate-antenna"
      },
      "outputs": [],
      "source": [
        "# Level 1\n",
        "tree.left = BSTNode(biraj.username, biraj)\n",
        "tree.right = BSTNode(sonaksh.username, sonaksh)"
      ]
    },
    {
      "cell_type": "code",
      "execution_count": 271,
      "id": "assured-czech",
      "metadata": {
        "id": "assured-czech",
        "colab": {
          "base_uri": "https://localhost:8080/"
        },
        "outputId": "6e7fecf5-a216-4623-906d-b2275176ffa4"
      },
      "outputs": [
        {
          "output_type": "execute_result",
          "data": {
            "text/plain": [
              "('biraj',\n",
              " User(username='biraj', name='Biraj Das', email='biraj@example.com'),\n",
              " 'sonaksh',\n",
              " User(username='sonaksh', name='Sonaksh Kumar', email='sonaksh@example.com'))"
            ]
          },
          "metadata": {},
          "execution_count": 271
        }
      ],
      "source": [
        "# View Level 1\n",
        "tree.left.key, tree.left.value, tree.right.key, tree.right.value"
      ]
    },
    {
      "cell_type": "markdown",
      "id": "sporting-youth",
      "metadata": {
        "id": "sporting-youth"
      },
      "source": [
        "**Exercise:** Add the next layer of nodes to the tree and verify that they were added properly."
      ]
    },
    {
      "cell_type": "code",
      "execution_count": 272,
      "id": "classical-trigger",
      "metadata": {
        "id": "classical-trigger"
      },
      "outputs": [],
      "source": [
        "# Level 2.1\n",
        "tree.left.left = BSTNode(aakash.username, aakash)\n",
        "tree.left.right = BSTNode(hemanth.username, hemanth)\n"
      ]
    },
    {
      "cell_type": "code",
      "execution_count": 274,
      "id": "common-cruise",
      "metadata": {
        "id": "common-cruise",
        "colab": {
          "base_uri": "https://localhost:8080/"
        },
        "outputId": "4cbfad62-da81-47c0-c5eb-5fe014c76e17"
      },
      "outputs": [
        {
          "output_type": "execute_result",
          "data": {
            "text/plain": [
              "('aakash',\n",
              " User(username='aakash', name='Aakash Rai', email='aakash@example.com'),\n",
              " 'hemanth',\n",
              " User(username='hemanth', name='Hemanth Jain', email='hemanth@example.com'))"
            ]
          },
          "metadata": {},
          "execution_count": 274
        }
      ],
      "source": [
        "# View Level 2.1 \n",
        "tree.left.left.key, tree.left.left.value, tree.left.right.key, tree.left.right.value"
      ]
    },
    {
      "cell_type": "code",
      "source": [
        "# Level 2.2\n",
        "tree.right.left = BSTNode(siddhant.username, siddhant)\n",
        "tree.right.right = BSTNode(vishal.username, vishal)\n"
      ],
      "metadata": {
        "id": "n4eSXVBbLeDY"
      },
      "id": "n4eSXVBbLeDY",
      "execution_count": 277,
      "outputs": []
    },
    {
      "cell_type": "code",
      "source": [
        "# View Level 2.1 \n",
        "tree.right.left.key, tree.right.left.value, tree.right.right.key, tree.right.right.value"
      ],
      "metadata": {
        "colab": {
          "base_uri": "https://localhost:8080/"
        },
        "id": "KS3dzM0_Ld-8",
        "outputId": "b859ce41-af68-49e6-a672-33b009081c3d"
      },
      "id": "KS3dzM0_Ld-8",
      "execution_count": 278,
      "outputs": [
        {
          "output_type": "execute_result",
          "data": {
            "text/plain": [
              "('siddhant',\n",
              " User(username='siddhant', name='Siddhant U', email='siddhantu@example.com'),\n",
              " 'vishal',\n",
              " User(username='vishal', name='Vishal Goel', email='vishal@example.com'))"
            ]
          },
          "metadata": {},
          "execution_count": 276
        },
        {
          "output_type": "execute_result",
          "data": {
            "text/plain": [
              "('siddhant',\n",
              " User(username='siddhant', name='Siddhant U', email='siddhantu@example.com'),\n",
              " 'vishal',\n",
              " User(username='vishal', name='Vishal Goel', email='vishal@example.com'))"
            ]
          },
          "metadata": {},
          "execution_count": 278
        }
      ]
    },
    {
      "cell_type": "markdown",
      "id": "drawn-coverage",
      "metadata": {
        "id": "drawn-coverage"
      },
      "source": [
        "We can use the same `display_keys` function we defined earlier to visualize our tree."
      ]
    },
    {
      "cell_type": "code",
      "execution_count": 279,
      "id": "living-therapist",
      "metadata": {
        "id": "living-therapist",
        "colab": {
          "base_uri": "https://localhost:8080/"
        },
        "outputId": "ba70b335-9f9f-4212-cc7d-cc6388c31c9d"
      },
      "outputs": [
        {
          "output_type": "stream",
          "name": "stdout",
          "text": [
            "\t\tvishal\n",
            "\tsonaksh\n",
            "\t\tsiddhant\n",
            "jadhesh\n",
            "\t\themanth\n",
            "\tbiraj\n",
            "\t\taakash\n"
          ]
        }
      ],
      "source": [
        "display_keys(tree)"
      ]
    },
    {
      "cell_type": "markdown",
      "id": "latin-discharge",
      "metadata": {
        "id": "latin-discharge"
      },
      "source": [
        "### Insertion into BST\n",
        "\n",
        "\n",
        "> **QUESTION 11**: Write a function to insert a new node into a BST.\n",
        "\n",
        "\n",
        "We use the BST-property to perform insertion efficiently: \n",
        "\n",
        "1. Starting from the root node, we compare the key to be inserted with the current node's key\n",
        "2. If the key is smaller, we recursively insert it in the left subtree (if it exists) or attach it as as the left child if no left subtree exists.\n",
        "3. If the key is larger, we recursively insert it in the right subtree (if it exists) or attach it as as the right child if no right subtree exists.\n",
        "\n",
        "Here's a recursive implementation of `insert`."
      ]
    },
    {
      "cell_type": "code",
      "execution_count": 280,
      "id": "technical-parks",
      "metadata": {
        "id": "technical-parks"
      },
      "outputs": [],
      "source": [
        "def insert(node, key, value):\n",
        "    if node is None:\n",
        "        node = BSTNode(key, value)\n",
        "    elif key < node.key:\n",
        "        node.left = insert(node.left, key, value)\n",
        "        node.left.parent = node\n",
        "    elif key > node.key:\n",
        "        node.right = insert(node.right, key, value)\n",
        "        node.right.parent = node\n",
        "    return node"
      ]
    },
    {
      "cell_type": "markdown",
      "id": "registered-cocktail",
      "metadata": {
        "id": "registered-cocktail"
      },
      "source": [
        "Let's use this to recreate our tree.\n",
        "\n",
        "<img src=\"https://i.imgur.com/JZeF9ix.png\" width=\"520\">\n",
        "\n",
        "To create the first node, we can use the `insert` function with `None` as the target tree."
      ]
    },
    {
      "cell_type": "code",
      "execution_count": 282,
      "id": "skilled-quantum",
      "metadata": {
        "id": "skilled-quantum"
      },
      "outputs": [],
      "source": [
        "tree = insert(None, jadhesh.username, jadhesh)"
      ]
    },
    {
      "cell_type": "markdown",
      "id": "authorized-beijing",
      "metadata": {
        "id": "authorized-beijing"
      },
      "source": [
        "The remaining nodes can now be inserted into `tree`."
      ]
    },
    {
      "cell_type": "code",
      "execution_count": 283,
      "id": "egyptian-category",
      "metadata": {
        "id": "egyptian-category",
        "colab": {
          "base_uri": "https://localhost:8080/"
        },
        "outputId": "726aafdb-a2c1-491d-8d57-bb9fad900598"
      },
      "outputs": [
        {
          "output_type": "execute_result",
          "data": {
            "text/plain": [
              "<__main__.BSTNode at 0x7fc1122ca9d0>"
            ]
          },
          "metadata": {},
          "execution_count": 283
        }
      ],
      "source": [
        "insert(tree, biraj.username, biraj)\n",
        "insert(tree, sonaksh.username, sonaksh)\n",
        "insert(tree, aakash.username, aakash)\n",
        "insert(tree, hemanth.username, hemanth)\n",
        "insert(tree, siddhant.username, siddhant)\n",
        "insert(tree, vishal.username, siddhant)"
      ]
    },
    {
      "cell_type": "code",
      "execution_count": 284,
      "id": "romance-sullivan",
      "metadata": {
        "id": "romance-sullivan",
        "colab": {
          "base_uri": "https://localhost:8080/"
        },
        "outputId": "72c28424-f187-449d-df12-063c67a58417"
      },
      "outputs": [
        {
          "output_type": "stream",
          "name": "stdout",
          "text": [
            "\t\tvishal\n",
            "\tsonaksh\n",
            "\t\tsiddhant\n",
            "jadhesh\n",
            "\t\themanth\n",
            "\tbiraj\n",
            "\t\taakash\n"
          ]
        }
      ],
      "source": [
        "display_keys(tree)"
      ]
    },
    {
      "cell_type": "markdown",
      "id": "inappropriate-stream",
      "metadata": {
        "id": "inappropriate-stream"
      },
      "source": [
        "Perfect! The tree was created as expected. \n",
        "\n",
        "Note, however, that the order of insertion of nodes change the structure of the resulting tree."
      ]
    },
    {
      "cell_type": "code",
      "execution_count": 285,
      "id": "martial-batch",
      "metadata": {
        "id": "martial-batch",
        "colab": {
          "base_uri": "https://localhost:8080/"
        },
        "outputId": "bb048fb6-fdb4-4275-8c19-2ac4759e8d75"
      },
      "outputs": [
        {
          "output_type": "execute_result",
          "data": {
            "text/plain": [
              "<__main__.BSTNode at 0x7fc1122b0f90>"
            ]
          },
          "metadata": {},
          "execution_count": 285
        }
      ],
      "source": [
        "tree2 = insert(None, aakash.username, aakash)\n",
        "insert(tree2, biraj.username, biraj)\n",
        "insert(tree2, hemanth.username, hemanth)\n",
        "insert(tree2, jadhesh.username, jadhesh)\n",
        "insert(tree2, siddhant.username, siddhant)\n",
        "insert(tree2, sonaksh.username, sonaksh)\n",
        "insert(tree2, vishal.username, vishal)"
      ]
    },
    {
      "cell_type": "code",
      "execution_count": 286,
      "id": "julian-scholarship",
      "metadata": {
        "id": "julian-scholarship",
        "colab": {
          "base_uri": "https://localhost:8080/"
        },
        "outputId": "0bc7f72c-c6eb-4b50-d0c0-381c1c5de23a"
      },
      "outputs": [
        {
          "output_type": "stream",
          "name": "stdout",
          "text": [
            "\t\t\t\t\t\tvishal\n",
            "\t\t\t\t\tsonaksh\n",
            "\t\t\t\t\t\t∅\n",
            "\t\t\t\tsiddhant\n",
            "\t\t\t\t\t∅\n",
            "\t\t\tjadhesh\n",
            "\t\t\t\t∅\n",
            "\t\themanth\n",
            "\t\t\t∅\n",
            "\tbiraj\n",
            "\t\t∅\n",
            "aakash\n",
            "\t∅\n"
          ]
        }
      ],
      "source": [
        "display_keys(tree2)"
      ]
    },
    {
      "cell_type": "markdown",
      "id": "enormous-block",
      "metadata": {
        "id": "enormous-block"
      },
      "source": [
        "Can you see why the tree created above is skewed/unbalanced?\n",
        "\n",
        "<img src=\"https://i.imgur.com/lP5Thct.png\" width=\"520\">\n",
        "\n",
        "Skewed/unbalanced BSTs are problematic because the height of such trees often ceases to logarithmic compared to the number of nodes in the tree. For instance the above tree has 7 nodes and height 7.\n",
        "\n",
        "The length of the path traversed by `insert` is equal to the height of the tree (in the worst case). It follows that if the tree is balanced, the time complexity of insertion is `O(log N)` otherwise it is `O(N)`."
      ]
    },
    {
      "cell_type": "code",
      "execution_count": 287,
      "id": "changing-trunk",
      "metadata": {
        "id": "changing-trunk",
        "colab": {
          "base_uri": "https://localhost:8080/"
        },
        "outputId": "6b6815d2-7476-4c47-dde8-b2cc15c5756d"
      },
      "outputs": [
        {
          "output_type": "execute_result",
          "data": {
            "text/plain": [
              "7"
            ]
          },
          "metadata": {},
          "execution_count": 287
        }
      ],
      "source": [
        "tree_height(tree2)"
      ]
    },
    {
      "cell_type": "markdown",
      "id": "received-charles",
      "metadata": {
        "id": "received-charles"
      },
      "source": [
        "**Exercise:** Create some more balanced and unbalanced BSTs using the `insert` function defined above."
      ]
    },
    {
      "cell_type": "code",
      "execution_count": 288,
      "id": "conventional-title",
      "metadata": {
        "id": "conventional-title",
        "colab": {
          "base_uri": "https://localhost:8080/"
        },
        "outputId": "6ae8f0f7-b729-4725-ea21-121b90095caf"
      },
      "outputs": [
        {
          "output_type": "execute_result",
          "data": {
            "text/plain": [
              "<__main__.BSTNode at 0x7fc112217a10>"
            ]
          },
          "metadata": {},
          "execution_count": 288
        }
      ],
      "source": [
        "tree2 = insert(None, aakash.username, aakash)\n",
        "insert(tree2, vishal.username, vishal)\n",
        "insert(tree2, hemanth.username, hemanth)\n",
        "insert(tree2, siddhant.username, siddhant)\n",
        "insert(tree2, biraj.username, biraj)\n",
        "insert(tree2, jadhesh.username, jadhesh)\n",
        "insert(tree2, sonaksh.username, sonaksh)"
      ]
    },
    {
      "cell_type": "code",
      "execution_count": 289,
      "id": "forward-function",
      "metadata": {
        "id": "forward-function",
        "colab": {
          "base_uri": "https://localhost:8080/"
        },
        "outputId": "c0848335-620e-440f-b77d-629c88f2bb58"
      },
      "outputs": [
        {
          "output_type": "stream",
          "name": "stdout",
          "text": [
            "\t\t∅\n",
            "\tvishal\n",
            "\t\t\t\tsonaksh\n",
            "\t\t\tsiddhant\n",
            "\t\t\t\tjadhesh\n",
            "\t\themanth\n",
            "\t\t\tbiraj\n",
            "aakash\n",
            "\t∅\n"
          ]
        }
      ],
      "source": [
        "display_keys(tree2)"
      ]
    },
    {
      "cell_type": "markdown",
      "id": "affecting-hormone",
      "metadata": {
        "id": "affecting-hormone"
      },
      "source": [
        "### Finding a Node in BST\n",
        "\n",
        "> **QUESTION 11**: Find the value associated with a given key in a BST.\n",
        "\n",
        "We can follow a recursive strategy similar to insertion to find the node with a given key within a BST."
      ]
    },
    {
      "cell_type": "code",
      "execution_count": 301,
      "id": "bizarre-concentrate",
      "metadata": {
        "id": "bizarre-concentrate"
      },
      "outputs": [],
      "source": [
        "def find(node, key):\n",
        "    if node is None:\n",
        "        return None\n",
        "    if key == node.key:\n",
        "        return node\n",
        "    if key < node.key:\n",
        "        return find(node.left, key)\n",
        "    if key > node.key:\n",
        "        return find(node.right, key)"
      ]
    },
    {
      "cell_type": "markdown",
      "id": "governmental-chocolate",
      "metadata": {
        "id": "governmental-chocolate"
      },
      "source": [
        "<img src=\"https://i.imgur.com/dzDszlw.png\" width=\"520\">"
      ]
    },
    {
      "cell_type": "code",
      "execution_count": 302,
      "id": "chemical-switzerland",
      "metadata": {
        "id": "chemical-switzerland"
      },
      "outputs": [],
      "source": [
        "node = find(tree, 'hemanth')"
      ]
    },
    {
      "cell_type": "code",
      "execution_count": 303,
      "id": "adjacent-advisory",
      "metadata": {
        "id": "adjacent-advisory",
        "colab": {
          "base_uri": "https://localhost:8080/"
        },
        "outputId": "c9f03fb4-4049-4f3e-dd82-46f71a0991af"
      },
      "outputs": [
        {
          "output_type": "execute_result",
          "data": {
            "text/plain": [
              "('hemanth',\n",
              " User(username='hemanth', name='Hemanth Jain', email='hemanth@example.com'))"
            ]
          },
          "metadata": {},
          "execution_count": 303
        }
      ],
      "source": [
        "node.key, node.value"
      ]
    },
    {
      "cell_type": "markdown",
      "id": "gentle-bosnia",
      "metadata": {
        "id": "gentle-bosnia"
      },
      "source": [
        "The the length of the path followed by `find` is equal to the height of the tree (in the worst case). Thus it has a similar time complexity as `insert`.\n",
        "\n",
        "**Example:** Try finding some more nodes from the BST created above (or create new trees)."
      ]
    },
    {
      "cell_type": "code",
      "execution_count": 305,
      "id": "generic-verification",
      "metadata": {
        "id": "generic-verification"
      },
      "outputs": [],
      "source": [
        "node1 = find(tree, 'aakash')"
      ]
    },
    {
      "cell_type": "code",
      "execution_count": 306,
      "id": "usual-april",
      "metadata": {
        "id": "usual-april",
        "colab": {
          "base_uri": "https://localhost:8080/"
        },
        "outputId": "0acc470f-a313-48b2-c329-5b562878e2ab"
      },
      "outputs": [
        {
          "output_type": "execute_result",
          "data": {
            "text/plain": [
              "('aakash',\n",
              " User(username='aakash', name='Aakash Rai', email='aakash@example.com'))"
            ]
          },
          "metadata": {},
          "execution_count": 306
        }
      ],
      "source": [
        "node1.key , node1.value"
      ]
    },
    {
      "cell_type": "markdown",
      "id": "fuzzy-general",
      "metadata": {
        "id": "fuzzy-general"
      },
      "source": [
        "### Updating a value in a BST\n",
        "\n",
        "> **QUESTION 12:** Write a function to update the value associated with a given key within a BST\n",
        "\n",
        "We can use `find` to locate the node to be updated, and simply update it's value."
      ]
    },
    {
      "cell_type": "code",
      "execution_count": 307,
      "id": "unlikely-geneva",
      "metadata": {
        "id": "unlikely-geneva"
      },
      "outputs": [],
      "source": [
        "def update(node, key, value):\n",
        "    target = find(node, key)\n",
        "    if target is not None:\n",
        "        target.value = value"
      ]
    },
    {
      "cell_type": "code",
      "execution_count": 308,
      "id": "requested-medicine",
      "metadata": {
        "id": "requested-medicine"
      },
      "outputs": [],
      "source": [
        "update(tree, 'hemanth', User('hemanth', 'Hemanth J', 'hemanthj@example.com'))"
      ]
    },
    {
      "cell_type": "code",
      "execution_count": 309,
      "id": "serious-lithuania",
      "metadata": {
        "id": "serious-lithuania",
        "colab": {
          "base_uri": "https://localhost:8080/"
        },
        "outputId": "6fcb9d09-42a0-46fd-d0da-c9d2723b4489"
      },
      "outputs": [
        {
          "output_type": "execute_result",
          "data": {
            "text/plain": [
              "User(username='hemanth', name='Hemanth J', email='hemanthj@example.com')"
            ]
          },
          "metadata": {},
          "execution_count": 309
        }
      ],
      "source": [
        "node = find(tree, 'hemanth')\n",
        "node.value"
      ]
    },
    {
      "cell_type": "markdown",
      "id": "neutral-effects",
      "metadata": {
        "id": "neutral-effects"
      },
      "source": [
        "The value of the node was successfully updated. The time complexity of `update` is the same as that of `find`.\n",
        "\n",
        "**Exercise:** Try some more update operations using the BST created earlier."
      ]
    },
    {
      "cell_type": "code",
      "execution_count": 310,
      "id": "utility-semiconductor",
      "metadata": {
        "id": "utility-semiconductor"
      },
      "outputs": [],
      "source": [
        "update(tree, 'aakash', User('aakash', 'Aakash Dd', 'aakash@example.com'))"
      ]
    },
    {
      "cell_type": "code",
      "execution_count": 311,
      "id": "sweet-logging",
      "metadata": {
        "id": "sweet-logging",
        "colab": {
          "base_uri": "https://localhost:8080/"
        },
        "outputId": "27d0fe6e-e6fc-4f4a-bca2-f155387f1a2d"
      },
      "outputs": [
        {
          "output_type": "execute_result",
          "data": {
            "text/plain": [
              "User(username='aakash', name='Aakash Dd', email='aakash@example.com')"
            ]
          },
          "metadata": {},
          "execution_count": 311
        }
      ],
      "source": [
        "node2 = find(tree, \"aakash\")\n",
        "node2.value"
      ]
    },
    {
      "cell_type": "markdown",
      "id": "dramatic-bleeding",
      "metadata": {
        "id": "dramatic-bleeding"
      },
      "source": [
        "### List the nodes\n",
        "\n",
        "> **QUESTION 13:** Write a function to retrieve all the key-values pairs stored in a BST in the sorted order of keys.\n",
        "\n",
        "The nodes can be listed in sorted order by performing an inorder traversal of the BST."
      ]
    },
    {
      "cell_type": "code",
      "execution_count": 312,
      "id": "independent-contrary",
      "metadata": {
        "id": "independent-contrary"
      },
      "outputs": [],
      "source": [
        "def list_all(node):\n",
        "    if node is None:\n",
        "        return []\n",
        "    return list_all(node.left) + [(node.key, node.value)] + list_all(node.right)"
      ]
    },
    {
      "cell_type": "code",
      "execution_count": 313,
      "id": "acquired-japan",
      "metadata": {
        "id": "acquired-japan",
        "colab": {
          "base_uri": "https://localhost:8080/"
        },
        "outputId": "a0d6b1d9-4ecb-46a1-9cb4-042de4f0f905"
      },
      "outputs": [
        {
          "output_type": "execute_result",
          "data": {
            "text/plain": [
              "[('aakash',\n",
              "  User(username='aakash', name='Aakash Dd', email='aakash@example.com')),\n",
              " ('biraj',\n",
              "  User(username='biraj', name='Biraj Das', email='biraj@example.com')),\n",
              " ('hemanth',\n",
              "  User(username='hemanth', name='Hemanth J', email='hemanthj@example.com')),\n",
              " ('jadhesh',\n",
              "  User(username='jadhesh', name='Jadhesh Verma', email='jadhesh@example.com')),\n",
              " ('siddhant',\n",
              "  User(username='siddhant', name='Siddhant U', email='siddhantu@example.com')),\n",
              " ('sonaksh',\n",
              "  User(username='sonaksh', name='Sonaksh Kumar', email='sonaksh@example.com')),\n",
              " ('vishal',\n",
              "  User(username='siddhant', name='Siddhant U', email='siddhantu@example.com'))]"
            ]
          },
          "metadata": {},
          "execution_count": 313
        }
      ],
      "source": [
        "list_all(tree)"
      ]
    },
    {
      "cell_type": "markdown",
      "id": "traditional-disclaimer",
      "metadata": {
        "id": "traditional-disclaimer"
      },
      "source": [
        "**Exercise:** Determine the time complexity and space complexity of `list_all`."
      ]
    },
    {
      "cell_type": "markdown",
      "source": [
        "Answer : O(N)"
      ],
      "metadata": {
        "id": "MHf2um1nR_OF"
      },
      "id": "MHf2um1nR_OF"
    },
    {
      "cell_type": "code",
      "execution_count": 314,
      "id": "reliable-algorithm",
      "metadata": {
        "id": "reliable-algorithm"
      },
      "outputs": [],
      "source": [
        "import jovian"
      ]
    },
    {
      "cell_type": "code",
      "execution_count": 315,
      "id": "offensive-escape",
      "metadata": {
        "id": "offensive-escape",
        "colab": {
          "base_uri": "https://localhost:8080/",
          "height": 87
        },
        "outputId": "7f455abb-960c-40c9-efbb-de519f9d11d8"
      },
      "outputs": [
        {
          "output_type": "stream",
          "name": "stdout",
          "text": [
            "[jovian] Detected Colab notebook...\u001b[0m\n",
            "[jovian] Uploading colab notebook to Jovian...\u001b[0m\n",
            "Committed successfully! https://jovian.ai/deepak-dewani/python-binary-search-trees\n"
          ]
        },
        {
          "output_type": "execute_result",
          "data": {
            "application/vnd.google.colaboratory.intrinsic+json": {
              "type": "string"
            },
            "text/plain": [
              "'https://jovian.ai/deepak-dewani/python-binary-search-trees'"
            ]
          },
          "metadata": {},
          "execution_count": 315
        }
      ],
      "source": [
        "jovian.commit()"
      ]
    },
    {
      "cell_type": "markdown",
      "id": "constitutional-charleston",
      "metadata": {
        "id": "constitutional-charleston"
      },
      "source": [
        "## Balanced Binary Trees\n",
        "\n",
        "> **QUESTION 14**: Write a function to determine if a binary tree is balanced.\n",
        "\n",
        "Here's a recursive strategy:\n",
        "\n",
        "1. Ensure that the left subtree is balanced.\n",
        "2. Ensure that the right subtree is balanced.\n",
        "3. Ensure that the difference between heights of left subtree and right subtree is not more than 1.\n",
        "\n"
      ]
    },
    {
      "cell_type": "code",
      "execution_count": 316,
      "id": "downtown-isaac",
      "metadata": {
        "id": "downtown-isaac"
      },
      "outputs": [],
      "source": [
        "def is_balanced(node):\n",
        "    if node is None:\n",
        "        return True, 0\n",
        "    balanced_l, height_l = is_balanced(node.left)\n",
        "    balanced_r, height_r = is_balanced(node.right)\n",
        "    balanced = balanced_l and balanced_r and abs(height_l - height_r) <=1\n",
        "    height = 1 + max(height_l, height_r)\n",
        "    return balanced, height"
      ]
    },
    {
      "cell_type": "markdown",
      "id": "polar-calculator",
      "metadata": {
        "id": "polar-calculator"
      },
      "source": [
        "The following tree is balanced:\n",
        "\n",
        "<img src=\"https://i.imgur.com/JZeF9ix.png\" width=\"520\">"
      ]
    },
    {
      "cell_type": "code",
      "execution_count": 317,
      "id": "bigger-movie",
      "metadata": {
        "id": "bigger-movie",
        "colab": {
          "base_uri": "https://localhost:8080/"
        },
        "outputId": "ce71a66c-a7eb-4766-9fe8-9a492d932aac"
      },
      "outputs": [
        {
          "output_type": "execute_result",
          "data": {
            "text/plain": [
              "(True, 3)"
            ]
          },
          "metadata": {},
          "execution_count": 317
        }
      ],
      "source": [
        "is_balanced(tree)"
      ]
    },
    {
      "cell_type": "markdown",
      "id": "institutional-board",
      "metadata": {
        "id": "institutional-board"
      },
      "source": [
        "The following tree is not balanced:\n",
        "\n",
        "<img src=\"https://i.imgur.com/lP5Thct.png\" width=\"520\">"
      ]
    },
    {
      "cell_type": "code",
      "execution_count": 318,
      "id": "coordinated-selection",
      "metadata": {
        "id": "coordinated-selection",
        "colab": {
          "base_uri": "https://localhost:8080/"
        },
        "outputId": "9389e128-b02e-4bf6-93cd-04d563f0c409"
      },
      "outputs": [
        {
          "output_type": "execute_result",
          "data": {
            "text/plain": [
              "(False, 5)"
            ]
          },
          "metadata": {},
          "execution_count": 318
        }
      ],
      "source": [
        "is_balanced(tree2)"
      ]
    },
    {
      "cell_type": "markdown",
      "id": "express-steal",
      "metadata": {
        "id": "express-steal"
      },
      "source": [
        "**Exercise:** Is the tree shown below balanced? Why or why not? Create this tree and check if it's balanced using the `is_balanced` function.\n",
        "\n",
        "<img src=\"https://i.imgur.com/LlOT712.png\" width=\"520\">\n",
        "\n"
      ]
    },
    {
      "cell_type": "code",
      "execution_count": 322,
      "id": "indie-mississippi",
      "metadata": {
        "id": "indie-mississippi",
        "colab": {
          "base_uri": "https://localhost:8080/"
        },
        "outputId": "f7a24f5c-4955-4250-9a90-f8d1039a33a4"
      },
      "outputs": [
        {
          "output_type": "execute_result",
          "data": {
            "text/plain": [
              "<__main__.BSTNode at 0x7fc11224ead0>"
            ]
          },
          "metadata": {},
          "execution_count": 322
        }
      ],
      "source": [
        "tree9 = insert(None, jadhesh.username, jadhesh)\n",
        "insert(tree9, biraj.username, biraj)\n",
        "insert(tree9, sonaksh.username, sonaksh)\n",
        "insert(tree9, aakash.username, aakash)\n",
        "insert(tree9, hemanth.username, hemanth)\n",
        "insert(tree9, siddhant.username, siddhant)\n",
        "insert(tree9, vishal.username, siddhant)\n",
        "insert(tree9, tanya.username, tanya)"
      ]
    },
    {
      "cell_type": "code",
      "source": [
        "display_keys(tree9)"
      ],
      "metadata": {
        "colab": {
          "base_uri": "https://localhost:8080/"
        },
        "id": "n4kSLxaqUFFC",
        "outputId": "74ebf045-2cee-4e95-a082-d03acdb3f88a"
      },
      "id": "n4kSLxaqUFFC",
      "execution_count": 324,
      "outputs": [
        {
          "output_type": "stream",
          "name": "stdout",
          "text": [
            "\t\t\t∅\n",
            "\t\tvishal\n",
            "\t\t\ttanya\n",
            "\tsonaksh\n",
            "\t\tsiddhant\n",
            "jadhesh\n",
            "\t\themanth\n",
            "\tbiraj\n",
            "\t\taakash\n"
          ]
        }
      ]
    },
    {
      "cell_type": "code",
      "execution_count": 323,
      "id": "prescription-light",
      "metadata": {
        "id": "prescription-light",
        "colab": {
          "base_uri": "https://localhost:8080/"
        },
        "outputId": "0ad2015a-8767-4e78-e72e-4925b3bc9d94"
      },
      "outputs": [
        {
          "output_type": "execute_result",
          "data": {
            "text/plain": [
              "(True, 4)"
            ]
          },
          "metadata": {},
          "execution_count": 323
        }
      ],
      "source": [
        "is_balanced(tree9)"
      ]
    },
    {
      "cell_type": "markdown",
      "id": "flexible-budapest",
      "metadata": {
        "id": "flexible-budapest"
      },
      "source": [
        "Also try this related problem on *complete* binary trees: https://leetcode.com/problems/check-completeness-of-a-binary-tree/\n",
        "\n"
      ]
    },
    {
      "cell_type": "code",
      "source": [
        "import jovian"
      ],
      "metadata": {
        "id": "-7KqJyjZUc-0"
      },
      "id": "-7KqJyjZUc-0",
      "execution_count": 326,
      "outputs": []
    },
    {
      "cell_type": "code",
      "source": [
        "jovian.commit()"
      ],
      "metadata": {
        "colab": {
          "base_uri": "https://localhost:8080/",
          "height": 87
        },
        "id": "xqUrejmpUc7u",
        "outputId": "0c852ccb-e3f1-440a-b17f-3ff82e2e5bc6"
      },
      "id": "xqUrejmpUc7u",
      "execution_count": 327,
      "outputs": [
        {
          "output_type": "stream",
          "name": "stdout",
          "text": [
            "[jovian] Detected Colab notebook...\u001b[0m\n",
            "[jovian] Uploading colab notebook to Jovian...\u001b[0m\n",
            "Committed successfully! https://jovian.ai/deepak-dewani/python-binary-search-trees\n"
          ]
        },
        {
          "output_type": "execute_result",
          "data": {
            "application/vnd.google.colaboratory.intrinsic+json": {
              "type": "string"
            },
            "text/plain": [
              "'https://jovian.ai/deepak-dewani/python-binary-search-trees'"
            ]
          },
          "metadata": {},
          "execution_count": 327
        }
      ]
    },
    {
      "cell_type": "markdown",
      "id": "juvenile-coating",
      "metadata": {
        "id": "juvenile-coating"
      },
      "source": [
        "## Balanced Binary Search Trees\n",
        "\n",
        "> **QUESTION 15**: Write a function to create a balanced BST from a sorted list/array of key-value pairs.\n",
        "\n",
        "We can use a recursive strategy here, turning the middle element of the list into the root, and recursively creating left and right subtrees.\n"
      ]
    },
    {
      "cell_type": "code",
      "execution_count": 325,
      "id": "equivalent-nerve",
      "metadata": {
        "id": "equivalent-nerve"
      },
      "outputs": [],
      "source": [
        "def make_balanced_bst(data, lo=0, hi=None, parent=None):\n",
        "    if hi is None:\n",
        "        hi = len(data) - 1\n",
        "    if lo > hi:\n",
        "        return None\n",
        "    \n",
        "    mid = (lo + hi) // 2\n",
        "    key, value = data[mid]\n",
        "\n",
        "    root = BSTNode(key, value)\n",
        "    root.parent = parent\n",
        "    root.left = make_balanced_bst(data, lo, mid-1, root)\n",
        "    root.right = make_balanced_bst(data, mid+1, hi, root)\n",
        "    \n",
        "    return root\n",
        "    "
      ]
    },
    {
      "cell_type": "code",
      "execution_count": 328,
      "id": "casual-payroll",
      "metadata": {
        "id": "casual-payroll",
        "colab": {
          "base_uri": "https://localhost:8080/"
        },
        "outputId": "dd56ed68-5fcd-498a-d9f9-5a166850849d"
      },
      "outputs": [
        {
          "output_type": "execute_result",
          "data": {
            "text/plain": [
              "[('aakash',\n",
              "  User(username='aakash', name='Aakash Rai', email='aakash@example.com')),\n",
              " ('biraj',\n",
              "  User(username='biraj', name='Biraj Das', email='biraj@example.com')),\n",
              " ('hemanth',\n",
              "  User(username='hemanth', name='Hemanth Jain', email='hemanth@example.com')),\n",
              " ('jadhesh',\n",
              "  User(username='jadhesh', name='Jadhesh Verma', email='jadhesh@example.com')),\n",
              " ('siddhant',\n",
              "  User(username='siddhant', name='Siddhant Sinha', email='siddhant@example.com')),\n",
              " ('sonaksh',\n",
              "  User(username='sonaksh', name='Sonaksh Kumar', email='sonaksh@example.com')),\n",
              " ('vishal',\n",
              "  User(username='vishal', name='Vishal Goel', email='vishal@example.com'))]"
            ]
          },
          "metadata": {},
          "execution_count": 328
        }
      ],
      "source": [
        "data = [(user.username, user) for user in users]\n",
        "data"
      ]
    },
    {
      "cell_type": "code",
      "execution_count": 329,
      "id": "opened-establishment",
      "metadata": {
        "id": "opened-establishment"
      },
      "outputs": [],
      "source": [
        "tree = make_balanced_bst(data)"
      ]
    },
    {
      "cell_type": "code",
      "execution_count": 330,
      "id": "statistical-alert",
      "metadata": {
        "id": "statistical-alert",
        "colab": {
          "base_uri": "https://localhost:8080/"
        },
        "outputId": "7cc27ae1-a87d-4fca-ad6b-18c6976f19c4"
      },
      "outputs": [
        {
          "output_type": "stream",
          "name": "stdout",
          "text": [
            "\t\tvishal\n",
            "\tsonaksh\n",
            "\t\tsiddhant\n",
            "jadhesh\n",
            "\t\themanth\n",
            "\tbiraj\n",
            "\t\taakash\n"
          ]
        }
      ],
      "source": [
        "display_keys(tree)"
      ]
    },
    {
      "cell_type": "markdown",
      "id": "pleasant-hepatitis",
      "metadata": {
        "id": "pleasant-hepatitis"
      },
      "source": [
        "<img src=\"https://i.imgur.com/JZeF9ix.png\" width=\"520\">\n",
        "\n",
        "Recall that the same list of users, when inserted one-by-one resulted in a skewed tree."
      ]
    },
    {
      "cell_type": "code",
      "execution_count": 331,
      "id": "pregnant-binding",
      "metadata": {
        "id": "pregnant-binding"
      },
      "outputs": [],
      "source": [
        "tree3 = None\n",
        "for username, user in data:\n",
        "    tree3 = insert(tree3, username, user)"
      ]
    },
    {
      "cell_type": "code",
      "execution_count": 332,
      "id": "measured-graduate",
      "metadata": {
        "id": "measured-graduate",
        "colab": {
          "base_uri": "https://localhost:8080/"
        },
        "outputId": "c77f8d7f-1335-4cad-9648-6101d6b29be3"
      },
      "outputs": [
        {
          "output_type": "stream",
          "name": "stdout",
          "text": [
            "\t\t\t\t\t\tvishal\n",
            "\t\t\t\t\tsonaksh\n",
            "\t\t\t\t\t\t∅\n",
            "\t\t\t\tsiddhant\n",
            "\t\t\t\t\t∅\n",
            "\t\t\tjadhesh\n",
            "\t\t\t\t∅\n",
            "\t\themanth\n",
            "\t\t\t∅\n",
            "\tbiraj\n",
            "\t\t∅\n",
            "aakash\n",
            "\t∅\n"
          ]
        }
      ],
      "source": [
        "display_keys(tree3)"
      ]
    },
    {
      "cell_type": "markdown",
      "id": "computational-leader",
      "metadata": {
        "id": "computational-leader"
      },
      "source": [
        "## Balancing an Unbalanced BST\n",
        "\n",
        "> **QUESTION 16:** Write a function to balance an unbalanced binary search tree.\n",
        "\n",
        "We first perform an inorder traversal, then create a balanced BST using the function defined earlier."
      ]
    },
    {
      "cell_type": "code",
      "execution_count": 333,
      "id": "enclosed-criterion",
      "metadata": {
        "id": "enclosed-criterion"
      },
      "outputs": [],
      "source": [
        "def balance_bst(node):\n",
        "    return make_balanced_bst(list_all(node))"
      ]
    },
    {
      "cell_type": "code",
      "execution_count": 334,
      "id": "informational-flooring",
      "metadata": {
        "id": "informational-flooring"
      },
      "outputs": [],
      "source": [
        "tree1 = None\n",
        "\n",
        "for user in users:\n",
        "    tree1 = insert(tree1, user.username, user)"
      ]
    },
    {
      "cell_type": "code",
      "execution_count": 335,
      "id": "continued-study",
      "metadata": {
        "id": "continued-study",
        "colab": {
          "base_uri": "https://localhost:8080/"
        },
        "outputId": "a7b763c3-394a-4799-e06e-136105999e66"
      },
      "outputs": [
        {
          "output_type": "stream",
          "name": "stdout",
          "text": [
            "\t\t\t\t\t\tvishal\n",
            "\t\t\t\t\tsonaksh\n",
            "\t\t\t\t\t\t∅\n",
            "\t\t\t\tsiddhant\n",
            "\t\t\t\t\t∅\n",
            "\t\t\tjadhesh\n",
            "\t\t\t\t∅\n",
            "\t\themanth\n",
            "\t\t\t∅\n",
            "\tbiraj\n",
            "\t\t∅\n",
            "aakash\n",
            "\t∅\n"
          ]
        }
      ],
      "source": [
        "display_keys(tree1)"
      ]
    },
    {
      "cell_type": "code",
      "execution_count": 336,
      "id": "naval-arrangement",
      "metadata": {
        "id": "naval-arrangement"
      },
      "outputs": [],
      "source": [
        "tree2 = balance_bst(tree1)"
      ]
    },
    {
      "cell_type": "code",
      "execution_count": 337,
      "id": "compatible-family",
      "metadata": {
        "id": "compatible-family",
        "colab": {
          "base_uri": "https://localhost:8080/"
        },
        "outputId": "29a59bbd-826c-4925-f49e-d6dfa999c753"
      },
      "outputs": [
        {
          "output_type": "stream",
          "name": "stdout",
          "text": [
            "\t\tvishal\n",
            "\tsonaksh\n",
            "\t\tsiddhant\n",
            "jadhesh\n",
            "\t\themanth\n",
            "\tbiraj\n",
            "\t\taakash\n"
          ]
        }
      ],
      "source": [
        "display_keys(tree2)"
      ]
    },
    {
      "cell_type": "markdown",
      "id": "elegant-passenger",
      "metadata": {
        "id": "elegant-passenger"
      },
      "source": [
        "After every insertion, we can balance the tree. This way the tree will remain balanced.\n",
        "\n",
        "Complexity of the various operations in a balanced BST:\n",
        "\n",
        "* Insert - O(log N) + O(N) = O(N)\n",
        "* Find - O(log N)\n",
        "* Update - O(log N)\n",
        "* List all - O(N)\n",
        "\n",
        "What's the real improvement between O(N) and O(log N)? "
      ]
    },
    {
      "cell_type": "code",
      "execution_count": 338,
      "id": "linear-vertical",
      "metadata": {
        "id": "linear-vertical",
        "colab": {
          "base_uri": "https://localhost:8080/"
        },
        "outputId": "e7097583-706a-44b2-cfad-d2a5993e7e5d"
      },
      "outputs": [
        {
          "output_type": "execute_result",
          "data": {
            "text/plain": [
              "26.5754247590989"
            ]
          },
          "metadata": {},
          "execution_count": 338
        }
      ],
      "source": [
        "import math\n",
        "\n",
        "math.log(100000000, 2)"
      ]
    },
    {
      "cell_type": "markdown",
      "id": "fatal-belarus",
      "metadata": {
        "id": "fatal-belarus"
      },
      "source": [
        "The logarithm (base 2) of 100 million is around 26. Thus, it takes only 26 operations to find or update a node within a BST (as opposed to 100 million)."
      ]
    },
    {
      "cell_type": "code",
      "execution_count": 339,
      "id": "nonprofit-joshua",
      "metadata": {
        "id": "nonprofit-joshua",
        "colab": {
          "base_uri": "https://localhost:8080/"
        },
        "outputId": "a9d43f5b-8f8b-4cc2-91a5-84f91529fdc6"
      },
      "outputs": [
        {
          "output_type": "stream",
          "name": "stdout",
          "text": [
            "CPU times: user 11 µs, sys: 1e+03 ns, total: 12 µs\n",
            "Wall time: 17.4 µs\n"
          ]
        }
      ],
      "source": [
        "%%time\n",
        "for i in range(26):\n",
        "    j = i*i"
      ]
    },
    {
      "cell_type": "markdown",
      "id": "welsh-retirement",
      "metadata": {
        "id": "welsh-retirement"
      },
      "source": [
        "Compared to linear time:"
      ]
    },
    {
      "cell_type": "code",
      "execution_count": 340,
      "id": "affected-tackle",
      "metadata": {
        "id": "affected-tackle",
        "colab": {
          "base_uri": "https://localhost:8080/"
        },
        "outputId": "ec07f492-750d-49c2-fba4-77bb5d3eafdc"
      },
      "outputs": [
        {
          "output_type": "stream",
          "name": "stdout",
          "text": [
            "CPU times: user 12.5 s, sys: 0 ns, total: 12.5 s\n",
            "Wall time: 12.5 s\n"
          ]
        }
      ],
      "source": [
        "%%time\n",
        "for i in range(100000000):\n",
        "    j = i*i"
      ]
    },
    {
      "cell_type": "markdown",
      "id": "complex-employment",
      "metadata": {
        "id": "complex-employment"
      },
      "source": [
        "Thus, find and update from a balanced binary search tree is 300,000 times faster than our original solution. To speed up insertions, we may choose to perform the balancing periodically (e.g. once every 1000 insertions). This way, most insertions will be O (log N), but every 1000th insertion will take a few seconds. Another options is to rebalance the tree periodically at the end of every hour."
      ]
    },
    {
      "cell_type": "markdown",
      "id": "lesbian-detector",
      "metadata": {
        "id": "lesbian-detector"
      },
      "source": [
        "## A Python-Friendly Treemap \n",
        "\n",
        "We are now ready to return to our original problem statement.\n",
        "\n",
        "> **QUESTION 1**: As a senior backend engineer at Jovian, you are tasked with developing a fast in-memory data structure to manage profile information (username, name and email) for 100 million users. It should allow the following operations to be performed efficiently:\n",
        "> \n",
        "> 1. **Insert** the profile information for a new user.\n",
        "> 2. **Find** the profile information of a user, given their username\n",
        "> 3. **Update** the profile information of a user, given their usrname\n",
        "> 5. **List** all the users of the platform, sorted by username\n",
        ">\n",
        "> You can assume that usernames are unique. \n",
        "\n",
        "\n",
        "\n",
        "We can create a generic class `TreeMap` which supports all the operations specified in the original problem statement in a python-friendly manner."
      ]
    },
    {
      "cell_type": "code",
      "execution_count": 341,
      "id": "global-aberdeen",
      "metadata": {
        "id": "global-aberdeen"
      },
      "outputs": [],
      "source": [
        "class TreeMap():\n",
        "    def __init__(self):\n",
        "        self.root = None\n",
        "        \n",
        "    def __setitem__(self, key, value):\n",
        "        node = find(self.root, key)\n",
        "        if not node:\n",
        "            self.root = insert(self.root, key, value)\n",
        "            self.root = balance_bst(self.root)\n",
        "        else:\n",
        "            update(self.root, key, value)\n",
        "            \n",
        "        \n",
        "    def __getitem__(self, key):\n",
        "        node = find(self.root, key)\n",
        "        return node.value if node else None\n",
        "    \n",
        "    def __iter__(self):\n",
        "        return (x for x in list_all(self.root))\n",
        "    \n",
        "    def __len__(self):\n",
        "        return tree_size(self.root)\n",
        "    \n",
        "    def display(self):\n",
        "        return display_keys(self.root)"
      ]
    },
    {
      "cell_type": "markdown",
      "id": "loaded-deposit",
      "metadata": {
        "id": "loaded-deposit"
      },
      "source": [
        "**Exercise**: What is the time complexity of `__len__`? Can you reduce it to **O(1)**. Hint: Modify the `BSTNode` class.\n",
        "\n",
        "Let's try using the `TreeMap` class below."
      ]
    },
    {
      "cell_type": "code",
      "execution_count": 342,
      "id": "creative-assessment",
      "metadata": {
        "id": "creative-assessment",
        "colab": {
          "base_uri": "https://localhost:8080/"
        },
        "outputId": "1d17e32b-6df6-4157-ef38-6401f60dcc3d"
      },
      "outputs": [
        {
          "output_type": "execute_result",
          "data": {
            "text/plain": [
              "[User(username='aakash', name='Aakash Rai', email='aakash@example.com'),\n",
              " User(username='biraj', name='Biraj Das', email='biraj@example.com'),\n",
              " User(username='hemanth', name='Hemanth Jain', email='hemanth@example.com'),\n",
              " User(username='jadhesh', name='Jadhesh Verma', email='jadhesh@example.com'),\n",
              " User(username='siddhant', name='Siddhant Sinha', email='siddhant@example.com'),\n",
              " User(username='sonaksh', name='Sonaksh Kumar', email='sonaksh@example.com'),\n",
              " User(username='vishal', name='Vishal Goel', email='vishal@example.com')]"
            ]
          },
          "metadata": {},
          "execution_count": 342
        }
      ],
      "source": [
        "users"
      ]
    },
    {
      "cell_type": "code",
      "execution_count": 343,
      "id": "dedicated-airfare",
      "metadata": {
        "id": "dedicated-airfare"
      },
      "outputs": [],
      "source": [
        "treemap = TreeMap()"
      ]
    },
    {
      "cell_type": "code",
      "execution_count": 344,
      "id": "organic-vampire",
      "metadata": {
        "id": "organic-vampire",
        "colab": {
          "base_uri": "https://localhost:8080/"
        },
        "outputId": "df00515d-99d1-4896-c4e3-663c2ffeef29"
      },
      "outputs": [
        {
          "output_type": "stream",
          "name": "stdout",
          "text": [
            "∅\n"
          ]
        }
      ],
      "source": [
        "treemap.display()"
      ]
    },
    {
      "cell_type": "code",
      "execution_count": 345,
      "id": "proper-brain",
      "metadata": {
        "id": "proper-brain"
      },
      "outputs": [],
      "source": [
        "treemap['aakash'] = aakash\n",
        "treemap['jadhesh'] = jadhesh\n",
        "treemap['sonaksh'] = sonaksh"
      ]
    },
    {
      "cell_type": "code",
      "execution_count": 346,
      "id": "mathematical-sender",
      "metadata": {
        "id": "mathematical-sender",
        "colab": {
          "base_uri": "https://localhost:8080/"
        },
        "outputId": "d20fef09-c3c6-4c37-98ef-47a13c6549e9"
      },
      "outputs": [
        {
          "output_type": "stream",
          "name": "stdout",
          "text": [
            "\tsonaksh\n",
            "jadhesh\n",
            "\taakash\n"
          ]
        }
      ],
      "source": [
        "treemap.display()"
      ]
    },
    {
      "cell_type": "code",
      "execution_count": 347,
      "id": "crude-lobby",
      "metadata": {
        "id": "crude-lobby",
        "colab": {
          "base_uri": "https://localhost:8080/"
        },
        "outputId": "169baccd-8511-4b70-f598-8b0a455f4413"
      },
      "outputs": [
        {
          "output_type": "execute_result",
          "data": {
            "text/plain": [
              "User(username='jadhesh', name='Jadhesh Verma', email='jadhesh@example.com')"
            ]
          },
          "metadata": {},
          "execution_count": 347
        }
      ],
      "source": [
        "treemap['jadhesh']"
      ]
    },
    {
      "cell_type": "code",
      "execution_count": 348,
      "id": "running-disposition",
      "metadata": {
        "id": "running-disposition",
        "colab": {
          "base_uri": "https://localhost:8080/"
        },
        "outputId": "4beff252-4b0a-4c16-da83-f46223a1f3bb"
      },
      "outputs": [
        {
          "output_type": "execute_result",
          "data": {
            "text/plain": [
              "3"
            ]
          },
          "metadata": {},
          "execution_count": 348
        }
      ],
      "source": [
        "len(treemap)"
      ]
    },
    {
      "cell_type": "code",
      "execution_count": 349,
      "id": "victorian-contractor",
      "metadata": {
        "id": "victorian-contractor"
      },
      "outputs": [],
      "source": [
        "treemap['biraj'] = biraj\n",
        "treemap['hemanth'] = hemanth\n",
        "treemap['siddhant'] = siddhant\n",
        "treemap['vishal'] = vishal"
      ]
    },
    {
      "cell_type": "code",
      "execution_count": 350,
      "id": "offensive-notice",
      "metadata": {
        "id": "offensive-notice",
        "colab": {
          "base_uri": "https://localhost:8080/"
        },
        "outputId": "6021c6b5-0651-469a-9733-34c0aa952159"
      },
      "outputs": [
        {
          "output_type": "stream",
          "name": "stdout",
          "text": [
            "\t\tvishal\n",
            "\tsonaksh\n",
            "\t\tsiddhant\n",
            "jadhesh\n",
            "\t\themanth\n",
            "\tbiraj\n",
            "\t\taakash\n"
          ]
        }
      ],
      "source": [
        "treemap.display()"
      ]
    },
    {
      "cell_type": "code",
      "execution_count": 351,
      "id": "south-hazard",
      "metadata": {
        "id": "south-hazard",
        "colab": {
          "base_uri": "https://localhost:8080/"
        },
        "outputId": "8ce76692-6710-4812-de78-013ce92ca349"
      },
      "outputs": [
        {
          "output_type": "stream",
          "name": "stdout",
          "text": [
            "aakash User(username='aakash', name='Aakash Rai', email='aakash@example.com')\n",
            "biraj User(username='biraj', name='Biraj Das', email='biraj@example.com')\n",
            "hemanth User(username='hemanth', name='Hemanth Jain', email='hemanth@example.com')\n",
            "jadhesh User(username='jadhesh', name='Jadhesh Verma', email='jadhesh@example.com')\n",
            "siddhant User(username='siddhant', name='Siddhant Sinha', email='siddhant@example.com')\n",
            "sonaksh User(username='sonaksh', name='Sonaksh Kumar', email='sonaksh@example.com')\n",
            "vishal User(username='vishal', name='Vishal Goel', email='vishal@example.com')\n"
          ]
        }
      ],
      "source": [
        "for key, value in treemap:\n",
        "    print(key, value)"
      ]
    },
    {
      "cell_type": "code",
      "execution_count": 352,
      "id": "dominant-sector",
      "metadata": {
        "id": "dominant-sector",
        "colab": {
          "base_uri": "https://localhost:8080/"
        },
        "outputId": "0edb3924-5b85-41e5-c5f9-013a68f8f20a"
      },
      "outputs": [
        {
          "output_type": "execute_result",
          "data": {
            "text/plain": [
              "[('aakash',\n",
              "  User(username='aakash', name='Aakash Rai', email='aakash@example.com')),\n",
              " ('biraj',\n",
              "  User(username='biraj', name='Biraj Das', email='biraj@example.com')),\n",
              " ('hemanth',\n",
              "  User(username='hemanth', name='Hemanth Jain', email='hemanth@example.com')),\n",
              " ('jadhesh',\n",
              "  User(username='jadhesh', name='Jadhesh Verma', email='jadhesh@example.com')),\n",
              " ('siddhant',\n",
              "  User(username='siddhant', name='Siddhant Sinha', email='siddhant@example.com')),\n",
              " ('sonaksh',\n",
              "  User(username='sonaksh', name='Sonaksh Kumar', email='sonaksh@example.com')),\n",
              " ('vishal',\n",
              "  User(username='vishal', name='Vishal Goel', email='vishal@example.com'))]"
            ]
          },
          "metadata": {},
          "execution_count": 352
        }
      ],
      "source": [
        "list(treemap)"
      ]
    },
    {
      "cell_type": "code",
      "execution_count": 353,
      "id": "large-freedom",
      "metadata": {
        "id": "large-freedom"
      },
      "outputs": [],
      "source": [
        "treemap['aakash'] = User(username='aakash', name='Aakash N S', email='aakashns@example.com')"
      ]
    },
    {
      "cell_type": "code",
      "execution_count": 354,
      "id": "tropical-advice",
      "metadata": {
        "id": "tropical-advice",
        "colab": {
          "base_uri": "https://localhost:8080/"
        },
        "outputId": "9fc200be-68c1-440f-8ceb-5be87646ec1c"
      },
      "outputs": [
        {
          "output_type": "execute_result",
          "data": {
            "text/plain": [
              "User(username='aakash', name='Aakash N S', email='aakashns@example.com')"
            ]
          },
          "metadata": {},
          "execution_count": 354
        }
      ],
      "source": [
        "treemap['aakash']"
      ]
    },
    {
      "cell_type": "markdown",
      "id": "conceptual-microphone",
      "metadata": {
        "id": "conceptual-microphone"
      },
      "source": [
        "Let's save our work before cotinuing."
      ]
    },
    {
      "cell_type": "code",
      "execution_count": 355,
      "id": "affected-rings",
      "metadata": {
        "id": "affected-rings"
      },
      "outputs": [],
      "source": [
        "import jovian"
      ]
    },
    {
      "cell_type": "code",
      "execution_count": 356,
      "id": "national-stupid",
      "metadata": {
        "id": "national-stupid",
        "colab": {
          "base_uri": "https://localhost:8080/",
          "height": 87
        },
        "outputId": "999dca13-315d-4955-cd6f-028d25144401"
      },
      "outputs": [
        {
          "output_type": "stream",
          "name": "stdout",
          "text": [
            "[jovian] Detected Colab notebook...\u001b[0m\n",
            "[jovian] Uploading colab notebook to Jovian...\u001b[0m\n",
            "Committed successfully! https://jovian.ai/deepak-dewani/python-binary-search-trees\n"
          ]
        },
        {
          "output_type": "execute_result",
          "data": {
            "application/vnd.google.colaboratory.intrinsic+json": {
              "type": "string"
            },
            "text/plain": [
              "'https://jovian.ai/deepak-dewani/python-binary-search-trees'"
            ]
          },
          "metadata": {},
          "execution_count": 356
        }
      ],
      "source": [
        "jovian.commit()"
      ]
    },
    {
      "cell_type": "markdown",
      "id": "meaning-phrase",
      "metadata": {
        "id": "meaning-phrase"
      },
      "source": [
        "## Self-Balancing Binary Trees and AVL Trees\n",
        "\n",
        "A *self-balancing binary tree* remains balanced after every insertion or deletion. Several decades of research has gone into creating self-balancing binary trees, and many approaches have been devised e.g. B-trees, Red Black Trees and  AVL (Adelson-Velsky Landis) trees.\n",
        "\n",
        "We'll take a brief look at AVL trees. Self-balancing in AVL trees is achieved by tracking the *balance factor* (difference between the height of the left subtree and the right subtree) for each node and *rotating* unbalanced subtrees along the path of insertion/deletion to balance them.\n",
        "\n",
        "![](https://upload.wikimedia.org/wikipedia/commons/f/fd/AVL_Tree_Example.gif)\n",
        "\n",
        "In a balanced BST, the balance factor of each node is either 0, -1, or 1. When we perform an insertion, then the balance factor of certain nodes along the path of insertion may change to 2 or -2. Those nodes can be \"rotated\" one-by-one to bring the balance factor back to 1, 0 or -1. \n",
        "\n",
        "There are 4 different scenarios for balancing, two of which require a single rotation, while the others require 2 rotations:\n",
        "\n",
        "\n",
        "![](https://s3.amazonaws.com/hr-challenge-images/0/1436854305-b167cc766c-AVL_Tree_Rebalancing.svg.png)\n",
        "\n",
        "Source: [HackerRank](https://www.hackerrank.com/challenges/self-balancing-tree/problem)\n",
        "\n",
        "Since each rotation takes constant time, and at most `log N` rotations may be required, this operation is far more efficient than creating a balanced binary tree from scratch, allowing insertion and deletion to be performed in `O (log N)` time. Here are some references for AVL Trees:\n",
        "\n",
        "* Explanation of the various cases: https://youtu.be/jDM6_TnYIqE?t=482\n",
        "* Implementation: https://www.geeksforgeeks.org/avl-tree-set-1-insertion/\n"
      ]
    }
  ],
  "metadata": {
    "colab": {
      "collapsed_sections": [
        "bright-nothing",
        "useful-blade"
      ],
      "name": "02_python-binary-search-trees.ipynb",
      "provenance": [],
      "include_colab_link": true
    },
    "kernelspec": {
      "display_name": "Python 3 (ipykernel)",
      "language": "python",
      "name": "python3"
    },
    "language_info": {
      "codemirror_mode": {
        "name": "ipython",
        "version": 3
      },
      "file_extension": ".py",
      "mimetype": "text/x-python",
      "name": "python",
      "nbconvert_exporter": "python",
      "pygments_lexer": "ipython3",
      "version": "3.9.6"
    }
  },
  "nbformat": 4,
  "nbformat_minor": 5
}