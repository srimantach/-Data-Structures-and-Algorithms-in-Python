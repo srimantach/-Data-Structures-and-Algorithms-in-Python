{
  "cells": [
    {
      "cell_type": "markdown",
      "metadata": {
        "id": "view-in-github",
        "colab_type": "text"
      },
      "source": [
        "<a href=\"https://colab.research.google.com/github/deepak-dewani/Data-Structures-and-Algorithms-in-Python/blob/main/05_python_graph_algorithms.ipynb\" target=\"_parent\"><img src=\"https://colab.research.google.com/assets/colab-badge.svg\" alt=\"Open In Colab\"/></a>"
      ]
    },
    {
      "cell_type": "code",
      "execution_count": null,
      "id": "4c6ba283",
      "metadata": {
        "id": "4c6ba283"
      },
      "outputs": [],
      "source": [
        "# Jovian Commit Essentials\n",
        "# Please retain and execute this cell without modifying the contents for `jovian.commit` to work\n",
        "!pip install jovian --upgrade -q\n",
        "import jovian\n",
        "jovian.set_project('python-graph-algorithms')\n",
        "jovian.set_colab_id('1jo3B_udXl9vhxsy7x4elcKj43uz4Wps5')"
      ]
    },
    {
      "cell_type": "markdown",
      "id": "c2c7bd33",
      "metadata": {
        "id": "c2c7bd33"
      },
      "source": [
        "# Graph Algorithms (BFS, DFS, Shortest Paths) using Python\n",
        "\n",
        "### Part 5 of \"Data Structures and Algorithms in Python\"\n",
        "\n",
        "[Data Structures and Algorithms in Python](https://jovian.ai/learn/data-structures-and-algorithms-in-python) is a beginner-friendly introduction to common data structures (linked lists, stacks, queues, graphs) and algorithms (search, sorting, recursion, dynamic programming) in Python, designed to help you prepare for coding interviews and assessments. \n",
        "\n",
        "Ask questions, get help & participate in discussions on the [course community forum](https://jovian.ai/forum/c/data-structures-and-algorithms-in-python/78). Earn a verified certificate of accomplishment for this course by signing up here: http://pythondsa.com.  \n",
        "\n"
      ]
    },
    {
      "cell_type": "markdown",
      "id": "3d3545c3",
      "metadata": {
        "id": "3d3545c3"
      },
      "source": [
        "### How to Run the Code\n",
        "\n",
        "The best way to learn the material is to execute the code and experiment with it yourself. This tutorial is an executable [Jupyter notebook](https://jupyter.org). You can _run_ this tutorial and experiment with the code examples in a couple of ways: *using free online resources* (recommended) or *on your computer*.\n",
        "\n",
        "#### Option 1: Running using free online resources (1-click, recommended)\n",
        "\n",
        "The easiest way to start executing the code is to click the **Run** button at the top of this page and select **Run on Binder**. You can also select \"Run on Colab\" or \"Run on Kaggle\", but you'll need to create an account on [Google Colab](https://colab.research.google.com) or [Kaggle](https://kaggle.com) to use these platforms.\n",
        "\n",
        "\n",
        "#### Option 2: Running on your computer locally\n",
        "\n",
        "To run the code on your computer locally, you'll need to set up [Python](https://www.python.org), download the notebook and install the required libraries. We recommend using the [Conda](https://docs.conda.io/projects/conda/en/latest/user-guide/install/) distribution of Python. Click the **Run** button at the top of this page, select the **Run Locally** option, and follow the instructions.\n",
        "\n"
      ]
    },
    {
      "cell_type": "markdown",
      "id": "efca67fd",
      "metadata": {
        "id": "efca67fd"
      },
      "source": [
        "## Graphs in the Real World\n",
        "\n",
        "### Railway network\n",
        "\n",
        "![](https://i.imgur.com/uSF6AEJ.png)\n",
        "\n",
        "### Flight routes\n",
        "\n",
        "![](https://www.mapsales.com/products/mapsofworld/images/zoom/world-air-route-wall-map.gif)\n",
        "\n",
        "### Hyperlinks\n",
        "\n",
        "![](https://i.imgur.com/hlGDYn2.png)"
      ]
    },
    {
      "cell_type": "markdown",
      "id": "32a06f7b",
      "metadata": {
        "id": "32a06f7b"
      },
      "source": [
        "## Graph Data Strucutre\n",
        "\n",
        "![](https://i.imgur.com/xkgMnwx.png)\n",
        "\n"
      ]
    },
    {
      "cell_type": "code",
      "execution_count": null,
      "id": "8a77c5ae",
      "metadata": {
        "colab": {
          "base_uri": "https://localhost:8080/"
        },
        "id": "8a77c5ae",
        "outputId": "6a2b0f09-f32a-4730-8d91-7c48a0837af9"
      },
      "outputs": [
        {
          "data": {
            "text/plain": [
              "(5, 7)"
            ]
          },
          "execution_count": 2,
          "metadata": {},
          "output_type": "execute_result"
        }
      ],
      "source": [
        "n = 5\n",
        "edges = ((0,1), (1,2), (2,3), (3,4), (0,4), (1,4), (1,3))\n",
        "\n",
        "m = len(edges)\n",
        "\n",
        "n, m"
      ]
    },
    {
      "cell_type": "markdown",
      "id": "d2696eb0",
      "metadata": {
        "id": "d2696eb0"
      },
      "source": [
        "### Adjacency Lists\n",
        "\n",
        "![](https://i.imgur.com/rgMwkIW.png)\n",
        "\n",
        "\n",
        "> **Question**: Create a class to represent a graph as an adjacency list in Python"
      ]
    },
    {
      "cell_type": "code",
      "execution_count": null,
      "id": "777fb77b",
      "metadata": {
        "id": "777fb77b"
      },
      "outputs": [],
      "source": [
        "class Graph:\n",
        "  def __init__(self, n_vertices, edges):\n",
        "    self.data = [[] for _ in range(n_vertices)]\n",
        "\n",
        "    for v1, v2 in edges:\n",
        "      self.data[v1].append(v2)\n",
        "      self.data[v2].append(v1)"
      ]
    },
    {
      "cell_type": "code",
      "execution_count": null,
      "id": "2c68e35b",
      "metadata": {
        "id": "2c68e35b"
      },
      "outputs": [],
      "source": [
        "graph1 = Graph(n, edges)"
      ]
    },
    {
      "cell_type": "code",
      "execution_count": null,
      "id": "dca4185a",
      "metadata": {
        "colab": {
          "base_uri": "https://localhost:8080/"
        },
        "id": "dca4185a",
        "outputId": "45067fa8-1065-4b00-9314-44b54765398c"
      },
      "outputs": [
        {
          "data": {
            "text/plain": [
              "[[1, 4], [0, 2, 4, 3], [1, 3], [2, 4, 1], [3, 0, 1]]"
            ]
          },
          "execution_count": 5,
          "metadata": {},
          "output_type": "execute_result"
        }
      ],
      "source": [
        "graph1.data"
      ]
    },
    {
      "cell_type": "markdown",
      "id": "668b0a89",
      "metadata": {
        "id": "668b0a89"
      },
      "source": [
        "> **Question**: Write a function to add an edge to a graph represented as an adjacency list. \n",
        "\n",
        "> **Question**: Write a function to remove an edge from a graph represented as a adjacency list.\n"
      ]
    },
    {
      "cell_type": "code",
      "execution_count": null,
      "id": "57935c61",
      "metadata": {
        "id": "57935c61"
      },
      "outputs": [],
      "source": [
        "class Graph:\n",
        "  def __init__(self, n_vertices, edges):\n",
        "    self.data = [[] for _ in range(n_vertices)]\n",
        "\n",
        "    for v1, v2 in edges:\n",
        "      self.data[v1].append(v2)\n",
        "      self.data[v2].append(v1)\n",
        "\n",
        "  def __repr__(self):\n",
        "    result = ''\n",
        "    for i, nodes in enumerate(self.data):\n",
        "      result += str(i) + ': ' + str(nodes) + '\\n'\n",
        "    return result\n",
        "  \n",
        "  def __str__(self):\n",
        "    return self.__repr__()"
      ]
    },
    {
      "cell_type": "code",
      "execution_count": null,
      "id": "2be6235d",
      "metadata": {
        "id": "2be6235d"
      },
      "outputs": [],
      "source": [
        "graph1 = Graph( n, edges)\n"
      ]
    },
    {
      "cell_type": "code",
      "execution_count": null,
      "id": "f76fac0e",
      "metadata": {
        "colab": {
          "base_uri": "https://localhost:8080/"
        },
        "id": "f76fac0e",
        "outputId": "02d46b1b-3899-42f0-e7e4-8d143e9360d3"
      },
      "outputs": [
        {
          "data": {
            "text/plain": [
              "0: [1, 4]\n",
              "1: [0, 2, 4, 3]\n",
              "2: [1, 3]\n",
              "3: [2, 4, 1]\n",
              "4: [3, 0, 1]"
            ]
          },
          "execution_count": 8,
          "metadata": {},
          "output_type": "execute_result"
        }
      ],
      "source": [
        "graph1"
      ]
    },
    {
      "cell_type": "code",
      "execution_count": null,
      "id": "c5737aba",
      "metadata": {
        "id": "c5737aba"
      },
      "outputs": [],
      "source": [
        "!pip install jovian --upgrade --quiet"
      ]
    },
    {
      "cell_type": "code",
      "execution_count": null,
      "id": "f730641e",
      "metadata": {
        "id": "f730641e"
      },
      "outputs": [],
      "source": [
        "import jovian"
      ]
    },
    {
      "cell_type": "code",
      "execution_count": null,
      "id": "9e1af631",
      "metadata": {
        "colab": {
          "base_uri": "https://localhost:8080/",
          "height": 122
        },
        "id": "9e1af631",
        "outputId": "9daa0155-06a5-4691-9811-ce01daf1eb78"
      },
      "outputs": [
        {
          "name": "stdout",
          "output_type": "stream",
          "text": [
            "[jovian] Detected Colab notebook...\u001b[0m\n",
            "[jovian] Please enter your API key ( from https://jovian.ai/ ):\u001b[0m\n",
            "API KEY: ··········\n",
            "[jovian] Uploading colab notebook to Jovian...\u001b[0m\n",
            "Committed successfully! https://jovian.ai/deepak-dewani/python-graph-algorithms\n"
          ]
        },
        {
          "data": {
            "application/vnd.google.colaboratory.intrinsic+json": {
              "type": "string"
            },
            "text/plain": [
              "'https://jovian.ai/deepak-dewani/python-graph-algorithms'"
            ]
          },
          "execution_count": 11,
          "metadata": {},
          "output_type": "execute_result"
        }
      ],
      "source": [
        "jovian.commit()"
      ]
    },
    {
      "cell_type": "markdown",
      "id": "ce8cfe82",
      "metadata": {
        "id": "ce8cfe82"
      },
      "source": [
        "### Adjacency Matrix\n",
        "\n",
        "![](https://i.imgur.com/oswYKTW.png)\n",
        "\n",
        "> **Question**: Represent a graph as an adjacency matrix in Python"
      ]
    },
    {
      "cell_type": "code",
      "execution_count": null,
      "id": "208b1ddb",
      "metadata": {
        "id": "208b1ddb"
      },
      "outputs": [],
      "source": [
        "n_vertices = 5\n",
        "\n",
        "class Graph_matrix:\n",
        "  def __init__(self, n_vertices, edges):\n",
        "    self.table = [[0 for _ in range(n_vertices)] for _ in range(n_vertices)]\n",
        "    for i, j in edges:\n",
        "      self.table[i][j] = 1\n",
        "      self.table[j][i]= 1"
      ]
    },
    {
      "cell_type": "code",
      "execution_count": null,
      "id": "de92ccd2",
      "metadata": {
        "colab": {
          "base_uri": "https://localhost:8080/"
        },
        "id": "de92ccd2",
        "outputId": "0aad47cc-15ff-4ac8-9c8e-bb5d9eaf7adf"
      },
      "outputs": [
        {
          "data": {
            "text/plain": [
              "[[0, 1, 0, 0, 1],\n",
              " [1, 0, 1, 1, 1],\n",
              " [0, 1, 0, 1, 0],\n",
              " [0, 1, 1, 0, 1],\n",
              " [1, 1, 0, 1, 0]]"
            ]
          },
          "execution_count": 13,
          "metadata": {},
          "output_type": "execute_result"
        }
      ],
      "source": [
        "matrix = Graph_matrix(n , edges)\n",
        "\n",
        "matrix.table"
      ]
    },
    {
      "cell_type": "markdown",
      "id": "dcdce3d1",
      "metadata": {
        "id": "dcdce3d1"
      },
      "source": [
        "## Graph Traversal\n",
        "\n",
        "\n",
        "### Breadth-First Search\n",
        "\n",
        "A real-world graph:\n",
        "\n",
        "![](https://upload.wikimedia.org/wikipedia/commons/thumb/a/ad/MapGermanyGraph.svg/500px-MapGermanyGraph.svg.png)\n",
        "\n",
        "Breadth-fist search tree (starting from Frankfurt):\n",
        "\n",
        "![](https://upload.wikimedia.org/wikipedia/commons/thumb/6/63/GermanyBFS.svg/500px-GermanyBFS.svg.png)\n",
        "\n",
        "> **Question**: Implement breadth-first search given a source node in a graph using Python.\n",
        "\n",
        "\n",
        "<img src=\"https://i.imgur.com/E2Up1Pk.png\" width=\"400\">\n",
        "\n",
        "BFS pseudocode (Wikipedia):\n",
        "\n",
        "```\n",
        " 1  procedure BFS(G, root) is\n",
        " 2      let Q be a queue\n",
        " 3      label root as discovered\n",
        " 4      Q.enqueue(root)\n",
        " 5      while Q is not empty do\n",
        " 6          v := Q.dequeue()\n",
        " 7          if v is the goal then\n",
        " 8              return v\n",
        " 9          for all edges from v to w in G.adjacentEdges(v) do\n",
        "10              if w is not labeled as discovered then\n",
        "11                  label w as discovered\n",
        "12                  Q.enqueue(w)\n",
        "```\n",
        "\n"
      ]
    },
    {
      "cell_type": "markdown",
      "id": "988790f7",
      "metadata": {
        "id": "988790f7"
      },
      "source": [
        "<img src=\"https://cdn.programiz.com/sites/tutorial2program/files/queue-implementation.png\" width=\"400\">"
      ]
    },
    {
      "cell_type": "code",
      "execution_count": null,
      "id": "aaaac865",
      "metadata": {
        "id": "aaaac865"
      },
      "outputs": [],
      "source": [
        "def bfs(graph, source):\n",
        "  visited = [False] * len(graph.data)\n",
        "  queue = [source]\n",
        "  visited[source] = True\n",
        "  i = 0\n",
        "\n",
        "  while i < len(queue):\n",
        "    current = queue[i]\n",
        "    # print('queue :' , queue)\n",
        "    # print('current : ', current) \n",
        "    # print('visited :' , visited)\n",
        "    visited[current] = True\n",
        "    for v in graph.data[source]:\n",
        "      if not visited[v]:\n",
        "        queue.append(v)\n",
        "        visited[v] = True\n",
        "    i += 1\n",
        "  return queue"
      ]
    },
    {
      "cell_type": "code",
      "execution_count": null,
      "id": "71b448bc",
      "metadata": {
        "colab": {
          "background_save": true,
          "base_uri": "https://localhost:8080/"
        },
        "id": "71b448bc",
        "outputId": "69b5edee-7761-4d82-b473-b1e4cd8cc20d"
      },
      "outputs": [
        {
          "data": {
            "text/plain": [
              "[0, 1, 4]"
            ]
          },
          "execution_count": null,
          "metadata": {},
          "output_type": "execute_result"
        }
      ],
      "source": [
        "bfs(graph1, 0)"
      ]
    },
    {
      "cell_type": "code",
      "execution_count": null,
      "id": "430ed840",
      "metadata": {
        "id": "430ed840"
      },
      "outputs": [],
      "source": [
        "bfs(graph1, 1)"
      ]
    },
    {
      "cell_type": "code",
      "execution_count": null,
      "id": "1f8de351",
      "metadata": {
        "id": "1f8de351"
      },
      "outputs": [],
      "source": [
        "bfs(graph1, 2)"
      ]
    },
    {
      "cell_type": "code",
      "execution_count": null,
      "id": "02d7cf00",
      "metadata": {
        "colab": {
          "base_uri": "https://localhost:8080/"
        },
        "id": "02d7cf00",
        "outputId": "20d71868-be36-4fab-becd-3dfad8d90f24"
      },
      "outputs": [
        {
          "data": {
            "text/plain": [
              "[3, 2, 4, 1]"
            ]
          },
          "execution_count": 62,
          "metadata": {},
          "output_type": "execute_result"
        }
      ],
      "source": [
        "bfs(graph1, 3)"
      ]
    },
    {
      "cell_type": "code",
      "execution_count": null,
      "id": "97c0e78f",
      "metadata": {
        "colab": {
          "base_uri": "https://localhost:8080/"
        },
        "id": "97c0e78f",
        "outputId": "2db4dad5-bbcc-4ded-8c52-932172f3d2dc"
      },
      "outputs": [
        {
          "data": {
            "text/plain": [
              "[4, 3, 0, 1]"
            ]
          },
          "execution_count": 61,
          "metadata": {},
          "output_type": "execute_result"
        }
      ],
      "source": [
        "bfs(graph1, 4)"
      ]
    },
    {
      "cell_type": "code",
      "execution_count": null,
      "id": "e6706d26",
      "metadata": {
        "id": "e6706d26"
      },
      "outputs": [],
      "source": [
        "import jovian"
      ]
    },
    {
      "cell_type": "code",
      "execution_count": null,
      "id": "c7c69af0",
      "metadata": {
        "colab": {
          "base_uri": "https://localhost:8080/",
          "height": 87
        },
        "id": "c7c69af0",
        "outputId": "b33b6c10-c192-4072-8062-e04c78b56a6c"
      },
      "outputs": [
        {
          "name": "stdout",
          "output_type": "stream",
          "text": [
            "[jovian] Detected Colab notebook...\u001b[0m\n",
            "[jovian] Uploading colab notebook to Jovian...\u001b[0m\n",
            "Committed successfully! https://jovian.ai/deepak-dewani/python-graph-algorithms\n"
          ]
        },
        {
          "data": {
            "application/vnd.google.colaboratory.intrinsic+json": {
              "type": "string"
            },
            "text/plain": [
              "'https://jovian.ai/deepak-dewani/python-graph-algorithms'"
            ]
          },
          "execution_count": 64,
          "metadata": {},
          "output_type": "execute_result"
        }
      ],
      "source": [
        "jovian.commit()"
      ]
    },
    {
      "cell_type": "markdown",
      "id": "acdbeed0",
      "metadata": {
        "id": "acdbeed0"
      },
      "source": [
        "## Depth-first search\n",
        "\n",
        "\n",
        "\n",
        "> **Question**: Implement depth first search from a given node in a graph using Python.\n",
        "\n",
        "<img src=\"https://i.imgur.com/E2Up1Pk.png\" width=\"400\">\n",
        "\n",
        "DFS pseudocode (Wikipedia):\n",
        "\n",
        "```\n",
        "procedure DFS_iterative(G, v) is\n",
        "    let S be a stack\n",
        "    S.push(v)\n",
        "    while S is not empty do\n",
        "        v = S.pop()\n",
        "        if v is not labeled as discovered then\n",
        "            label v as discovered\n",
        "            for all edges from v to w in G.adjacentEdges(v) do \n",
        "                S.push(w)\n",
        "```\n",
        "\n",
        "\n"
      ]
    },
    {
      "cell_type": "markdown",
      "id": "061fe9bb",
      "metadata": {
        "id": "061fe9bb"
      },
      "source": [
        "Depth First traversal:\n",
        "\n",
        "1. Create a stack with a single element, source and mark it as visited.\n",
        "2. Pop the last element in the stack, mark it as visited, then add its neighbour to the stack and mark them as visited.\n",
        "3. repeat till the stack is empty.\n"
      ]
    },
    {
      "cell_type": "code",
      "execution_count": null,
      "id": "2da40c01",
      "metadata": {
        "id": "2da40c01"
      },
      "outputs": [],
      "source": [
        "def dfs(graph, source):\n",
        "  stack = [source]\n",
        "  visited = [False] * len(graph.data)\n",
        "  result = []\n",
        "  while len(stack) > 0:\n",
        "    current = stack.pop()\n",
        "    if not visited[current]:\n",
        "      result.append(current)\n",
        "    visited[current] = True\n",
        "    for v in graph.data[current]:\n",
        "      if not visited[v]:\n",
        "        stack.append(v)\n",
        "\n",
        "  return result\n",
        "\n",
        "\n"
      ]
    },
    {
      "cell_type": "code",
      "execution_count": null,
      "id": "69a5ee25",
      "metadata": {
        "colab": {
          "base_uri": "https://localhost:8080/"
        },
        "id": "69a5ee25",
        "outputId": "8638e4f7-4915-4e9e-ae36-ac90712fada5"
      },
      "outputs": [
        {
          "data": {
            "text/plain": [
              "0: [1, 4]\n",
              "1: [0, 2, 4, 3]\n",
              "2: [1, 3]\n",
              "3: [2, 4, 1]\n",
              "4: [3, 0, 1]"
            ]
          },
          "execution_count": 73,
          "metadata": {},
          "output_type": "execute_result"
        }
      ],
      "source": [
        "graph1"
      ]
    },
    {
      "cell_type": "code",
      "execution_count": null,
      "id": "cc20f42e",
      "metadata": {
        "colab": {
          "base_uri": "https://localhost:8080/"
        },
        "id": "cc20f42e",
        "outputId": "10fd0cfa-1c39-4730-c501-9390105978f4"
      },
      "outputs": [
        {
          "data": {
            "text/plain": [
              "[0, 4, 1, 3, 2]"
            ]
          },
          "execution_count": 74,
          "metadata": {},
          "output_type": "execute_result"
        }
      ],
      "source": [
        "dfs(graph1, 0)"
      ]
    },
    {
      "cell_type": "markdown",
      "id": "2f70b25a",
      "metadata": {
        "id": "2f70b25a"
      },
      "source": [
        "<img src=\"https://cdn.programiz.com/sites/tutorial2program/files/stack.png\" width=\"400\">"
      ]
    },
    {
      "cell_type": "markdown",
      "id": "0f7a9aaa",
      "metadata": {
        "id": "0f7a9aaa"
      },
      "source": [
        "> **Question**: Write a program to check if all the nodes in a graph are connected\n",
        "\n",
        "![](http://www.martinbroadhurst.com/images/connected_components.png)"
      ]
    },
    {
      "cell_type": "code",
      "execution_count": null,
      "id": "e63d79ce",
      "metadata": {
        "colab": {
          "base_uri": "https://localhost:8080/"
        },
        "id": "e63d79ce",
        "outputId": "9c2c29d4-2f93-4f2f-8cd0-2ebef1ffcb7b"
      },
      "outputs": [
        {
          "data": {
            "text/plain": [
              "(9, 8)"
            ]
          },
          "execution_count": 75,
          "metadata": {},
          "output_type": "execute_result"
        }
      ],
      "source": [
        "num_nodes3 = 9\n",
        "edges3 = [(0, 1), (0, 3), (1, 2), (2, 3), (4, 5), (4, 6), (5, 6), (7, 8)]\n",
        "num_nodes3, len(edges3)"
      ]
    },
    {
      "cell_type": "code",
      "execution_count": null,
      "id": "98ce29af",
      "metadata": {
        "id": "98ce29af"
      },
      "outputs": [],
      "source": [
        "graph2 = Graph( num_nodes3, edges3)"
      ]
    },
    {
      "cell_type": "code",
      "execution_count": null,
      "id": "e5aadc5d",
      "metadata": {
        "colab": {
          "base_uri": "https://localhost:8080/"
        },
        "id": "e5aadc5d",
        "outputId": "c6c8f6a6-2f51-4fe1-8fe1-9344cd2b4f88"
      },
      "outputs": [
        {
          "data": {
            "text/plain": [
              "0: [1, 3]\n",
              "1: [0, 2]\n",
              "2: [1, 3]\n",
              "3: [0, 2]\n",
              "4: [5, 6]\n",
              "5: [4, 6]\n",
              "6: [4, 5]\n",
              "7: [8]\n",
              "8: [7]"
            ]
          },
          "execution_count": 77,
          "metadata": {},
          "output_type": "execute_result"
        }
      ],
      "source": [
        "graph2"
      ]
    },
    {
      "cell_type": "code",
      "execution_count": null,
      "id": "f43a376c",
      "metadata": {
        "colab": {
          "base_uri": "https://localhost:8080/"
        },
        "id": "f43a376c",
        "outputId": "1df9f1b6-f24f-4d1d-d7e3-37bae4b49cc0"
      },
      "outputs": [
        {
          "data": {
            "text/plain": [
              "[0, 3, 2, 1]"
            ]
          },
          "execution_count": 78,
          "metadata": {},
          "output_type": "execute_result"
        }
      ],
      "source": [
        "dfs(graph2, 0)"
      ]
    },
    {
      "cell_type": "code",
      "execution_count": null,
      "id": "e13f8e2d",
      "metadata": {
        "colab": {
          "base_uri": "https://localhost:8080/"
        },
        "id": "e13f8e2d",
        "outputId": "734d9adb-7df1-4e71-d2ed-12f77637284e"
      },
      "outputs": [
        {
          "data": {
            "text/plain": [
              "[1, 2, 3, 0]"
            ]
          },
          "execution_count": 79,
          "metadata": {},
          "output_type": "execute_result"
        }
      ],
      "source": [
        "dfs(graph2, 1)"
      ]
    },
    {
      "cell_type": "code",
      "execution_count": null,
      "id": "ba5c306d",
      "metadata": {
        "colab": {
          "base_uri": "https://localhost:8080/"
        },
        "id": "ba5c306d",
        "outputId": "d282525c-82f3-40b3-872f-0e1072266c63"
      },
      "outputs": [
        {
          "data": {
            "text/plain": [
              "[2, 3, 0, 1]"
            ]
          },
          "execution_count": 80,
          "metadata": {},
          "output_type": "execute_result"
        }
      ],
      "source": [
        "dfs(graph2, 2)"
      ]
    },
    {
      "cell_type": "code",
      "execution_count": null,
      "id": "7d042117",
      "metadata": {
        "colab": {
          "base_uri": "https://localhost:8080/"
        },
        "id": "7d042117",
        "outputId": "828f5b6e-6c48-47b5-96a5-fc303681c42a"
      },
      "outputs": [
        {
          "data": {
            "text/plain": [
              "[3, 2, 1, 0]"
            ]
          },
          "execution_count": 81,
          "metadata": {},
          "output_type": "execute_result"
        }
      ],
      "source": [
        "dfs(graph2, 3)"
      ]
    },
    {
      "cell_type": "code",
      "execution_count": null,
      "id": "b3837584",
      "metadata": {
        "colab": {
          "base_uri": "https://localhost:8080/"
        },
        "id": "b3837584",
        "outputId": "5feb7e36-0d76-44fa-8d3f-3591ba101104"
      },
      "outputs": [
        {
          "data": {
            "text/plain": [
              "[4, 6, 5]"
            ]
          },
          "execution_count": 82,
          "metadata": {},
          "output_type": "execute_result"
        }
      ],
      "source": [
        "dfs(graph2, 4)"
      ]
    },
    {
      "cell_type": "code",
      "execution_count": null,
      "id": "1a6aef7a",
      "metadata": {
        "colab": {
          "base_uri": "https://localhost:8080/"
        },
        "id": "1a6aef7a",
        "outputId": "5eeb8a05-3638-4056-af27-e99297d3e9eb"
      },
      "outputs": [
        {
          "data": {
            "text/plain": [
              "[5, 6, 4]"
            ]
          },
          "execution_count": 83,
          "metadata": {},
          "output_type": "execute_result"
        }
      ],
      "source": [
        "dfs(graph2, 5)"
      ]
    },
    {
      "cell_type": "markdown",
      "id": "51a5ab23",
      "metadata": {
        "id": "51a5ab23"
      },
      "source": [
        "Since the source are not travelling to every nodes, hence this graph is not connected"
      ]
    },
    {
      "cell_type": "markdown",
      "id": "a81f8e6a",
      "metadata": {
        "id": "a81f8e6a"
      },
      "source": [
        "![](https://upload.wikimedia.org/wikipedia/commons/thumb/7/7f/Depth-First-Search.gif/440px-Depth-First-Search.gif)\n",
        "\n",
        "\n",
        "Find the dfs for the above graph"
      ]
    },
    {
      "cell_type": "code",
      "execution_count": null,
      "id": "10184db8",
      "metadata": {
        "colab": {
          "base_uri": "https://localhost:8080/"
        },
        "id": "10184db8",
        "outputId": "3161b11a-2ce7-447b-eb84-caa27950412a"
      },
      "outputs": [
        {
          "data": {
            "text/plain": [
              "(10, ((1, 2), (2, 3), (3, 4), (1, 5), (5, 6), (5, 8), (6, 7), (1, 9), (9, 10)))"
            ]
          },
          "execution_count": 108,
          "metadata": {},
          "output_type": "execute_result"
        }
      ],
      "source": [
        "num_nodes = 10\n",
        "\n",
        "edges_10 = ((1,2), (2,3), (3,4), (1,5),(5,6), (5,8), (6,7), (1,9), (9,10))\n",
        "\n",
        "num_nodes, edges_10"
      ]
    },
    {
      "cell_type": "code",
      "execution_count": null,
      "id": "8d47fd2a",
      "metadata": {
        "id": "8d47fd2a"
      },
      "outputs": [],
      "source": [
        "class Graph:\n",
        "  def __init__(self, num_nodes, edges_10):\n",
        "    self.data = [[] for _ in range(1, 12)]\n",
        "\n",
        "    for v1, v2 in edges_10:\n",
        "      self.data[v1].append(v2)\n",
        "      self.data[v2].append(v1)\n",
        "\n",
        "  def __repr__(self):\n",
        "    result = ''\n",
        "    for i, nodes in enumerate(self.data):\n",
        "      result += str(i) + ': ' + str(nodes) + '\\n'\n",
        "    return result\n",
        "  \n",
        "  def __str__(self):\n",
        "    return self.__repr__()"
      ]
    },
    {
      "cell_type": "code",
      "execution_count": null,
      "id": "f37b356f",
      "metadata": {
        "id": "f37b356f"
      },
      "outputs": [],
      "source": [
        "graph3 = Graph(num_nodes, edges_10)"
      ]
    },
    {
      "cell_type": "code",
      "execution_count": null,
      "id": "d4ebdbd2",
      "metadata": {
        "colab": {
          "base_uri": "https://localhost:8080/"
        },
        "id": "d4ebdbd2",
        "outputId": "8afb17af-1cbd-4620-b08a-d1d3246fb922"
      },
      "outputs": [
        {
          "data": {
            "text/plain": [
              "0: [0]\n",
              "1: [0, 2, 5, 9, 10]\n",
              "2: [0, 1, 3]\n",
              "3: [0, 2, 4]\n",
              "4: [0, 3]\n",
              "5: [0, 1, 6, 8]\n",
              "6: [0, 5, 7]\n",
              "7: [0, 6]\n",
              "8: [0, 5]\n",
              "9: [0, 1]\n",
              "10: [0, 1]\n",
              "11: [0]\n",
              "12: [0]\n",
              "13: [0]\n",
              "14: [0]"
            ]
          },
          "execution_count": 113,
          "metadata": {},
          "output_type": "execute_result"
        }
      ],
      "source": [
        "graph3"
      ]
    },
    {
      "cell_type": "code",
      "execution_count": null,
      "id": "d8ec6b13",
      "metadata": {
        "colab": {
          "base_uri": "https://localhost:8080/"
        },
        "id": "d8ec6b13",
        "outputId": "0bd0e9b3-6651-47cc-edf0-3ad2bce9a238"
      },
      "outputs": [
        {
          "data": {
            "text/plain": [
              "[1, 9, 10, 5, 8, 6, 7, 2, 3, 4]"
            ]
          },
          "execution_count": 121,
          "metadata": {},
          "output_type": "execute_result"
        }
      ],
      "source": [
        "dfs(graph3, 1)"
      ]
    },
    {
      "cell_type": "code",
      "execution_count": null,
      "id": "e10e11e4",
      "metadata": {
        "colab": {
          "base_uri": "https://localhost:8080/"
        },
        "id": "e10e11e4",
        "outputId": "6f70b361-2f9d-4df0-d18e-125ee95ac172"
      },
      "outputs": [
        {
          "data": {
            "text/plain": [
              "[1, 2, 5, 9]"
            ]
          },
          "execution_count": 125,
          "metadata": {},
          "output_type": "execute_result"
        }
      ],
      "source": [
        "bfs(graph3, 1)"
      ]
    },
    {
      "cell_type": "code",
      "execution_count": null,
      "id": "ee17f068",
      "metadata": {
        "id": "ee17f068"
      },
      "outputs": [],
      "source": [
        "import jovian"
      ]
    },
    {
      "cell_type": "code",
      "execution_count": null,
      "id": "860ab4ea",
      "metadata": {
        "colab": {
          "base_uri": "https://localhost:8080/",
          "height": 87
        },
        "id": "860ab4ea",
        "outputId": "2e0831dc-791b-4a14-f179-d848658f8e20"
      },
      "outputs": [
        {
          "name": "stdout",
          "output_type": "stream",
          "text": [
            "[jovian] Detected Colab notebook...\u001b[0m\n",
            "[jovian] Uploading colab notebook to Jovian...\u001b[0m\n",
            "Committed successfully! https://jovian.ai/deepak-dewani/python-graph-algorithms\n"
          ]
        },
        {
          "data": {
            "application/vnd.google.colaboratory.intrinsic+json": {
              "type": "string"
            },
            "text/plain": [
              "'https://jovian.ai/deepak-dewani/python-graph-algorithms'"
            ]
          },
          "execution_count": 127,
          "metadata": {},
          "output_type": "execute_result"
        }
      ],
      "source": [
        "jovian.commit()"
      ]
    },
    {
      "cell_type": "markdown",
      "id": "373a8a74",
      "metadata": {
        "id": "373a8a74"
      },
      "source": [
        "> **Question**: Write a function to detect a cycle in a graph\n",
        "\n",
        "![](https://tutorialspoint.dev/image/cycleGraph.png)"
      ]
    },
    {
      "cell_type": "markdown",
      "id": "dc117e0e",
      "metadata": {
        "id": "dc117e0e"
      },
      "source": [
        "### Weighted Graphs\n",
        "\n",
        "![](https://i.imgur.com/wy7ZHRW.png)\n",
        "\n"
      ]
    },
    {
      "cell_type": "code",
      "execution_count": null,
      "id": "50e42955",
      "metadata": {
        "colab": {
          "base_uri": "https://localhost:8080/"
        },
        "id": "50e42955",
        "outputId": "0df5b78a-3369-4ce0-fabd-78d426d8bde0"
      },
      "outputs": [
        {
          "data": {
            "text/plain": [
              "(9, 10)"
            ]
          },
          "execution_count": 139,
          "metadata": {},
          "output_type": "execute_result"
        }
      ],
      "source": [
        "# Graph with weights\n",
        "num_nodes5 = 9\n",
        "edges5 = [(0, 1, 3), (0, 3, 2), (0, 8, 4), (1, 7, 4), (2, 7, 2), (2, 3, 6), \n",
        "          (2, 5, 1), (3, 4, 1), (4, 8, 8), (5, 6, 8)]\n",
        "\n",
        "num_nodes5, len(edges5)"
      ]
    },
    {
      "cell_type": "markdown",
      "id": "f15e9dfc",
      "metadata": {
        "id": "f15e9dfc"
      },
      "source": [
        "### Directed Graphs\n",
        "\n",
        "<img src=\"https://i.imgur.com/8AN7EUV.png\" width=\"480\">"
      ]
    },
    {
      "cell_type": "code",
      "execution_count": null,
      "id": "27053434",
      "metadata": {
        "colab": {
          "base_uri": "https://localhost:8080/"
        },
        "id": "27053434",
        "outputId": "b9c9ed0f-938c-4740-b833-8772b0374db9"
      },
      "outputs": [
        {
          "data": {
            "text/plain": [
              "(5, 6)"
            ]
          },
          "execution_count": 144,
          "metadata": {},
          "output_type": "execute_result"
        }
      ],
      "source": [
        "num_nodes6 = 5\n",
        "edges6 = [(0, 1), (1, 2), (2, 3), (2, 4), (4, 2), (3, 0)]\n",
        "num_nodes6, len(edges6)"
      ]
    },
    {
      "cell_type": "markdown",
      "id": "f094eacb",
      "metadata": {
        "id": "f094eacb"
      },
      "source": [
        "> **Question**: Define a class to represent weighted and directed graphs in Python."
      ]
    },
    {
      "cell_type": "code",
      "execution_count": null,
      "id": "13112520",
      "metadata": {
        "id": "13112520"
      },
      "outputs": [],
      "source": [
        "class Graph_path:\n",
        "  def __init__(self, n , edges, directed = False):\n",
        "    self.data = [[] for _ in range(n)]\n",
        "    self.weights = [[] for _ in range(n)]\n",
        "    for e in edges:\n",
        "      if len(e) == 3:\n",
        "        v1, v2, w = e\n",
        "        self.data[v1].append(v2)\n",
        "        self.weights[v1].append(w)\n",
        "        if not directed:\n",
        "          self.data[v2].append(v1)\n",
        "          self.dat[v2].append(w)\n",
        "      else:\n",
        "        v1, v2 = e\n",
        "        self.data[v1].append(v2)\n",
        "        if not directed:\n",
        "          self.data[v2].append(v1)\n",
        "\n",
        "  def __repr__(self):\n",
        "    result = ''\n",
        "    for i, (nodes, weights) in enumerate(zip(self.data, self.weights)):\n",
        "      result += str(i) + ': ' + str(list(zip(nodes, weights))) + '\\n'\n",
        "    return result \n",
        "  \n",
        "  def __str__(self):\n",
        "    return self.__repr__()"
      ]
    },
    {
      "cell_type": "code",
      "execution_count": null,
      "id": "3365c970",
      "metadata": {
        "id": "3365c970"
      },
      "outputs": [],
      "source": [
        "graph5 = Graph_path(num_nodes5, edges5, directed = True)"
      ]
    },
    {
      "cell_type": "code",
      "execution_count": null,
      "id": "459cceb1",
      "metadata": {
        "colab": {
          "base_uri": "https://localhost:8080/"
        },
        "id": "459cceb1",
        "outputId": "a0ed55d6-7ddf-4c22-a6dc-36d21ba64f63"
      },
      "outputs": [
        {
          "data": {
            "text/plain": [
              "0: [(1, 3), (3, 2), (8, 4)]\n",
              "1: [(7, 4)]\n",
              "2: [(7, 2), (3, 6), (5, 1)]\n",
              "3: [(4, 1)]\n",
              "4: [(8, 8)]\n",
              "5: [(6, 8)]\n",
              "6: []\n",
              "7: []\n",
              "8: []"
            ]
          },
          "execution_count": 141,
          "metadata": {},
          "output_type": "execute_result"
        }
      ],
      "source": [
        "graph5"
      ]
    },
    {
      "cell_type": "code",
      "execution_count": null,
      "id": "55ed5205",
      "metadata": {
        "id": "55ed5205"
      },
      "outputs": [],
      "source": [
        "graph6 = Graph_path(num_nodes6, edges6, directed = True)"
      ]
    },
    {
      "cell_type": "code",
      "execution_count": null,
      "id": "619ba362",
      "metadata": {
        "colab": {
          "base_uri": "https://localhost:8080/"
        },
        "id": "619ba362",
        "outputId": "ea992bdb-8ade-4b6b-de3b-9a7bf485243c"
      },
      "outputs": [
        {
          "data": {
            "text/plain": [
              "0: []\n",
              "1: []\n",
              "2: []\n",
              "3: []\n",
              "4: []"
            ]
          },
          "execution_count": 146,
          "metadata": {},
          "output_type": "execute_result"
        }
      ],
      "source": [
        "graph6"
      ]
    },
    {
      "cell_type": "code",
      "execution_count": null,
      "id": "a0ae4913",
      "metadata": {
        "id": "a0ae4913"
      },
      "outputs": [],
      "source": [
        "import jovian"
      ]
    },
    {
      "cell_type": "code",
      "execution_count": null,
      "id": "bb73fa1e",
      "metadata": {
        "colab": {
          "base_uri": "https://localhost:8080/",
          "height": 87
        },
        "id": "bb73fa1e",
        "outputId": "a4ea138c-0a4b-4012-dfd5-1793c7c5d813"
      },
      "outputs": [
        {
          "name": "stdout",
          "output_type": "stream",
          "text": [
            "[jovian] Detected Colab notebook...\u001b[0m\n",
            "[jovian] Uploading colab notebook to Jovian...\u001b[0m\n",
            "Committed successfully! https://jovian.ai/deepak-dewani/python-graph-algorithms\n"
          ]
        },
        {
          "data": {
            "application/vnd.google.colaboratory.intrinsic+json": {
              "type": "string"
            },
            "text/plain": [
              "'https://jovian.ai/deepak-dewani/python-graph-algorithms'"
            ]
          },
          "execution_count": 148,
          "metadata": {},
          "output_type": "execute_result"
        }
      ],
      "source": [
        "jovian.commit()"
      ]
    },
    {
      "cell_type": "markdown",
      "id": "4347abf0",
      "metadata": {
        "id": "4347abf0"
      },
      "source": [
        "## Shortest Paths\n",
        "\n",
        "\n",
        "> **Question**: Write a function to find the length of the shortest path between two nodes in a weighted directed graph.\n",
        "\n",
        "<img src=\"https://i.imgur.com/Zn5cUkO.png\" width=\"480\">\n",
        "\n",
        "\n",
        "**Dijkstra's algorithm (Wikipedia)**:\n",
        "\n",
        "![](https://upload.wikimedia.org/wikipedia/commons/5/57/Dijkstra_Animation.gif)\n",
        "\n",
        "1. Mark all nodes unvisited. Create a set of all the unvisited nodes called the unvisited set.\n",
        "2. Assign to every node a tentative distance value: set it to zero for our initial node and to infinity for all other nodes. Set the initial node as current.[16]\n",
        "3. For the current node, consider all of its unvisited neighbours and calculate their tentative distances through the current node. Compare the newly calculated tentative distance to the current assigned value and assign the smaller one. For example, if the current node A is marked with a distance of 6, and the edge connecting it with a neighbour B has length 2, then the distance to B through A will be 6 + 2 = 8. If B was previously marked with a distance greater than 8 then change it to 8. Otherwise, the current value will be kept.\n",
        "4. When we are done considering all of the unvisited neighbours of the current node, mark the current node as visited and remove it from the unvisited set. A visited node will never be checked again.\n",
        "5. If the destination node has been marked visited (when planning a route between two specific nodes) or if the smallest tentative distance among the nodes in the unvisited set is infinity (when planning a complete traversal; occurs when there is no connection between the initial node and remaining unvisited nodes), then stop. The algorithm has finished.\n",
        "6. Otherwise, select the unvisited node that is marked with the smallest tentative distance, set it as the new \"current node\", and go back to step 3."
      ]
    },
    {
      "cell_type": "code",
      "execution_count": 78,
      "id": "beaf0f48",
      "metadata": {
        "id": "beaf0f48"
      },
      "outputs": [],
      "source": [
        "def update_distances(graph, current, distance, parent=None):\n",
        "    \"\"\"Update the distances of the current node's neighbors\"\"\"\n",
        "    neighbors = graph.data[current]\n",
        "    weights = graph.weight[current]\n",
        "    for i, node in enumerate(neighbors):\n",
        "        weight = weights[i]\n",
        "        if distance[current] + weight < distance[node]:\n",
        "            distance[node] = distance[current] + weight\n",
        "            if parent:\n",
        "                parent[node] = current\n",
        "\n",
        "def pick_next_node(distance, visited):\n",
        "    \"\"\"Pick the next univisited node at the smallest distance\"\"\"\n",
        "    min_distance = float('inf')\n",
        "    min_node = None\n",
        "    for node in range(len(distance)):\n",
        "        if not visited[node] and distance[node] < min_distance:\n",
        "            min_node = node\n",
        "            min_distance = distance[node]\n",
        "    return min_node"
      ]
    },
    {
      "cell_type": "code",
      "execution_count": 79,
      "id": "ffb38caf",
      "metadata": {
        "colab": {
          "base_uri": "https://localhost:8080/"
        },
        "id": "ffb38caf",
        "outputId": "30b75a74-d827-41dc-84b1-ad3dbcf4f173"
      },
      "outputs": [
        {
          "output_type": "execute_result",
          "data": {
            "text/plain": [
              "(6, 7)"
            ]
          },
          "metadata": {},
          "execution_count": 79
        }
      ],
      "source": [
        "num_nodes7 = 6\n",
        "edges7 = [(0, 1, 4), (0, 2, 2), (1, 2, 5), (1, 3, 10), (2, 4, 3), (4, 3, 4), (3, 5, 11)]\n",
        "num_nodes7, len(edges7)"
      ]
    },
    {
      "cell_type": "code",
      "execution_count": null,
      "id": "38bef371",
      "metadata": {
        "id": "38bef371"
      },
      "outputs": [],
      "source": [
        "import jovian"
      ]
    },
    {
      "cell_type": "code",
      "execution_count": null,
      "id": "136a3f9c",
      "metadata": {
        "id": "136a3f9c",
        "outputId": "114a2b66-9ec6-47a8-ce22-3038cccdc7cb"
      },
      "outputs": [
        {
          "data": {
            "application/javascript": [
              "window.require && require([\"base/js/namespace\"],function(Jupyter){Jupyter.notebook.save_checkpoint()})"
            ],
            "text/plain": [
              "<IPython.core.display.Javascript object>"
            ]
          },
          "metadata": {},
          "output_type": "display_data"
        },
        {
          "name": "stdout",
          "output_type": "stream",
          "text": [
            "[jovian] Attempting to save notebook..\u001b[0m\n",
            "[jovian] Updating notebook \"aakashns/python-graph-algorithms\" on https://jovian.ai/\u001b[0m\n",
            "[jovian] Uploading notebook..\u001b[0m\n",
            "[jovian] Capturing environment..\u001b[0m\n",
            "[jovian] Committed successfully! https://jovian.ai/aakashns/python-graph-algorithms\u001b[0m\n"
          ]
        },
        {
          "data": {
            "text/plain": [
              "'https://jovian.ai/aakashns/python-graph-algorithms'"
            ]
          },
          "execution_count": 92,
          "metadata": {},
          "output_type": "execute_result"
        }
      ],
      "source": [
        "jovian.commit()"
      ]
    },
    {
      "cell_type": "markdown",
      "id": "3cff81b5",
      "metadata": {
        "id": "3cff81b5"
      },
      "source": [
        "### Binary Heap\n",
        "\n",
        "A data structure to maintain the running minimum/maximum of a set of numbers, supporting efficient addition/removal.\n",
        "\n",
        "\n",
        "<img src=\"https://i.imgur.com/ABAcM7m.png\" width=\"400\">\n",
        "\n",
        "\n",
        "Heap operations:\n",
        "\n",
        "- Insertion - $O(log N)$\n",
        "- Min/Max - $O(1)$ (depending on type of heap)\n",
        "- Deletion - $O(log N)$\n",
        "- Convert a list to a heap - $O(n)$\n",
        "\n",
        "\n",
        "Python's built-in heap: https://docs.python.org/3/library/heapq.html\n",
        "\n",
        "> **Question**: Implement Dijkstra's shortest path algorithm using the `heap` module from Python. What is the complexity of the algorithm?"
      ]
    },
    {
      "cell_type": "code",
      "execution_count": 80,
      "id": "7ece4a68",
      "metadata": {
        "id": "7ece4a68"
      },
      "outputs": [],
      "source": [
        "class Graph:\n",
        "    def __init__(self, num_nodes, edges, directed=False):\n",
        "        self.data = [[] for _ in range(num_nodes)]\n",
        "        self.weight = [[] for _ in range(num_nodes)]\n",
        "        \n",
        "        self.directed = directed\n",
        "        self.weighted = len(edges) > 0 and len(edges[0]) == 3\n",
        "            \n",
        "        for e in edges:\n",
        "            self.data[e[0]].append(e[1])\n",
        "            if self.weighted:\n",
        "                self.weight[e[0]].append(e[2])\n",
        "            \n",
        "            if not directed:\n",
        "                self.data[e[1]].append(e[0])\n",
        "                if self.weighted:\n",
        "                    self.data[e[1]].append(e[2])\n",
        "                \n",
        "    def __repr__(self):\n",
        "        result = \"\"\n",
        "        for i in range(len(self.data)):\n",
        "            pairs = list(zip(self.data[i], self.weight[i]))\n",
        "            result += \"{}: {}\\n\".format(i, pairs)\n",
        "        return result\n",
        "\n",
        "    def __str__(self):\n",
        "        return repr(self)"
      ]
    },
    {
      "cell_type": "code",
      "execution_count": 82,
      "id": "8f1618f6",
      "metadata": {
        "id": "8f1618f6",
        "colab": {
          "base_uri": "https://localhost:8080/"
        },
        "outputId": "35efff9d-34f8-4762-e0e8-90e6fd941c5b"
      },
      "outputs": [
        {
          "output_type": "execute_result",
          "data": {
            "text/plain": [
              "0: [(1, 4), (2, 2)]\n",
              "1: [(2, 5), (3, 10)]\n",
              "2: [(4, 3)]\n",
              "3: [(5, 11)]\n",
              "4: [(3, 4)]\n",
              "5: []"
            ]
          },
          "metadata": {},
          "execution_count": 82
        }
      ],
      "source": [
        "g7 = Graph(num_nodes7, edges7, directed=True)\n",
        "g7"
      ]
    },
    {
      "cell_type": "code",
      "source": [
        "g7.weight"
      ],
      "metadata": {
        "colab": {
          "base_uri": "https://localhost:8080/"
        },
        "id": "QLg8SwpKBAmD",
        "outputId": "b9f387d3-d8e5-446d-90e3-66b694b88ad1"
      },
      "id": "QLg8SwpKBAmD",
      "execution_count": 83,
      "outputs": [
        {
          "output_type": "execute_result",
          "data": {
            "text/plain": [
              "[[4, 2], [5, 10], [3], [11], [4], []]"
            ]
          },
          "metadata": {},
          "execution_count": 83
        }
      ]
    },
    {
      "cell_type": "code",
      "source": [
        "def update_distances(graph, current, distance, parent=None):\n",
        "    \"\"\"Update the distances of the current node's neighbors\"\"\"\n",
        "    neighbors = graph.data[current]\n",
        "    weights = graph.weight[current]\n",
        "    for i, node in enumerate(neighbors):\n",
        "        weight = weights[i]\n",
        "        if distance[current] + weight < distance[node]:\n",
        "            distance[node] = distance[current] + weight\n",
        "            if parent:\n",
        "                parent[node] = current\n",
        "\n",
        "def pick_next_node(distance, visited):\n",
        "    \"\"\"Pick the next univisited node at the smallest distance\"\"\"\n",
        "    min_distance = float('inf')\n",
        "    min_node = None\n",
        "    for node in range(len(distance)):\n",
        "        if not visited[node] and distance[node] < min_distance:\n",
        "            min_node = node\n",
        "            min_distance = distance[node]\n",
        "    return min_node\n",
        "        \n",
        "def shortest_path(graph, source, dest):\n",
        "    \"\"\"Find the length of the shortest path between source and destination\"\"\"\n",
        "    visited = [False] * len(graph.data)\n",
        "    distance = [float('inf')] * len(graph.data)\n",
        "    parent = [None] * len(graph.data)\n",
        "    queue = []\n",
        "    idx = 0\n",
        "    \n",
        "    queue.append(source)\n",
        "    distance[source] = 0\n",
        "    visited[source] = True\n",
        "    \n",
        "    while idx < len(queue) and not visited[dest]:\n",
        "        current = queue[idx]\n",
        "        update_distances(graph, current, distance, parent)\n",
        "        \n",
        "        next_node = pick_next_node(distance, visited)\n",
        "        if next_node is not None:\n",
        "            visited[next_node] = True\n",
        "            queue.append(next_node)\n",
        "        idx += 1\n",
        "        \n",
        "    return distance[dest], distance, parent"
      ],
      "metadata": {
        "id": "_iJZv3GjBAjC"
      },
      "id": "_iJZv3GjBAjC",
      "execution_count": 84,
      "outputs": []
    },
    {
      "cell_type": "markdown",
      "source": [
        "<img src=\"https://i.imgur.com/Zn5cUkO.png\" width=\"480\">"
      ],
      "metadata": {
        "id": "FWho3EWvBJ2L"
      },
      "id": "FWho3EWvBJ2L"
    },
    {
      "cell_type": "code",
      "source": [
        "shortest_path(g7, 0, 5)"
      ],
      "metadata": {
        "colab": {
          "base_uri": "https://localhost:8080/"
        },
        "id": "gsrUUyIwBJjr",
        "outputId": "fe72eb9a-0596-48c2-ef2b-1ad598d62531"
      },
      "id": "gsrUUyIwBJjr",
      "execution_count": 85,
      "outputs": [
        {
          "output_type": "execute_result",
          "data": {
            "text/plain": [
              "(20, [0, 4, 2, 9, 5, 20], [None, 0, 0, 4, 2, 3])"
            ]
          },
          "metadata": {},
          "execution_count": 85
        }
      ]
    },
    {
      "cell_type": "markdown",
      "id": "db3d6966",
      "metadata": {
        "id": "db3d6966"
      },
      "source": [
        "### More Problems\n",
        "\n",
        "Solve more graph problems here: https://leetcode.com/tag/graph/"
      ]
    },
    {
      "cell_type": "code",
      "execution_count": null,
      "id": "d9b513c9",
      "metadata": {
        "id": "d9b513c9"
      },
      "outputs": [],
      "source": [
        "import jovian"
      ]
    },
    {
      "cell_type": "code",
      "execution_count": null,
      "id": "5dbf4b53",
      "metadata": {
        "id": "5dbf4b53",
        "outputId": "d77bafe0-ba7e-46b2-bc2a-ff8fade429c2"
      },
      "outputs": [
        {
          "data": {
            "application/javascript": [
              "window.require && require([\"base/js/namespace\"],function(Jupyter){Jupyter.notebook.save_checkpoint()})"
            ],
            "text/plain": [
              "<IPython.core.display.Javascript object>"
            ]
          },
          "metadata": {},
          "output_type": "display_data"
        },
        {
          "name": "stdout",
          "output_type": "stream",
          "text": [
            "[jovian] Attempting to save notebook..\u001b[0m\n",
            "[jovian] Updating notebook \"aakashns/python-graph-algorithms\" on https://jovian.ai/\u001b[0m\n",
            "[jovian] Uploading notebook..\u001b[0m\n",
            "[jovian] Capturing environment..\u001b[0m\n",
            "[jovian] Committed successfully! https://jovian.ai/aakashns/python-graph-algorithms\u001b[0m\n"
          ]
        },
        {
          "data": {
            "text/plain": [
              "'https://jovian.ai/aakashns/python-graph-algorithms'"
            ]
          },
          "execution_count": 94,
          "metadata": {},
          "output_type": "execute_result"
        }
      ],
      "source": [
        "jovian.commit()"
      ]
    }
  ],
  "metadata": {
    "colab": {
      "collapsed_sections": [],
      "name": "05_python-graph-algorithms.ipynb",
      "provenance": [],
      "include_colab_link": true
    },
    "kernelspec": {
      "display_name": "Python 3 (ipykernel)",
      "language": "python",
      "name": "python3"
    },
    "language_info": {
      "codemirror_mode": {
        "name": "ipython",
        "version": 3
      },
      "file_extension": ".py",
      "mimetype": "text/x-python",
      "name": "python",
      "nbconvert_exporter": "python",
      "pygments_lexer": "ipython3",
      "version": "3.9.6"
    }
  },
  "nbformat": 4,
  "nbformat_minor": 5
}