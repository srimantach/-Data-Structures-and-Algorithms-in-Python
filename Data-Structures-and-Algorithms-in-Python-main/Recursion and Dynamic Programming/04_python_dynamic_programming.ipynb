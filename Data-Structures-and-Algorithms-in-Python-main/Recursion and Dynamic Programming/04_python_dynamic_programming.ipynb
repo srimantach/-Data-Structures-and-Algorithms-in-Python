{
  "cells": [
    {
      "cell_type": "markdown",
      "metadata": {
        "id": "view-in-github",
        "colab_type": "text"
      },
      "source": [
        "<a href=\"https://colab.research.google.com/github/deepak-dewani/Data-Structures-and-Algorithms-in-Python/blob/main/04_python_dynamic_programming.ipynb\" target=\"_parent\"><img src=\"https://colab.research.google.com/assets/colab-badge.svg\" alt=\"Open In Colab\"/></a>"
      ]
    },
    {
      "cell_type": "code",
      "execution_count": 108,
      "id": "6b9c69e5",
      "metadata": {
        "id": "6b9c69e5"
      },
      "outputs": [],
      "source": [
        "# Jovian Commit Essentials\n",
        "# Please retain and execute this cell without modifying the contents for `jovian.commit` to work\n",
        "!pip install jovian --upgrade -q\n",
        "import jovian\n",
        "jovian.set_project('longest-common-subsequence')\n",
        "jovian.set_colab_id('1HzAhs5MUbCdyGJlXDu10xqAfSNT1F1p6')"
      ]
    },
    {
      "cell_type": "markdown",
      "id": "be7d75ff",
      "metadata": {
        "id": "be7d75ff"
      },
      "source": [
        "##Dynamic Programming - Longest common subsequence\n",
        "\n",
        "_To learn how to use this template, check out the course [\"Data Structures and Algorithms in Python\"](https://jovian.ai/learn/data-structures-and-algorithms-in-python)._\n",
        "\n",
        "\n"
      ]
    },
    {
      "cell_type": "markdown",
      "id": "18b8f1fa",
      "metadata": {
        "id": "18b8f1fa"
      },
      "source": [
        "## How to run the code and save your work\n",
        "\n",
        "The recommended way to run this notebook is to click the \"Run\" button at the top of this page, and select \"Run on Binder\". This will run the notebook on [mybinder.org](https://mybinder.org), a free online service for running Jupyter notebooks. \n",
        "\n",
        "This tutorial is an executable [Jupyter notebook](https://jupyter.org). You can _run_ this tutorial and experiment with the code examples in a couple of ways: *using free online resources* (recommended) or *on your computer*.\n",
        "\n",
        "#### Option 1: Running using free online resources (1-click, recommended)\n",
        "\n",
        "The easiest way to start executing the code is to click the **Run** button at the top of this page and select **Run on Binder**. You can also select \"Run on Colab\" or \"Run on Kaggle\", but you'll need to create an account on [Google Colab](https://colab.research.google.com) or [Kaggle](https://kaggle.com) to use these platforms.\n",
        "\n",
        "\n",
        "#### Option 2: Running on your computer locally\n",
        "\n",
        "To run the code on your computer locally, you'll need to set up [Python](https://www.python.org), download the notebook and install the required libraries. We recommend using the [Conda](https://docs.conda.io/projects/conda/en/latest/user-guide/install/) distribution of Python. Click the **Run** button at the top of this page, select the **Run Locally** option, and follow the instructions.\n",
        "\n",
        "#### Saving your work\n",
        "\n",
        "Before staring the assignment, let's save a snapshot of the assignment to your [Jovian](https://jovian.ai) profile, so that you can access it later, and continue your work."
      ]
    },
    {
      "cell_type": "code",
      "execution_count": null,
      "id": "7adbf2c2",
      "metadata": {
        "id": "7adbf2c2"
      },
      "outputs": [],
      "source": [
        "project_name = 'longest-common-subsequence'"
      ]
    },
    {
      "cell_type": "code",
      "execution_count": null,
      "id": "4db3936c",
      "metadata": {
        "id": "4db3936c"
      },
      "outputs": [],
      "source": [
        "!pip install jovian --upgrade --quiet"
      ]
    },
    {
      "cell_type": "code",
      "execution_count": null,
      "id": "3cbc0902",
      "metadata": {
        "id": "3cbc0902"
      },
      "outputs": [],
      "source": [
        "import jovian"
      ]
    },
    {
      "cell_type": "code",
      "execution_count": null,
      "id": "f817837e",
      "metadata": {
        "colab": {
          "base_uri": "https://localhost:8080/",
          "height": 142
        },
        "id": "f817837e",
        "outputId": "caa43597-9a03-4999-bcee-dc0f68787fd2"
      },
      "outputs": [
        {
          "output_type": "stream",
          "name": "stdout",
          "text": [
            "[jovian] Detected Colab notebook...\u001b[0m\n",
            "[jovian] Please enter your API key ( from https://jovian.ai/ ):\u001b[0m\n",
            "API KEY: ··········\n",
            "[jovian] Uploading colab notebook to Jovian...\u001b[0m\n",
            "Committed successfully! https://jovian.ai/deepak-dewani/longest-common-subsequence\n"
          ]
        },
        {
          "output_type": "execute_result",
          "data": {
            "application/vnd.google.colaboratory.intrinsic+json": {
              "type": "string"
            },
            "text/plain": [
              "'https://jovian.ai/deepak-dewani/longest-common-subsequence'"
            ]
          },
          "metadata": {},
          "execution_count": 5
        }
      ],
      "source": [
        "jovian.commit(project=project_name)"
      ]
    },
    {
      "cell_type": "markdown",
      "id": "dc24ce77",
      "metadata": {
        "id": "dc24ce77"
      },
      "source": [
        "## Longest Common Subsequence\n",
        "\n",
        "> **QUESTION 1**: Write a function to find the length of the **longest common subsequence** between two sequences. E.g. Given the strings \"serendipitous\" and \"precipitation\", the longest common subsequence is \"reipito\" and its length is 7.\n",
        ">\n",
        "> A \"sequence\" is a group of items with a deterministic ordering. Lists, tuples and ranges are some common sequence types in Python.\n",
        ">\n",
        "> A \"subsequence\" is a sequence obtained by deleting zero or more elements from another sequence. For example, \"edpt\" is a subsequence of \"serendipitous\".\n",
        "\n",
        "\n",
        "\n",
        "\n",
        "#### General case\n",
        "\n",
        "<img src=\"https://i.imgur.com/ry4Y0wS.png\" width=\"420\">\n",
        "\n",
        "\n"
      ]
    },
    {
      "cell_type": "markdown",
      "id": "5d86a138",
      "metadata": {
        "id": "5d86a138"
      },
      "source": [
        "## The Method\n",
        "\n",
        "Here's the systematic strategy we'll apply for solving problems:\n",
        "\n",
        "1. State the problem clearly. Identify the input & output formats.\n",
        "2. Come up with some example inputs & outputs. Try to cover all edge cases.\n",
        "3. Come up with a correct solution for the problem. State it in plain English.\n",
        "4. Implement the solution and test it using example inputs. Fix bugs, if any.\n",
        "5. Analyze the algorithm's complexity and identify inefficiencies, if any.\n",
        "6. Apply the right technique to overcome the inefficiency. Repeat steps 3 to 6.\n",
        "\n",
        "This approach is explained in detail in [Lesson 1](https://jovian.ai/learn/data-structures-and-algorithms-in-python/lesson/lesson-1-binary-search-linked-lists-and-complexity) of the course. Let's apply this approach step-by-step."
      ]
    },
    {
      "cell_type": "markdown",
      "id": "a94e8285",
      "metadata": {
        "id": "a94e8285"
      },
      "source": [
        "## Solution\n",
        "\n",
        "\n",
        "### 1. State the problem clearly. Identify the input & output formats.\n",
        "\n",
        "While this problem is stated clearly enough, it's always useful to try and express in your own words, in a way that makes it most clear for you. \n",
        "\n",
        "\n",
        "**Problem**\n",
        "\n",
        "> we are given two sequences and we are need to find the longest sub sequence between the given sequences.\n",
        "\n",
        "<br/>\n",
        "\n",
        "\n",
        "**Input**\n",
        "\n",
        "1. **seq1**: A sequence e.g. 'serendipitous'\n",
        "2. **seq2**: A sequence e.g. 'precipitation'\n",
        "\n",
        "\n",
        "\n",
        "**Output**\n",
        "\n",
        "1. **len_lcs**: Length of the longest common sequence e.g. 7\n",
        "\n",
        "\n",
        "\n",
        "<br/>\n",
        "\n",
        "Based on the above, we can now create a signature of our function:"
      ]
    },
    {
      "cell_type": "code",
      "execution_count": null,
      "id": "5b923281",
      "metadata": {
        "id": "5b923281"
      },
      "outputs": [],
      "source": [
        "# Create a function signature here. The body of the function can contain a single statement: pass\n",
        "\n",
        "def len_lcs(seq1, seq2):\n",
        "  pass"
      ]
    },
    {
      "cell_type": "markdown",
      "id": "c2938201",
      "metadata": {
        "id": "c2938201"
      },
      "source": [
        "Save and upload your work before continuing."
      ]
    },
    {
      "cell_type": "code",
      "execution_count": null,
      "id": "ec8eb8be",
      "metadata": {
        "id": "ec8eb8be"
      },
      "outputs": [],
      "source": [
        "import jovian"
      ]
    },
    {
      "cell_type": "code",
      "execution_count": null,
      "id": "efd3e32c",
      "metadata": {
        "colab": {
          "base_uri": "https://localhost:8080/",
          "height": 107
        },
        "id": "efd3e32c",
        "outputId": "b7b18ac9-a3e7-42c4-ca15-19c809d6757d"
      },
      "outputs": [
        {
          "output_type": "stream",
          "name": "stdout",
          "text": [
            "[jovian] Detected Colab notebook...\u001b[0m\n",
            "[jovian] Uploading colab notebook to Jovian...\u001b[0m\n",
            "Committed successfully! https://jovian.ai/deepak-dewani/longest-common-subsequence\n"
          ]
        },
        {
          "output_type": "execute_result",
          "data": {
            "application/vnd.google.colaboratory.intrinsic+json": {
              "type": "string"
            },
            "text/plain": [
              "'https://jovian.ai/deepak-dewani/longest-common-subsequence'"
            ]
          },
          "metadata": {},
          "execution_count": 21
        }
      ],
      "source": [
        "jovian.commit()"
      ]
    },
    {
      "cell_type": "markdown",
      "id": "c814b513",
      "metadata": {
        "id": "c814b513"
      },
      "source": [
        "### 2. Come up with some example inputs & outputs. Try to cover all edge cases.\n",
        "\n",
        "Our function should be able to handle any set of valid inputs we pass into it. Here's a list of some possible variations we might encounter:\n",
        "\n",
        "1. **General case (string)**\n",
        "2. **General case (list)**\n",
        "3. **No common subsequence**\n",
        "4. **one is a subsequence of the other**\n",
        "5. **one sequence is empty**\n",
        "6. **both sequence are empty**\n",
        "7. **Multiple subsequences with same length**\n",
        "    A. 'abcdef' and 'badcfe'\n",
        "\n",
        "\n",
        "We'll express our test cases as dictionaries, to test them easily. Each dictionary will contain 2 keys: `input` (a dictionary itself containing one key for each argument to the function and `output` (the expected result from the function). "
      ]
    },
    {
      "cell_type": "code",
      "execution_count": null,
      "id": "25d1459d",
      "metadata": {
        "id": "25d1459d"
      },
      "outputs": [],
      "source": [
        "test0 = {\n",
        "    'input': {\n",
        "        'seq1': 'serendipitous',\n",
        "        'seq2': 'precipitation'\n",
        "    },\n",
        "    'output': 7\n",
        "}"
      ]
    },
    {
      "cell_type": "markdown",
      "id": "2cde7b98",
      "metadata": {
        "id": "2cde7b98"
      },
      "source": [
        "Create one test case for each of the scenarios listed above. We'll store our test cases in an array called `tests`."
      ]
    },
    {
      "cell_type": "code",
      "source": [
        "len_lcs(test0['input']['seq1'], test0['input']['seq2']) == test0['output']"
      ],
      "metadata": {
        "colab": {
          "base_uri": "https://localhost:8080/"
        },
        "id": "xi9qGzPWnxA_",
        "outputId": "b894f5ba-7816-4989-a92f-294133bade74"
      },
      "id": "xi9qGzPWnxA_",
      "execution_count": null,
      "outputs": [
        {
          "output_type": "execute_result",
          "data": {
            "text/plain": [
              "False"
            ]
          },
          "metadata": {},
          "execution_count": 24
        }
      ]
    },
    {
      "cell_type": "code",
      "source": [
        "len_lcs(test0['input']['seq1'], test0['input']['seq2']) == None"
      ],
      "metadata": {
        "colab": {
          "base_uri": "https://localhost:8080/"
        },
        "id": "jQ0TLR-3o85M",
        "outputId": "24499a7e-a174-40ba-f532-1e69784b4336"
      },
      "id": "jQ0TLR-3o85M",
      "execution_count": null,
      "outputs": [
        {
          "output_type": "execute_result",
          "data": {
            "text/plain": [
              "True"
            ]
          },
          "metadata": {},
          "execution_count": 25
        }
      ]
    },
    {
      "cell_type": "code",
      "source": [
        "test1 = {\n",
        "    'input': {\n",
        "        'seq1': [1, 3, 5, 6, 7, 2, 5, 2, 3],\n",
        "        'seq2': [6, 2, 4, 7, 1, 5, 6, 2, 3]\n",
        "    },\n",
        "    'output': 5\n",
        "}\n"
      ],
      "metadata": {
        "id": "7mjzQdEDpNVE"
      },
      "id": "7mjzQdEDpNVE",
      "execution_count": null,
      "outputs": []
    },
    {
      "cell_type": "code",
      "source": [
        "test2 = {\n",
        "    'input': {\n",
        "        'seq1': 'longest',\n",
        "        'seq2': 'stone'\n",
        "    },\n",
        "    'output': 3\n",
        "}"
      ],
      "metadata": {
        "id": "dtO80-N4pNS1"
      },
      "id": "dtO80-N4pNS1",
      "execution_count": null,
      "outputs": []
    },
    {
      "cell_type": "code",
      "source": [
        "test3 = {\n",
        "    'input': {\n",
        "        'seq1': 'asdfwevad',\n",
        "        'seq2': 'opkpoiklklj'\n",
        "    },\n",
        "    'output': 0\n",
        "}"
      ],
      "metadata": {
        "id": "8W-wBnQwpNRT"
      },
      "id": "8W-wBnQwpNRT",
      "execution_count": null,
      "outputs": []
    },
    {
      "cell_type": "code",
      "source": [
        "test4 = {\n",
        "    'input': {\n",
        "        'seq1': 'dense',\n",
        "        'seq2': 'condensed'\n",
        "    },\n",
        "    'output': 5\n",
        "}"
      ],
      "metadata": {
        "id": "kK8vWk1epNM4"
      },
      "id": "kK8vWk1epNM4",
      "execution_count": null,
      "outputs": []
    },
    {
      "cell_type": "code",
      "source": [
        "test5 = {\n",
        "    'input': {\n",
        "        'seq1': '',\n",
        "        'seq2': 'opkpoiklklj'\n",
        "    },\n",
        "    'output': 0\n",
        "}"
      ],
      "metadata": {
        "id": "4OUORIK9pNKj"
      },
      "id": "4OUORIK9pNKj",
      "execution_count": null,
      "outputs": []
    },
    {
      "cell_type": "code",
      "source": [
        "test6 = {\n",
        "    'input': {\n",
        "        'seq1': '',\n",
        "        'seq2': ''\n",
        "    },\n",
        "    'output': 0\n",
        "}"
      ],
      "metadata": {
        "id": "r0zvR9F4pNH5"
      },
      "id": "r0zvR9F4pNH5",
      "execution_count": null,
      "outputs": []
    },
    {
      "cell_type": "code",
      "source": [
        "test7 = {\n",
        "    'input': {\n",
        "        'seq1': 'abcdef',\n",
        "        'seq2': 'badcfe'\n",
        "    },\n",
        "    'output': 3\n",
        "}"
      ],
      "metadata": {
        "id": "VfjQvcIapNGK"
      },
      "id": "VfjQvcIapNGK",
      "execution_count": null,
      "outputs": []
    },
    {
      "cell_type": "code",
      "execution_count": null,
      "id": "d333f1e5",
      "metadata": {
        "id": "d333f1e5"
      },
      "outputs": [],
      "source": [
        "lcs_tests = [test0, test1, test2, test3, test4, test5, test6, test7]"
      ]
    },
    {
      "cell_type": "code",
      "source": [
        "lcs_tests"
      ],
      "metadata": {
        "colab": {
          "base_uri": "https://localhost:8080/"
        },
        "id": "RA_GFAjwqZC7",
        "outputId": "01236fc8-df1a-4f09-a4d8-4369fc7a0b6b"
      },
      "id": "RA_GFAjwqZC7",
      "execution_count": null,
      "outputs": [
        {
          "output_type": "execute_result",
          "data": {
            "text/plain": [
              "[{'input': {'seq1': 'serendipitous', 'seq2': 'precipitation'}, 'output': 7},\n",
              " {'input': {'seq1': [1, 3, 5, 6, 7, 2, 5, 2, 3],\n",
              "   'seq2': [6, 2, 4, 7, 1, 5, 6, 2, 3]},\n",
              "  'output': 5},\n",
              " {'input': {'seq1': 'longest', 'seq2': 'stone'}, 'output': 3},\n",
              " {'input': {'seq1': 'asdfwevad', 'seq2': 'opkpoiklklj'}, 'output': 0},\n",
              " {'input': {'seq1': 'dense', 'seq2': 'condensed'}, 'output': 5},\n",
              " {'input': {'seq1': '', 'seq2': 'opkpoiklklj'}, 'output': 0},\n",
              " {'input': {'seq1': '', 'seq2': ''}, 'output': 0},\n",
              " {'input': {'seq1': 'abcdef', 'seq2': 'badcfe'}, 'output': 3}]"
            ]
          },
          "metadata": {},
          "execution_count": 72
        }
      ]
    },
    {
      "cell_type": "code",
      "source": [
        "import jovian"
      ],
      "metadata": {
        "id": "XrilW2XrqbHK"
      },
      "id": "XrilW2XrqbHK",
      "execution_count": null,
      "outputs": []
    },
    {
      "cell_type": "code",
      "source": [
        "jovian.commit()"
      ],
      "metadata": {
        "colab": {
          "base_uri": "https://localhost:8080/",
          "height": 107
        },
        "id": "zh2C1IWDqa-c",
        "outputId": "c5a9285d-a88a-47ba-f4f3-26f62cf49343"
      },
      "id": "zh2C1IWDqa-c",
      "execution_count": null,
      "outputs": [
        {
          "output_type": "stream",
          "name": "stdout",
          "text": [
            "[jovian] Detected Colab notebook...\u001b[0m\n",
            "[jovian] Uploading colab notebook to Jovian...\u001b[0m\n",
            "Committed successfully! https://jovian.ai/deepak-dewani/longest-common-subsequence\n"
          ]
        },
        {
          "output_type": "execute_result",
          "data": {
            "application/vnd.google.colaboratory.intrinsic+json": {
              "type": "string"
            },
            "text/plain": [
              "'https://jovian.ai/deepak-dewani/longest-common-subsequence'"
            ]
          },
          "metadata": {},
          "execution_count": 37
        }
      ]
    },
    {
      "cell_type": "markdown",
      "id": "97139462",
      "metadata": {
        "id": "97139462"
      },
      "source": [
        "### 3. Come up with a correct solution for the problem. State it in plain English.\n",
        "\n",
        "Our first goal should always be to come up with a _correct_ solution to the problem, which may not necessarily be the most _efficient_ solution. Come with a correct solution and explain it in simple words below:\n",
        "\n",
        "1. Compare the first character of each sequence\n",
        "2. If equal, then it's a part of the LCS\n",
        "3. So the answer is 1 + lcs of the sequences with first character removed.\n",
        "4. Otherwise you remove a character from one of the sequence & repeat\n",
        "5. the base case is when one of the strings is exhausted\n",
        "\n",
        "\n",
        "\n",
        "\n",
        "Let's save and upload our work before continuing.\n",
        "\n",
        "\n"
      ]
    },
    {
      "cell_type": "code",
      "execution_count": null,
      "id": "edaea0bf",
      "metadata": {
        "colab": {
          "base_uri": "https://localhost:8080/",
          "height": 107
        },
        "id": "edaea0bf",
        "outputId": "feac19a7-275e-4c34-a88e-c60bd0130799"
      },
      "outputs": [
        {
          "output_type": "stream",
          "name": "stdout",
          "text": [
            "[jovian] Detected Colab notebook...\u001b[0m\n",
            "[jovian] Uploading colab notebook to Jovian...\u001b[0m\n",
            "Committed successfully! https://jovian.ai/deepak-dewani/longest-common-subsequence\n"
          ]
        },
        {
          "output_type": "execute_result",
          "data": {
            "application/vnd.google.colaboratory.intrinsic+json": {
              "type": "string"
            },
            "text/plain": [
              "'https://jovian.ai/deepak-dewani/longest-common-subsequence'"
            ]
          },
          "metadata": {},
          "execution_count": 38
        }
      ],
      "source": [
        "jovian.commit()"
      ]
    },
    {
      "cell_type": "markdown",
      "id": "01e9af22",
      "metadata": {
        "id": "01e9af22"
      },
      "source": [
        "###  4. Implement the solution and test it using example inputs. Fix bugs, if any."
      ]
    },
    {
      "cell_type": "code",
      "execution_count": null,
      "id": "0d3c66d0",
      "metadata": {
        "id": "0d3c66d0"
      },
      "outputs": [],
      "source": [
        "def lcs_recursive(seq1, seq2, idx1 = 0, idx2 = 0, depth = 0):\n",
        "  # print('   '*depth, 'lcs:' , seq1[idx1:], seq2[idx2:])\n",
        "  if idx1 == len(seq1) or idx2 == len(seq2):\n",
        "    return 0\n",
        "  elif seq1[idx1] == seq2[idx2]:\n",
        "    return 1 + lcs_recursive(seq1, seq2, idx1 +1 , idx2 +1, depth + 1)\n",
        "  else:\n",
        "    return max(lcs_recursive(seq1, seq2, idx1 + 1, idx2),\n",
        "               lcs_recursive(seq1, seq2, idx1, idx2 + 1, depth + 1))\n",
        "  \n"
      ]
    },
    {
      "cell_type": "code",
      "execution_count": null,
      "id": "9106fb44",
      "metadata": {
        "colab": {
          "base_uri": "https://localhost:8080/"
        },
        "id": "9106fb44",
        "outputId": "758f8836-8cf5-420b-fc6b-406e5760298f"
      },
      "outputs": [
        {
          "output_type": "execute_result",
          "data": {
            "text/plain": [
              "{'input': {'seq1': 'serendipitous', 'seq2': 'precipitation'}, 'output': 7}"
            ]
          },
          "metadata": {},
          "execution_count": 94
        }
      ],
      "source": [
        "test0"
      ]
    },
    {
      "cell_type": "code",
      "source": [
        "lcs_recursive(test0['input']['seq1'], test0['input']['seq2'])"
      ],
      "metadata": {
        "colab": {
          "base_uri": "https://localhost:8080/"
        },
        "id": "dId2ihQzvSAh",
        "outputId": "746ab98e-d456-42ad-e399-233ae3b0e6ff"
      },
      "id": "dId2ihQzvSAh",
      "execution_count": null,
      "outputs": [
        {
          "output_type": "execute_result",
          "data": {
            "text/plain": [
              "7"
            ]
          },
          "metadata": {},
          "execution_count": 63
        }
      ]
    },
    {
      "cell_type": "code",
      "execution_count": null,
      "id": "399e211d",
      "metadata": {
        "colab": {
          "base_uri": "https://localhost:8080/"
        },
        "id": "399e211d",
        "outputId": "d10771b1-0425-41bc-c745-808c89bf87a6"
      },
      "outputs": [
        {
          "output_type": "stream",
          "name": "stdout",
          "text": [
            "CPU times: user 480 ms, sys: 0 ns, total: 480 ms\n",
            "Wall time: 480 ms\n"
          ]
        },
        {
          "output_type": "execute_result",
          "data": {
            "text/plain": [
              "7"
            ]
          },
          "metadata": {},
          "execution_count": 64
        }
      ],
      "source": [
        "%%time\n",
        "lcs_recursive(test0['input']['seq1'], test0['input']['seq2'])"
      ]
    },
    {
      "cell_type": "code",
      "source": [
        "lcs_recursive('abc', 'bdc')"
      ],
      "metadata": {
        "colab": {
          "base_uri": "https://localhost:8080/"
        },
        "id": "yMbWRj_eva9G",
        "outputId": "46082de7-bca9-4fc5-9b37-a84d26c78656"
      },
      "id": "yMbWRj_eva9G",
      "execution_count": null,
      "outputs": [
        {
          "output_type": "execute_result",
          "data": {
            "text/plain": [
              "2"
            ]
          },
          "metadata": {},
          "execution_count": 65
        }
      ]
    },
    {
      "cell_type": "code",
      "source": [
        "lcs_tests"
      ],
      "metadata": {
        "colab": {
          "base_uri": "https://localhost:8080/"
        },
        "id": "9pCqGBQdxjGA",
        "outputId": "7b858d39-8a56-435c-a1dc-83aea4d856fe"
      },
      "id": "9pCqGBQdxjGA",
      "execution_count": null,
      "outputs": [
        {
          "output_type": "execute_result",
          "data": {
            "text/plain": [
              "[{'input': {'seq1': 'serendipitous', 'seq2': 'precipitation'}, 'output': 7},\n",
              " {'input': {'seq1': [1, 3, 5, 6, 7, 2, 5, 2, 3],\n",
              "   'seq2': [6, 2, 4, 7, 1, 5, 6, 2, 3]},\n",
              "  'output': 5},\n",
              " {'input': {'seq1': 'longest', 'seq2': 'stone'}, 'output': 3},\n",
              " {'input': {'seq1': 'asdfwevad', 'seq2': 'opkpoiklklj'}, 'output': 0},\n",
              " {'input': {'seq1': 'dense', 'seq2': 'condensed'}, 'output': 5},\n",
              " {'input': {'seq1': '', 'seq2': 'opkpoiklklj'}, 'output': 0},\n",
              " {'input': {'seq1': '', 'seq2': ''}, 'output': 0},\n",
              " {'input': {'seq1': 'abcdef', 'seq2': 'badcfe'}, 'output': 3}]"
            ]
          },
          "metadata": {},
          "execution_count": 73
        }
      ]
    },
    {
      "cell_type": "markdown",
      "id": "0329d21d",
      "metadata": {
        "id": "0329d21d"
      },
      "source": [
        "We can test the function by passing the input to it directly or by using the `evaluate_test_case` function from `jovian`."
      ]
    },
    {
      "cell_type": "code",
      "execution_count": null,
      "id": "5e6d266e",
      "metadata": {
        "id": "5e6d266e"
      },
      "outputs": [],
      "source": [
        "from jovian.pythondsa import evaluate_test_case"
      ]
    },
    {
      "cell_type": "code",
      "execution_count": null,
      "id": "cd1c107c",
      "metadata": {
        "colab": {
          "base_uri": "https://localhost:8080/"
        },
        "id": "cd1c107c",
        "outputId": "516d9b8d-5400-43c5-bff6-b24177df6d0d"
      },
      "outputs": [
        {
          "output_type": "stream",
          "name": "stdout",
          "text": [
            "\n",
            "Input:\n",
            "{'seq1': [1, 3, 5, 6, 7, 2, 5, 2, 3], 'seq2': [6, 2, 4, 7, 1, 5, 6, 2, 3]}\n",
            "\n",
            "Expected Output:\n",
            "5\n",
            "\n",
            "\n",
            "Actual Output:\n",
            "5\n",
            "\n",
            "Execution Time:\n",
            "9.793 ms\n",
            "\n",
            "Test Result:\n",
            "\u001b[92mPASSED\u001b[0m\n",
            "\n"
          ]
        },
        {
          "output_type": "execute_result",
          "data": {
            "text/plain": [
              "(5, True, 9.793)"
            ]
          },
          "metadata": {},
          "execution_count": 81
        }
      ],
      "source": [
        "evaluate_test_case(lcs_recursive, test1)"
      ]
    },
    {
      "cell_type": "markdown",
      "id": "6b00a5bb",
      "metadata": {
        "id": "6b00a5bb"
      },
      "source": [
        "Evaluate your function against all the test cases together using the `evaluate_test_cases` (plural) function from `jovian`."
      ]
    },
    {
      "cell_type": "code",
      "execution_count": null,
      "id": "63bc4c90",
      "metadata": {
        "id": "63bc4c90"
      },
      "outputs": [],
      "source": [
        "from jovian.pythondsa import evaluate_test_cases"
      ]
    },
    {
      "cell_type": "code",
      "execution_count": null,
      "id": "85db3fb4",
      "metadata": {
        "colab": {
          "base_uri": "https://localhost:8080/"
        },
        "id": "85db3fb4",
        "outputId": "2487a9ac-7c09-48d5-fe35-d6874e613f1f"
      },
      "outputs": [
        {
          "output_type": "stream",
          "name": "stdout",
          "text": [
            "\n",
            "\u001b[1mTEST CASE #0\u001b[0m\n",
            "\n",
            "Input:\n",
            "{'seq1': 'serendipitous', 'seq2': 'precipitation'}\n",
            "\n",
            "Expected Output:\n",
            "7\n",
            "\n",
            "\n",
            "Actual Output:\n",
            "7\n",
            "\n",
            "Execution Time:\n",
            "502.435 ms\n",
            "\n",
            "Test Result:\n",
            "\u001b[92mPASSED\u001b[0m\n",
            "\n",
            "\n",
            "\u001b[1mTEST CASE #1\u001b[0m\n",
            "\n",
            "Input:\n",
            "{'seq1': [1, 3, 5, 6, 7, 2, 5, 2, 3], 'seq2': [6, 2, 4, 7, 1, 5, 6, 2, 3]}\n",
            "\n",
            "Expected Output:\n",
            "5\n",
            "\n",
            "\n",
            "Actual Output:\n",
            "5\n",
            "\n",
            "Execution Time:\n",
            "7.546 ms\n",
            "\n",
            "Test Result:\n",
            "\u001b[92mPASSED\u001b[0m\n",
            "\n",
            "\n",
            "\u001b[1mTEST CASE #2\u001b[0m\n",
            "\n",
            "Input:\n",
            "{'seq1': 'longest', 'seq2': 'stone'}\n",
            "\n",
            "Expected Output:\n",
            "3\n",
            "\n",
            "\n",
            "Actual Output:\n",
            "3\n",
            "\n",
            "Execution Time:\n",
            "0.332 ms\n",
            "\n",
            "Test Result:\n",
            "\u001b[92mPASSED\u001b[0m\n",
            "\n",
            "\n",
            "\u001b[1mTEST CASE #3\u001b[0m\n",
            "\n",
            "Input:\n",
            "{'seq1': 'asdfwevad', 'seq2': 'opkpoiklklj'}\n",
            "\n",
            "Expected Output:\n",
            "0\n",
            "\n",
            "\n",
            "Actual Output:\n",
            "0\n",
            "\n",
            "Execution Time:\n",
            "143.443 ms\n",
            "\n",
            "Test Result:\n",
            "\u001b[92mPASSED\u001b[0m\n",
            "\n",
            "\n",
            "\u001b[1mTEST CASE #4\u001b[0m\n",
            "\n",
            "Input:\n",
            "{'seq1': 'dense', 'seq2': 'condensed'}\n",
            "\n",
            "Expected Output:\n",
            "5\n",
            "\n",
            "\n",
            "Actual Output:\n",
            "5\n",
            "\n",
            "Execution Time:\n",
            "0.194 ms\n",
            "\n",
            "Test Result:\n",
            "\u001b[92mPASSED\u001b[0m\n",
            "\n",
            "\n",
            "\u001b[1mTEST CASE #5\u001b[0m\n",
            "\n",
            "Input:\n",
            "{'seq1': '', 'seq2': 'opkpoiklklj'}\n",
            "\n",
            "Expected Output:\n",
            "0\n",
            "\n",
            "\n",
            "Actual Output:\n",
            "0\n",
            "\n",
            "Execution Time:\n",
            "0.003 ms\n",
            "\n",
            "Test Result:\n",
            "\u001b[92mPASSED\u001b[0m\n",
            "\n",
            "\n",
            "\u001b[1mTEST CASE #6\u001b[0m\n",
            "\n",
            "Input:\n",
            "{'seq1': '', 'seq2': ''}\n",
            "\n",
            "Expected Output:\n",
            "0\n",
            "\n",
            "\n",
            "Actual Output:\n",
            "0\n",
            "\n",
            "Execution Time:\n",
            "0.003 ms\n",
            "\n",
            "Test Result:\n",
            "\u001b[92mPASSED\u001b[0m\n",
            "\n",
            "\n",
            "\u001b[1mTEST CASE #7\u001b[0m\n",
            "\n",
            "Input:\n",
            "{'seq1': 'abcdef', 'seq2': 'badcfe'}\n",
            "\n",
            "Expected Output:\n",
            "3\n",
            "\n",
            "\n",
            "Actual Output:\n",
            "3\n",
            "\n",
            "Execution Time:\n",
            "0.103 ms\n",
            "\n",
            "Test Result:\n",
            "\u001b[92mPASSED\u001b[0m\n",
            "\n",
            "\n",
            "\u001b[1mSUMMARY\u001b[0m\n",
            "\n",
            "TOTAL: 8, \u001b[92mPASSED\u001b[0m: 8, \u001b[91mFAILED\u001b[0m: 0\n"
          ]
        },
        {
          "output_type": "execute_result",
          "data": {
            "text/plain": [
              "[(7, True, 502.435),\n",
              " (5, True, 7.546),\n",
              " (3, True, 0.332),\n",
              " (0, True, 143.443),\n",
              " (5, True, 0.194),\n",
              " (0, True, 0.003),\n",
              " (0, True, 0.003),\n",
              " (3, True, 0.103)]"
            ]
          },
          "metadata": {},
          "execution_count": 83
        }
      ],
      "source": [
        "evaluate_test_cases(lcs_recursive, lcs_tests)"
      ]
    },
    {
      "cell_type": "markdown",
      "id": "c5cea147",
      "metadata": {
        "id": "c5cea147"
      },
      "source": [
        "Verify that all the test cases were evaluated. We expect them all to fail, since we haven't implemented the function yet.\n",
        "\n",
        "Let's save our work before continuing."
      ]
    },
    {
      "cell_type": "code",
      "execution_count": null,
      "id": "90bac03c",
      "metadata": {
        "colab": {
          "base_uri": "https://localhost:8080/",
          "height": 107
        },
        "id": "90bac03c",
        "outputId": "746044a5-8e21-4c56-fe0e-01df161fa1f8"
      },
      "outputs": [
        {
          "output_type": "stream",
          "name": "stdout",
          "text": [
            "[jovian] Detected Colab notebook...\u001b[0m\n",
            "[jovian] Uploading colab notebook to Jovian...\u001b[0m\n",
            "Committed successfully! https://jovian.ai/deepak-dewani/longest-common-subsequence\n"
          ]
        },
        {
          "output_type": "execute_result",
          "data": {
            "application/vnd.google.colaboratory.intrinsic+json": {
              "type": "string"
            },
            "text/plain": [
              "'https://jovian.ai/deepak-dewani/longest-common-subsequence'"
            ]
          },
          "metadata": {},
          "execution_count": 84
        }
      ],
      "source": [
        "jovian.commit()"
      ]
    },
    {
      "cell_type": "markdown",
      "id": "49161285",
      "metadata": {
        "id": "49161285"
      },
      "source": [
        "### 5. Analyze the algorithm's complexity and identify inefficiencies, if any."
      ]
    },
    {
      "cell_type": "markdown",
      "source": [
        "# ''' If seq1 has N1 elements and seq2 has N2 elements, to meet the end result or to achieve the last position where no elements left for the recursion we need to go through the list two times each for N1 and N2'''.\n",
        "\n",
        "# Complexity will be O(2^(N1+N2))\n",
        "\n",
        "# If we have 10 elements in both list combine, then we will have to go 1000 times, and as we increase the list size by 10, then it will increase by square of 1000.\n",
        "\n",
        "\n"
      ],
      "metadata": {
        "id": "mnov84Kl1OHh"
      },
      "id": "mnov84Kl1OHh"
    },
    {
      "cell_type": "code",
      "execution_count": null,
      "id": "e17c4842",
      "metadata": {
        "colab": {
          "base_uri": "https://localhost:8080/",
          "height": 107
        },
        "id": "e17c4842",
        "outputId": "bac2de56-769b-4b0a-b498-b4b90b6f7dc8"
      },
      "outputs": [
        {
          "output_type": "stream",
          "name": "stdout",
          "text": [
            "[jovian] Detected Colab notebook...\u001b[0m\n",
            "[jovian] Uploading colab notebook to Jovian...\u001b[0m\n",
            "Committed successfully! https://jovian.ai/deepak-dewani/longest-common-subsequence\n"
          ]
        },
        {
          "output_type": "execute_result",
          "data": {
            "application/vnd.google.colaboratory.intrinsic+json": {
              "type": "string"
            },
            "text/plain": [
              "'https://jovian.ai/deepak-dewani/longest-common-subsequence'"
            ]
          },
          "metadata": {},
          "execution_count": 86
        }
      ],
      "source": [
        "jovian.commit()"
      ]
    },
    {
      "cell_type": "markdown",
      "id": "1ef57efe",
      "metadata": {
        "id": "1ef57efe"
      },
      "source": [
        "### 6. Apply the right technique to overcome the inefficiency. Repeat steps 3 to 6.\n",
        "\n",
        "**Memoization:**\n",
        "**Memorizes the intermedite steps.**"
      ]
    },
    {
      "cell_type": "code",
      "execution_count": null,
      "id": "e117aa8c",
      "metadata": {
        "colab": {
          "base_uri": "https://localhost:8080/",
          "height": 107
        },
        "id": "e117aa8c",
        "outputId": "9eeedd48-ac2f-4a12-888b-52b72a581555"
      },
      "outputs": [
        {
          "output_type": "stream",
          "name": "stdout",
          "text": [
            "[jovian] Detected Colab notebook...\u001b[0m\n",
            "[jovian] Uploading colab notebook to Jovian...\u001b[0m\n",
            "Committed successfully! https://jovian.ai/deepak-dewani/longest-common-subsequence\n"
          ]
        },
        {
          "output_type": "execute_result",
          "data": {
            "application/vnd.google.colaboratory.intrinsic+json": {
              "type": "string"
            },
            "text/plain": [
              "'https://jovian.ai/deepak-dewani/longest-common-subsequence'"
            ]
          },
          "metadata": {},
          "execution_count": 87
        }
      ],
      "source": [
        "jovian.commit()"
      ]
    },
    {
      "cell_type": "markdown",
      "id": "b830c179",
      "metadata": {
        "id": "b830c179"
      },
      "source": [
        "### 7. Come up with a correct solution for the problem. State it in plain English.\n",
        "\n",
        "Come with the optimized correct solution and explain it in simple words below:\n",
        "\n",
        "1. Compare the first character of each sequence\n",
        "2. If equal, then it's a part of the LCS\n",
        "3. So the answer is 1 + lcs of the sequences with first character removed.\n",
        "4. Otherwise you remove a character from one of the sequence & repeat\n",
        "5. the base case is when one of the strings is exhausted\n",
        "\n",
        "\n",
        "\n",
        "Let's save and upload our work before continuing.\n",
        "\n"
      ]
    },
    {
      "cell_type": "code",
      "execution_count": null,
      "id": "8652f2a6",
      "metadata": {
        "colab": {
          "base_uri": "https://localhost:8080/",
          "height": 107
        },
        "id": "8652f2a6",
        "outputId": "09640755-f044-49ba-c9d1-5ec31ad5f535"
      },
      "outputs": [
        {
          "output_type": "stream",
          "name": "stdout",
          "text": [
            "[jovian] Detected Colab notebook...\u001b[0m\n",
            "[jovian] Uploading colab notebook to Jovian...\u001b[0m\n",
            "Committed successfully! https://jovian.ai/deepak-dewani/longest-common-subsequence\n"
          ]
        },
        {
          "output_type": "execute_result",
          "data": {
            "application/vnd.google.colaboratory.intrinsic+json": {
              "type": "string"
            },
            "text/plain": [
              "'https://jovian.ai/deepak-dewani/longest-common-subsequence'"
            ]
          },
          "metadata": {},
          "execution_count": 88
        }
      ],
      "source": [
        "jovian.commit()"
      ]
    },
    {
      "cell_type": "markdown",
      "id": "529d8a57",
      "metadata": {
        "id": "529d8a57"
      },
      "source": [
        "### 8. Implement the solution and test it using example inputs. Fix bugs, if any."
      ]
    },
    {
      "cell_type": "code",
      "execution_count": null,
      "id": "e901fd8f",
      "metadata": {
        "id": "e901fd8f"
      },
      "outputs": [],
      "source": [
        "def lcs_memo(seq1, seq2):\n",
        "  memo= {}\n",
        "  def recurse(idx1, idx2):\n",
        "    key = (idx1, idx2)\n",
        "    if key in memo:\n",
        "      return memo[key]\n",
        "    elif idx1 == len(seq1) or idx2 == len(seq2):\n",
        "      memo[key] = 0\n",
        "    elif seq1[idx1] == seq2[idx2]:\n",
        "      memo[key] = 1 + recurse(idx1 + 1, idx2 + 1)\n",
        "    else:\n",
        "      memo[key] = max(recurse(idx1 + 1, idx2),\n",
        "                      recurse(idx1, idx2 + 1))\n",
        "    return memo[key]\n",
        "\n",
        "  return recurse(0, 0)\n",
        "    \n"
      ]
    },
    {
      "cell_type": "code",
      "execution_count": null,
      "id": "74cb9a2c",
      "metadata": {
        "colab": {
          "base_uri": "https://localhost:8080/"
        },
        "id": "74cb9a2c",
        "outputId": "2dc3a53d-63e3-478d-836b-e45d318bafd0"
      },
      "outputs": [
        {
          "output_type": "execute_result",
          "data": {
            "text/plain": [
              "7"
            ]
          },
          "metadata": {},
          "execution_count": 99
        }
      ],
      "source": [
        "lcs_memo(test0['input']['seq1'], test0['input']['seq2'])"
      ]
    },
    {
      "cell_type": "code",
      "source": [
        "%%time\n",
        "lcs_memo(** test1['input'])"
      ],
      "metadata": {
        "colab": {
          "base_uri": "https://localhost:8080/"
        },
        "id": "F26DRtwx5qy7",
        "outputId": "77ea8f63-2e35-4ab3-fc7c-e7809558a6f3"
      },
      "id": "F26DRtwx5qy7",
      "execution_count": null,
      "outputs": [
        {
          "output_type": "stream",
          "name": "stdout",
          "text": [
            "CPU times: user 238 µs, sys: 0 ns, total: 238 µs\n",
            "Wall time: 245 µs\n"
          ]
        },
        {
          "output_type": "execute_result",
          "data": {
            "text/plain": [
              "5"
            ]
          },
          "metadata": {},
          "execution_count": 101
        }
      ]
    },
    {
      "cell_type": "code",
      "execution_count": null,
      "id": "994630f8",
      "metadata": {
        "id": "994630f8"
      },
      "outputs": [],
      "source": [
        "from jovian.pythondsa import evaluate_test_case"
      ]
    },
    {
      "cell_type": "code",
      "execution_count": null,
      "id": "c5804eb6",
      "metadata": {
        "colab": {
          "base_uri": "https://localhost:8080/"
        },
        "id": "c5804eb6",
        "outputId": "d080da23-fd69-424f-d0c7-4703c382dbc1"
      },
      "outputs": [
        {
          "output_type": "stream",
          "name": "stdout",
          "text": [
            "\n",
            "Input:\n",
            "{'seq1': '', 'seq2': 'opkpoiklklj'}\n",
            "\n",
            "Expected Output:\n",
            "0\n",
            "\n",
            "\n",
            "Actual Output:\n",
            "0\n",
            "\n",
            "Execution Time:\n",
            "0.026 ms\n",
            "\n",
            "Test Result:\n",
            "\u001b[92mPASSED\u001b[0m\n",
            "\n"
          ]
        },
        {
          "output_type": "execute_result",
          "data": {
            "text/plain": [
              "(0, True, 0.026)"
            ]
          },
          "metadata": {},
          "execution_count": 104
        }
      ],
      "source": [
        "evaluate_test_case(lcs_memo, test5)"
      ]
    },
    {
      "cell_type": "code",
      "source": [
        "from jovian.pythondsa import evaluate_test_cases"
      ],
      "metadata": {
        "id": "TAhkxiKo6Mp-"
      },
      "id": "TAhkxiKo6Mp-",
      "execution_count": null,
      "outputs": []
    },
    {
      "cell_type": "code",
      "source": [
        "evaluate_test_cases(lcs_memo, lcs_tests)"
      ],
      "metadata": {
        "colab": {
          "base_uri": "https://localhost:8080/"
        },
        "id": "ng0PRbj56Lhg",
        "outputId": "ee243e9d-176d-4852-88db-d73ab1fab3d3"
      },
      "id": "ng0PRbj56Lhg",
      "execution_count": null,
      "outputs": [
        {
          "output_type": "stream",
          "name": "stdout",
          "text": [
            "\n",
            "\u001b[1mTEST CASE #0\u001b[0m\n",
            "\n",
            "Input:\n",
            "{'seq1': 'serendipitous', 'seq2': 'precipitation'}\n",
            "\n",
            "Expected Output:\n",
            "7\n",
            "\n",
            "\n",
            "Actual Output:\n",
            "7\n",
            "\n",
            "Execution Time:\n",
            "0.498 ms\n",
            "\n",
            "Test Result:\n",
            "\u001b[92mPASSED\u001b[0m\n",
            "\n",
            "\n",
            "\u001b[1mTEST CASE #1\u001b[0m\n",
            "\n",
            "Input:\n",
            "{'seq1': [1, 3, 5, 6, 7, 2, 5, 2, 3], 'seq2': [6, 2, 4, 7, 1, 5, 6, 2, 3]}\n",
            "\n",
            "Expected Output:\n",
            "5\n",
            "\n",
            "\n",
            "Actual Output:\n",
            "5\n",
            "\n",
            "Execution Time:\n",
            "0.14 ms\n",
            "\n",
            "Test Result:\n",
            "\u001b[92mPASSED\u001b[0m\n",
            "\n",
            "\n",
            "\u001b[1mTEST CASE #2\u001b[0m\n",
            "\n",
            "Input:\n",
            "{'seq1': 'longest', 'seq2': 'stone'}\n",
            "\n",
            "Expected Output:\n",
            "3\n",
            "\n",
            "\n",
            "Actual Output:\n",
            "3\n",
            "\n",
            "Execution Time:\n",
            "0.095 ms\n",
            "\n",
            "Test Result:\n",
            "\u001b[92mPASSED\u001b[0m\n",
            "\n",
            "\n",
            "\u001b[1mTEST CASE #3\u001b[0m\n",
            "\n",
            "Input:\n",
            "{'seq1': 'asdfwevad', 'seq2': 'opkpoiklklj'}\n",
            "\n",
            "Expected Output:\n",
            "0\n",
            "\n",
            "\n",
            "Actual Output:\n",
            "0\n",
            "\n",
            "Execution Time:\n",
            "0.226 ms\n",
            "\n",
            "Test Result:\n",
            "\u001b[92mPASSED\u001b[0m\n",
            "\n",
            "\n",
            "\u001b[1mTEST CASE #4\u001b[0m\n",
            "\n",
            "Input:\n",
            "{'seq1': 'dense', 'seq2': 'condensed'}\n",
            "\n",
            "Expected Output:\n",
            "5\n",
            "\n",
            "\n",
            "Actual Output:\n",
            "5\n",
            "\n",
            "Execution Time:\n",
            "0.168 ms\n",
            "\n",
            "Test Result:\n",
            "\u001b[92mPASSED\u001b[0m\n",
            "\n",
            "\n",
            "\u001b[1mTEST CASE #5\u001b[0m\n",
            "\n",
            "Input:\n",
            "{'seq1': '', 'seq2': 'opkpoiklklj'}\n",
            "\n",
            "Expected Output:\n",
            "0\n",
            "\n",
            "\n",
            "Actual Output:\n",
            "0\n",
            "\n",
            "Execution Time:\n",
            "0.014 ms\n",
            "\n",
            "Test Result:\n",
            "\u001b[92mPASSED\u001b[0m\n",
            "\n",
            "\n",
            "\u001b[1mTEST CASE #6\u001b[0m\n",
            "\n",
            "Input:\n",
            "{'seq1': '', 'seq2': ''}\n",
            "\n",
            "Expected Output:\n",
            "0\n",
            "\n",
            "\n",
            "Actual Output:\n",
            "0\n",
            "\n",
            "Execution Time:\n",
            "0.008 ms\n",
            "\n",
            "Test Result:\n",
            "\u001b[92mPASSED\u001b[0m\n",
            "\n",
            "\n",
            "\u001b[1mTEST CASE #7\u001b[0m\n",
            "\n",
            "Input:\n",
            "{'seq1': 'abcdef', 'seq2': 'badcfe'}\n",
            "\n",
            "Expected Output:\n",
            "3\n",
            "\n",
            "\n",
            "Actual Output:\n",
            "3\n",
            "\n",
            "Execution Time:\n",
            "0.085 ms\n",
            "\n",
            "Test Result:\n",
            "\u001b[92mPASSED\u001b[0m\n",
            "\n",
            "\n",
            "\u001b[1mSUMMARY\u001b[0m\n",
            "\n",
            "TOTAL: 8, \u001b[92mPASSED\u001b[0m: 8, \u001b[91mFAILED\u001b[0m: 0\n"
          ]
        },
        {
          "output_type": "execute_result",
          "data": {
            "text/plain": [
              "[(7, True, 0.498),\n",
              " (5, True, 0.14),\n",
              " (3, True, 0.095),\n",
              " (0, True, 0.226),\n",
              " (5, True, 0.168),\n",
              " (0, True, 0.014),\n",
              " (0, True, 0.008),\n",
              " (3, True, 0.085)]"
            ]
          },
          "metadata": {},
          "execution_count": 106
        }
      ]
    },
    {
      "cell_type": "markdown",
      "id": "e6874290",
      "metadata": {
        "id": "e6874290"
      },
      "source": [
        "### 9. Analyze the algorithm's complexity and identify inefficiencies, if any.\n",
        "\n",
        "If we have seq1 with N1 element, and N2 in seq2.\n",
        "\n",
        "So with the help of memoization, we go on add the recurse method and only call the N1 and N2 elements and store this in the dictonaries, so we can get the elements as N1 * N2 combinations for idx1 and idx2.\n",
        "\n",
        "So the complexity for this is O(N1*N2).\n",
        "\n",
        "When compared to the previous one, we would need only 100 steps for the list of 10, while as we are requiring 1000 for the same for the previous one."
      ]
    },
    {
      "cell_type": "markdown",
      "id": "6af6aad2",
      "metadata": {
        "id": "6af6aad2"
      },
      "source": [
        "If you found the problem on an external platform, you can make a submission to test your solution.\n",
        "\n",
        "Share your approach and start a discussion on the Jovian forum: https://jovian.ai/forum/c/data-structures-and-algorithms-in-python/78"
      ]
    },
    {
      "cell_type": "code",
      "execution_count": null,
      "id": "8214e800",
      "metadata": {
        "colab": {
          "base_uri": "https://localhost:8080/",
          "height": 107
        },
        "id": "8214e800",
        "outputId": "8f4dd9f7-01df-4d9b-b2c3-e7e97deaa841"
      },
      "outputs": [
        {
          "output_type": "stream",
          "name": "stdout",
          "text": [
            "[jovian] Detected Colab notebook...\u001b[0m\n",
            "[jovian] Uploading colab notebook to Jovian...\u001b[0m\n",
            "Committed successfully! https://jovian.ai/deepak-dewani/longest-common-subsequence\n"
          ]
        },
        {
          "output_type": "execute_result",
          "data": {
            "application/vnd.google.colaboratory.intrinsic+json": {
              "type": "string"
            },
            "text/plain": [
              "'https://jovian.ai/deepak-dewani/longest-common-subsequence'"
            ]
          },
          "metadata": {},
          "execution_count": 107
        }
      ],
      "source": [
        "jovian.commit()"
      ]
    },
    {
      "cell_type": "markdown",
      "source": [
        "#Dynamic Programming Solutions"
      ],
      "metadata": {
        "id": "lP289Gq7AHTO"
      },
      "id": "lP289Gq7AHTO"
    },
    {
      "cell_type": "code",
      "execution_count": 123,
      "id": "107d53f9",
      "metadata": {
        "id": "107d53f9"
      },
      "outputs": [],
      "source": [
        "def get_value(matrix, idx1, idx2):\n",
        "  if idx1 < 0 or idx2 < 0:\n",
        "    return 0\n",
        "  else:\n",
        "    return matrix[idx1][idx2]\n",
        "def lcs_dp(seq1,seq2):\n",
        "  n1, n2 = len(seq1), len(seq2)\n",
        "  result = [[0 for _ in range(n2)] for _ in range(n1)]\n",
        "\n",
        "  for idx1 in range(n1):\n",
        "    for idx2 in range(n2):\n",
        "      if seq1[idx1] == seq2[idx2]:\n",
        "        result[idx1][idx2] = 1 + get_value(result, idx1 - 1, idx2 - 1)\n",
        "      else:\n",
        "        result[idx1][idx2] = max(get_value(result, idx1 - 1, idx2),\n",
        "                                  get_value(result, idx1, idx2 - 1))\n",
        "        \n",
        "  return result[-1][-1] if n1 > 0 and n2 > 0 else 0"
      ]
    },
    {
      "cell_type": "code",
      "source": [
        "lcs_dp(**test0['input'])"
      ],
      "metadata": {
        "colab": {
          "base_uri": "https://localhost:8080/"
        },
        "id": "OFouGt8VC4oM",
        "outputId": "a8e5387c-ffd4-4507-8059-aad51548e2df"
      },
      "id": "OFouGt8VC4oM",
      "execution_count": 124,
      "outputs": [
        {
          "output_type": "execute_result",
          "data": {
            "text/plain": [
              "7"
            ]
          },
          "metadata": {},
          "execution_count": 124
        }
      ]
    },
    {
      "cell_type": "code",
      "source": [
        "%%time\n",
        "lcs_dp(**test5['input'])"
      ],
      "metadata": {
        "colab": {
          "base_uri": "https://localhost:8080/"
        },
        "id": "QLLKYZAbDDZ0",
        "outputId": "89d04d60-099d-4eb1-f29e-fbf277e5ae92"
      },
      "id": "QLLKYZAbDDZ0",
      "execution_count": 125,
      "outputs": [
        {
          "output_type": "stream",
          "name": "stdout",
          "text": [
            "CPU times: user 33 µs, sys: 4 µs, total: 37 µs\n",
            "Wall time: 47.7 µs\n"
          ]
        },
        {
          "output_type": "execute_result",
          "data": {
            "text/plain": [
              "0"
            ]
          },
          "metadata": {},
          "execution_count": 125
        }
      ]
    },
    {
      "cell_type": "code",
      "source": [
        "evaluate_test_case(lcs_dp, test2)"
      ],
      "metadata": {
        "colab": {
          "base_uri": "https://localhost:8080/"
        },
        "id": "Dj0eYeyJD_LS",
        "outputId": "6c81dec4-78a4-4083-9435-d5c7a5158d16"
      },
      "id": "Dj0eYeyJD_LS",
      "execution_count": 126,
      "outputs": [
        {
          "output_type": "stream",
          "name": "stdout",
          "text": [
            "\n",
            "Input:\n",
            "{'seq1': 'longest', 'seq2': 'stone'}\n",
            "\n",
            "Expected Output:\n",
            "3\n",
            "\n",
            "\n",
            "Actual Output:\n",
            "3\n",
            "\n",
            "Execution Time:\n",
            "0.096 ms\n",
            "\n",
            "Test Result:\n",
            "\u001b[92mPASSED\u001b[0m\n",
            "\n"
          ]
        },
        {
          "output_type": "execute_result",
          "data": {
            "text/plain": [
              "(3, True, 0.096)"
            ]
          },
          "metadata": {},
          "execution_count": 126
        }
      ]
    },
    {
      "cell_type": "code",
      "source": [
        "evaluate_test_cases(lcs_dp, lcs_tests)"
      ],
      "metadata": {
        "colab": {
          "base_uri": "https://localhost:8080/"
        },
        "id": "3Vfo4x6IEGny",
        "outputId": "a079c0de-ffb2-4f28-df72-c17a20d74747"
      },
      "id": "3Vfo4x6IEGny",
      "execution_count": 127,
      "outputs": [
        {
          "output_type": "stream",
          "name": "stdout",
          "text": [
            "\n",
            "\u001b[1mTEST CASE #0\u001b[0m\n",
            "\n",
            "Input:\n",
            "{'seq1': 'serendipitous', 'seq2': 'precipitation'}\n",
            "\n",
            "Expected Output:\n",
            "7\n",
            "\n",
            "\n",
            "Actual Output:\n",
            "7\n",
            "\n",
            "Execution Time:\n",
            "0.305 ms\n",
            "\n",
            "Test Result:\n",
            "\u001b[92mPASSED\u001b[0m\n",
            "\n",
            "\n",
            "\u001b[1mTEST CASE #1\u001b[0m\n",
            "\n",
            "Input:\n",
            "{'seq1': [1, 3, 5, 6, 7, 2, 5, 2, 3], 'seq2': [6, 2, 4, 7, 1, 5, 6, 2, 3]}\n",
            "\n",
            "Expected Output:\n",
            "5\n",
            "\n",
            "\n",
            "Actual Output:\n",
            "5\n",
            "\n",
            "Execution Time:\n",
            "0.14 ms\n",
            "\n",
            "Test Result:\n",
            "\u001b[92mPASSED\u001b[0m\n",
            "\n",
            "\n",
            "\u001b[1mTEST CASE #2\u001b[0m\n",
            "\n",
            "Input:\n",
            "{'seq1': 'longest', 'seq2': 'stone'}\n",
            "\n",
            "Expected Output:\n",
            "3\n",
            "\n",
            "\n",
            "Actual Output:\n",
            "3\n",
            "\n",
            "Execution Time:\n",
            "0.068 ms\n",
            "\n",
            "Test Result:\n",
            "\u001b[92mPASSED\u001b[0m\n",
            "\n",
            "\n",
            "\u001b[1mTEST CASE #3\u001b[0m\n",
            "\n",
            "Input:\n",
            "{'seq1': 'asdfwevad', 'seq2': 'opkpoiklklj'}\n",
            "\n",
            "Expected Output:\n",
            "0\n",
            "\n",
            "\n",
            "Actual Output:\n",
            "0\n",
            "\n",
            "Execution Time:\n",
            "0.153 ms\n",
            "\n",
            "Test Result:\n",
            "\u001b[92mPASSED\u001b[0m\n",
            "\n",
            "\n",
            "\u001b[1mTEST CASE #4\u001b[0m\n",
            "\n",
            "Input:\n",
            "{'seq1': 'dense', 'seq2': 'condensed'}\n",
            "\n",
            "Expected Output:\n",
            "5\n",
            "\n",
            "\n",
            "Actual Output:\n",
            "5\n",
            "\n",
            "Execution Time:\n",
            "0.089 ms\n",
            "\n",
            "Test Result:\n",
            "\u001b[92mPASSED\u001b[0m\n",
            "\n",
            "\n",
            "\u001b[1mTEST CASE #5\u001b[0m\n",
            "\n",
            "Input:\n",
            "{'seq1': '', 'seq2': 'opkpoiklklj'}\n",
            "\n",
            "Expected Output:\n",
            "0\n",
            "\n",
            "\n",
            "Actual Output:\n",
            "0\n",
            "\n",
            "Execution Time:\n",
            "0.008 ms\n",
            "\n",
            "Test Result:\n",
            "\u001b[92mPASSED\u001b[0m\n",
            "\n",
            "\n",
            "\u001b[1mTEST CASE #6\u001b[0m\n",
            "\n",
            "Input:\n",
            "{'seq1': '', 'seq2': ''}\n",
            "\n",
            "Expected Output:\n",
            "0\n",
            "\n",
            "\n",
            "Actual Output:\n",
            "0\n",
            "\n",
            "Execution Time:\n",
            "0.007 ms\n",
            "\n",
            "Test Result:\n",
            "\u001b[92mPASSED\u001b[0m\n",
            "\n",
            "\n",
            "\u001b[1mTEST CASE #7\u001b[0m\n",
            "\n",
            "Input:\n",
            "{'seq1': 'abcdef', 'seq2': 'badcfe'}\n",
            "\n",
            "Expected Output:\n",
            "3\n",
            "\n",
            "\n",
            "Actual Output:\n",
            "3\n",
            "\n",
            "Execution Time:\n",
            "0.062 ms\n",
            "\n",
            "Test Result:\n",
            "\u001b[92mPASSED\u001b[0m\n",
            "\n",
            "\n",
            "\u001b[1mSUMMARY\u001b[0m\n",
            "\n",
            "TOTAL: 8, \u001b[92mPASSED\u001b[0m: 8, \u001b[91mFAILED\u001b[0m: 0\n"
          ]
        },
        {
          "output_type": "execute_result",
          "data": {
            "text/plain": [
              "[(7, True, 0.305),\n",
              " (5, True, 0.14),\n",
              " (3, True, 0.068),\n",
              " (0, True, 0.153),\n",
              " (5, True, 0.089),\n",
              " (0, True, 0.008),\n",
              " (0, True, 0.007),\n",
              " (3, True, 0.062)]"
            ]
          },
          "metadata": {},
          "execution_count": 127
        }
      ]
    },
    {
      "cell_type": "code",
      "source": [
        "jovian.commit()"
      ],
      "metadata": {
        "colab": {
          "base_uri": "https://localhost:8080/",
          "height": 107
        },
        "id": "G1zKSiAYENb9",
        "outputId": "017667df-ed21-4042-d24f-d0a3dd2bde04"
      },
      "id": "G1zKSiAYENb9",
      "execution_count": 128,
      "outputs": [
        {
          "output_type": "stream",
          "name": "stdout",
          "text": [
            "[jovian] Detected Colab notebook...\u001b[0m\n",
            "[jovian] Uploading colab notebook to Jovian...\u001b[0m\n",
            "Committed successfully! https://jovian.ai/deepak-dewani/longest-common-subsequence\n"
          ]
        },
        {
          "output_type": "execute_result",
          "data": {
            "application/vnd.google.colaboratory.intrinsic+json": {
              "type": "string"
            },
            "text/plain": [
              "'https://jovian.ai/deepak-dewani/longest-common-subsequence'"
            ]
          },
          "metadata": {},
          "execution_count": 128
        }
      ]
    },
    {
      "cell_type": "code",
      "source": [
        ""
      ],
      "metadata": {
        "id": "NAnNbLheFIWO"
      },
      "id": "NAnNbLheFIWO",
      "execution_count": null,
      "outputs": []
    }
  ],
  "metadata": {
    "kernelspec": {
      "display_name": "Python 3",
      "language": "python",
      "name": "python3"
    },
    "language_info": {
      "codemirror_mode": {
        "name": "ipython",
        "version": 3
      },
      "file_extension": ".py",
      "mimetype": "text/x-python",
      "name": "python",
      "nbconvert_exporter": "python",
      "pygments_lexer": "ipython3",
      "version": "3.8.6"
    },
    "colab": {
      "name": "04_python-dynamic-programming.ipynb",
      "provenance": [],
      "collapsed_sections": [],
      "include_colab_link": true
    }
  },
  "nbformat": 4,
  "nbformat_minor": 5
}