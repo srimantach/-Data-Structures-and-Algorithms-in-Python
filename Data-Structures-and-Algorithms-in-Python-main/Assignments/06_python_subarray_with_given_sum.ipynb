{
  "cells": [
    {
      "cell_type": "markdown",
      "metadata": {
        "id": "view-in-github",
        "colab_type": "text"
      },
      "source": [
        "<a href=\"https://colab.research.google.com/github/deepak-dewani/Data-Structures-and-Algorithms-in-Python/blob/main/06_python_subarray_with_given_sum.ipynb\" target=\"_parent\"><img src=\"https://colab.research.google.com/assets/colab-badge.svg\" alt=\"Open In Colab\"/></a>"
      ]
    },
    {
      "cell_type": "code",
      "execution_count": 2,
      "id": "00f09e63",
      "metadata": {
        "colab": {
          "base_uri": "https://localhost:8080/"
        },
        "id": "00f09e63",
        "outputId": "6a7110d2-1895-405a-a2ce-a553d2ee5c4c"
      },
      "outputs": [
        {
          "output_type": "stream",
          "name": "stdout",
          "text": [
            "\u001b[?25l\r\u001b[K     |████▊                           | 10 kB 26.3 MB/s eta 0:00:01\r\u001b[K     |█████████▌                      | 20 kB 16.6 MB/s eta 0:00:01\r\u001b[K     |██████████████▎                 | 30 kB 7.4 MB/s eta 0:00:01\r\u001b[K     |███████████████████             | 40 kB 6.5 MB/s eta 0:00:01\r\u001b[K     |███████████████████████▉        | 51 kB 2.9 MB/s eta 0:00:01\r\u001b[K     |████████████████████████████▋   | 61 kB 3.4 MB/s eta 0:00:01\r\u001b[K     |████████████████████████████████| 68 kB 2.2 MB/s \n",
            "\u001b[?25h  Building wheel for uuid (setup.py) ... \u001b[?25l\u001b[?25hdone\n"
          ]
        }
      ],
      "source": [
        "# Jovian Commit Essentials\n",
        "# Please retain and execute this cell without modifying the contents for `jovian.commit` to work\n",
        "!pip install jovian --upgrade -q\n",
        "import jovian\n",
        "jovian.set_project('python-subarray-with-given-sum')\n",
        "jovian.set_colab_id('1nleIVE8PSHfKm6iRbl71DK8BPpp8lCr9')"
      ]
    },
    {
      "cell_type": "markdown",
      "id": "132fb142",
      "metadata": {
        "id": "132fb142"
      },
      "source": [
        "# Subarray with Given Sum\n",
        "\n",
        "The following question was asked during a coding interview for Amazon:\n",
        "\n",
        "> You are given an array of numbers (non-negative). Find a continuous subarray of the list which adds up to a given sum. \n",
        "\n",
        "\n",
        "![](https://i.imgur.com/tLEBF7x.png)"
      ]
    },
    {
      "cell_type": "code",
      "execution_count": null,
      "id": "91f48f7c",
      "metadata": {
        "id": "91f48f7c"
      },
      "outputs": [],
      "source": [
        "# Solve the problem here\n",
        "\n",
        "# Defining the problem in plain english or simple language.\n",
        "\n",
        "'''\n",
        "We are given with the array of list of number which are non-negative, \n",
        "and we need to find the continuous subarray of list which adds up to the given sum.\n",
        "\n",
        "\n",
        "'''\n",
        "\n",
        "# Our simple foundation function.\n",
        "def subarray_sum(arr, target):\n",
        "    pass\n",
        "\n",
        "# Hence inputs and outputs are\n",
        "\"\"\"\n",
        "input = list of array e.g [1,5,9, 8,10, 11, 55]\n",
        "\n",
        "ouptut = index from which sum of subarray is equal to the output e.g (2, 6)\n",
        " \"\"\"\n",
        "\n",
        "\n",
        "\n",
        "# Next step Defining the various test cases\n",
        "'''\n",
        "1. the generic case which is given in the problem\n",
        "2. subarray is at start\n",
        "3. subarray is at end\n",
        "4. single element\n",
        "5. no subarray exist\n",
        "6. empty list\n",
        "7. more than one subarray\n",
        "'''\n",
        " \n",
        "# Solving the problem using brute force solution.\n",
        "\n",
        "\n"
      ]
    },
    {
      "cell_type": "code",
      "execution_count": 5,
      "id": "7e69fe9c",
      "metadata": {
        "id": "7e69fe9c"
      },
      "outputs": [],
      "source": [
        "# State the Test cases\n",
        "\n",
        "test0 = {\n",
        "    'input' : {'arr' : [1, 7, 4, 2, 1, 3, 11, 5], 'target': 10},\n",
        "    'output' : (2, 6)\n",
        "}\n",
        "\n",
        "test1 = {\n",
        "    'input' : {'arr' : [4, 2, 1, 3, 11, 5], 'target': 10},\n",
        "    'output' : (0, 4)\n",
        "}\n",
        "\n",
        "test2 = {\n",
        "    'input' : {'arr' : [1, 7, 4, 2, 1, 3], 'target': 10},\n",
        "    'output' : (2, 6)\n",
        "}\n",
        "\n",
        "test3 = {\n",
        "    'input' : {'arr' : [], 'target': 10},\n",
        "    'output' : (None, None)\n",
        "}\n",
        "\n",
        "\n",
        "tests = [test0, test1, test2, test3]"
      ]
    },
    {
      "cell_type": "markdown",
      "source": [
        "Brute force $O(n^3)$:"
      ],
      "metadata": {
        "id": "ld7W3Spti4m_"
      },
      "id": "ld7W3Spti4m_"
    },
    {
      "cell_type": "code",
      "source": [
        "def subarray_sum(arr, target):\n",
        "    n = len(arr)\n",
        "    for i in range(n):\n",
        "        for j in range(i, n+1):\n",
        "            if sum(arr[i:j]) == target:\n",
        "                return i, j\n",
        "    return None, None"
      ],
      "metadata": {
        "id": "8Z2MSK0mizM-"
      },
      "id": "8Z2MSK0mizM-",
      "execution_count": 10,
      "outputs": []
    },
    {
      "cell_type": "code",
      "execution_count": 12,
      "id": "0a7b68e7",
      "metadata": {
        "colab": {
          "base_uri": "https://localhost:8080/"
        },
        "id": "0a7b68e7",
        "outputId": "19477b38-5fe1-49f7-fa92-9efd664dd536"
      },
      "outputs": [
        {
          "output_type": "stream",
          "name": "stdout",
          "text": [
            "Test #0\n",
            "Expected:  (2, 6)\n",
            "Actual :  (2, 6)\n",
            "Pass:  True\n",
            "\n",
            "Test #1\n",
            "Expected:  (0, 4)\n",
            "Actual :  (0, 4)\n",
            "Pass:  True\n",
            "\n",
            "Test #2\n",
            "Expected:  (2, 6)\n",
            "Actual :  (2, 6)\n",
            "Pass:  True\n",
            "\n",
            "Test #3\n",
            "Expected:  (None, None)\n",
            "Actual :  (None, None)\n",
            "Pass:  True\n",
            "\n"
          ]
        }
      ],
      "source": [
        "for i, test in enumerate(tests):\n",
        "  result = subarray_sum(**test['input'])\n",
        "  print('Test #{}'.format(i))\n",
        "  print('Expected: ', test['output'])\n",
        "  print('Actual : ', result)\n",
        "  print('Pass: ', result == test['output'])\n",
        "  print( )"
      ]
    },
    {
      "cell_type": "code",
      "execution_count": 13,
      "id": "5212f149",
      "metadata": {
        "id": "5212f149"
      },
      "outputs": [],
      "source": [
        "import jovian"
      ]
    },
    {
      "cell_type": "code",
      "execution_count": 14,
      "id": "3e1c5ace",
      "metadata": {
        "colab": {
          "base_uri": "https://localhost:8080/",
          "height": 122
        },
        "id": "3e1c5ace",
        "outputId": "ccf8c816-3789-451b-f3c4-5fef975361cd"
      },
      "outputs": [
        {
          "output_type": "stream",
          "name": "stdout",
          "text": [
            "[jovian] Detected Colab notebook...\u001b[0m\n",
            "[jovian] Please enter your API key ( from https://jovian.ai/ ):\u001b[0m\n",
            "API KEY: ··········\n",
            "[jovian] Uploading colab notebook to Jovian...\u001b[0m\n",
            "Committed successfully! https://jovian.ai/deepak-dewani/python-subarray-with-given-sum\n"
          ]
        },
        {
          "output_type": "execute_result",
          "data": {
            "application/vnd.google.colaboratory.intrinsic+json": {
              "type": "string"
            },
            "text/plain": [
              "'https://jovian.ai/deepak-dewani/python-subarray-with-given-sum'"
            ]
          },
          "metadata": {},
          "execution_count": 14
        }
      ],
      "source": [
        "jovian.commit()"
      ]
    },
    {
      "cell_type": "markdown",
      "source": [
        "**Optimization of the first Solution**\n",
        "\n",
        "Since the time complexity of the first brute solution is N^3, so it will require more time and also it requires space also. So we can optimized the solution by giving the summation element inside the first loop, so that the sum can be their in the memory and we don't want to loop or iterate over again. So here is the optimized solution:"
      ],
      "metadata": {
        "id": "D1RPNgttk7gs"
      },
      "id": "D1RPNgttk7gs"
    },
    {
      "cell_type": "markdown",
      "id": "d2a57e40",
      "metadata": {
        "id": "d2a57e40"
      },
      "source": [
        "Better brute force $O(n^2)$:"
      ]
    },
    {
      "cell_type": "code",
      "execution_count": 27,
      "id": "0c6cae5e",
      "metadata": {
        "id": "0c6cae5e"
      },
      "outputs": [],
      "source": [
        "def subarray_sum1(arr, target):\n",
        "  n = len(arr)\n",
        "  for i in range(n):\n",
        "    s = 0\n",
        "    for j in range(i, n+1):\n",
        "      if s == target:\n",
        "        return i,j\n",
        "      if s > target:\n",
        "        break\n",
        "      s = s + arr[j]\n",
        "  return None, None"
      ]
    },
    {
      "cell_type": "code",
      "source": [
        "for i, test in enumerate(tests):\n",
        "  result = subarray_sum1(**test['input'])\n",
        "  print('Test #{}'.format(i))\n",
        "  print('Expected: ', test['output'])\n",
        "  print('Actual : ', result)\n",
        "  print('Pass: ', result == test['output'])\n",
        "  print( )"
      ],
      "metadata": {
        "colab": {
          "base_uri": "https://localhost:8080/"
        },
        "id": "p1H1N-W7oJrG",
        "outputId": "5993bae0-0e25-4a53-a52a-621628f96e40"
      },
      "id": "p1H1N-W7oJrG",
      "execution_count": 28,
      "outputs": [
        {
          "output_type": "stream",
          "name": "stdout",
          "text": [
            "Test #0\n",
            "Expected:  (2, 6)\n",
            "Actual :  (2, 6)\n",
            "Pass:  True\n",
            "\n",
            "Test #1\n",
            "Expected:  (0, 4)\n",
            "Actual :  (0, 4)\n",
            "Pass:  True\n",
            "\n",
            "Test #2\n",
            "Expected:  (2, 6)\n",
            "Actual :  (2, 6)\n",
            "Pass:  True\n",
            "\n",
            "Test #3\n",
            "Expected:  (None, None)\n",
            "Actual :  (None, None)\n",
            "Pass:  True\n",
            "\n"
          ]
        }
      ]
    },
    {
      "cell_type": "markdown",
      "source": [
        "We have opmitized the solution and took complexity to N^2. We can also opmitized the solution further and can make complexity to order of N. Here is the solution:"
      ],
      "metadata": {
        "id": "KL147BD_olYU"
      },
      "id": "KL147BD_olYU"
    },
    {
      "cell_type": "markdown",
      "id": "770da1bd",
      "metadata": {
        "id": "770da1bd"
      },
      "source": [
        "Greedy algorithm $O(n)$:"
      ]
    },
    {
      "cell_type": "code",
      "execution_count": 31,
      "id": "e12033de",
      "metadata": {
        "id": "e12033de"
      },
      "outputs": [],
      "source": [
        "def subarray_sum2(arr, target):\n",
        "    n = len(arr)\n",
        "    i, j, s = 0, 0, 0\n",
        "    while i < n and j <= n:\n",
        "        if s == target:\n",
        "            return i, j\n",
        "        elif s < target:\n",
        "            s += arr[j]\n",
        "            j += 1\n",
        "        elif s > target:\n",
        "            s -= arr[i]\n",
        "            i += 1\n",
        "    return None, None    "
      ]
    },
    {
      "cell_type": "code",
      "execution_count": 32,
      "id": "9369362d",
      "metadata": {
        "colab": {
          "base_uri": "https://localhost:8080/"
        },
        "id": "9369362d",
        "outputId": "2a8c97b4-8d04-4dd8-d9cf-647e57ae08b4"
      },
      "outputs": [
        {
          "output_type": "stream",
          "name": "stdout",
          "text": [
            "Test #0\n",
            "Expected:  (2, 6)\n",
            "Actual :  (2, 6)\n",
            "Pass:  True\n",
            "\n",
            "Test #1\n",
            "Expected:  (0, 4)\n",
            "Actual :  (0, 4)\n",
            "Pass:  True\n",
            "\n",
            "Test #2\n",
            "Expected:  (2, 6)\n",
            "Actual :  (2, 6)\n",
            "Pass:  True\n",
            "\n",
            "Test #3\n",
            "Expected:  (None, None)\n",
            "Actual :  (None, None)\n",
            "Pass:  True\n",
            "\n"
          ]
        }
      ],
      "source": [
        "for i, test in enumerate(tests):\n",
        "  result = subarray_sum2(**test['input'])\n",
        "  print('Test #{}'.format(i))\n",
        "  print('Expected: ', test['output'])\n",
        "  print('Actual : ', result)\n",
        "  print('Pass: ', result == test['output'])\n",
        "  print( )"
      ]
    }
  ],
  "metadata": {
    "kernelspec": {
      "display_name": "Python 3",
      "language": "python",
      "name": "python3"
    },
    "language_info": {
      "codemirror_mode": {
        "name": "ipython",
        "version": 3
      },
      "file_extension": ".py",
      "mimetype": "text/x-python",
      "name": "python",
      "nbconvert_exporter": "python",
      "pygments_lexer": "ipython3",
      "version": "3.8.6"
    },
    "colab": {
      "name": "06_python-subarray-with-given-sum.ipynb",
      "provenance": [],
      "collapsed_sections": [],
      "include_colab_link": true
    }
  },
  "nbformat": 4,
  "nbformat_minor": 5
}