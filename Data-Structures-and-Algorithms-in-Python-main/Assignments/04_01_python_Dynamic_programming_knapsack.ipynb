{
  "cells": [
    {
      "cell_type": "markdown",
      "metadata": {
        "id": "view-in-github",
        "colab_type": "text"
      },
      "source": [
        "<a href=\"https://colab.research.google.com/github/deepak-dewani/Data-Structures-and-Algorithms-in-Python/blob/main/04_01_python_Dynamic_programming_knapsack.ipynb\" target=\"_parent\"><img src=\"https://colab.research.google.com/assets/colab-badge.svg\" alt=\"Open In Colab\"/></a>"
      ]
    },
    {
      "cell_type": "code",
      "execution_count": 1,
      "id": "e6b511d0",
      "metadata": {
        "colab": {
          "base_uri": "https://localhost:8080/"
        },
        "id": "e6b511d0",
        "outputId": "f25a4ac7-e475-4758-eaea-f3b91ef6f9b7"
      },
      "outputs": [
        {
          "output_type": "stream",
          "name": "stdout",
          "text": [
            "\u001b[?25l\r\u001b[K     |████▊                           | 10 kB 24.0 MB/s eta 0:00:01\r\u001b[K     |█████████▌                      | 20 kB 28.6 MB/s eta 0:00:01\r\u001b[K     |██████████████▎                 | 30 kB 34.5 MB/s eta 0:00:01\r\u001b[K     |███████████████████             | 40 kB 37.6 MB/s eta 0:00:01\r\u001b[K     |███████████████████████▉        | 51 kB 25.2 MB/s eta 0:00:01\r\u001b[K     |████████████████████████████▋   | 61 kB 27.6 MB/s eta 0:00:01\r\u001b[K     |████████████████████████████████| 68 kB 5.2 MB/s \n",
            "\u001b[?25h  Building wheel for uuid (setup.py) ... \u001b[?25l\u001b[?25hdone\n"
          ]
        }
      ],
      "source": [
        "# Jovian Commit Essentials\n",
        "# Please retain and execute this cell without modifying the contents for `jovian.commit` to work\n",
        "!pip install jovian --upgrade -q\n",
        "import jovian\n",
        "jovian.set_project('knapsack-dynamic-programming')\n",
        "jovian.set_colab_id('154N3itlfMDxuQ2ZWJ2JXMnuz0gN02CEI')"
      ]
    },
    {
      "cell_type": "markdown",
      "id": "8471e138",
      "metadata": {
        "id": "8471e138"
      },
      "source": [
        "# Dynamic Programming - 0 - 1 Knapsack-Problem\n",
        "\n",
        "_To learn how to use this template, check out the course [\"Data Structures and Algorithms in Python\"](https://jovian.ai/learn/data-structures-and-algorithms-in-python)._\n",
        "\n",
        "\n"
      ]
    },
    {
      "cell_type": "markdown",
      "id": "fabcd621",
      "metadata": {
        "id": "fabcd621"
      },
      "source": [
        "## How to run the code and save your work\n",
        "\n",
        "The recommended way to run this notebook is to click the \"Run\" button at the top of this page, and select \"Run on Binder\". This will run the notebook on [mybinder.org](https://mybinder.org), a free online service for running Jupyter notebooks. \n",
        "\n",
        "This tutorial is an executable [Jupyter notebook](https://jupyter.org). You can _run_ this tutorial and experiment with the code examples in a couple of ways: *using free online resources* (recommended) or *on your computer*.\n",
        "\n",
        "#### Option 1: Running using free online resources (1-click, recommended)\n",
        "\n",
        "The easiest way to start executing the code is to click the **Run** button at the top of this page and select **Run on Binder**. You can also select \"Run on Colab\" or \"Run on Kaggle\", but you'll need to create an account on [Google Colab](https://colab.research.google.com) or [Kaggle](https://kaggle.com) to use these platforms.\n",
        "\n",
        "\n",
        "#### Option 2: Running on your computer locally\n",
        "\n",
        "To run the code on your computer locally, you'll need to set up [Python](https://www.python.org), download the notebook and install the required libraries. We recommend using the [Conda](https://docs.conda.io/projects/conda/en/latest/user-guide/install/) distribution of Python. Click the **Run** button at the top of this page, select the **Run Locally** option, and follow the instructions.\n",
        "\n",
        "#### Saving your work\n",
        "\n",
        "Before staring the assignment, let's save a snapshot of the assignment to your [Jovian](https://jovian.ai) profile, so that you can access it later, and continue your work."
      ]
    },
    {
      "cell_type": "code",
      "execution_count": 2,
      "id": "2b6edc0f",
      "metadata": {
        "id": "2b6edc0f"
      },
      "outputs": [],
      "source": [
        "project_name = 'Knapsack_dynamic_programming'"
      ]
    },
    {
      "cell_type": "code",
      "execution_count": 3,
      "id": "18ca0042",
      "metadata": {
        "id": "18ca0042"
      },
      "outputs": [],
      "source": [
        "!pip install jovian --upgrade --quiet"
      ]
    },
    {
      "cell_type": "code",
      "execution_count": 4,
      "id": "b46482c2",
      "metadata": {
        "id": "b46482c2"
      },
      "outputs": [],
      "source": [
        "import jovian"
      ]
    },
    {
      "cell_type": "code",
      "execution_count": 5,
      "id": "fae75d3d",
      "metadata": {
        "colab": {
          "base_uri": "https://localhost:8080/",
          "height": 142
        },
        "id": "fae75d3d",
        "outputId": "42b5b5d5-a0fa-42f8-ccc3-e4e9112c79c4"
      },
      "outputs": [
        {
          "output_type": "stream",
          "name": "stdout",
          "text": [
            "[jovian] Detected Colab notebook...\u001b[0m\n",
            "[jovian] Please enter your API key ( from https://jovian.ai/ ):\u001b[0m\n",
            "API KEY: ··········\n",
            "[jovian] Uploading colab notebook to Jovian...\u001b[0m\n",
            "Committed successfully! https://jovian.ai/deepak-dewani/knapsack-dynamic-programming\n"
          ]
        },
        {
          "output_type": "execute_result",
          "data": {
            "application/vnd.google.colaboratory.intrinsic+json": {
              "type": "string"
            },
            "text/plain": [
              "'https://jovian.ai/deepak-dewani/knapsack-dynamic-programming'"
            ]
          },
          "metadata": {},
          "execution_count": 5
        }
      ],
      "source": [
        "jovian.commit(project=project_name)"
      ]
    },
    {
      "cell_type": "markdown",
      "id": "1764482e",
      "metadata": {
        "id": "1764482e"
      },
      "source": [
        "## Problem Statement\n",
        "\n",
        "\n",
        "You’re in charge of selecting a football (soccer) team from a large pool of players. Each player has a cost, and a rating. You have a limited budget. What is the highest total rating of a team that fits within your budget. Assume that there’s no minimum or maximum team size.\n",
        "\n",
        "General problem statemnt:\n",
        "\n",
        "Given n elements, each of which has a weight and a profit, determine the maximum profit that can be obtained by selecting a subset of the elements weighing no more than w.\n",
        "\n",
        "\n",
        "Source: <img src=\"https://i.imgur.com/4O919vu.png\" width=\"400\">\n"
      ]
    },
    {
      "cell_type": "markdown",
      "id": "f9859cc6",
      "metadata": {
        "id": "f9859cc6"
      },
      "source": [
        "## The Method\n",
        "\n",
        "Here's the systematic strategy we'll apply for solving problems:\n",
        "\n",
        "1. State the problem clearly. Identify the input & output formats.\n",
        "2. Come up with some example inputs & outputs. Try to cover all edge cases.\n",
        "3. Come up with a correct solution for the problem. State it in plain English.\n",
        "4. Implement the solution and test it using example inputs. Fix bugs, if any.\n",
        "5. Analyze the algorithm's complexity and identify inefficiencies, if any.\n",
        "6. Apply the right technique to overcome the inefficiency. Repeat steps 3 to 6.\n",
        "\n",
        "This approach is explained in detail in [Lesson 1](https://jovian.ai/learn/data-structures-and-algorithms-in-python/lesson/lesson-1-binary-search-linked-lists-and-complexity) of the course. Let's apply this approach step-by-step."
      ]
    },
    {
      "cell_type": "markdown",
      "id": "b945801a",
      "metadata": {
        "id": "b945801a"
      },
      "source": [
        "## Solution\n",
        "\n",
        "\n",
        "### 1. State the problem clearly. Identify the input & output formats.\n",
        "\n",
        "While this problem is stated clearly enough, it's always useful to try and express in your own words, in a way that makes it most clear for you. \n",
        "\n",
        "\n",
        "**Problem**\n",
        "\n",
        "Given n elements, each of which has a weight and a profit, determine the maximum profit that can be obtained by selecting a subset of the elements weighing no more than w.\n",
        "\n",
        "<br/>\n",
        "\n",
        "\n",
        "**Input**\n",
        "\n",
        "1. 'capacity': MAximum weight allowed \n",
        "2. 'weight': A list of numbers indicating weights of elements\n",
        "3. 'profit': A list of numbers indicating profits of elements\n",
        "\n",
        "\n",
        "\n",
        "**Output**\n",
        "\n",
        "1. 'output' :  Maximum profit that can be obtained by picking elements with total weight less than or equal to capacity\n",
        "\n",
        "\n",
        "\n",
        "\n",
        "<br/>\n",
        "\n",
        "Based on the above, we can now create a signature of our function:"
      ]
    },
    {
      "cell_type": "code",
      "execution_count": 6,
      "id": "dd2933a8",
      "metadata": {
        "id": "dd2933a8"
      },
      "outputs": [],
      "source": [
        "# Create a function signature here. The body of the function can contain a single statement: pass\n",
        "\n",
        "def knapsack(capacity, weights, profits):\n",
        "  pass\n"
      ]
    },
    {
      "cell_type": "markdown",
      "id": "a27b8621",
      "metadata": {
        "id": "a27b8621"
      },
      "source": [
        "Save and upload your work before continuing."
      ]
    },
    {
      "cell_type": "code",
      "execution_count": 7,
      "id": "f291e361",
      "metadata": {
        "id": "f291e361"
      },
      "outputs": [],
      "source": [
        "import jovian"
      ]
    },
    {
      "cell_type": "code",
      "execution_count": 8,
      "id": "ab436c79",
      "metadata": {
        "colab": {
          "base_uri": "https://localhost:8080/",
          "height": 107
        },
        "id": "ab436c79",
        "outputId": "4b028d1a-c3fb-4c0a-fbcd-d839bcdf71ba"
      },
      "outputs": [
        {
          "output_type": "stream",
          "name": "stdout",
          "text": [
            "[jovian] Detected Colab notebook...\u001b[0m\n",
            "[jovian] Uploading colab notebook to Jovian...\u001b[0m\n",
            "Committed successfully! https://jovian.ai/deepak-dewani/knapsack-dynamic-programming\n"
          ]
        },
        {
          "output_type": "execute_result",
          "data": {
            "application/vnd.google.colaboratory.intrinsic+json": {
              "type": "string"
            },
            "text/plain": [
              "'https://jovian.ai/deepak-dewani/knapsack-dynamic-programming'"
            ]
          },
          "metadata": {},
          "execution_count": 8
        }
      ],
      "source": [
        "jovian.commit()"
      ]
    },
    {
      "cell_type": "markdown",
      "id": "e721bdeb",
      "metadata": {
        "id": "e721bdeb"
      },
      "source": [
        "### 2. Come up with some example inputs & outputs. Try to cover all edge cases.\n",
        "\n",
        "Our function should be able to handle any set of valid inputs we pass into it. Here's a list of some possible variations we might encounter:\n",
        "\n",
        "1. Some generic test cases\n",
        "2. All the elements can be included\n",
        "3. None of the elements can be included\n",
        "4. Only one of the elements can be included\n",
        "\n",
        "\n",
        "\n",
        "We'll express our test cases as dictionaries, to test them easily. Each dictionary will contain 2 keys: `input` (a dictionary itself containing one key for each argument to the function and `output` (the expected result from the function). "
      ]
    },
    {
      "cell_type": "code",
      "execution_count": 9,
      "id": "3dfc3d2d",
      "metadata": {
        "id": "3dfc3d2d"
      },
      "outputs": [],
      "source": [
        "test0 = {\n",
        "    'input': {\n",
        "        'capacity': 165,\n",
        "        'weights': [23, 31, 29, 44, 53, 38, 63, 85, 89, 82],\n",
        "        'profits': [92, 57, 49, 68, 60, 43, 67, 84, 87, 72]\n",
        "    },\n",
        "    'output': 309\n",
        "}\n",
        "\n",
        "test1 = {\n",
        "    'input': {\n",
        "        'capacity': 3,\n",
        "        'weights': [4, 5, 6],\n",
        "        'profits': [1, 2, 3]\n",
        "    },\n",
        "    'output': 0\n",
        "}\n",
        "\n",
        "test2 = {\n",
        "    'input': {\n",
        "        'capacity': 4,\n",
        "        'weights': [4, 5, 1],\n",
        "        'profits': [1, 2, 3]\n",
        "    },\n",
        "    'output': 3\n",
        "}\n",
        "\n",
        "test3 = {\n",
        "    'input': {\n",
        "        'capacity': 170,\n",
        "        'weights': [41, 50, 49, 59, 55, 57, 60],\n",
        "        'profits': [442, 525, 511, 593, 546, 564, 617]\n",
        "    },\n",
        "    'output': 1735\n",
        "}\n",
        "\n",
        "test4 = {\n",
        "    'input': {\n",
        "        'capacity': 15,\n",
        "        'weights': [4, 5, 6],\n",
        "        'profits': [1, 2, 3]\n",
        "    },\n",
        "    'output': 6\n",
        "}\n",
        "\n",
        "test5 = {\n",
        "    'input': {\n",
        "        'capacity': 15,\n",
        "        'weights': [4, 5, 1, 3, 2, 5],\n",
        "        'profits': [2, 3, 1, 5, 4, 7]\n",
        "    },\n",
        "    'output': 19\n",
        "}"
      ]
    },
    {
      "cell_type": "code",
      "execution_count": 10,
      "id": "dc03773f",
      "metadata": {
        "id": "dc03773f"
      },
      "outputs": [],
      "source": [
        "tests = (test0, test1, test2, test3, test4, test5)"
      ]
    },
    {
      "cell_type": "markdown",
      "id": "757aebac",
      "metadata": {
        "id": "757aebac"
      },
      "source": [
        "### 3. Come up with a correct solution for the problem. State it in plain English.\n",
        "\n",
        "Our first goal should always be to come up with a _correct_ solution to the problem, which may not necessarily be the most _efficient_ solution. Come with a correct solution and explain it in simple words below:\n",
        "\n",
        "1. can we consider the first element from the lists\n",
        "2. if we choose the first element then we need to have the maximum profits from the remaining elements in the list.\n",
        "3. otherwise, by not selecting the first element, and getting the elements from the remaining list and maximize it. \n",
        "4. if capacity is less, then check for the maximum profit for the compairing elements and select with highest one.\n",
        "\n",
        "\n",
        "\n",
        "Let's save and upload our work before continuing.\n",
        "\n",
        "\n"
      ]
    },
    {
      "cell_type": "code",
      "execution_count": 11,
      "id": "ce86be1f",
      "metadata": {
        "colab": {
          "base_uri": "https://localhost:8080/",
          "height": 107
        },
        "id": "ce86be1f",
        "outputId": "aab902c9-2c88-4635-f61f-d492fb2ce1ff"
      },
      "outputs": [
        {
          "output_type": "stream",
          "name": "stdout",
          "text": [
            "[jovian] Detected Colab notebook...\u001b[0m\n",
            "[jovian] Uploading colab notebook to Jovian...\u001b[0m\n",
            "Committed successfully! https://jovian.ai/deepak-dewani/knapsack-dynamic-programming\n"
          ]
        },
        {
          "output_type": "execute_result",
          "data": {
            "application/vnd.google.colaboratory.intrinsic+json": {
              "type": "string"
            },
            "text/plain": [
              "'https://jovian.ai/deepak-dewani/knapsack-dynamic-programming'"
            ]
          },
          "metadata": {},
          "execution_count": 11
        }
      ],
      "source": [
        "jovian.commit()"
      ]
    },
    {
      "cell_type": "markdown",
      "id": "509e5a89",
      "metadata": {
        "id": "509e5a89"
      },
      "source": [
        "###  4. Implement the solution and test it using example inputs. Fix bugs, if any."
      ]
    },
    {
      "cell_type": "code",
      "execution_count": 16,
      "id": "fdf69bde",
      "metadata": {
        "id": "fdf69bde"
      },
      "outputs": [],
      "source": [
        "def knapsack(capacity, weights, profits, idx = 0):\n",
        "  if idx == len(weights):\n",
        "    return 0\n",
        "  elif weights[idx] <= capacity:\n",
        "    option1 = profits[idx] + knapsack(capacity - weights[idx], \n",
        "                                      weights,\n",
        "                                      profits,\n",
        "                                      idx +1)\n",
        "    option2 = knapsack(capacity, weights, profits, idx + 1)\n",
        "    return max(option1, option2)\n",
        "  else:\n",
        "    return knapsack(capacity, weights, profits, idx + 1)"
      ]
    },
    {
      "cell_type": "code",
      "execution_count": 17,
      "id": "cd52aeef",
      "metadata": {
        "colab": {
          "base_uri": "https://localhost:8080/"
        },
        "id": "cd52aeef",
        "outputId": "124ef9eb-395e-4e52-9189-da989292fa5c"
      },
      "outputs": [
        {
          "output_type": "execute_result",
          "data": {
            "text/plain": [
              "{'input': {'capacity': 165,\n",
              "  'profits': [92, 57, 49, 68, 60, 43, 67, 84, 87, 72],\n",
              "  'weights': [23, 31, 29, 44, 53, 38, 63, 85, 89, 82]},\n",
              " 'output': 309}"
            ]
          },
          "metadata": {},
          "execution_count": 17
        }
      ],
      "source": [
        " test0"
      ]
    },
    {
      "cell_type": "code",
      "execution_count": 18,
      "id": "36bcfa53",
      "metadata": {
        "colab": {
          "base_uri": "https://localhost:8080/"
        },
        "id": "36bcfa53",
        "outputId": "838cda40-1cd0-4167-e0b9-6f20ea60fb25"
      },
      "outputs": [
        {
          "output_type": "execute_result",
          "data": {
            "text/plain": [
              "309"
            ]
          },
          "metadata": {},
          "execution_count": 18
        }
      ],
      "source": [
        "knapsack(**test0['input'])"
      ]
    },
    {
      "cell_type": "markdown",
      "source": [
        "Here's a visualization of the recursion tree:\n",
        "\n",
        "<img src=\"https://i.imgur.com/WsKTC6I.png\" width=\"640\">\n",
        "\n",
        "\n",
        "Verify that the time complexity of the recursive algorithm is $O(2^N)$\n",
        "\n",
        "Answer: Since in the above mentioned solution, we are going the each element twice, so there is also the repeated recursion, thatswhy the time complexity of this method is O(2^n) where n is the size of the elements inside the list."
      ],
      "metadata": {
        "id": "vo6DZH0qO3OP"
      },
      "id": "vo6DZH0qO3OP"
    },
    {
      "cell_type": "markdown",
      "id": "b2fff609",
      "metadata": {
        "id": "b2fff609"
      },
      "source": [
        "We can test the function by passing the input to it directly or by using the `evaluate_test_case` function from `jovian`."
      ]
    },
    {
      "cell_type": "code",
      "execution_count": 19,
      "id": "5cf397a3",
      "metadata": {
        "id": "5cf397a3"
      },
      "outputs": [],
      "source": [
        "from jovian.pythondsa import evaluate_test_case"
      ]
    },
    {
      "cell_type": "code",
      "execution_count": 20,
      "id": "4c2fa0c2",
      "metadata": {
        "colab": {
          "base_uri": "https://localhost:8080/"
        },
        "id": "4c2fa0c2",
        "outputId": "3347cf71-1edd-4969-e02e-bcbcde887026"
      },
      "outputs": [
        {
          "output_type": "stream",
          "name": "stdout",
          "text": [
            "\n",
            "Input:\n",
            "{'capacity': 165, 'weights': [23, 31, 29, 44, 53, 38, 63, 85, 89, 82], 'profits': [92, 57, 49, 68, 6...\n",
            "\n",
            "Expected Output:\n",
            "309\n",
            "\n",
            "\n",
            "Actual Output:\n",
            "309\n",
            "\n",
            "Execution Time:\n",
            "0.273 ms\n",
            "\n",
            "Test Result:\n",
            "\u001b[92mPASSED\u001b[0m\n",
            "\n"
          ]
        },
        {
          "output_type": "execute_result",
          "data": {
            "text/plain": [
              "(309, True, 0.273)"
            ]
          },
          "metadata": {},
          "execution_count": 20
        }
      ],
      "source": [
        "evaluate_test_case(knapsack, test0)"
      ]
    },
    {
      "cell_type": "markdown",
      "id": "6f43e340",
      "metadata": {
        "id": "6f43e340"
      },
      "source": [
        "Evaluate your function against all the test cases together using the `evaluate_test_cases` (plural) function from `jovian`."
      ]
    },
    {
      "cell_type": "code",
      "execution_count": 21,
      "id": "dacb2e4b",
      "metadata": {
        "id": "dacb2e4b"
      },
      "outputs": [],
      "source": [
        "from jovian.pythondsa import evaluate_test_cases"
      ]
    },
    {
      "cell_type": "code",
      "execution_count": 22,
      "id": "5d70df68",
      "metadata": {
        "colab": {
          "base_uri": "https://localhost:8080/"
        },
        "id": "5d70df68",
        "outputId": "8888c598-3bba-4b76-a0d2-58a650825078"
      },
      "outputs": [
        {
          "output_type": "stream",
          "name": "stdout",
          "text": [
            "\n",
            "\u001b[1mTEST CASE #0\u001b[0m\n",
            "\n",
            "Input:\n",
            "{'capacity': 165, 'weights': [23, 31, 29, 44, 53, 38, 63, 85, 89, 82], 'profits': [92, 57, 49, 68, 6...\n",
            "\n",
            "Expected Output:\n",
            "309\n",
            "\n",
            "\n",
            "Actual Output:\n",
            "309\n",
            "\n",
            "Execution Time:\n",
            "0.354 ms\n",
            "\n",
            "Test Result:\n",
            "\u001b[92mPASSED\u001b[0m\n",
            "\n",
            "\n",
            "\u001b[1mTEST CASE #1\u001b[0m\n",
            "\n",
            "Input:\n",
            "{'capacity': 3, 'weights': [4, 5, 6], 'profits': [1, 2, 3]}\n",
            "\n",
            "Expected Output:\n",
            "0\n",
            "\n",
            "\n",
            "Actual Output:\n",
            "0\n",
            "\n",
            "Execution Time:\n",
            "0.006 ms\n",
            "\n",
            "Test Result:\n",
            "\u001b[92mPASSED\u001b[0m\n",
            "\n",
            "\n",
            "\u001b[1mTEST CASE #2\u001b[0m\n",
            "\n",
            "Input:\n",
            "{'capacity': 4, 'weights': [4, 5, 1], 'profits': [1, 2, 3]}\n",
            "\n",
            "Expected Output:\n",
            "3\n",
            "\n",
            "\n",
            "Actual Output:\n",
            "3\n",
            "\n",
            "Execution Time:\n",
            "0.009 ms\n",
            "\n",
            "Test Result:\n",
            "\u001b[92mPASSED\u001b[0m\n",
            "\n",
            "\n",
            "\u001b[1mTEST CASE #3\u001b[0m\n",
            "\n",
            "Input:\n",
            "{'capacity': 170, 'weights': [41, 50, 49, 59, 55, 57, 60], 'profits': [442, 525, 511, 593, 546, 564,...\n",
            "\n",
            "Expected Output:\n",
            "1735\n",
            "\n",
            "\n",
            "Actual Output:\n",
            "1735\n",
            "\n",
            "Execution Time:\n",
            "0.11 ms\n",
            "\n",
            "Test Result:\n",
            "\u001b[92mPASSED\u001b[0m\n",
            "\n",
            "\n",
            "\u001b[1mTEST CASE #4\u001b[0m\n",
            "\n",
            "Input:\n",
            "{'capacity': 15, 'weights': [4, 5, 6], 'profits': [1, 2, 3]}\n",
            "\n",
            "Expected Output:\n",
            "6\n",
            "\n",
            "\n",
            "Actual Output:\n",
            "6\n",
            "\n",
            "Execution Time:\n",
            "0.018 ms\n",
            "\n",
            "Test Result:\n",
            "\u001b[92mPASSED\u001b[0m\n",
            "\n",
            "\n",
            "\u001b[1mTEST CASE #5\u001b[0m\n",
            "\n",
            "Input:\n",
            "{'capacity': 15, 'weights': [4, 5, 1, 3, 2, 5], 'profits': [2, 3, 1, 5, 4, 7]}\n",
            "\n",
            "Expected Output:\n",
            "19\n",
            "\n",
            "\n",
            "Actual Output:\n",
            "19\n",
            "\n",
            "Execution Time:\n",
            "0.091 ms\n",
            "\n",
            "Test Result:\n",
            "\u001b[92mPASSED\u001b[0m\n",
            "\n",
            "\n",
            "\u001b[1mSUMMARY\u001b[0m\n",
            "\n",
            "TOTAL: 6, \u001b[92mPASSED\u001b[0m: 6, \u001b[91mFAILED\u001b[0m: 0\n"
          ]
        },
        {
          "output_type": "execute_result",
          "data": {
            "text/plain": [
              "[(309, True, 0.354),\n",
              " (0, True, 0.006),\n",
              " (3, True, 0.009),\n",
              " (1735, True, 0.11),\n",
              " (6, True, 0.018),\n",
              " (19, True, 0.091)]"
            ]
          },
          "metadata": {},
          "execution_count": 22
        }
      ],
      "source": [
        "evaluate_test_cases(knapsack, tests)"
      ]
    },
    {
      "cell_type": "markdown",
      "id": "5f7e5dc0",
      "metadata": {
        "id": "5f7e5dc0"
      },
      "source": [
        "Verify that all the test cases were evaluated. We expect them all to fail, since we haven't implemented the function yet.\n",
        "\n",
        "Let's save our work before continuing."
      ]
    },
    {
      "cell_type": "code",
      "execution_count": 23,
      "id": "bccafec0",
      "metadata": {
        "colab": {
          "base_uri": "https://localhost:8080/",
          "height": 107
        },
        "id": "bccafec0",
        "outputId": "910f150f-2775-4e53-8665-84566ba613c7"
      },
      "outputs": [
        {
          "output_type": "stream",
          "name": "stdout",
          "text": [
            "[jovian] Detected Colab notebook...\u001b[0m\n",
            "[jovian] Uploading colab notebook to Jovian...\u001b[0m\n",
            "Committed successfully! https://jovian.ai/deepak-dewani/knapsack-dynamic-programming\n"
          ]
        },
        {
          "output_type": "execute_result",
          "data": {
            "application/vnd.google.colaboratory.intrinsic+json": {
              "type": "string"
            },
            "text/plain": [
              "'https://jovian.ai/deepak-dewani/knapsack-dynamic-programming'"
            ]
          },
          "metadata": {},
          "execution_count": 23
        }
      ],
      "source": [
        "jovian.commit()"
      ]
    },
    {
      "cell_type": "code",
      "execution_count": null,
      "id": "88f52d76",
      "metadata": {
        "id": "88f52d76"
      },
      "outputs": [],
      "source": [
        ""
      ]
    },
    {
      "cell_type": "markdown",
      "id": "95c0cf33",
      "metadata": {
        "id": "95c0cf33"
      },
      "source": [
        "### 5. Analyze the algorithm's complexity and identify inefficiencies, if any."
      ]
    },
    {
      "cell_type": "markdown",
      "source": [
        "# **Memoization**"
      ],
      "metadata": {
        "id": "NfsYU7yOQgWb"
      },
      "id": "NfsYU7yOQgWb"
    },
    {
      "cell_type": "code",
      "execution_count": 25,
      "id": "e5bb90d2",
      "metadata": {
        "id": "e5bb90d2"
      },
      "outputs": [],
      "source": [
        "def knapsack_memo(capacity, weights, profits):\n",
        "  memo = {}\n",
        "  def recurse(idx1, idx2):\n",
        "    key = (idx1, idx2)\n",
        "    if key in memo:\n",
        "      return memo[key]\n",
        "    elif idx1 == len(weights):\n",
        "      return 0\n",
        "    elif weights[idx1] > idx2:\n",
        "      memo[key] = recurse(idx1 +1 , idx2)\n",
        "    else:\n",
        "      memo[key] = max(recurse(idx1 + 1, idx2),\n",
        "                      profits[idx1] + recurse(idx1 +1, idx2 - weights[idx1]))\n",
        "    return memo[key]\n",
        "  return recurse(0, capacity)\n"
      ]
    },
    {
      "cell_type": "code",
      "execution_count": 26,
      "id": "f644ebc2",
      "metadata": {
        "colab": {
          "base_uri": "https://localhost:8080/"
        },
        "id": "f644ebc2",
        "outputId": "4bd2f67a-331f-40fa-cddb-46852e452d8c"
      },
      "outputs": [
        {
          "output_type": "stream",
          "name": "stdout",
          "text": [
            "\n",
            "Input:\n",
            "{'capacity': 165, 'weights': [23, 31, 29, 44, 53, 38, 63, 85, 89, 82], 'profits': [92, 57, 49, 68, 6...\n",
            "\n",
            "Expected Output:\n",
            "309\n",
            "\n",
            "\n",
            "Actual Output:\n",
            "309\n",
            "\n",
            "Execution Time:\n",
            "0.445 ms\n",
            "\n",
            "Test Result:\n",
            "\u001b[92mPASSED\u001b[0m\n",
            "\n"
          ]
        },
        {
          "output_type": "execute_result",
          "data": {
            "text/plain": [
              "(309, True, 0.445)"
            ]
          },
          "metadata": {},
          "execution_count": 26
        }
      ],
      "source": [
        "evaluate_test_case(knapsack_memo, test0)"
      ]
    },
    {
      "cell_type": "code",
      "source": [
        "evaluate_test_cases(knapsack_memo, tests)"
      ],
      "metadata": {
        "colab": {
          "base_uri": "https://localhost:8080/"
        },
        "id": "_BEm2qSFV3lg",
        "outputId": "1fd7ddf7-a966-4598-c2a7-18161c3f91e4"
      },
      "id": "_BEm2qSFV3lg",
      "execution_count": 27,
      "outputs": [
        {
          "output_type": "stream",
          "name": "stdout",
          "text": [
            "\n",
            "\u001b[1mTEST CASE #0\u001b[0m\n",
            "\n",
            "Input:\n",
            "{'capacity': 165, 'weights': [23, 31, 29, 44, 53, 38, 63, 85, 89, 82], 'profits': [92, 57, 49, 68, 6...\n",
            "\n",
            "Expected Output:\n",
            "309\n",
            "\n",
            "\n",
            "Actual Output:\n",
            "309\n",
            "\n",
            "Execution Time:\n",
            "0.475 ms\n",
            "\n",
            "Test Result:\n",
            "\u001b[92mPASSED\u001b[0m\n",
            "\n",
            "\n",
            "\u001b[1mTEST CASE #1\u001b[0m\n",
            "\n",
            "Input:\n",
            "{'capacity': 3, 'weights': [4, 5, 6], 'profits': [1, 2, 3]}\n",
            "\n",
            "Expected Output:\n",
            "0\n",
            "\n",
            "\n",
            "Actual Output:\n",
            "0\n",
            "\n",
            "Execution Time:\n",
            "0.01 ms\n",
            "\n",
            "Test Result:\n",
            "\u001b[92mPASSED\u001b[0m\n",
            "\n",
            "\n",
            "\u001b[1mTEST CASE #2\u001b[0m\n",
            "\n",
            "Input:\n",
            "{'capacity': 4, 'weights': [4, 5, 1], 'profits': [1, 2, 3]}\n",
            "\n",
            "Expected Output:\n",
            "3\n",
            "\n",
            "\n",
            "Actual Output:\n",
            "3\n",
            "\n",
            "Execution Time:\n",
            "0.015 ms\n",
            "\n",
            "Test Result:\n",
            "\u001b[92mPASSED\u001b[0m\n",
            "\n",
            "\n",
            "\u001b[1mTEST CASE #3\u001b[0m\n",
            "\n",
            "Input:\n",
            "{'capacity': 170, 'weights': [41, 50, 49, 59, 55, 57, 60], 'profits': [442, 525, 511, 593, 546, 564,...\n",
            "\n",
            "Expected Output:\n",
            "1735\n",
            "\n",
            "\n",
            "Actual Output:\n",
            "1735\n",
            "\n",
            "Execution Time:\n",
            "0.164 ms\n",
            "\n",
            "Test Result:\n",
            "\u001b[92mPASSED\u001b[0m\n",
            "\n",
            "\n",
            "\u001b[1mTEST CASE #4\u001b[0m\n",
            "\n",
            "Input:\n",
            "{'capacity': 15, 'weights': [4, 5, 6], 'profits': [1, 2, 3]}\n",
            "\n",
            "Expected Output:\n",
            "6\n",
            "\n",
            "\n",
            "Actual Output:\n",
            "6\n",
            "\n",
            "Execution Time:\n",
            "0.02 ms\n",
            "\n",
            "Test Result:\n",
            "\u001b[92mPASSED\u001b[0m\n",
            "\n",
            "\n",
            "\u001b[1mTEST CASE #5\u001b[0m\n",
            "\n",
            "Input:\n",
            "{'capacity': 15, 'weights': [4, 5, 1, 3, 2, 5], 'profits': [2, 3, 1, 5, 4, 7]}\n",
            "\n",
            "Expected Output:\n",
            "19\n",
            "\n",
            "\n",
            "Actual Output:\n",
            "19\n",
            "\n",
            "Execution Time:\n",
            "0.08 ms\n",
            "\n",
            "Test Result:\n",
            "\u001b[92mPASSED\u001b[0m\n",
            "\n",
            "\n",
            "\u001b[1mSUMMARY\u001b[0m\n",
            "\n",
            "TOTAL: 6, \u001b[92mPASSED\u001b[0m: 6, \u001b[91mFAILED\u001b[0m: 0\n"
          ]
        },
        {
          "output_type": "execute_result",
          "data": {
            "text/plain": [
              "[(309, True, 0.475),\n",
              " (0, True, 0.01),\n",
              " (3, True, 0.015),\n",
              " (1735, True, 0.164),\n",
              " (6, True, 0.02),\n",
              " (19, True, 0.08)]"
            ]
          },
          "metadata": {},
          "execution_count": 27
        }
      ]
    },
    {
      "cell_type": "code",
      "execution_count": 28,
      "id": "d4c3c385",
      "metadata": {
        "colab": {
          "base_uri": "https://localhost:8080/",
          "height": 107
        },
        "id": "d4c3c385",
        "outputId": "a56ac7ef-d957-4417-dbf2-4b5c7cb1e3de"
      },
      "outputs": [
        {
          "output_type": "stream",
          "name": "stdout",
          "text": [
            "[jovian] Detected Colab notebook...\u001b[0m\n",
            "[jovian] Uploading colab notebook to Jovian...\u001b[0m\n",
            "Committed successfully! https://jovian.ai/deepak-dewani/knapsack-dynamic-programming\n"
          ]
        },
        {
          "output_type": "execute_result",
          "data": {
            "application/vnd.google.colaboratory.intrinsic+json": {
              "type": "string"
            },
            "text/plain": [
              "'https://jovian.ai/deepak-dewani/knapsack-dynamic-programming'"
            ]
          },
          "metadata": {},
          "execution_count": 28
        }
      ],
      "source": [
        "jovian.commit()"
      ]
    },
    {
      "cell_type": "markdown",
      "id": "4ab1fe64",
      "metadata": {
        "id": "4ab1fe64"
      },
      "source": [
        "### 6. Apply the right technique to overcome the inefficiency. Repeat steps 3 to 6."
      ]
    },
    {
      "cell_type": "markdown",
      "source": [
        "# **Dynamic Programming**"
      ],
      "metadata": {
        "id": "MyaFWDkjcY0x"
      },
      "id": "MyaFWDkjcY0x"
    },
    {
      "cell_type": "code",
      "execution_count": null,
      "id": "f0cc8c48",
      "metadata": {
        "id": "f0cc8c48"
      },
      "outputs": [],
      "source": [
        "jovian.commit()"
      ]
    },
    {
      "cell_type": "markdown",
      "id": "01f35def",
      "metadata": {
        "id": "01f35def"
      },
      "source": [
        "### 7. Come up with a correct solution for the problem. State it in plain English.\n",
        "\n",
        "Come with the optimized correct solution and explain it in simple words below:\n",
        "\n",
        "1. can we consider the first element from the lists\n",
        "2. if we choose the first element then we need to have the maximum profits from the remaining elements in the list.\n",
        "3. otherwise, by not selecting the first element, and getting the elements from the remaining list and maximize it. \n",
        "4. if capacity is less, then check for the maximum profit for the compairing elements and select with highest one.\n",
        "\n",
        "\n",
        "Let's save and upload our work before continuing.\n",
        "\n"
      ]
    },
    {
      "cell_type": "code",
      "execution_count": 32,
      "id": "cf81e62f",
      "metadata": {
        "colab": {
          "base_uri": "https://localhost:8080/",
          "height": 107
        },
        "id": "cf81e62f",
        "outputId": "72854cee-813f-4f03-ae8e-e32b316132d8"
      },
      "outputs": [
        {
          "output_type": "stream",
          "name": "stdout",
          "text": [
            "[jovian] Detected Colab notebook...\u001b[0m\n",
            "[jovian] Uploading colab notebook to Jovian...\u001b[0m\n",
            "Committed successfully! https://jovian.ai/deepak-dewani/knapsack-dynamic-programming\n"
          ]
        },
        {
          "output_type": "execute_result",
          "data": {
            "application/vnd.google.colaboratory.intrinsic+json": {
              "type": "string"
            },
            "text/plain": [
              "'https://jovian.ai/deepak-dewani/knapsack-dynamic-programming'"
            ]
          },
          "metadata": {},
          "execution_count": 32
        }
      ],
      "source": [
        "jovian.commit()"
      ]
    },
    {
      "cell_type": "markdown",
      "id": "09c6ffb8",
      "metadata": {
        "id": "09c6ffb8"
      },
      "source": [
        "### 8. Implement the solution and test it using example inputs. Fix bugs, if any."
      ]
    },
    {
      "cell_type": "code",
      "execution_count": 33,
      "id": "01908f72",
      "metadata": {
        "id": "01908f72"
      },
      "outputs": [],
      "source": [
        "def knapsack_dp(capacity, weights, profits):\n",
        "  result = [[0 for _ in range(capacity + 1)] for _ in range(len(weights))]\n",
        "\n",
        "  for idx in range(len(weights)):\n",
        "    for c in range(capacity + 1):\n",
        "      if idx == 0:\n",
        "        result[idx][c] = 0 if weights [idx] > c else profits[idx]\n",
        "      elif weights[idx] > c:\n",
        "        result[idx][c] = result[idx - 1][c]\n",
        "      else:\n",
        "        option1 = profits[idx] + result[idx - 1][c -weights[idx]]\n",
        "        option2 = result[idx - 1][c]\n",
        "        result[idx][c] = max(option1, option2)\n",
        "  return result[-1][-1]"
      ]
    },
    {
      "cell_type": "code",
      "execution_count": 34,
      "id": "b7eeaa44",
      "metadata": {
        "colab": {
          "base_uri": "https://localhost:8080/"
        },
        "id": "b7eeaa44",
        "outputId": "5c91b4bd-357a-469c-b248-72fb3fe18d76"
      },
      "outputs": [
        {
          "output_type": "stream",
          "name": "stdout",
          "text": [
            "\n",
            "Input:\n",
            "{'capacity': 165, 'weights': [23, 31, 29, 44, 53, 38, 63, 85, 89, 82], 'profits': [92, 57, 49, 68, 6...\n",
            "\n",
            "Expected Output:\n",
            "309\n",
            "\n",
            "\n",
            "Actual Output:\n",
            "309\n",
            "\n",
            "Execution Time:\n",
            "1.431 ms\n",
            "\n",
            "Test Result:\n",
            "\u001b[92mPASSED\u001b[0m\n",
            "\n"
          ]
        },
        {
          "output_type": "execute_result",
          "data": {
            "text/plain": [
              "(309, True, 1.431)"
            ]
          },
          "metadata": {},
          "execution_count": 34
        }
      ],
      "source": [
        "evaluate_test_case(knapsack_dp, test0)"
      ]
    },
    {
      "cell_type": "code",
      "execution_count": 35,
      "id": "6f4fee2c",
      "metadata": {
        "colab": {
          "base_uri": "https://localhost:8080/"
        },
        "id": "6f4fee2c",
        "outputId": "9b68ad6d-8d4c-4cd8-edbf-96bbc8308b5b"
      },
      "outputs": [
        {
          "output_type": "stream",
          "name": "stdout",
          "text": [
            "\n",
            "Input:\n",
            "{'capacity': 165, 'weights': [23, 31, 29, 44, 53, 38, 63, 85, 89, 82], 'profits': [92, 57, 49, 68, 6...\n",
            "\n",
            "Expected Output:\n",
            "309\n",
            "\n",
            "\n",
            "Actual Output:\n",
            "309\n",
            "\n",
            "Execution Time:\n",
            "0.85 ms\n",
            "\n",
            "Test Result:\n",
            "\u001b[92mPASSED\u001b[0m\n",
            "\n",
            "CPU times: user 1.07 ms, sys: 4 µs, total: 1.08 ms\n",
            "Wall time: 1.04 ms\n"
          ]
        },
        {
          "output_type": "execute_result",
          "data": {
            "text/plain": [
              "(309, True, 0.85)"
            ]
          },
          "metadata": {},
          "execution_count": 35
        }
      ],
      "source": [
        "%%time\n",
        "evaluate_test_case(knapsack_dp, test0)"
      ]
    },
    {
      "cell_type": "code",
      "execution_count": 36,
      "id": "4a5d20ca",
      "metadata": {
        "colab": {
          "base_uri": "https://localhost:8080/"
        },
        "id": "4a5d20ca",
        "outputId": "dd00303e-fdf8-44d1-c140-1c4b1442e708"
      },
      "outputs": [
        {
          "output_type": "stream",
          "name": "stdout",
          "text": [
            "\n",
            "\u001b[1mTEST CASE #0\u001b[0m\n",
            "\n",
            "Input:\n",
            "{'capacity': 165, 'weights': [23, 31, 29, 44, 53, 38, 63, 85, 89, 82], 'profits': [92, 57, 49, 68, 6...\n",
            "\n",
            "Expected Output:\n",
            "309\n",
            "\n",
            "\n",
            "Actual Output:\n",
            "309\n",
            "\n",
            "Execution Time:\n",
            "0.827 ms\n",
            "\n",
            "Test Result:\n",
            "\u001b[92mPASSED\u001b[0m\n",
            "\n",
            "\n",
            "\u001b[1mTEST CASE #1\u001b[0m\n",
            "\n",
            "Input:\n",
            "{'capacity': 3, 'weights': [4, 5, 6], 'profits': [1, 2, 3]}\n",
            "\n",
            "Expected Output:\n",
            "0\n",
            "\n",
            "\n",
            "Actual Output:\n",
            "0\n",
            "\n",
            "Execution Time:\n",
            "0.03 ms\n",
            "\n",
            "Test Result:\n",
            "\u001b[92mPASSED\u001b[0m\n",
            "\n",
            "\n",
            "\u001b[1mTEST CASE #2\u001b[0m\n",
            "\n",
            "Input:\n",
            "{'capacity': 4, 'weights': [4, 5, 1], 'profits': [1, 2, 3]}\n",
            "\n",
            "Expected Output:\n",
            "3\n",
            "\n",
            "\n",
            "Actual Output:\n",
            "3\n",
            "\n",
            "Execution Time:\n",
            "0.021 ms\n",
            "\n",
            "Test Result:\n",
            "\u001b[92mPASSED\u001b[0m\n",
            "\n",
            "\n",
            "\u001b[1mTEST CASE #3\u001b[0m\n",
            "\n",
            "Input:\n",
            "{'capacity': 170, 'weights': [41, 50, 49, 59, 55, 57, 60], 'profits': [442, 525, 511, 593, 546, 564,...\n",
            "\n",
            "Expected Output:\n",
            "1735\n",
            "\n",
            "\n",
            "Actual Output:\n",
            "1735\n",
            "\n",
            "Execution Time:\n",
            "1.014 ms\n",
            "\n",
            "Test Result:\n",
            "\u001b[92mPASSED\u001b[0m\n",
            "\n",
            "\n",
            "\u001b[1mTEST CASE #4\u001b[0m\n",
            "\n",
            "Input:\n",
            "{'capacity': 15, 'weights': [4, 5, 6], 'profits': [1, 2, 3]}\n",
            "\n",
            "Expected Output:\n",
            "6\n",
            "\n",
            "\n",
            "Actual Output:\n",
            "6\n",
            "\n",
            "Execution Time:\n",
            "0.043 ms\n",
            "\n",
            "Test Result:\n",
            "\u001b[92mPASSED\u001b[0m\n",
            "\n",
            "\n",
            "\u001b[1mTEST CASE #5\u001b[0m\n",
            "\n",
            "Input:\n",
            "{'capacity': 15, 'weights': [4, 5, 1, 3, 2, 5], 'profits': [2, 3, 1, 5, 4, 7]}\n",
            "\n",
            "Expected Output:\n",
            "19\n",
            "\n",
            "\n",
            "Actual Output:\n",
            "19\n",
            "\n",
            "Execution Time:\n",
            "0.128 ms\n",
            "\n",
            "Test Result:\n",
            "\u001b[92mPASSED\u001b[0m\n",
            "\n",
            "\n",
            "\u001b[1mSUMMARY\u001b[0m\n",
            "\n",
            "TOTAL: 6, \u001b[92mPASSED\u001b[0m: 6, \u001b[91mFAILED\u001b[0m: 0\n"
          ]
        },
        {
          "output_type": "execute_result",
          "data": {
            "text/plain": [
              "[(309, True, 0.827),\n",
              " (0, True, 0.03),\n",
              " (3, True, 0.021),\n",
              " (1735, True, 1.014),\n",
              " (6, True, 0.043),\n",
              " (19, True, 0.128)]"
            ]
          },
          "metadata": {},
          "execution_count": 36
        }
      ],
      "source": [
        "evaluate_test_cases(knapsack_dp, tests)"
      ]
    },
    {
      "cell_type": "markdown",
      "id": "1593da23",
      "metadata": {
        "id": "1593da23"
      },
      "source": [
        "### 9. Analyze the algorithm's complexity and identify inefficiencies, if any.\n",
        "\n",
        "The time complexity for dynamic programming is O(n*n)"
      ]
    },
    {
      "cell_type": "markdown",
      "id": "3dbf13c2",
      "metadata": {
        "id": "3dbf13c2"
      },
      "source": [
        "If you found the problem on an external platform, you can make a submission to test your solution.\n",
        "\n",
        "Share your approach and start a discussion on the Jovian forum: https://jovian.ai/forum/c/data-structures-and-algorithms-in-python/78"
      ]
    },
    {
      "cell_type": "code",
      "execution_count": 37,
      "id": "19eb2228",
      "metadata": {
        "colab": {
          "base_uri": "https://localhost:8080/",
          "height": 107
        },
        "id": "19eb2228",
        "outputId": "a2628ec7-7e9b-4d9c-fd6c-bdbd630ef2de"
      },
      "outputs": [
        {
          "output_type": "stream",
          "name": "stdout",
          "text": [
            "[jovian] Detected Colab notebook...\u001b[0m\n",
            "[jovian] Uploading colab notebook to Jovian...\u001b[0m\n",
            "Committed successfully! https://jovian.ai/deepak-dewani/knapsack-dynamic-programming\n"
          ]
        },
        {
          "output_type": "execute_result",
          "data": {
            "application/vnd.google.colaboratory.intrinsic+json": {
              "type": "string"
            },
            "text/plain": [
              "'https://jovian.ai/deepak-dewani/knapsack-dynamic-programming'"
            ]
          },
          "metadata": {},
          "execution_count": 37
        }
      ],
      "source": [
        "jovian.commit()"
      ]
    },
    {
      "cell_type": "code",
      "execution_count": null,
      "id": "8f537e72",
      "metadata": {
        "id": "8f537e72"
      },
      "outputs": [],
      "source": [
        ""
      ]
    }
  ],
  "metadata": {
    "kernelspec": {
      "display_name": "Python 3",
      "language": "python",
      "name": "python3"
    },
    "language_info": {
      "codemirror_mode": {
        "name": "ipython",
        "version": 3
      },
      "file_extension": ".py",
      "mimetype": "text/x-python",
      "name": "python",
      "nbconvert_exporter": "python",
      "pygments_lexer": "ipython3",
      "version": "3.8.6"
    },
    "colab": {
      "name": "04_01_python-Dynamic-programming-knapsack.ipynb",
      "provenance": [],
      "collapsed_sections": [],
      "include_colab_link": true
    }
  },
  "nbformat": 4,
  "nbformat_minor": 5
}