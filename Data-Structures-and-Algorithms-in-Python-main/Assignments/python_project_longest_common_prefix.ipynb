{
  "cells": [
    {
      "cell_type": "markdown",
      "metadata": {
        "id": "view-in-github",
        "colab_type": "text"
      },
      "source": [
        "<a href=\"https://colab.research.google.com/github/deepak-dewani/Data-Structures-and-Algorithms-in-Python/blob/main/python_project_longest_common_prefix.ipynb\" target=\"_parent\"><img src=\"https://colab.research.google.com/assets/colab-badge.svg\" alt=\"Open In Colab\"/></a>"
      ]
    },
    {
      "cell_type": "code",
      "execution_count": 97,
      "id": "fdbd9e68",
      "metadata": {
        "id": "fdbd9e68"
      },
      "outputs": [],
      "source": [
        "# Jovian Commit Essentials\n",
        "# Please retain and execute this cell without modifying the contents for `jovian.commit` to work\n",
        "!pip install jovian --upgrade -q\n",
        "import jovian\n",
        "jovian.set_project('longest-common-prefix')\n",
        "jovian.set_colab_id('1436UipTuJyie7ZhP3QWdSXhMF23MK9GJ')"
      ]
    },
    {
      "cell_type": "markdown",
      "id": "79f03314",
      "metadata": {
        "id": "79f03314"
      },
      "source": [
        "# Problem Solving Template (Longest_Common_prefix)\n",
        "\n",
        "_To learn how to use this template, check out the course [\"Data Structures and Algorithms in Python\"](https://jovian.ai/learn/data-structures-and-algorithms-in-python)._\n",
        "\n",
        "\n"
      ]
    },
    {
      "cell_type": "markdown",
      "id": "bcb6921f",
      "metadata": {
        "id": "bcb6921f"
      },
      "source": [
        "## How to run the code and save your work\n",
        "\n",
        "The recommended way to run this notebook is to click the \"Run\" button at the top of this page, and select \"Run on Binder\". This will run the notebook on [mybinder.org](https://mybinder.org), a free online service for running Jupyter notebooks. \n",
        "\n",
        "This tutorial is an executable [Jupyter notebook](https://jupyter.org). You can _run_ this tutorial and experiment with the code examples in a couple of ways: *using free online resources* (recommended) or *on your computer*.\n",
        "\n",
        "#### Option 1: Running using free online resources (1-click, recommended)\n",
        "\n",
        "The easiest way to start executing the code is to click the **Run** button at the top of this page and select **Run on Binder**. You can also select \"Run on Colab\" or \"Run on Kaggle\", but you'll need to create an account on [Google Colab](https://colab.research.google.com) or [Kaggle](https://kaggle.com) to use these platforms.\n",
        "\n",
        "\n",
        "#### Option 2: Running on your computer locally\n",
        "\n",
        "To run the code on your computer locally, you'll need to set up [Python](https://www.python.org), download the notebook and install the required libraries. We recommend using the [Conda](https://docs.conda.io/projects/conda/en/latest/user-guide/install/) distribution of Python. Click the **Run** button at the top of this page, select the **Run Locally** option, and follow the instructions.\n",
        "\n",
        "#### Saving your work\n",
        "\n",
        "Before staring the assignment, let's save a snapshot of the assignment to your [Jovian](https://jovian.ai) profile, so that you can access it later, and continue your work."
      ]
    },
    {
      "cell_type": "code",
      "execution_count": 98,
      "id": "705cdc77",
      "metadata": {
        "id": "705cdc77"
      },
      "outputs": [],
      "source": [
        "project_name = 'Longest_Common_prefix'"
      ]
    },
    {
      "cell_type": "code",
      "execution_count": 99,
      "id": "4187f74a",
      "metadata": {
        "id": "4187f74a"
      },
      "outputs": [],
      "source": [
        "!pip install jovian --upgrade --quiet"
      ]
    },
    {
      "cell_type": "code",
      "execution_count": 100,
      "id": "e8d423f2",
      "metadata": {
        "id": "e8d423f2"
      },
      "outputs": [],
      "source": [
        "import jovian"
      ]
    },
    {
      "cell_type": "code",
      "execution_count": 101,
      "id": "12ed299e",
      "metadata": {
        "colab": {
          "base_uri": "https://localhost:8080/",
          "height": 87
        },
        "id": "12ed299e",
        "outputId": "c03f8964-d9b9-42a5-c941-78fcf23b6d2f"
      },
      "outputs": [
        {
          "output_type": "stream",
          "name": "stdout",
          "text": [
            "[jovian] Detected Colab notebook...\u001b[0m\n",
            "[jovian] Uploading colab notebook to Jovian...\u001b[0m\n",
            "Committed successfully! https://jovian.ai/deepak-dewani/longest-common-prefix\n"
          ]
        },
        {
          "output_type": "execute_result",
          "data": {
            "application/vnd.google.colaboratory.intrinsic+json": {
              "type": "string"
            },
            "text/plain": [
              "'https://jovian.ai/deepak-dewani/longest-common-prefix'"
            ]
          },
          "metadata": {},
          "execution_count": 101
        }
      ],
      "source": [
        "jovian.commit(project=project_name)"
      ]
    },
    {
      "cell_type": "markdown",
      "id": "85702b73",
      "metadata": {
        "id": "85702b73"
      },
      "source": [
        "## Problem Statement\n",
        "\n",
        "\n",
        ">**Given a set of strings, find the longest common prefix.** \n",
        "\n",
        "**Example1:**\n",
        "\n",
        "Input  : {“geeksforgeeks”, “geeks”, “geek”, “geezer”}\n",
        "\n",
        "Output : \"gee\"\n",
        "\n",
        "**Example2:**\n",
        "\n",
        "Input  : {\"apple\", \"ape\", \"april\"}\n",
        "\n",
        "Output : \"ap\"\n",
        "\n",
        "\n"
      ]
    },
    {
      "cell_type": "markdown",
      "id": "6ecc37c8",
      "metadata": {
        "id": "6ecc37c8"
      },
      "source": [
        "## The Method\n",
        "\n",
        "Here's the systematic strategy we'll apply for solving problems:\n",
        "\n",
        "1. State the problem clearly. Identify the input & output formats.\n",
        "2. Come up with some example inputs & outputs. Try to cover all edge cases.\n",
        "3. Come up with a correct solution for the problem. State it in plain English.\n",
        "4. Implement the solution and test it using example inputs. Fix bugs, if any.\n",
        "5. Analyze the algorithm's complexity and identify inefficiencies, if any.\n",
        "6. Apply the right technique to overcome the inefficiency. Repeat steps 3 to 6.\n",
        "\n",
        "This approach is explained in detail in [Lesson 1](https://jovian.ai/learn/data-structures-and-algorithms-in-python/lesson/lesson-1-binary-search-linked-lists-and-complexity) of the course. Let's apply this approach step-by-step."
      ]
    },
    {
      "cell_type": "markdown",
      "id": "dfca133e",
      "metadata": {
        "id": "dfca133e"
      },
      "source": [
        "## Solution\n",
        "\n",
        "\n",
        "### 1. State the problem clearly. Identify the input & output formats.\n",
        "\n",
        "While this problem is stated clearly enough, it's always useful to try and express in your own words, in a way that makes it most clear for you. \n",
        "\n",
        "\n",
        "**Problem**\n",
        "\n",
        "> We are given the array of strings, and by checking each element, we need to find the longest common prefix in each elements.\n",
        "\n",
        "<br/>\n",
        "\n",
        "\n",
        "**Input**\n",
        "\n",
        "1. a array of string e.g {\"apple\", \"ape\", \"april\"}\n",
        "2. length of the list\n",
        "\n",
        "\n",
        "**Output**\n",
        "\n",
        "1. common prefix e.g 'ap'\n",
        "\n",
        "\n",
        "\n",
        "\n",
        "<br/>\n",
        "\n",
        "Based on the above, we can now create a signature of our function:"
      ]
    },
    {
      "cell_type": "code",
      "execution_count": 102,
      "id": "28ea72b2",
      "metadata": {
        "id": "28ea72b2"
      },
      "outputs": [],
      "source": [
        "# Create a function signature here. The body of the function can contain a single statement: pass\n",
        "\n",
        "def longest_common_prefix(str1, str2, str3):\n",
        "  pass\n"
      ]
    },
    {
      "cell_type": "markdown",
      "id": "6e7d5100",
      "metadata": {
        "id": "6e7d5100"
      },
      "source": [
        "Save and upload your work before continuing."
      ]
    },
    {
      "cell_type": "code",
      "execution_count": 103,
      "id": "da8c613e",
      "metadata": {
        "id": "da8c613e"
      },
      "outputs": [],
      "source": [
        "import jovian"
      ]
    },
    {
      "cell_type": "code",
      "execution_count": 104,
      "id": "620e5ba1",
      "metadata": {
        "colab": {
          "base_uri": "https://localhost:8080/",
          "height": 87
        },
        "id": "620e5ba1",
        "outputId": "ff13ca87-c292-44ec-cd89-4d4463a8a623"
      },
      "outputs": [
        {
          "output_type": "stream",
          "name": "stdout",
          "text": [
            "[jovian] Detected Colab notebook...\u001b[0m\n",
            "[jovian] Uploading colab notebook to Jovian...\u001b[0m\n",
            "Committed successfully! https://jovian.ai/deepak-dewani/longest-common-prefix\n"
          ]
        },
        {
          "output_type": "execute_result",
          "data": {
            "application/vnd.google.colaboratory.intrinsic+json": {
              "type": "string"
            },
            "text/plain": [
              "'https://jovian.ai/deepak-dewani/longest-common-prefix'"
            ]
          },
          "metadata": {},
          "execution_count": 104
        }
      ],
      "source": [
        "jovian.commit()"
      ]
    },
    {
      "cell_type": "markdown",
      "id": "d471ae39",
      "metadata": {
        "id": "d471ae39"
      },
      "source": [
        "### 2. Come up with some example inputs & outputs. Try to cover all edge cases.\n",
        "\n",
        "Our function should be able to handle any set of valid inputs we pass into it. Here's a list of some possible variations we might encounter:\n",
        "\n",
        "1. a generic case which is stated in problem\n",
        "2. another example with less elements\n",
        "3. a list contain one element\n",
        "4. a list contain different elements\n",
        "\n",
        "\n",
        "\n",
        "\n",
        "We'll express our test cases as dictionaries, to test them easily. Each dictionary will contain 2 keys: `input` (a dictionary itself containing one key for each argument to the function and `output` (the expected result from the function). "
      ]
    },
    {
      "cell_type": "code",
      "execution_count": 105,
      "id": "daa975e2",
      "metadata": {
        "id": "daa975e2"
      },
      "outputs": [],
      "source": [
        "test0 = {\n",
        "    'input': { 'arr': ['geeksforgeeks', 'geeks', 'geek', 'geezer'] , 'n' : 4}, \n",
        "    'output': 'gee'\n",
        "}"
      ]
    },
    {
      "cell_type": "markdown",
      "id": "582dbb34",
      "metadata": {
        "id": "582dbb34"
      },
      "source": [
        "Create one test case for each of the scenarios listed above. We'll store our test cases in an array called `tests`."
      ]
    },
    {
      "cell_type": "code",
      "source": [
        "test1 = {\n",
        "    'input': { 'arr':  [\"apple\", \"ape\", \"april\"], 'n': 3},\n",
        "    'output': 'ap'\n",
        "}\n",
        "\n",
        "test2 = {\n",
        "    'input': { 'arr': [\"apple\", \"ahead\", \"xyz\"] , 'n' : 3},\n",
        "    'output': ''\n",
        "}\n",
        "\n",
        "test3 = {\n",
        "    'input': {'arr' : ['app'], 'n': 1},\n",
        "    'output': 'app'\n",
        "}\n",
        "\n",
        "tests = [test0, test1, test2, test3]"
      ],
      "metadata": {
        "id": "4w4_dm189AJn"
      },
      "id": "4w4_dm189AJn",
      "execution_count": 106,
      "outputs": []
    },
    {
      "cell_type": "markdown",
      "id": "76cd404b",
      "metadata": {
        "id": "76cd404b"
      },
      "source": [
        "### 3. Come up with a correct solution for the problem. State it in plain English.\n",
        "\n",
        "Our first goal should always be to come up with a _correct_ solution to the problem, which may not necessarily be the most _efficient_ solution. Come with a correct solution and explain it in simple words below:\n",
        "\n",
        "1. first we would find the length of the common prefix\n",
        "2. if the list contain only one element then the output is the same as input\n",
        "3. if the list contain different element then the output will be empty string\n",
        "4. if two element have same common prefix but the another or rest element don't, then also it will return empty list.\n",
        "\n",
        "\n",
        "(add more steps if required)\n",
        "\n",
        "\n",
        "Let's save and upload our work before continuing.\n",
        "\n",
        "\n"
      ]
    },
    {
      "cell_type": "code",
      "execution_count": 107,
      "id": "311b8fad",
      "metadata": {
        "colab": {
          "base_uri": "https://localhost:8080/",
          "height": 87
        },
        "id": "311b8fad",
        "outputId": "557bdda4-6597-4621-cc4e-6c743c503f9f"
      },
      "outputs": [
        {
          "output_type": "stream",
          "name": "stdout",
          "text": [
            "[jovian] Detected Colab notebook...\u001b[0m\n",
            "[jovian] Uploading colab notebook to Jovian...\u001b[0m\n",
            "Committed successfully! https://jovian.ai/deepak-dewani/longest-common-prefix\n"
          ]
        },
        {
          "output_type": "execute_result",
          "data": {
            "application/vnd.google.colaboratory.intrinsic+json": {
              "type": "string"
            },
            "text/plain": [
              "'https://jovian.ai/deepak-dewani/longest-common-prefix'"
            ]
          },
          "metadata": {},
          "execution_count": 107
        }
      ],
      "source": [
        "jovian.commit()"
      ]
    },
    {
      "cell_type": "markdown",
      "id": "3e8be8b4",
      "metadata": {
        "id": "3e8be8b4"
      },
      "source": [
        "###  4. Implement the solution and test it using example inputs. Fix bugs, if any."
      ]
    },
    {
      "cell_type": "code",
      "execution_count": 108,
      "id": "cce4b56d",
      "metadata": {
        "id": "cce4b56d"
      },
      "outputs": [],
      "source": [
        "# common prefix\n",
        " \n",
        "# A Utility Function to find the common\n",
        "# prefix between strings- str1 and str2\n",
        "def commonPrefixUtil(str1, str2):\n",
        " \n",
        "    result = \"\";\n",
        "    n1 = len(str1)\n",
        "    n2 = len(str2)\n",
        " \n",
        "    # Compare str1 and str2\n",
        "    i = 0\n",
        "    j = 0\n",
        "    while i <= n1 - 1 and j <= n2 - 1:\n",
        "     \n",
        "        if (str1[i] != str2[j]):\n",
        "            break\n",
        "             \n",
        "        result += str1[i]\n",
        "        i += 1\n",
        "        j += 1\n",
        " \n",
        "    return (result)\n",
        " \n",
        "# A Function that returns the longest\n",
        "# common prefix from the array of strings\n",
        "def commonPrefix (arr, n):\n",
        "  if arr is None:\n",
        "    return ''\n",
        "  prefix = arr[0]\n",
        "  for i in range (1, n):\n",
        "    prefix = commonPrefixUtil(prefix, arr[i])\n",
        " \n",
        "  return (prefix)"
      ]
    },
    {
      "cell_type": "code",
      "execution_count": 109,
      "id": "d068995d",
      "metadata": {
        "colab": {
          "base_uri": "https://localhost:8080/"
        },
        "id": "d068995d",
        "outputId": "786f1c59-d578-465f-b557-ac0b45f8993e"
      },
      "outputs": [
        {
          "output_type": "execute_result",
          "data": {
            "text/plain": [
              "True"
            ]
          },
          "metadata": {},
          "execution_count": 109
        }
      ],
      "source": [
        "num0 = test0['input']['arr']\n",
        "num1 = test0['input']['n']\n",
        "\n",
        "output0 = test0['output']\n",
        "\n",
        "result = commonPrefix(num0, num1)\n",
        "result\n",
        "\n",
        "result == output0"
      ]
    },
    {
      "cell_type": "markdown",
      "id": "3f3507bf",
      "metadata": {
        "id": "3f3507bf"
      },
      "source": [
        "We can test the function by passing the input to it directly or by using the `evaluate_test_case` function from `jovian`."
      ]
    },
    {
      "cell_type": "code",
      "execution_count": 110,
      "id": "b1a1452a",
      "metadata": {
        "id": "b1a1452a"
      },
      "outputs": [],
      "source": [
        "from jovian.pythondsa import evaluate_test_case"
      ]
    },
    {
      "cell_type": "code",
      "execution_count": 111,
      "id": "23ec813f",
      "metadata": {
        "colab": {
          "base_uri": "https://localhost:8080/"
        },
        "id": "23ec813f",
        "outputId": "3d5ee9fb-7e1c-41dd-b1a3-ba021fdac5bf"
      },
      "outputs": [
        {
          "output_type": "stream",
          "name": "stdout",
          "text": [
            "\n",
            "Input:\n",
            "{'arr': ['geeksforgeeks', 'geeks', 'geek', 'geezer'], 'n': 4}\n",
            "\n",
            "Expected Output:\n",
            "gee\n",
            "\n",
            "\n",
            "Actual Output:\n",
            "gee\n",
            "\n",
            "Execution Time:\n",
            "0.025 ms\n",
            "\n",
            "Test Result:\n",
            "\u001b[92mPASSED\u001b[0m\n",
            "\n"
          ]
        },
        {
          "output_type": "execute_result",
          "data": {
            "text/plain": [
              "('gee', True, 0.025)"
            ]
          },
          "metadata": {},
          "execution_count": 111
        }
      ],
      "source": [
        "evaluate_test_case(commonPrefix, test0)"
      ]
    },
    {
      "cell_type": "code",
      "source": [
        "evaluate_test_case(commonPrefix, test1)"
      ],
      "metadata": {
        "colab": {
          "base_uri": "https://localhost:8080/"
        },
        "id": "lnAbt7EYLPFR",
        "outputId": "53d6c159-941e-4c0c-da34-eebdd384aa20"
      },
      "id": "lnAbt7EYLPFR",
      "execution_count": 112,
      "outputs": [
        {
          "output_type": "stream",
          "name": "stdout",
          "text": [
            "\n",
            "Input:\n",
            "{'arr': ['apple', 'ape', 'april'], 'n': 3}\n",
            "\n",
            "Expected Output:\n",
            "ap\n",
            "\n",
            "\n",
            "Actual Output:\n",
            "ap\n",
            "\n",
            "Execution Time:\n",
            "0.015 ms\n",
            "\n",
            "Test Result:\n",
            "\u001b[92mPASSED\u001b[0m\n",
            "\n"
          ]
        },
        {
          "output_type": "execute_result",
          "data": {
            "text/plain": [
              "('ap', True, 0.015)"
            ]
          },
          "metadata": {},
          "execution_count": 112
        }
      ]
    },
    {
      "cell_type": "markdown",
      "id": "10dd2b56",
      "metadata": {
        "id": "10dd2b56"
      },
      "source": [
        "Evaluate your function against all the test cases together using the `evaluate_test_cases` (plural) function from `jovian`."
      ]
    },
    {
      "cell_type": "code",
      "execution_count": 113,
      "id": "3fe2eff1",
      "metadata": {
        "id": "3fe2eff1"
      },
      "outputs": [],
      "source": [
        "from jovian.pythondsa import evaluate_test_cases"
      ]
    },
    {
      "cell_type": "code",
      "execution_count": 114,
      "id": "cad55fbc",
      "metadata": {
        "colab": {
          "base_uri": "https://localhost:8080/"
        },
        "id": "cad55fbc",
        "outputId": "8c4fd9a2-3753-40e1-b0f9-c07bb46bfbd6"
      },
      "outputs": [
        {
          "output_type": "stream",
          "name": "stdout",
          "text": [
            "\n",
            "\u001b[1mTEST CASE #0\u001b[0m\n",
            "\n",
            "Input:\n",
            "{'arr': ['geeksforgeeks', 'geeks', 'geek', 'geezer'], 'n': 4}\n",
            "\n",
            "Expected Output:\n",
            "gee\n",
            "\n",
            "\n",
            "Actual Output:\n",
            "gee\n",
            "\n",
            "Execution Time:\n",
            "0.023 ms\n",
            "\n",
            "Test Result:\n",
            "\u001b[92mPASSED\u001b[0m\n",
            "\n",
            "\n",
            "\u001b[1mTEST CASE #1\u001b[0m\n",
            "\n",
            "Input:\n",
            "{'arr': ['apple', 'ape', 'april'], 'n': 3}\n",
            "\n",
            "Expected Output:\n",
            "ap\n",
            "\n",
            "\n",
            "Actual Output:\n",
            "ap\n",
            "\n",
            "Execution Time:\n",
            "0.012 ms\n",
            "\n",
            "Test Result:\n",
            "\u001b[92mPASSED\u001b[0m\n",
            "\n",
            "\n",
            "\u001b[1mTEST CASE #2\u001b[0m\n",
            "\n",
            "Input:\n",
            "{'arr': ['apple', 'ahead', 'xyz'], 'n': 3}\n",
            "\n",
            "Expected Output:\n",
            "\n",
            "\n",
            "\n",
            "Actual Output:\n",
            "\n",
            "\n",
            "Execution Time:\n",
            "0.009 ms\n",
            "\n",
            "Test Result:\n",
            "\u001b[92mPASSED\u001b[0m\n",
            "\n",
            "\n",
            "\u001b[1mTEST CASE #3\u001b[0m\n",
            "\n",
            "Input:\n",
            "{'arr': ['app'], 'n': 1}\n",
            "\n",
            "Expected Output:\n",
            "app\n",
            "\n",
            "\n",
            "Actual Output:\n",
            "app\n",
            "\n",
            "Execution Time:\n",
            "0.004 ms\n",
            "\n",
            "Test Result:\n",
            "\u001b[92mPASSED\u001b[0m\n",
            "\n",
            "\n",
            "\u001b[1mSUMMARY\u001b[0m\n",
            "\n",
            "TOTAL: 4, \u001b[92mPASSED\u001b[0m: 4, \u001b[91mFAILED\u001b[0m: 0\n"
          ]
        },
        {
          "output_type": "execute_result",
          "data": {
            "text/plain": [
              "[('gee', True, 0.023),\n",
              " ('ap', True, 0.012),\n",
              " ('', True, 0.009),\n",
              " ('app', True, 0.004)]"
            ]
          },
          "metadata": {},
          "execution_count": 114
        }
      ],
      "source": [
        "evaluate_test_cases(commonPrefix, tests)"
      ]
    },
    {
      "cell_type": "code",
      "execution_count": 115,
      "id": "99a07071",
      "metadata": {
        "colab": {
          "base_uri": "https://localhost:8080/",
          "height": 87
        },
        "id": "99a07071",
        "outputId": "956e9da2-525c-4dee-9429-05fffb12c7d4"
      },
      "outputs": [
        {
          "output_type": "stream",
          "name": "stdout",
          "text": [
            "[jovian] Detected Colab notebook...\u001b[0m\n",
            "[jovian] Uploading colab notebook to Jovian...\u001b[0m\n",
            "Committed successfully! https://jovian.ai/deepak-dewani/longest-common-prefix\n"
          ]
        },
        {
          "output_type": "execute_result",
          "data": {
            "application/vnd.google.colaboratory.intrinsic+json": {
              "type": "string"
            },
            "text/plain": [
              "'https://jovian.ai/deepak-dewani/longest-common-prefix'"
            ]
          },
          "metadata": {},
          "execution_count": 115
        }
      ],
      "source": [
        "jovian.commit()"
      ]
    },
    {
      "cell_type": "markdown",
      "id": "d5afd3c8",
      "metadata": {
        "id": "d5afd3c8"
      },
      "source": [
        "### 5. Analyze the algorithm's complexity and identify inefficiencies, if any."
      ]
    },
    {
      "cell_type": "markdown",
      "source": [
        "Time Complexity :\n",
        " Since we are iterating through all the strings and for each string we are iterating though each characters, so we can say that the time complexity is      O(N * M)"
      ],
      "metadata": {
        "id": "78BM3msLLpHE"
      },
      "id": "78BM3msLLpHE"
    },
    {
      "cell_type": "code",
      "execution_count": 116,
      "id": "84934cd3",
      "metadata": {
        "colab": {
          "base_uri": "https://localhost:8080/",
          "height": 87
        },
        "id": "84934cd3",
        "outputId": "619e69c4-18a7-428b-e049-812081b6f8cc"
      },
      "outputs": [
        {
          "output_type": "stream",
          "name": "stdout",
          "text": [
            "[jovian] Detected Colab notebook...\u001b[0m\n",
            "[jovian] Uploading colab notebook to Jovian...\u001b[0m\n",
            "Committed successfully! https://jovian.ai/deepak-dewani/longest-common-prefix\n"
          ]
        },
        {
          "output_type": "execute_result",
          "data": {
            "application/vnd.google.colaboratory.intrinsic+json": {
              "type": "string"
            },
            "text/plain": [
              "'https://jovian.ai/deepak-dewani/longest-common-prefix'"
            ]
          },
          "metadata": {},
          "execution_count": 116
        }
      ],
      "source": [
        "jovian.commit()"
      ]
    },
    {
      "cell_type": "markdown",
      "id": "fa410b96",
      "metadata": {
        "id": "fa410b96"
      },
      "source": [
        "### 6. Apply the right technique to overcome the inefficiency. Repeat steps 3 to 6."
      ]
    },
    {
      "cell_type": "markdown",
      "source": [
        "Suppose we have the input strings as- “geeksforgeeks”, “geeks”, “geek”, “geezer”, “x”.\n",
        "Now there is no common prefix string of the above strings. By the “Word by Word Matching” algorithm discussed in previously, we come to the conclusion that there is no common prefix string by traversing all the strings. But if we use the below algorithm, then in the first iteration itself we will come to know that there is no common prefix string, as we don’t go further to look for the second character of each strings. \n",
        "This algorithm has a huge advantage when there are too many strings. "
      ],
      "metadata": {
        "id": "UQ8Xf7lQNFAy"
      },
      "id": "UQ8Xf7lQNFAy"
    },
    {
      "cell_type": "code",
      "execution_count": 117,
      "id": "38faaf56",
      "metadata": {
        "colab": {
          "base_uri": "https://localhost:8080/",
          "height": 87
        },
        "id": "38faaf56",
        "outputId": "8244ac87-2309-48d6-f1fb-e2f5357ffc99"
      },
      "outputs": [
        {
          "output_type": "stream",
          "name": "stdout",
          "text": [
            "[jovian] Detected Colab notebook...\u001b[0m\n",
            "[jovian] Uploading colab notebook to Jovian...\u001b[0m\n",
            "Committed successfully! https://jovian.ai/deepak-dewani/longest-common-prefix\n"
          ]
        },
        {
          "output_type": "execute_result",
          "data": {
            "application/vnd.google.colaboratory.intrinsic+json": {
              "type": "string"
            },
            "text/plain": [
              "'https://jovian.ai/deepak-dewani/longest-common-prefix'"
            ]
          },
          "metadata": {},
          "execution_count": 117
        }
      ],
      "source": [
        "jovian.commit()"
      ]
    },
    {
      "cell_type": "markdown",
      "id": "6f704f58",
      "metadata": {
        "id": "6f704f58"
      },
      "source": [
        "### 7. Come up with a correct solution for the problem. State it in plain English.\n",
        "\n",
        "Come with the optimized correct solution and explain it in simple words below:\n",
        "\n",
        "Suppose you have the input strings as- “geeksforgeeks”, “geeks”, “geek”, “geezer”, “x”.\n",
        "Now there is no common prefix string of the above strings. By the “Word by Word Matching” algorithm previously, we come to the conclusion that there is no common prefix string by traversing all the strings. But if we use this algorithm, then in the first iteration itself we will come to know that there is no common prefix string, as we don’t go further to look for the second character of each strings. \n",
        "This algorithm has a huge advantage when there are too many strings. \n",
        "\n",
        "\n",
        "\n",
        "\n",
        "Let's save and upload our work before continuing.\n",
        "\n"
      ]
    },
    {
      "cell_type": "code",
      "execution_count": 118,
      "id": "e06e1bf1",
      "metadata": {
        "colab": {
          "base_uri": "https://localhost:8080/",
          "height": 87
        },
        "id": "e06e1bf1",
        "outputId": "be2d0e9d-c0b0-4cda-bb35-3c531f68a266"
      },
      "outputs": [
        {
          "output_type": "stream",
          "name": "stdout",
          "text": [
            "[jovian] Detected Colab notebook...\u001b[0m\n",
            "[jovian] Uploading colab notebook to Jovian...\u001b[0m\n",
            "Committed successfully! https://jovian.ai/deepak-dewani/longest-common-prefix\n"
          ]
        },
        {
          "output_type": "execute_result",
          "data": {
            "application/vnd.google.colaboratory.intrinsic+json": {
              "type": "string"
            },
            "text/plain": [
              "'https://jovian.ai/deepak-dewani/longest-common-prefix'"
            ]
          },
          "metadata": {},
          "execution_count": 118
        }
      ],
      "source": [
        "jovian.commit()"
      ]
    },
    {
      "cell_type": "markdown",
      "source": [
        "**Here we would be iterating the list character by character**"
      ],
      "metadata": {
        "id": "XmdI5qTGNhb_"
      },
      "id": "XmdI5qTGNhb_"
    },
    {
      "cell_type": "markdown",
      "id": "a98ee37c",
      "metadata": {
        "id": "a98ee37c"
      },
      "source": [
        "### 8. Implement the solution and test it using example inputs. Fix bugs, if any."
      ]
    },
    {
      "cell_type": "code",
      "execution_count": 119,
      "id": "b7541d12",
      "metadata": {
        "id": "b7541d12"
      },
      "outputs": [],
      "source": [
        "# A Function to find the string having the minimum\n",
        "# length and returns that length\n",
        "def findMinLength(arr, n):\n",
        " \n",
        "    min = len(arr[0])\n",
        "  \n",
        "    for i in range(1,n):\n",
        "        if (len(arr[i])< min):\n",
        "            min = len(arr[i])\n",
        "  \n",
        "    return(min)\n",
        "  \n",
        "# A Function that returns the longest common prefix\n",
        "# from the array of strings\n",
        "def commonPrefix1(arr, n):\n",
        " \n",
        "    minlen = findMinLength(arr, n)\n",
        "    result =\"\"\n",
        "    for i in range(minlen):\n",
        "     \n",
        "        # Current character (must be same\n",
        "        # in all strings to be a part of\n",
        "        # result)\n",
        "        current = arr[0][i]\n",
        "  \n",
        "        for j in range(1,n):\n",
        "            if (arr[j][i] != current):\n",
        "                return result\n",
        "  \n",
        "        # Append to result\n",
        "        result = result+current\n",
        "  \n",
        "    return (result)"
      ]
    },
    {
      "cell_type": "code",
      "execution_count": 120,
      "id": "451b3cac",
      "metadata": {
        "colab": {
          "base_uri": "https://localhost:8080/"
        },
        "id": "451b3cac",
        "outputId": "bf21e46b-b8e9-49c1-bf7a-7338620e7686"
      },
      "outputs": [
        {
          "output_type": "stream",
          "name": "stdout",
          "text": [
            "\n",
            "Input:\n",
            "{'arr': ['geeksforgeeks', 'geeks', 'geek', 'geezer'], 'n': 4}\n",
            "\n",
            "Expected Output:\n",
            "gee\n",
            "\n",
            "\n",
            "Actual Output:\n",
            "gee\n",
            "\n",
            "Execution Time:\n",
            "0.022 ms\n",
            "\n",
            "Test Result:\n",
            "\u001b[92mPASSED\u001b[0m\n",
            "\n"
          ]
        },
        {
          "output_type": "execute_result",
          "data": {
            "text/plain": [
              "('gee', True, 0.022)"
            ]
          },
          "metadata": {},
          "execution_count": 120
        }
      ],
      "source": [
        "evaluate_test_case(commonPrefix1, test0)"
      ]
    },
    {
      "cell_type": "code",
      "execution_count": 121,
      "id": "9145fceb",
      "metadata": {
        "colab": {
          "base_uri": "https://localhost:8080/"
        },
        "id": "9145fceb",
        "outputId": "5ca220b4-95da-4e69-99cd-c19f41b69a41"
      },
      "outputs": [
        {
          "output_type": "stream",
          "name": "stdout",
          "text": [
            "\n",
            "\u001b[1mTEST CASE #0\u001b[0m\n",
            "\n",
            "Input:\n",
            "{'arr': ['geeksforgeeks', 'geeks', 'geek', 'geezer'], 'n': 4}\n",
            "\n",
            "Expected Output:\n",
            "gee\n",
            "\n",
            "\n",
            "Actual Output:\n",
            "gee\n",
            "\n",
            "Execution Time:\n",
            "0.022 ms\n",
            "\n",
            "Test Result:\n",
            "\u001b[92mPASSED\u001b[0m\n",
            "\n",
            "\n",
            "\u001b[1mTEST CASE #1\u001b[0m\n",
            "\n",
            "Input:\n",
            "{'arr': ['apple', 'ape', 'april'], 'n': 3}\n",
            "\n",
            "Expected Output:\n",
            "ap\n",
            "\n",
            "\n",
            "Actual Output:\n",
            "ap\n",
            "\n",
            "Execution Time:\n",
            "0.016 ms\n",
            "\n",
            "Test Result:\n",
            "\u001b[92mPASSED\u001b[0m\n",
            "\n",
            "\n",
            "\u001b[1mTEST CASE #2\u001b[0m\n",
            "\n",
            "Input:\n",
            "{'arr': ['apple', 'ahead', 'xyz'], 'n': 3}\n",
            "\n",
            "Expected Output:\n",
            "\n",
            "\n",
            "\n",
            "Actual Output:\n",
            "\n",
            "\n",
            "Execution Time:\n",
            "0.013 ms\n",
            "\n",
            "Test Result:\n",
            "\u001b[92mPASSED\u001b[0m\n",
            "\n",
            "\n",
            "\u001b[1mTEST CASE #3\u001b[0m\n",
            "\n",
            "Input:\n",
            "{'arr': ['app'], 'n': 1}\n",
            "\n",
            "Expected Output:\n",
            "app\n",
            "\n",
            "\n",
            "Actual Output:\n",
            "app\n",
            "\n",
            "Execution Time:\n",
            "0.013 ms\n",
            "\n",
            "Test Result:\n",
            "\u001b[92mPASSED\u001b[0m\n",
            "\n",
            "\n",
            "\u001b[1mSUMMARY\u001b[0m\n",
            "\n",
            "TOTAL: 4, \u001b[92mPASSED\u001b[0m: 4, \u001b[91mFAILED\u001b[0m: 0\n"
          ]
        },
        {
          "output_type": "execute_result",
          "data": {
            "text/plain": [
              "[('gee', True, 0.022),\n",
              " ('ap', True, 0.016),\n",
              " ('', True, 0.013),\n",
              " ('app', True, 0.013)]"
            ]
          },
          "metadata": {},
          "execution_count": 121
        }
      ],
      "source": [
        "evaluate_test_cases(commonPrefix1, tests)"
      ]
    },
    {
      "cell_type": "markdown",
      "id": "5bd77e73",
      "metadata": {
        "id": "5bd77e73"
      },
      "source": [
        "### 9. Analyze the algorithm's complexity and identify inefficiencies, if any."
      ]
    },
    {
      "cell_type": "markdown",
      "source": [
        "Time Complexity : Since we are iterating through all the characters of all the strings, so we can say that the time complexity is O(N*M)"
      ],
      "metadata": {
        "id": "5iM7PVsNNthL"
      },
      "id": "5iM7PVsNNthL"
    },
    {
      "cell_type": "code",
      "execution_count": 122,
      "id": "09808e70",
      "metadata": {
        "colab": {
          "base_uri": "https://localhost:8080/",
          "height": 87
        },
        "id": "09808e70",
        "outputId": "1ec33ee7-8e87-498a-c4cc-df7c80d0879b"
      },
      "outputs": [
        {
          "output_type": "stream",
          "name": "stdout",
          "text": [
            "[jovian] Detected Colab notebook...\u001b[0m\n",
            "[jovian] Uploading colab notebook to Jovian...\u001b[0m\n",
            "Committed successfully! https://jovian.ai/deepak-dewani/longest-common-prefix\n"
          ]
        },
        {
          "output_type": "execute_result",
          "data": {
            "application/vnd.google.colaboratory.intrinsic+json": {
              "type": "string"
            },
            "text/plain": [
              "'https://jovian.ai/deepak-dewani/longest-common-prefix'"
            ]
          },
          "metadata": {},
          "execution_count": 122
        }
      ],
      "source": [
        "jovian.commit()"
      ]
    },
    {
      "cell_type": "code",
      "execution_count": 122,
      "id": "40a308ae",
      "metadata": {
        "id": "40a308ae"
      },
      "outputs": [],
      "source": [
        ""
      ]
    }
  ],
  "metadata": {
    "kernelspec": {
      "display_name": "Python 3 (ipykernel)",
      "language": "python",
      "name": "python3"
    },
    "language_info": {
      "codemirror_mode": {
        "name": "ipython",
        "version": 3
      },
      "file_extension": ".py",
      "mimetype": "text/x-python",
      "name": "python",
      "nbconvert_exporter": "python",
      "pygments_lexer": "ipython3",
      "version": "3.9.6"
    },
    "colab": {
      "name": "python-project-longest_common_prefix.ipynb",
      "provenance": [],
      "collapsed_sections": [],
      "include_colab_link": true
    }
  },
  "nbformat": 4,
  "nbformat_minor": 5
}