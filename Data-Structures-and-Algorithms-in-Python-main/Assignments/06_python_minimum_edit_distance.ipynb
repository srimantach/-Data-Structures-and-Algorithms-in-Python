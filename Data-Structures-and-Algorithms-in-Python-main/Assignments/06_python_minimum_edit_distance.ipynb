{
  "cells": [
    {
      "cell_type": "markdown",
      "metadata": {
        "id": "view-in-github",
        "colab_type": "text"
      },
      "source": [
        "<a href=\"https://colab.research.google.com/github/deepak-dewani/Data-Structures-and-Algorithms-in-Python/blob/main/06_python_minimum_edit_distance.ipynb\" target=\"_parent\"><img src=\"https://colab.research.google.com/assets/colab-badge.svg\" alt=\"Open In Colab\"/></a>"
      ]
    },
    {
      "cell_type": "code",
      "execution_count": null,
      "id": "0bbe5d79",
      "metadata": {
        "id": "0bbe5d79"
      },
      "outputs": [],
      "source": [
        "# Jovian Commit Essentials\n",
        "# Please retain and execute this cell without modifying the contents for `jovian.commit` to work\n",
        "!pip install jovian --upgrade -q\n",
        "import jovian\n",
        "jovian.set_project('python-minimum-edit-distance')\n",
        "jovian.set_colab_id('1wvGzMsZ0J5NZ489kATC-GVLbURQ3RqN6')"
      ]
    },
    {
      "cell_type": "markdown",
      "id": "4e631f2d",
      "metadata": {
        "id": "4e631f2d"
      },
      "source": [
        "## Minimum Edit Distance\n",
        "\n",
        "The following interview was asked during a coding interview at Google:\n",
        "\n",
        "> Given two strings A and B, find the minimum number of steps required to convert A to B. (each operation is counted as 1 step.) You have the following 3 operations permitted on a word:\n",
        ">\n",
        "> * Insert a character\n",
        "> * Delete a character\n",
        "> * Replace a character\n",
        "\n",
        "Here's a visual representation (source: iDeserve)\n",
        "\n",
        "![](https://www.ideserve.co.in/learn/img/editDistance_0.gif)"
      ]
    },
    {
      "cell_type": "code",
      "execution_count": null,
      "id": "137d302b",
      "metadata": {
        "id": "137d302b",
        "scrolled": false
      },
      "outputs": [],
      "source": [
        "# Solve the problem here\n",
        "\n",
        "\n",
        "# Defining the problem in plain english or simple language.\n",
        "\n",
        "'''\n",
        "We are given with the array of list of number which are non-negative, \n",
        "and we need to find the continuous subarray of list which adds up to the given sum.\n",
        "\n",
        "\n",
        "'''\n",
        "\n",
        "# Our simple foundation function.\n",
        "def min_edit_distance(str1, str2 , i1 = 0, i2 = 0):\n",
        "    pass\n",
        "\n",
        "# Hence inputs and outputs are\n",
        "\"\"\"\n",
        "input = string of one length e.g Intention\n",
        "        string of one length e.g Execution\n",
        "\n",
        "ouptut = minimum edit distance i.e 5\n",
        " \"\"\"\n",
        "\n",
        "\n",
        "\n",
        "# Next step Defining the various test cases\n",
        "'''\n",
        "1. the generic case which is given in the problem\n",
        "2. subarray is at start\n",
        "3. subarray is at end\n",
        "4. single element\n",
        "5. no subarray exist\n",
        "6. empty list\n",
        "7. more than one subarray\n",
        "'''\n",
        " \n",
        "# Solving the problem using brute force solution.\n",
        "\n"
      ]
    },
    {
      "cell_type": "code",
      "execution_count": null,
      "id": "cf30d8b3",
      "metadata": {
        "id": "cf30d8b3"
      },
      "outputs": [],
      "source": [
        "# Test the solution here\n",
        "\n",
        "# State the Test cases\n",
        "\n",
        "test0 = {\n",
        "    'input' : {'str1' : 'intention', 'str2': 'execution'},\n",
        "    'output' : 5\n",
        "}\n",
        "\n",
        "test1 = {\n",
        "    'input' : {'str1' : 'sunday', 'str2': 'saturday'},\n",
        "    'output' : 3\n",
        "}\n",
        "\n",
        "test2 = {\n",
        "    'input' : {'str1' : 'sunday', 'str2': 'sunday'},\n",
        "    'output' : 0\n",
        "}\n",
        "test3 = {\n",
        "    'input' : {'str1' : 'sunday', 'str2': 'xzxzmll'},\n",
        "    'output' : 7\n",
        "}\n",
        "\n",
        "test4 = {\n",
        "    'input' : {'str1' : '', 'str2': 'execution'},\n",
        "    'output' : 9\n",
        "}\n",
        "\n",
        "test5 = {\n",
        "    'input' : {'str1' : '', 'str2': ''},\n",
        "    'output' : 0\n",
        "}\n",
        "\n",
        "tests = [test0, test1, test2, test3, test4, test5]"
      ]
    },
    {
      "cell_type": "code",
      "execution_count": null,
      "id": "b3df7a10",
      "metadata": {
        "id": "b3df7a10"
      },
      "outputs": [],
      "source": [
        "import jovian"
      ]
    },
    {
      "cell_type": "code",
      "execution_count": null,
      "id": "a2b1db0d",
      "metadata": {
        "colab": {
          "base_uri": "https://localhost:8080/",
          "height": 122
        },
        "id": "a2b1db0d",
        "outputId": "5059bfc9-bb65-4dbc-eb89-719b716d5dd2"
      },
      "outputs": [
        {
          "name": "stdout",
          "output_type": "stream",
          "text": [
            "[jovian] Detected Colab notebook...\u001b[0m\n",
            "[jovian] Please enter your API key ( from https://jovian.ai/ ):\u001b[0m\n",
            "API KEY: ··········\n",
            "[jovian] Uploading colab notebook to Jovian...\u001b[0m\n",
            "Committed successfully! https://jovian.ai/deepak-dewani/python-minimum-edit-distance\n"
          ]
        },
        {
          "data": {
            "application/vnd.google.colaboratory.intrinsic+json": {
              "type": "string"
            },
            "text/plain": [
              "'https://jovian.ai/deepak-dewani/python-minimum-edit-distance'"
            ]
          },
          "execution_count": 6,
          "metadata": {},
          "output_type": "execute_result"
        }
      ],
      "source": [
        "jovian.commit()"
      ]
    },
    {
      "cell_type": "markdown",
      "id": "db495ad0",
      "metadata": {
        "id": "db495ad0"
      },
      "source": [
        "Brute force (recursion - exponential):"
      ]
    },
    {
      "cell_type": "code",
      "execution_count": null,
      "id": "5ba0e36e",
      "metadata": {
        "id": "5ba0e36e"
      },
      "outputs": [],
      "source": [
        "def min_edit_distance(str1, str2, i1=0, i2=0):\n",
        "    if i1 == len(str1):\n",
        "        return len(str2) - i2\n",
        "    if i2 == len(str2):\n",
        "        return len(str1) - i1\n",
        "    if str1[i1] == str2[i2]:\n",
        "        return min_edit_distance(str1, str2, i1+1, i2+1)\n",
        "    return 1 + min(min_edit_distance(str1, str2, i1, i2+1), # Insert at beginning of str1\n",
        "                   min_edit_distance(str1, str2, i1+1, i2), # Remove from beginning of str1\n",
        "                   min_edit_distance(str1, str2, i1+1, i2+1)) # Swap first character of str1\n",
        "        "
      ]
    },
    {
      "cell_type": "code",
      "execution_count": null,
      "id": "d8d0efb1",
      "metadata": {
        "id": "d8d0efb1"
      },
      "outputs": [],
      "source": [
        "!pip install jovian --upgrade --quiet"
      ]
    },
    {
      "cell_type": "code",
      "execution_count": null,
      "id": "0or8mGg5v6Tx",
      "metadata": {
        "id": "0or8mGg5v6Tx"
      },
      "outputs": [],
      "source": [
        "from jovian.pythondsa import evaluate_test_cases"
      ]
    },
    {
      "cell_type": "code",
      "execution_count": null,
      "id": "Nb3gI5-tv7Zo",
      "metadata": {
        "colab": {
          "base_uri": "https://localhost:8080/"
        },
        "id": "Nb3gI5-tv7Zo",
        "outputId": "324a8003-0dc8-447b-fb6a-e915a537fb94"
      },
      "outputs": [
        {
          "name": "stdout",
          "output_type": "stream",
          "text": [
            "\n",
            "\u001b[1mTEST CASE #0\u001b[0m\n",
            "\n",
            "Input:\n",
            "{'str1': 'intention', 'str2': 'execution'}\n",
            "\n",
            "Expected Output:\n",
            "5\n",
            "\n",
            "\n",
            "Actual Output:\n",
            "5\n",
            "\n",
            "Execution Time:\n",
            "164.971 ms\n",
            "\n",
            "Test Result:\n",
            "\u001b[92mPASSED\u001b[0m\n",
            "\n",
            "\n",
            "\u001b[1mTEST CASE #1\u001b[0m\n",
            "\n",
            "Input:\n",
            "{'str1': 'sunday', 'str2': 'saturday'}\n",
            "\n",
            "Expected Output:\n",
            "3\n",
            "\n",
            "\n",
            "Actual Output:\n",
            "3\n",
            "\n",
            "Execution Time:\n",
            "1.525 ms\n",
            "\n",
            "Test Result:\n",
            "\u001b[92mPASSED\u001b[0m\n",
            "\n",
            "\n",
            "\u001b[1mTEST CASE #2\u001b[0m\n",
            "\n",
            "Input:\n",
            "{'str1': 'sunday', 'str2': 'sunday'}\n",
            "\n",
            "Expected Output:\n",
            "0\n",
            "\n",
            "\n",
            "Actual Output:\n",
            "0\n",
            "\n",
            "Execution Time:\n",
            "0.01 ms\n",
            "\n",
            "Test Result:\n",
            "\u001b[92mPASSED\u001b[0m\n",
            "\n",
            "\n",
            "\u001b[1mTEST CASE #3\u001b[0m\n",
            "\n",
            "Input:\n",
            "{'str1': 'sunday', 'str2': 'xzxzmll'}\n",
            "\n",
            "Expected Output:\n",
            "7\n",
            "\n",
            "\n",
            "Actual Output:\n",
            "7\n",
            "\n",
            "Execution Time:\n",
            "14.976 ms\n",
            "\n",
            "Test Result:\n",
            "\u001b[92mPASSED\u001b[0m\n",
            "\n",
            "\n",
            "\u001b[1mTEST CASE #4\u001b[0m\n",
            "\n",
            "Input:\n",
            "{'str1': '', 'str2': 'execution'}\n",
            "\n",
            "Expected Output:\n",
            "9\n",
            "\n",
            "\n",
            "Actual Output:\n",
            "9\n",
            "\n",
            "Execution Time:\n",
            "0.005 ms\n",
            "\n",
            "Test Result:\n",
            "\u001b[92mPASSED\u001b[0m\n",
            "\n",
            "\n",
            "\u001b[1mTEST CASE #5\u001b[0m\n",
            "\n",
            "Input:\n",
            "{'str1': '', 'str2': ''}\n",
            "\n",
            "Expected Output:\n",
            "0\n",
            "\n",
            "\n",
            "Actual Output:\n",
            "0\n",
            "\n",
            "Execution Time:\n",
            "0.003 ms\n",
            "\n",
            "Test Result:\n",
            "\u001b[92mPASSED\u001b[0m\n",
            "\n",
            "\n",
            "\u001b[1mSUMMARY\u001b[0m\n",
            "\n",
            "TOTAL: 6, \u001b[92mPASSED\u001b[0m: 6, \u001b[91mFAILED\u001b[0m: 0\n"
          ]
        },
        {
          "data": {
            "text/plain": [
              "[(5, True, 164.971),\n",
              " (3, True, 1.525),\n",
              " (0, True, 0.01),\n",
              " (7, True, 14.976),\n",
              " (9, True, 0.005),\n",
              " (0, True, 0.003)]"
            ]
          },
          "execution_count": 10,
          "metadata": {},
          "output_type": "execute_result"
        }
      ],
      "source": [
        "evaluate_test_cases(min_edit_distance, tests)"
      ]
    },
    {
      "cell_type": "markdown",
      "id": "4QVxdLlhwNOX",
      "metadata": {
        "id": "4QVxdLlhwNOX"
      },
      "source": [
        "In the recursion, the solution is depand upon the height of the position, hence the order is of exponential. In this the functions are getting repeated looping, so we can optimized the solution by using the memoization. The solution are as under:"
      ]
    },
    {
      "cell_type": "markdown",
      "id": "9eea2611",
      "metadata": {
        "id": "9eea2611"
      },
      "source": [
        "Improved (memoization - $O(n_1*n_2)$):"
      ]
    },
    {
      "cell_type": "code",
      "execution_count": null,
      "id": "e730610e",
      "metadata": {
        "id": "e730610e"
      },
      "outputs": [],
      "source": [
        "def min_edit_distance2(str1, str2):\n",
        "    memo = {}\n",
        "    def recurse(i1, i2):\n",
        "        key = (i1, i2)\n",
        "        if key in memo:\n",
        "            return memo[key]\n",
        "        elif i1 == len(str1):\n",
        "            memo[key] = len(str2) - i2\n",
        "        elif i2 == len(str2):\n",
        "            memo[key] = len(str1) - i1\n",
        "        elif str1[i1] == str2[i2]:\n",
        "            memo[key] = recurse(i1+1, i2+1)\n",
        "        else:\n",
        "            memo[key] = 1 + min(recurse(i1, i2+1), \n",
        "                                recurse(i1+1, i2), \n",
        "                                recurse(i1+1, i2+1))\n",
        "        return memo[key]\n",
        "    return recurse(0, 0)"
      ]
    },
    {
      "cell_type": "code",
      "execution_count": null,
      "id": "681459af",
      "metadata": {
        "colab": {
          "base_uri": "https://localhost:8080/"
        },
        "id": "681459af",
        "outputId": "0fa9a370-bb02-46aa-80de-b60c0bf17713"
      },
      "outputs": [
        {
          "name": "stdout",
          "output_type": "stream",
          "text": [
            "\n",
            "\u001b[1mTEST CASE #0\u001b[0m\n",
            "\n",
            "Input:\n",
            "{'str1': 'intention', 'str2': 'execution'}\n",
            "\n",
            "Expected Output:\n",
            "5\n",
            "\n",
            "\n",
            "Actual Output:\n",
            "5\n",
            "\n",
            "Execution Time:\n",
            "0.245 ms\n",
            "\n",
            "Test Result:\n",
            "\u001b[92mPASSED\u001b[0m\n",
            "\n",
            "\n",
            "\u001b[1mTEST CASE #1\u001b[0m\n",
            "\n",
            "Input:\n",
            "{'str1': 'sunday', 'str2': 'saturday'}\n",
            "\n",
            "Expected Output:\n",
            "3\n",
            "\n",
            "\n",
            "Actual Output:\n",
            "3\n",
            "\n",
            "Execution Time:\n",
            "0.101 ms\n",
            "\n",
            "Test Result:\n",
            "\u001b[92mPASSED\u001b[0m\n",
            "\n",
            "\n",
            "\u001b[1mTEST CASE #2\u001b[0m\n",
            "\n",
            "Input:\n",
            "{'str1': 'sunday', 'str2': 'sunday'}\n",
            "\n",
            "Expected Output:\n",
            "0\n",
            "\n",
            "\n",
            "Actual Output:\n",
            "0\n",
            "\n",
            "Execution Time:\n",
            "0.011 ms\n",
            "\n",
            "Test Result:\n",
            "\u001b[92mPASSED\u001b[0m\n",
            "\n",
            "\n",
            "\u001b[1mTEST CASE #3\u001b[0m\n",
            "\n",
            "Input:\n",
            "{'str1': 'sunday', 'str2': 'xzxzmll'}\n",
            "\n",
            "Expected Output:\n",
            "7\n",
            "\n",
            "\n",
            "Actual Output:\n",
            "7\n",
            "\n",
            "Execution Time:\n",
            "0.121 ms\n",
            "\n",
            "Test Result:\n",
            "\u001b[92mPASSED\u001b[0m\n",
            "\n",
            "\n",
            "\u001b[1mTEST CASE #4\u001b[0m\n",
            "\n",
            "Input:\n",
            "{'str1': '', 'str2': 'execution'}\n",
            "\n",
            "Expected Output:\n",
            "9\n",
            "\n",
            "\n",
            "Actual Output:\n",
            "9\n",
            "\n",
            "Execution Time:\n",
            "0.008 ms\n",
            "\n",
            "Test Result:\n",
            "\u001b[92mPASSED\u001b[0m\n",
            "\n",
            "\n",
            "\u001b[1mTEST CASE #5\u001b[0m\n",
            "\n",
            "Input:\n",
            "{'str1': '', 'str2': ''}\n",
            "\n",
            "Expected Output:\n",
            "0\n",
            "\n",
            "\n",
            "Actual Output:\n",
            "0\n",
            "\n",
            "Execution Time:\n",
            "0.042 ms\n",
            "\n",
            "Test Result:\n",
            "\u001b[92mPASSED\u001b[0m\n",
            "\n",
            "\n",
            "\u001b[1mSUMMARY\u001b[0m\n",
            "\n",
            "TOTAL: 6, \u001b[92mPASSED\u001b[0m: 6, \u001b[91mFAILED\u001b[0m: 0\n"
          ]
        },
        {
          "data": {
            "text/plain": [
              "[(5, True, 0.245),\n",
              " (3, True, 0.101),\n",
              " (0, True, 0.011),\n",
              " (7, True, 0.121),\n",
              " (9, True, 0.008),\n",
              " (0, True, 0.042)]"
            ]
          },
          "execution_count": 12,
          "metadata": {},
          "output_type": "execute_result"
        }
      ],
      "source": [
        "evaluate_test_cases(min_edit_distance2, tests)"
      ]
    },
    {
      "cell_type": "markdown",
      "id": "U710GvR_w1aH",
      "metadata": {
        "id": "U710GvR_w1aH"
      },
      "source": [
        "We can solve the problem with the help of dynamic programming, whose solution are as under:"
      ]
    },
    {
      "cell_type": "markdown",
      "id": "82c1c63f",
      "metadata": {
        "id": "82c1c63f"
      },
      "source": [
        "Best (Dynamic programming - $O(n_1*n_2)$):"
      ]
    },
    {
      "cell_type": "code",
      "execution_count": null,
      "id": "40bac2e5",
      "metadata": {
        "id": "40bac2e5"
      },
      "outputs": [],
      "source": [
        "def min_edit_distance_dp(str1, str2):\n",
        "    n1, n2 = len(str1), len(str2)\n",
        "    table = [[0 for _ in range(n2+1)] for _ in range(n1+1)]\n",
        "    for i in range(n2+1):\n",
        "        for j in range(n1+1):\n",
        "            # If first string is empty, only option is to\n",
        "            # insert all characters of second string\n",
        "            if i == 0:\n",
        "                table[i][j] = j    # Min. operations = j\n",
        " \n",
        "            # If second string is empty, only option is to\n",
        "            # remove all characters of second string\n",
        "            elif j == 0:\n",
        "                table[i][j] = i    # Min. operations = i\n",
        " \n",
        "            # If last characters are same, ignore last char\n",
        "            # and recur for remaining string\n",
        "            elif str1[i-1] == str2[j-1]:\n",
        "                table[i][j] = table[i-1][j-1]\n",
        " \n",
        "            # If last character are different, consider all\n",
        "            # possibilities and find minimum\n",
        "            else:\n",
        "                table[i][j] = 1 + min(table[i][j-1],        # Insert\n",
        "                                      table[i-1][j],        # Remove\n",
        "                                      table[i-1][j-1])      # Replace\n",
        "    return table[n1][n2]"
      ]
    },
    {
      "cell_type": "code",
      "source": [
        "evaluate_test_cases(min_edit_distance2, tests)"
      ],
      "metadata": {
        "colab": {
          "base_uri": "https://localhost:8080/"
        },
        "id": "yF3b7_oCzbsn",
        "outputId": "0197bef1-0f3b-45c4-bc94-9fcbaefcca94"
      },
      "id": "yF3b7_oCzbsn",
      "execution_count": 17,
      "outputs": [
        {
          "output_type": "stream",
          "name": "stdout",
          "text": [
            "\n",
            "\u001b[1mTEST CASE #0\u001b[0m\n",
            "\n",
            "Input:\n",
            "{'str1': 'intention', 'str2': 'execution'}\n",
            "\n",
            "Expected Output:\n",
            "5\n",
            "\n",
            "\n",
            "Actual Output:\n",
            "5\n",
            "\n",
            "Execution Time:\n",
            "0.231 ms\n",
            "\n",
            "Test Result:\n",
            "\u001b[92mPASSED\u001b[0m\n",
            "\n",
            "\n",
            "\u001b[1mTEST CASE #1\u001b[0m\n",
            "\n",
            "Input:\n",
            "{'str1': 'sunday', 'str2': 'saturday'}\n",
            "\n",
            "Expected Output:\n",
            "3\n",
            "\n",
            "\n",
            "Actual Output:\n",
            "3\n",
            "\n",
            "Execution Time:\n",
            "0.1 ms\n",
            "\n",
            "Test Result:\n",
            "\u001b[92mPASSED\u001b[0m\n",
            "\n",
            "\n",
            "\u001b[1mTEST CASE #2\u001b[0m\n",
            "\n",
            "Input:\n",
            "{'str1': 'sunday', 'str2': 'sunday'}\n",
            "\n",
            "Expected Output:\n",
            "0\n",
            "\n",
            "\n",
            "Actual Output:\n",
            "0\n",
            "\n",
            "Execution Time:\n",
            "0.011 ms\n",
            "\n",
            "Test Result:\n",
            "\u001b[92mPASSED\u001b[0m\n",
            "\n",
            "\n",
            "\u001b[1mTEST CASE #3\u001b[0m\n",
            "\n",
            "Input:\n",
            "{'str1': 'sunday', 'str2': 'xzxzmll'}\n",
            "\n",
            "Expected Output:\n",
            "7\n",
            "\n",
            "\n",
            "Actual Output:\n",
            "7\n",
            "\n",
            "Execution Time:\n",
            "0.118 ms\n",
            "\n",
            "Test Result:\n",
            "\u001b[92mPASSED\u001b[0m\n",
            "\n",
            "\n",
            "\u001b[1mTEST CASE #4\u001b[0m\n",
            "\n",
            "Input:\n",
            "{'str1': '', 'str2': 'execution'}\n",
            "\n",
            "Expected Output:\n",
            "9\n",
            "\n",
            "\n",
            "Actual Output:\n",
            "9\n",
            "\n",
            "Execution Time:\n",
            "0.004 ms\n",
            "\n",
            "Test Result:\n",
            "\u001b[92mPASSED\u001b[0m\n",
            "\n",
            "\n",
            "\u001b[1mTEST CASE #5\u001b[0m\n",
            "\n",
            "Input:\n",
            "{'str1': '', 'str2': ''}\n",
            "\n",
            "Expected Output:\n",
            "0\n",
            "\n",
            "\n",
            "Actual Output:\n",
            "0\n",
            "\n",
            "Execution Time:\n",
            "0.003 ms\n",
            "\n",
            "Test Result:\n",
            "\u001b[92mPASSED\u001b[0m\n",
            "\n",
            "\n",
            "\u001b[1mSUMMARY\u001b[0m\n",
            "\n",
            "TOTAL: 6, \u001b[92mPASSED\u001b[0m: 6, \u001b[91mFAILED\u001b[0m: 0\n"
          ]
        },
        {
          "output_type": "execute_result",
          "data": {
            "text/plain": [
              "[(5, True, 0.231),\n",
              " (3, True, 0.1),\n",
              " (0, True, 0.011),\n",
              " (7, True, 0.118),\n",
              " (9, True, 0.004),\n",
              " (0, True, 0.003)]"
            ]
          },
          "metadata": {},
          "execution_count": 17
        }
      ]
    },
    {
      "cell_type": "code",
      "source": [
        ""
      ],
      "metadata": {
        "id": "HuJyUIDKzcDd"
      },
      "id": "HuJyUIDKzcDd",
      "execution_count": null,
      "outputs": []
    }
  ],
  "metadata": {
    "colab": {
      "name": "06_python-minimum-edit-distance.ipynb",
      "provenance": [],
      "collapsed_sections": [],
      "include_colab_link": true
    },
    "kernelspec": {
      "display_name": "Python 3",
      "language": "python",
      "name": "python3"
    },
    "language_info": {
      "codemirror_mode": {
        "name": "ipython",
        "version": 3
      },
      "file_extension": ".py",
      "mimetype": "text/x-python",
      "name": "python",
      "nbconvert_exporter": "python",
      "pygments_lexer": "ipython3",
      "version": "3.8.6"
    }
  },
  "nbformat": 4,
  "nbformat_minor": 5
}