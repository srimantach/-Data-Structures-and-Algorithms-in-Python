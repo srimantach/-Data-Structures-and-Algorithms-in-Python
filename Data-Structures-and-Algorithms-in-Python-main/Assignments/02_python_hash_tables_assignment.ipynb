{
  "cells": [
    {
      "cell_type": "markdown",
      "metadata": {
        "id": "view-in-github",
        "colab_type": "text"
      },
      "source": [
        "<a href=\"https://colab.research.google.com/github/deepak-dewani/Data-Structures-and-Algorithms-in-Python/blob/main/02_python_hash_tables_assignment.ipynb\" target=\"_parent\"><img src=\"https://colab.research.google.com/assets/colab-badge.svg\" alt=\"Open In Colab\"/></a>"
      ]
    },
    {
      "cell_type": "code",
      "execution_count": null,
      "id": "71edc5c1",
      "metadata": {
        "id": "71edc5c1"
      },
      "outputs": [],
      "source": [
        "# Jovian Commit Essentials\n",
        "# Please retain and execute this cell without modifying the contents for `jovian.commit` to work\n",
        "!pip install jovian --upgrade -q\n",
        "import jovian\n",
        "jovian.set_project('python-hash-tables-assignment')\n",
        "jovian.set_colab_id('1OEIxFh2HHHX19_4axNCdav5vvpbnHQZm')"
      ]
    },
    {
      "cell_type": "markdown",
      "id": "tough-steps",
      "metadata": {
        "id": "tough-steps"
      },
      "source": [
        "# Assignment 2 - Hash Tables in Python\n",
        "\n",
        "_This assignment is a part of the course [\"Data Structures and Algorithms in Python\"](https://jovian.ai/learn/data-structures-and-algorithms-in-python)._\n",
        "\n",
        "In this assignment, you will implement Python dictionaries from scratch using hash tables.\n",
        "\n",
        "As you go through this notebook, you will find the symbol **???** in certain places. To complete this assignment, you must replace all the **???** with appropriate values, expressions or statements to ensure that the notebook runs properly end-to-end. \n",
        "\n",
        "**Guidelines**\n",
        "\n",
        "1. Make sure to run all the code cells, otherwise you may get errors like `NameError` for undefined variables.\n",
        "2. Do not change variable names, delete cells or disturb other existing code. It may cause problems during evaluation.\n",
        "3. In some cases, you may need to add some code cells or new statements before or after the line of code containing the **???**. \n",
        "4. Since you'll be using a temporary online service for code execution, save your work by running `jovian.commit` at regular intervals.\n",
        "5. Questions marked **(Optional)** will not be considered for evaluation, and can be skipped. They are for your learning.\n",
        "6. If you are stuck, you can ask for help on the [community forum](https://jovian.ai/forum/c/data-structures-and-algorithms-in-python/assignment-2/88). Post errors or ask for hints, but **please don't ask for OR share the full working answer code** on the forum.\n",
        "7. There are some tests included with this notebook to help you test your implementation. However, after submission your code will be tested with some hidden test cases. Make sure to test your code exhaustively to cover all edge cases.\n",
        "\n",
        "\n",
        "**Important Links**\n",
        "\n",
        "* Submit your work here: https://jovian.ai/learn/data-structures-and-algorithms-in-python/assignment/assignment-2-hash-table-and-python-dictionaries\n",
        "* Ask questions and get help: https://jovian.ai/forum/c/data-structures-and-algorithms-in-python/assignment-2/88\n",
        "* Lesson 2 video for review: https://jovian.ai/aakashns/python-binary-search-trees\n",
        "* Lesson 2 notebook for review: https://jovian.ai/aakashns/python-binary-search-trees\n",
        "\n",
        "\n",
        "\n"
      ]
    },
    {
      "cell_type": "markdown",
      "id": "prescription-quest",
      "metadata": {
        "id": "prescription-quest"
      },
      "source": [
        "### How to Run the Code and Save Your Work\n",
        "\n",
        "**Option 1: Running using free online resources (1-click, recommended)**: Click the **Run** button at the top of this page and select **Run on Binder**. You can also select \"Run on Colab\" or \"Run on Kaggle\", but you'll need to create an account on [Google Colab](https://colab.research.google.com) or [Kaggle](https://kaggle.com) to use these platforms.\n",
        "\n",
        "\n",
        "**Option 2: Running on your computer locally**: To run the code on your computer locally, you'll need to set up [Python](https://www.python.org) & [Conda](https://docs.conda.io/projects/conda/en/latest/user-guide/install/), download the notebook and install the required libraries. Click the **Run** button at the top of this page, select the **Run Locally** option, and follow the instructions.\n",
        "\n",
        "**Saving your work**: You can save a snapshot of the assignment to your [Jovian](https://jovian.ai) profile, so that you can access it later and continue your work. Keep saving your work by running `jovian.commit` from time to time."
      ]
    },
    {
      "cell_type": "code",
      "execution_count": null,
      "id": "hollow-power",
      "metadata": {
        "id": "hollow-power"
      },
      "outputs": [],
      "source": [
        "project='python-hash-tables-assignment'"
      ]
    },
    {
      "cell_type": "code",
      "execution_count": null,
      "id": "special-mauritius",
      "metadata": {
        "id": "special-mauritius"
      },
      "outputs": [],
      "source": [
        "!pip install jovian --upgrade --quiet"
      ]
    },
    {
      "cell_type": "code",
      "execution_count": null,
      "id": "extra-questionnaire",
      "metadata": {
        "colab": {
          "base_uri": "https://localhost:8080/",
          "height": 122
        },
        "id": "extra-questionnaire",
        "outputId": "7c1204de-62dd-4c9d-e067-767847ec07d4"
      },
      "outputs": [
        {
          "name": "stdout",
          "output_type": "stream",
          "text": [
            "[jovian] Detected Colab notebook...\u001b[0m\n",
            "[jovian] Please enter your API key ( from https://jovian.ai/ ):\u001b[0m\n",
            "API KEY: ··········\n",
            "[jovian] Uploading colab notebook to Jovian...\u001b[0m\n",
            "Committed successfully! https://jovian.ai/deepak-dewani/python-hash-tables-assignment\n"
          ]
        },
        {
          "data": {
            "application/vnd.google.colaboratory.intrinsic+json": {
              "type": "string"
            },
            "text/plain": [
              "'https://jovian.ai/deepak-dewani/python-hash-tables-assignment'"
            ]
          },
          "execution_count": 4,
          "metadata": {},
          "output_type": "execute_result"
        }
      ],
      "source": [
        "import jovian\n",
        "jovian.commit(project=project, privacy='secret', environment=None)"
      ]
    },
    {
      "cell_type": "markdown",
      "id": "average-jaguar",
      "metadata": {
        "id": "average-jaguar"
      },
      "source": [
        "## Problem Statement - Python Dictionaries and Hash Tables\n",
        "\n",
        "In this assignment, you will recreate Python dictionaries from scratch using data structure called *hash table*. Dictionaries in Python are used to store key-value pairs. Keys are used to store and retrieve values. For example, here's a dictionary for storing and retrieving phone numbers using people's names. "
      ]
    },
    {
      "cell_type": "code",
      "execution_count": null,
      "id": "concerned-array",
      "metadata": {
        "colab": {
          "base_uri": "https://localhost:8080/"
        },
        "id": "concerned-array",
        "outputId": "ec9084a6-2017-4132-ff4c-ce09bbc74eb5"
      },
      "outputs": [
        {
          "data": {
            "text/plain": [
              "{'Aakash': '9489484949', 'Hemanth': '9595949494', 'Siddhant': '9231325312'}"
            ]
          },
          "execution_count": 5,
          "metadata": {},
          "output_type": "execute_result"
        }
      ],
      "source": [
        "phone_numbers = {\n",
        "  'Aakash' : '9489484949',\n",
        "  'Hemanth' : '9595949494',\n",
        "  'Siddhant' : '9231325312'\n",
        "}\n",
        "phone_numbers"
      ]
    },
    {
      "cell_type": "markdown",
      "id": "applicable-winter",
      "metadata": {
        "id": "applicable-winter"
      },
      "source": [
        "You can access a person's phone number using their name as follows:"
      ]
    },
    {
      "cell_type": "code",
      "execution_count": null,
      "id": "worldwide-opposition",
      "metadata": {
        "colab": {
          "base_uri": "https://localhost:8080/",
          "height": 35
        },
        "id": "worldwide-opposition",
        "outputId": "3007384a-0d47-4daf-a996-9c007132e820"
      },
      "outputs": [
        {
          "data": {
            "application/vnd.google.colaboratory.intrinsic+json": {
              "type": "string"
            },
            "text/plain": [
              "'9489484949'"
            ]
          },
          "execution_count": 6,
          "metadata": {},
          "output_type": "execute_result"
        }
      ],
      "source": [
        "phone_numbers['Aakash']"
      ]
    },
    {
      "cell_type": "markdown",
      "id": "moral-optimum",
      "metadata": {
        "id": "moral-optimum"
      },
      "source": [
        "You can store new phone numbers, or update existing ones as follows:"
      ]
    },
    {
      "cell_type": "code",
      "execution_count": null,
      "id": "occupied-absolute",
      "metadata": {
        "colab": {
          "base_uri": "https://localhost:8080/"
        },
        "id": "occupied-absolute",
        "outputId": "2688dd78-ac79-4418-a4cf-c5186a6f5c76"
      },
      "outputs": [
        {
          "data": {
            "text/plain": [
              "{'Aakash': '7878787878',\n",
              " 'Hemanth': '9595949494',\n",
              " 'Siddhant': '9231325312',\n",
              " 'Vishal': '8787878787'}"
            ]
          },
          "execution_count": 7,
          "metadata": {},
          "output_type": "execute_result"
        }
      ],
      "source": [
        "# Add a new value\n",
        "phone_numbers['Vishal'] = '8787878787'\n",
        "# Update existing value\n",
        "phone_numbers['Aakash'] = '7878787878'\n",
        "# View the updated dictionary\n",
        "phone_numbers"
      ]
    },
    {
      "cell_type": "markdown",
      "id": "attached-architect",
      "metadata": {
        "id": "attached-architect"
      },
      "source": [
        "You can also view all the names and phone numbers stored in `phone_numbers` using a `for` loop."
      ]
    },
    {
      "cell_type": "code",
      "execution_count": null,
      "id": "worst-atmosphere",
      "metadata": {
        "colab": {
          "base_uri": "https://localhost:8080/"
        },
        "id": "worst-atmosphere",
        "outputId": "2a53cc27-d625-4a1f-d25c-6709453fb8f3"
      },
      "outputs": [
        {
          "name": "stdout",
          "output_type": "stream",
          "text": [
            "Name: Aakash , Phone Number: 7878787878\n",
            "Name: Hemanth , Phone Number: 9595949494\n",
            "Name: Siddhant , Phone Number: 9231325312\n",
            "Name: Vishal , Phone Number: 8787878787\n"
          ]
        }
      ],
      "source": [
        "for name in phone_numbers:\n",
        "    print('Name:', name, ', Phone Number:', phone_numbers[name])"
      ]
    },
    {
      "cell_type": "markdown",
      "id": "motivated-toolbox",
      "metadata": {
        "id": "motivated-toolbox"
      },
      "source": [
        "Dictionaries in Python are implemented using a data structure called **hash table**. A hash table uses a list/array to store the key-value pairs, and uses a _hashing function_ to determine the index for storing or retrieving the data associated with a given key. \n",
        "\n",
        "Here's a visual representation of a hash table ([source](https://en.wikipedia.org/wiki/Hash_table)):\n",
        "\n",
        "<img src=\"https://i.imgur.com/5dPEmuY.png\" width=\"480\">\n",
        "\n",
        "Your objective in this assignment is to implement a `HashTable` class which supports the following operations:\n",
        "\n",
        "1. **Insert**: Insert a new key-value pair\n",
        "2. **Find**: Find the value associated with a key\n",
        "3. **Update**: Update the value associated with a key\n",
        "5. **List**: List all the keys stored in the hash table\n",
        "\n",
        "The `HashTable` class will have the following structure (note the function signatures):"
      ]
    },
    {
      "cell_type": "code",
      "execution_count": null,
      "id": "amino-princess",
      "metadata": {
        "id": "amino-princess"
      },
      "outputs": [],
      "source": [
        "class HashTable:\n",
        "    def insert(self, key, value):\n",
        "        \"\"\"Insert a new key-value pair\"\"\"\n",
        "        pass\n",
        "    \n",
        "    def find(self, key):\n",
        "        \"\"\"Find the value associated with a key\"\"\"\n",
        "        pass\n",
        "    \n",
        "    def update(self, key, value):\n",
        "        \"\"\"Change the value associated with a key\"\"\"\n",
        "        pass\n",
        "    \n",
        "    def list_all(self):\n",
        "        \"\"\"List all the keys\"\"\"\n",
        "        pass"
      ]
    },
    {
      "cell_type": "markdown",
      "id": "biblical-contractor",
      "metadata": {
        "id": "biblical-contractor"
      },
      "source": [
        "Before we begin our implementation, let's save and commit our work."
      ]
    },
    {
      "cell_type": "code",
      "execution_count": null,
      "id": "through-volume",
      "metadata": {
        "colab": {
          "base_uri": "https://localhost:8080/",
          "height": 87
        },
        "id": "through-volume",
        "outputId": "88fc5cbf-32c0-4ed3-e494-04e621287cd7"
      },
      "outputs": [
        {
          "name": "stdout",
          "output_type": "stream",
          "text": [
            "[jovian] Detected Colab notebook...\u001b[0m\n",
            "[jovian] Uploading colab notebook to Jovian...\u001b[0m\n",
            "Committed successfully! https://jovian.ai/deepak-dewani/python-hash-tables-assignment\n"
          ]
        },
        {
          "data": {
            "application/vnd.google.colaboratory.intrinsic+json": {
              "type": "string"
            },
            "text/plain": [
              "'https://jovian.ai/deepak-dewani/python-hash-tables-assignment'"
            ]
          },
          "execution_count": 10,
          "metadata": {},
          "output_type": "execute_result"
        }
      ],
      "source": [
        "jovian.commit(project=project)"
      ]
    },
    {
      "cell_type": "markdown",
      "id": "acute-healthcare",
      "metadata": {
        "id": "acute-healthcare"
      },
      "source": [
        "### Data List\n",
        "\n",
        "We'll build the `HashTable` class step-by-step. As a first step is to create a Python list which will hold all the key-value pairs. We'll start by creating a list of a fixed size.\n",
        "\n"
      ]
    },
    {
      "cell_type": "code",
      "execution_count": null,
      "id": "indian-potential",
      "metadata": {
        "id": "indian-potential"
      },
      "outputs": [],
      "source": [
        "MAX_HASH_TABLE_SIZE = 4096"
      ]
    },
    {
      "cell_type": "markdown",
      "id": "upset-bullet",
      "metadata": {
        "id": "upset-bullet"
      },
      "source": [
        "**QUESTION 1: Create a Python list of size `MAX_HASH_TABLE_SIZE`, with all the values set to `None`.**\n",
        "\n",
        "_Hint_: Use the [`*` operator](https://stackoverflow.com/questions/3459098/create-list-of-single-item-repeated-n-times)."
      ]
    },
    {
      "cell_type": "code",
      "execution_count": null,
      "id": "expected-responsibility",
      "metadata": {
        "id": "expected-responsibility"
      },
      "outputs": [],
      "source": [
        "# List of size MAX_HASH_TABLE_SIZE with all values None\n",
        "data_list = [None] * 4096"
      ]
    },
    {
      "cell_type": "markdown",
      "id": "patient-complexity",
      "metadata": {
        "id": "patient-complexity"
      },
      "source": [
        "If the list was created successfully, the following cells should output `True`."
      ]
    },
    {
      "cell_type": "code",
      "execution_count": null,
      "id": "cross-certification",
      "metadata": {
        "colab": {
          "base_uri": "https://localhost:8080/"
        },
        "id": "cross-certification",
        "outputId": "7316914a-428b-44a2-f430-4c42bcfad013"
      },
      "outputs": [
        {
          "data": {
            "text/plain": [
              "True"
            ]
          },
          "execution_count": 13,
          "metadata": {},
          "output_type": "execute_result"
        }
      ],
      "source": [
        "len(data_list) == 4096"
      ]
    },
    {
      "cell_type": "code",
      "execution_count": null,
      "id": "controlled-ideal",
      "metadata": {
        "colab": {
          "base_uri": "https://localhost:8080/"
        },
        "id": "controlled-ideal",
        "outputId": "ac1396c6-ef58-4448-dbc1-706fc8803c31"
      },
      "outputs": [
        {
          "data": {
            "text/plain": [
              "True"
            ]
          },
          "execution_count": 14,
          "metadata": {},
          "output_type": "execute_result"
        }
      ],
      "source": [
        "data_list[99] == None"
      ]
    },
    {
      "cell_type": "markdown",
      "id": "juvenile-canal",
      "metadata": {
        "id": "juvenile-canal"
      },
      "source": [
        "Let's save our work before continuing."
      ]
    },
    {
      "cell_type": "code",
      "execution_count": null,
      "id": "celtic-mistake",
      "metadata": {
        "colab": {
          "base_uri": "https://localhost:8080/",
          "height": 87
        },
        "id": "celtic-mistake",
        "outputId": "20c399a2-8ab9-4575-e77a-a21d363107bf"
      },
      "outputs": [
        {
          "name": "stdout",
          "output_type": "stream",
          "text": [
            "[jovian] Detected Colab notebook...\u001b[0m\n",
            "[jovian] Uploading colab notebook to Jovian...\u001b[0m\n",
            "Committed successfully! https://jovian.ai/deepak-dewani/python-hash-tables-assignment\n"
          ]
        },
        {
          "data": {
            "application/vnd.google.colaboratory.intrinsic+json": {
              "type": "string"
            },
            "text/plain": [
              "'https://jovian.ai/deepak-dewani/python-hash-tables-assignment'"
            ]
          },
          "execution_count": 15,
          "metadata": {},
          "output_type": "execute_result"
        }
      ],
      "source": [
        "jovian.commit(project=project)"
      ]
    },
    {
      "cell_type": "markdown",
      "id": "radio-wisconsin",
      "metadata": {
        "id": "radio-wisconsin"
      },
      "source": [
        "### Hashing Function\n",
        "\n",
        "A _hashing function_ is used to convert strings and other non-numeric data types into numbers, which can then be used as list indices. For instance, if a hashing function converts the string `\"Aakash\"` into the number `4`, then the key-value pair `('Aakash', '7878787878')` will be stored at the position `4` within the data list.\n",
        "\n",
        "Here's a simple algorithm for hashing, which can convert strings into numeric list indices.\n",
        "\n",
        "1. Iterate over the string, character by character\n",
        "2. Convert each character to a number using Python's built-in `ord` function.\n",
        "3. Add the numbers for each character to obtain the hash for the entire string \n",
        "4. Take the remainder of the result with the size of the data list\n",
        "\n",
        "\n",
        "**QUESTION 2: Complete the `get_index` function below which implements the hashing algorithm described above.**"
      ]
    },
    {
      "cell_type": "code",
      "execution_count": null,
      "id": "broken-vertex",
      "metadata": {
        "id": "broken-vertex"
      },
      "outputs": [],
      "source": [
        "def get_index(data_list, a_string):\n",
        "    # Variable to store the result (updated after each iteration)\n",
        "    result = 0\n",
        "    \n",
        "    for a_character in a_string:\n",
        "        # Convert the character to a number (using ord)\n",
        "        a_number = ord(a_character)\n",
        "        # Update result by adding the number\n",
        "        result = result + a_number \n",
        "    \n",
        "    # Take the remainder of the result with the size of the data list\n",
        "    list_index = result % len(data_list)\n",
        "    return list_index"
      ]
    },
    {
      "cell_type": "markdown",
      "id": "political-plain",
      "metadata": {
        "id": "political-plain"
      },
      "source": [
        "If the `get_index` function was defined correctly, the following cells should output `True`."
      ]
    },
    {
      "cell_type": "code",
      "execution_count": null,
      "id": "hairy-margin",
      "metadata": {
        "colab": {
          "base_uri": "https://localhost:8080/"
        },
        "id": "hairy-margin",
        "outputId": "f080ed05-37cd-4cdb-b08c-9c7d67947fab"
      },
      "outputs": [
        {
          "output_type": "execute_result",
          "data": {
            "text/plain": [
              "True"
            ]
          },
          "metadata": {},
          "execution_count": 32
        }
      ],
      "source": [
        "get_index(data_list, '') == 0"
      ]
    },
    {
      "cell_type": "code",
      "execution_count": null,
      "id": "split-league",
      "metadata": {
        "colab": {
          "base_uri": "https://localhost:8080/"
        },
        "id": "split-league",
        "outputId": "c52573f2-5f62-4ef3-faac-dfeaf7af3b59"
      },
      "outputs": [
        {
          "output_type": "execute_result",
          "data": {
            "text/plain": [
              "True"
            ]
          },
          "metadata": {},
          "execution_count": 33
        }
      ],
      "source": [
        "get_index(data_list, 'Aakash') == 585"
      ]
    },
    {
      "cell_type": "code",
      "execution_count": null,
      "id": "insured-romania",
      "metadata": {
        "colab": {
          "base_uri": "https://localhost:8080/"
        },
        "id": "insured-romania",
        "outputId": "5ba8b8d5-f9e0-4b40-e7cf-56703931f4d7"
      },
      "outputs": [
        {
          "output_type": "execute_result",
          "data": {
            "text/plain": [
              "True"
            ]
          },
          "metadata": {},
          "execution_count": 34
        }
      ],
      "source": [
        "get_index(data_list, 'Don O Leary') == 941"
      ]
    },
    {
      "cell_type": "code",
      "execution_count": null,
      "id": "Swn3PkZHGbtz",
      "metadata": {
        "colab": {
          "base_uri": "https://localhost:8080/"
        },
        "id": "Swn3PkZHGbtz",
        "outputId": "b6648d43-00a9-4fbd-9ce9-e6d82da7a2a1"
      },
      "outputs": [
        {
          "data": {
            "text/plain": [
              "True"
            ]
          },
          "execution_count": 21,
          "metadata": {},
          "output_type": "execute_result"
        }
      ],
      "source": [
        "get_index(data_list, 'Deepak') ==586"
      ]
    },
    {
      "cell_type": "code",
      "execution_count": null,
      "id": "gOx7RsSTHgGA",
      "metadata": {
        "colab": {
          "base_uri": "https://localhost:8080/"
        },
        "id": "gOx7RsSTHgGA",
        "outputId": "1824753f-1788-4838-954d-94ba61f7a649"
      },
      "outputs": [
        {
          "data": {
            "text/plain": [
              "607"
            ]
          },
          "execution_count": 24,
          "metadata": {},
          "output_type": "execute_result"
        }
      ],
      "source": [
        "ord('D')+ord('i')+ord('v')+ord('i')+ord('n')+ord('e')"
      ]
    },
    {
      "cell_type": "markdown",
      "id": "secret-casting",
      "metadata": {
        "id": "secret-casting"
      },
      "source": [
        "(Optional) Test the `get_index` function using the empty cells below."
      ]
    },
    {
      "cell_type": "markdown",
      "id": "QocgzcDaIBuR",
      "metadata": {
        "id": "QocgzcDaIBuR"
      },
      "source": [
        "**Have a close look at yours caps lock while using ord('') Function**"
      ]
    },
    {
      "cell_type": "code",
      "execution_count": null,
      "id": "close-speaker",
      "metadata": {
        "colab": {
          "base_uri": "https://localhost:8080/"
        },
        "id": "close-speaker",
        "outputId": "5414dacd-3d52-4409-dc0b-a83ee75cd723"
      },
      "outputs": [
        {
          "data": {
            "text/plain": [
              "True"
            ]
          },
          "execution_count": 25,
          "metadata": {},
          "output_type": "execute_result"
        }
      ],
      "source": [
        "get_index(data_list, 'Divine') == 607"
      ]
    },
    {
      "cell_type": "code",
      "execution_count": null,
      "id": "pleased-metadata",
      "metadata": {
        "colab": {
          "base_uri": "https://localhost:8080/"
        },
        "id": "pleased-metadata",
        "outputId": "412939f5-1c52-4204-97e1-c7df73be6667"
      },
      "outputs": [
        {
          "data": {
            "text/plain": [
              "True"
            ]
          },
          "execution_count": 26,
          "metadata": {},
          "output_type": "execute_result"
        }
      ],
      "source": [
        "get_index(data_list, 'divine') == 639"
      ]
    },
    {
      "cell_type": "code",
      "source": [
        "get_index(data_list, 'Hemanth') == 709"
      ],
      "metadata": {
        "colab": {
          "base_uri": "https://localhost:8080/"
        },
        "id": "9rGhjrsmQXme",
        "outputId": "affa7509-b54c-4a13-cc45-f9971188c2b0"
      },
      "id": "9rGhjrsmQXme",
      "execution_count": null,
      "outputs": [
        {
          "output_type": "execute_result",
          "data": {
            "text/plain": [
              "True"
            ]
          },
          "metadata": {},
          "execution_count": 36
        }
      ]
    },
    {
      "cell_type": "code",
      "source": [
        "get_index(data_list, 'Functions') == 953"
      ],
      "metadata": {
        "colab": {
          "base_uri": "https://localhost:8080/"
        },
        "id": "sYrZfEedQXjb",
        "outputId": "2d0c7ced-8119-4469-bfad-78d5125af4d3"
      },
      "id": "sYrZfEedQXjb",
      "execution_count": null,
      "outputs": [
        {
          "output_type": "execute_result",
          "data": {
            "text/plain": [
              "True"
            ]
          },
          "metadata": {},
          "execution_count": 38
        }
      ]
    },
    {
      "cell_type": "markdown",
      "id": "conventional-champion",
      "metadata": {
        "id": "conventional-champion"
      },
      "source": [
        "#### Insert\n",
        "\n",
        "To insert a key-value pair into a hash table, we can simply get the hash of the key, and store the pair at that index in the data list."
      ]
    },
    {
      "cell_type": "code",
      "execution_count": null,
      "id": "applied-receipt",
      "metadata": {
        "id": "applied-receipt"
      },
      "outputs": [],
      "source": [
        "key, value = 'Aakash', '7878787878'"
      ]
    },
    {
      "cell_type": "code",
      "execution_count": null,
      "id": "theoretical-november",
      "metadata": {
        "id": "theoretical-november",
        "colab": {
          "base_uri": "https://localhost:8080/"
        },
        "outputId": "a3b9cd74-f159-4def-f6dc-ec5ee30a1103"
      },
      "outputs": [
        {
          "output_type": "execute_result",
          "data": {
            "text/plain": [
              "585"
            ]
          },
          "metadata": {},
          "execution_count": 40
        }
      ],
      "source": [
        "idx = get_index(data_list, key)\n",
        "idx"
      ]
    },
    {
      "cell_type": "code",
      "execution_count": null,
      "id": "animated-mason",
      "metadata": {
        "id": "animated-mason"
      },
      "outputs": [],
      "source": [
        "data_list[idx] = (key, value)"
      ]
    },
    {
      "cell_type": "markdown",
      "id": "attended-blend",
      "metadata": {
        "id": "attended-blend"
      },
      "source": [
        "Here's the same operation expressed in a single line of code."
      ]
    },
    {
      "cell_type": "code",
      "execution_count": null,
      "id": "atlantic-marriage",
      "metadata": {
        "id": "atlantic-marriage"
      },
      "outputs": [],
      "source": [
        "data_list[get_index(data_list, 'Hemanth')] = ('Hemanth', '9595949494')"
      ]
    },
    {
      "cell_type": "markdown",
      "id": "grateful-lyric",
      "metadata": {
        "id": "grateful-lyric"
      },
      "source": [
        "#### Find\n",
        "\n",
        "The retrieve the value associated with a pair, we can get the hash of the key and look up that index in the data list."
      ]
    },
    {
      "cell_type": "code",
      "execution_count": null,
      "id": "banner-austria",
      "metadata": {
        "id": "banner-austria",
        "colab": {
          "base_uri": "https://localhost:8080/"
        },
        "outputId": "54764be2-2918-457e-e90c-6bf90bfb1b40"
      },
      "outputs": [
        {
          "output_type": "execute_result",
          "data": {
            "text/plain": [
              "585"
            ]
          },
          "metadata": {},
          "execution_count": 46
        }
      ],
      "source": [
        "idx = get_index(data_list, 'Aakash')\n",
        "idx"
      ]
    },
    {
      "cell_type": "code",
      "execution_count": null,
      "id": "conceptual-ensemble",
      "metadata": {
        "id": "conceptual-ensemble",
        "colab": {
          "base_uri": "https://localhost:8080/",
          "height": 35
        },
        "outputId": "89c92e22-92fc-41fc-f334-e0d730074b75"
      },
      "outputs": [
        {
          "output_type": "execute_result",
          "data": {
            "application/vnd.google.colaboratory.intrinsic+json": {
              "type": "string"
            },
            "text/plain": [
              "'7878787878'"
            ]
          },
          "metadata": {},
          "execution_count": 47
        }
      ],
      "source": [
        "key, value = data_list[idx]\n",
        "value"
      ]
    },
    {
      "cell_type": "markdown",
      "id": "aggregate-memorial",
      "metadata": {
        "id": "aggregate-memorial"
      },
      "source": [
        "#### List\n",
        "\n",
        "To get the list of keys, we can use a simple [list comprehension](https://www.w3schools.com/python/python_lists_comprehension.asp)."
      ]
    },
    {
      "cell_type": "code",
      "execution_count": null,
      "id": "electric-democracy",
      "metadata": {
        "id": "electric-democracy"
      },
      "outputs": [],
      "source": [
        "pairs = [kv[0] for kv in data_list if kv is not None]"
      ]
    },
    {
      "cell_type": "code",
      "execution_count": null,
      "id": "flying-composer",
      "metadata": {
        "id": "flying-composer",
        "colab": {
          "base_uri": "https://localhost:8080/"
        },
        "outputId": "1c050747-2189-4849-a5ca-de0cb10f5add"
      },
      "outputs": [
        {
          "output_type": "execute_result",
          "data": {
            "text/plain": [
              "['Aakash', 'Hemanth']"
            ]
          },
          "metadata": {},
          "execution_count": 49
        }
      ],
      "source": [
        "pairs"
      ]
    },
    {
      "cell_type": "markdown",
      "id": "speaking-aerospace",
      "metadata": {
        "id": "speaking-aerospace"
      },
      "source": [
        "Let's save our work before continuing."
      ]
    },
    {
      "cell_type": "code",
      "execution_count": null,
      "id": "wound-medicare",
      "metadata": {
        "id": "wound-medicare",
        "colab": {
          "base_uri": "https://localhost:8080/",
          "height": 87
        },
        "outputId": "31d6bdfb-0791-497d-a051-5d87cf23c0a9"
      },
      "outputs": [
        {
          "output_type": "stream",
          "name": "stdout",
          "text": [
            "[jovian] Detected Colab notebook...\u001b[0m\n",
            "[jovian] Uploading colab notebook to Jovian...\u001b[0m\n",
            "Committed successfully! https://jovian.ai/deepak-dewani/python-hash-tables-assignment\n"
          ]
        },
        {
          "output_type": "execute_result",
          "data": {
            "application/vnd.google.colaboratory.intrinsic+json": {
              "type": "string"
            },
            "text/plain": [
              "'https://jovian.ai/deepak-dewani/python-hash-tables-assignment'"
            ]
          },
          "metadata": {},
          "execution_count": 50
        }
      ],
      "source": [
        "jovian.commit(project=project)"
      ]
    },
    {
      "cell_type": "markdown",
      "id": "geological-medication",
      "metadata": {
        "id": "geological-medication"
      },
      "source": [
        "### Basic Hash Table Implementation\n",
        "\n",
        "We can now use the hashing function defined above to implement a basic hash table in Python.\n",
        "\n",
        "\n",
        "**QUESTION 3: Complete the hash table implementation below by following the instructions in the comments.**\n",
        "\n",
        "_Hint_: Insert and update can have identical implementations.\n"
      ]
    },
    {
      "cell_type": "code",
      "execution_count": null,
      "id": "hydraulic-moses",
      "metadata": {
        "id": "hydraulic-moses"
      },
      "outputs": [],
      "source": [
        "class BasicHashTable:\n",
        "    def __init__(self, max_size=MAX_HASH_TABLE_SIZE):\n",
        "        # 1. Create a list of size `max_size` with all values None\n",
        "        self.data_list = [None] * max_size\n",
        "     \n",
        "    \n",
        "    def insert(self, key, value):\n",
        "        # 1. Find the index for the key using get_index\n",
        "        idx = get_index(self.data_list, key)\n",
        "        \n",
        "        # 2. Store the key-value pair at the right index\n",
        "        self.data_list[idx] = key, value\n",
        "    \n",
        "    \n",
        "    def find(self, key):\n",
        "        # 1. Find the index for the key using get_index\n",
        "        idx = get_index(self.data_list, key)\n",
        "        \n",
        "        # 2. Retrieve the data stored at the index\n",
        "        kv = self.data_list[idx]\n",
        "        \n",
        "        # 3. Return the value if found, else return None\n",
        "        if kv is None:\n",
        "            return None\n",
        "        else:\n",
        "            key, value = kv\n",
        "            return value\n",
        "    \n",
        "    \n",
        "    def update(self, key, value):\n",
        "        # 1. Find the index for the key using get_index\n",
        "        idx = get_index(self.data_list, key)\n",
        "        \n",
        "        # 2. Store the new key-value pair at the right index\n",
        "        self.data_list[idx] = key, value\n",
        "\n",
        "    \n",
        "    def list_all(self):\n",
        "        # 1. Extract the key from each key-value pair \n",
        "        return [kv[0] for kv in self.data_list if kv is not None]"
      ]
    },
    {
      "cell_type": "markdown",
      "id": "green-health",
      "metadata": {
        "id": "green-health"
      },
      "source": [
        "If the `BasicHashTable` class was defined correctly, the following cells should output `True`."
      ]
    },
    {
      "cell_type": "code",
      "execution_count": null,
      "id": "automotive-aerospace",
      "metadata": {
        "id": "automotive-aerospace",
        "colab": {
          "base_uri": "https://localhost:8080/"
        },
        "outputId": "50302ab5-13c0-48f8-f725-5b0e16902d32"
      },
      "outputs": [
        {
          "output_type": "execute_result",
          "data": {
            "text/plain": [
              "True"
            ]
          },
          "metadata": {},
          "execution_count": 52
        }
      ],
      "source": [
        "basic_table = BasicHashTable(max_size=1024)\n",
        "len(basic_table.data_list) == 1024"
      ]
    },
    {
      "cell_type": "code",
      "execution_count": null,
      "id": "awful-contemporary",
      "metadata": {
        "id": "awful-contemporary",
        "colab": {
          "base_uri": "https://localhost:8080/"
        },
        "outputId": "4756f670-3747-4fe2-c8ef-d3c2bc7177d3"
      },
      "outputs": [
        {
          "output_type": "execute_result",
          "data": {
            "text/plain": [
              "True"
            ]
          },
          "metadata": {},
          "execution_count": 53
        }
      ],
      "source": [
        "# Insert some values\n",
        "basic_table.insert('Aakash', '9999999999')\n",
        "basic_table.insert('Hemanth', '8888888888')\n",
        "\n",
        "# Find a value\n",
        "basic_table.find('Hemanth') == '8888888888'"
      ]
    },
    {
      "cell_type": "code",
      "execution_count": null,
      "id": "sustainable-latter",
      "metadata": {
        "id": "sustainable-latter",
        "colab": {
          "base_uri": "https://localhost:8080/"
        },
        "outputId": "f9b43cfd-0e2a-4765-c61e-280f94a0c76e"
      },
      "outputs": [
        {
          "output_type": "execute_result",
          "data": {
            "text/plain": [
              "True"
            ]
          },
          "metadata": {},
          "execution_count": 54
        }
      ],
      "source": [
        "# Update a value\n",
        "basic_table.update('Aakash', '7777777777')\n",
        "\n",
        "# Check the updated value\n",
        "basic_table.find('Aakash') == '7777777777'"
      ]
    },
    {
      "cell_type": "code",
      "execution_count": null,
      "id": "accredited-fruit",
      "metadata": {
        "id": "accredited-fruit",
        "colab": {
          "base_uri": "https://localhost:8080/"
        },
        "outputId": "61de2b85-8832-4715-fc0e-1364e017195e"
      },
      "outputs": [
        {
          "output_type": "execute_result",
          "data": {
            "text/plain": [
              "True"
            ]
          },
          "metadata": {},
          "execution_count": 55
        }
      ],
      "source": [
        "# Get the list of keys\n",
        "basic_table.list_all() == ['Aakash', 'Hemanth']"
      ]
    },
    {
      "cell_type": "markdown",
      "id": "blank-thesaurus",
      "metadata": {
        "id": "blank-thesaurus"
      },
      "source": [
        "(Optional) Test your implementation of `BasicHashTable` with some more examples below."
      ]
    },
    {
      "cell_type": "code",
      "execution_count": null,
      "id": "antique-reverse",
      "metadata": {
        "id": "antique-reverse"
      },
      "outputs": [],
      "source": [
        "basic_table.insert('Deepak', '8989898989')\n",
        "basic_table.insert('Sam', '7979797979')"
      ]
    },
    {
      "cell_type": "code",
      "execution_count": null,
      "id": "sustained-surgery",
      "metadata": {
        "id": "sustained-surgery",
        "colab": {
          "base_uri": "https://localhost:8080/"
        },
        "outputId": "3fb7e215-a945-44e5-dc82-573169c871ac"
      },
      "outputs": [
        {
          "output_type": "execute_result",
          "data": {
            "text/plain": [
              "True"
            ]
          },
          "metadata": {},
          "execution_count": 58
        }
      ],
      "source": [
        "basic_table.find('Deepak') == '8989898989'"
      ]
    },
    {
      "cell_type": "code",
      "execution_count": null,
      "id": "cutting-confirmation",
      "metadata": {
        "id": "cutting-confirmation"
      },
      "outputs": [],
      "source": [
        "basic_table.update('Sam', '5959595959')"
      ]
    },
    {
      "cell_type": "code",
      "source": [
        "basic_table.list_all() == ['Sam', 'Aakash', 'Deepak', 'listen', 'Hemanth']"
      ],
      "metadata": {
        "colab": {
          "base_uri": "https://localhost:8080/"
        },
        "id": "ew65toBYV5fs",
        "outputId": "3bdd4d9f-e654-4499-c84f-c7ae83ffbacf"
      },
      "id": "ew65toBYV5fs",
      "execution_count": null,
      "outputs": [
        {
          "output_type": "execute_result",
          "data": {
            "text/plain": [
              "True"
            ]
          },
          "metadata": {},
          "execution_count": 71
        }
      ]
    },
    {
      "cell_type": "markdown",
      "id": "identified-gather",
      "metadata": {
        "id": "identified-gather"
      },
      "source": [
        "Let's save our work before continuing."
      ]
    },
    {
      "cell_type": "code",
      "execution_count": null,
      "id": "supreme-clearance",
      "metadata": {
        "id": "supreme-clearance",
        "colab": {
          "base_uri": "https://localhost:8080/",
          "height": 87
        },
        "outputId": "2eea8b0e-d724-4c81-bc02-9116270b55f5"
      },
      "outputs": [
        {
          "output_type": "stream",
          "name": "stdout",
          "text": [
            "[jovian] Detected Colab notebook...\u001b[0m\n",
            "[jovian] Uploading colab notebook to Jovian...\u001b[0m\n",
            "Committed successfully! https://jovian.ai/deepak-dewani/python-hash-tables-assignment\n"
          ]
        },
        {
          "output_type": "execute_result",
          "data": {
            "application/vnd.google.colaboratory.intrinsic+json": {
              "type": "string"
            },
            "text/plain": [
              "'https://jovian.ai/deepak-dewani/python-hash-tables-assignment'"
            ]
          },
          "metadata": {},
          "execution_count": 75
        }
      ],
      "source": [
        "jovian.commit(project=project)"
      ]
    },
    {
      "cell_type": "markdown",
      "id": "local-fairy",
      "metadata": {
        "id": "local-fairy"
      },
      "source": [
        "### Handling Collisions with Linear Probing\n",
        "\n",
        "As you might have wondered, multiple keys can have the same hash. For instance, the keys `\"listen\"` and `\"silent\"` have the same hash. This is referred to as _collision_. Data stored against one key may override the data stored against another, if they have the same hash.\n"
      ]
    },
    {
      "cell_type": "code",
      "source": [
        "basic_table.insert('listen', 99)"
      ],
      "metadata": {
        "id": "qwryjA-pW4uK"
      },
      "id": "qwryjA-pW4uK",
      "execution_count": null,
      "outputs": []
    },
    {
      "cell_type": "code",
      "source": [
        "basic_table.insert('silent', 200)"
      ],
      "metadata": {
        "id": "9R1rvz8xW2wn"
      },
      "id": "9R1rvz8xW2wn",
      "execution_count": null,
      "outputs": []
    },
    {
      "cell_type": "code",
      "source": [
        "basic_table.find('listen')"
      ],
      "metadata": {
        "colab": {
          "base_uri": "https://localhost:8080/"
        },
        "id": "wZ2bGg4-W6ck",
        "outputId": "cd191fe9-deed-401e-bc80-378ebd2134d0"
      },
      "id": "wZ2bGg4-W6ck",
      "execution_count": null,
      "outputs": [
        {
          "output_type": "execute_result",
          "data": {
            "text/plain": [
              "200"
            ]
          },
          "metadata": {},
          "execution_count": 74
        }
      ]
    },
    {
      "cell_type": "markdown",
      "id": "focal-intent",
      "metadata": {
        "id": "focal-intent"
      },
      "source": [
        "As you can see above, the value for the key `listen` was overwritten by the value for the key `silent`. Our hash table implementation is incomplete because it does not handle collisions correctly.\n",
        "\n",
        "To handle collisions we'll use a technique called linear probing. Here's how it works: \n",
        "\n",
        "1. While inserting a new key-value pair if the target index for a key is occupied by another key, then we try the next index, followed by the next and so on till we the closest empty location.\n",
        "\n",
        "2. While finding a key-value pair, we apply the same strategy, but instead of searching for an empty location, we look for a location which contains a key-value pair with the matching key.\n",
        "\n",
        "2. While updating a key-value pair, we apply the same strategy, but instead of searching for an empty location, we look for a location which contains a key-value pair with the matching key, and update its value.\n",
        "\n",
        "\n",
        "We'll define a function called `get_valid_index`, which starts searching the data list from the index determined by the hashing function `get_index` and returns the first index which is either empty or contains a key-value pair matching the given key.\n",
        "\n",
        "**QUESTION 4: Complete the function `get_valid_index` below by following the instructions in the comments.**"
      ]
    },
    {
      "cell_type": "code",
      "execution_count": null,
      "id": "speaking-reform",
      "metadata": {
        "id": "speaking-reform"
      },
      "outputs": [],
      "source": [
        "def get_valid_index(data_list, key):\n",
        "    # Start with the index returned by get_index\n",
        "    idx = get_index(data_list, key)\n",
        "    \n",
        "    while True:\n",
        "        # Get the key-value pair stored at idx\n",
        "        kv = data_list[idx]\n",
        "        \n",
        "        # If it is None, return the index\n",
        "        if kv is None:\n",
        "            return idx\n",
        "        \n",
        "        # If the stored key matches the given key, return the index\n",
        "        k, v = kv\n",
        "        if k == key:\n",
        "            return idx\n",
        "        \n",
        "        # Move to the next index\n",
        "        idx += 1\n",
        "        \n",
        "        # Go back to the start if you have reached the end of the array\n",
        "        if idx == len(data_list):\n",
        "            idx = 0"
      ]
    },
    {
      "cell_type": "code",
      "execution_count": null,
      "id": "stable-journalism",
      "metadata": {
        "id": "stable-journalism"
      },
      "outputs": [],
      "source": [
        ""
      ]
    },
    {
      "cell_type": "markdown",
      "id": "addressed-announcement",
      "metadata": {
        "id": "addressed-announcement"
      },
      "source": [
        "If `get_valid_index` was defined correctly, the following cells should output `True`."
      ]
    },
    {
      "cell_type": "code",
      "execution_count": null,
      "id": "shared-breathing",
      "metadata": {
        "id": "shared-breathing",
        "colab": {
          "base_uri": "https://localhost:8080/"
        },
        "outputId": "89dc3b5b-5001-46b4-d317-cce3ce4f5b84"
      },
      "outputs": [
        {
          "output_type": "execute_result",
          "data": {
            "text/plain": [
              "True"
            ]
          },
          "metadata": {},
          "execution_count": 77
        }
      ],
      "source": [
        "# Create an empty hash table\n",
        "data_list2 = [None] * MAX_HASH_TABLE_SIZE\n",
        "\n",
        "# New key 'listen' should return expected index\n",
        "get_valid_index(data_list2, 'listen') == 655"
      ]
    },
    {
      "cell_type": "code",
      "execution_count": null,
      "id": "sophisticated-enterprise",
      "metadata": {
        "id": "sophisticated-enterprise",
        "colab": {
          "base_uri": "https://localhost:8080/"
        },
        "outputId": "ba972e40-845f-4732-e1c2-72ca3451bf63"
      },
      "outputs": [
        {
          "output_type": "execute_result",
          "data": {
            "text/plain": [
              "True"
            ]
          },
          "metadata": {},
          "execution_count": 78
        }
      ],
      "source": [
        "# Insert a key-value pair for the key 'listen'\n",
        "data_list2[get_index(data_list2, 'listen')] = ('listen', 99)\n",
        "\n",
        "# Colliding key 'silent' should return next index\n",
        "get_valid_index(data_list2, 'silent') == 656"
      ]
    },
    {
      "cell_type": "markdown",
      "id": "scenic-drink",
      "metadata": {
        "id": "scenic-drink"
      },
      "source": [
        "(Optional) Test your implementation of `get_valid_index` on some more examples using the empty cells below."
      ]
    },
    {
      "cell_type": "code",
      "execution_count": null,
      "id": "parallel-birmingham",
      "metadata": {
        "id": "parallel-birmingham",
        "colab": {
          "base_uri": "https://localhost:8080/"
        },
        "outputId": "ebe734cc-cd4a-4a51-c6d0-379868d694bb"
      },
      "outputs": [
        {
          "output_type": "execute_result",
          "data": {
            "text/plain": [
              "655"
            ]
          },
          "metadata": {},
          "execution_count": 79
        }
      ],
      "source": [
        "get_valid_index(data_list2, 'listen')"
      ]
    },
    {
      "cell_type": "code",
      "execution_count": null,
      "id": "fewer-stylus",
      "metadata": {
        "id": "fewer-stylus",
        "colab": {
          "base_uri": "https://localhost:8080/"
        },
        "outputId": "05fc3f55-5906-4ccd-b200-80d95c8279a2"
      },
      "outputs": [
        {
          "output_type": "execute_result",
          "data": {
            "text/plain": [
              "656"
            ]
          },
          "metadata": {},
          "execution_count": 80
        }
      ],
      "source": [
        "get_valid_index(data_list2, 'silent')"
      ]
    },
    {
      "cell_type": "code",
      "execution_count": null,
      "id": "regulated-subject",
      "metadata": {
        "id": "regulated-subject",
        "colab": {
          "base_uri": "https://localhost:8080/"
        },
        "outputId": "51c759fb-570f-4e9e-f9ec-0e537d67cc54"
      },
      "outputs": [
        {
          "output_type": "execute_result",
          "data": {
            "text/plain": [
              "416"
            ]
          },
          "metadata": {},
          "execution_count": 81
        }
      ],
      "source": [
        "get_valid_index(data_list2, 'bomb')"
      ]
    },
    {
      "cell_type": "code",
      "source": [
        "data_list2[get_index(data_list2, 'bomb')] = ('bomb', 56)"
      ],
      "metadata": {
        "id": "FEVa-P4ucdMF"
      },
      "id": "FEVa-P4ucdMF",
      "execution_count": null,
      "outputs": []
    },
    {
      "cell_type": "code",
      "source": [
        "get_valid_index(data_list2, 'mobb')"
      ],
      "metadata": {
        "colab": {
          "base_uri": "https://localhost:8080/"
        },
        "id": "bd4FZBaKcIkZ",
        "outputId": "1eacc498-f3f7-471a-8356-a1263490211b"
      },
      "id": "bd4FZBaKcIkZ",
      "execution_count": null,
      "outputs": [
        {
          "output_type": "execute_result",
          "data": {
            "text/plain": [
              "417"
            ]
          },
          "metadata": {},
          "execution_count": 84
        }
      ]
    },
    {
      "cell_type": "markdown",
      "id": "lasting-grocery",
      "metadata": {
        "id": "lasting-grocery"
      },
      "source": [
        "Let's save our work before continuing."
      ]
    },
    {
      "cell_type": "code",
      "execution_count": null,
      "id": "pleased-blocking",
      "metadata": {
        "id": "pleased-blocking",
        "colab": {
          "base_uri": "https://localhost:8080/",
          "height": 87
        },
        "outputId": "4737341b-1df5-4231-aaf4-cfd917a7ae56"
      },
      "outputs": [
        {
          "output_type": "stream",
          "name": "stdout",
          "text": [
            "[jovian] Detected Colab notebook...\u001b[0m\n",
            "[jovian] Uploading colab notebook to Jovian...\u001b[0m\n",
            "Committed successfully! https://jovian.ai/deepak-dewani/python-hash-tables-assignment\n"
          ]
        },
        {
          "output_type": "execute_result",
          "data": {
            "application/vnd.google.colaboratory.intrinsic+json": {
              "type": "string"
            },
            "text/plain": [
              "'https://jovian.ai/deepak-dewani/python-hash-tables-assignment'"
            ]
          },
          "metadata": {},
          "execution_count": 85
        }
      ],
      "source": [
        "jovian.commit(project=project)"
      ]
    },
    {
      "cell_type": "markdown",
      "id": "polish-grill",
      "metadata": {
        "id": "polish-grill"
      },
      "source": [
        "### Hash Table with Linear Probing\n",
        "\n",
        "We can now implement a hash table with linear probing.\n",
        "\n",
        "**QUESTION 5: Complete the hash table (with linear probing) implementation below by following the instructions in the comments.**"
      ]
    },
    {
      "cell_type": "code",
      "execution_count": null,
      "id": "abstract-stanley",
      "metadata": {
        "id": "abstract-stanley"
      },
      "outputs": [],
      "source": [
        "class ProbingHashTable:\n",
        "    def __init__(self, max_size=MAX_HASH_TABLE_SIZE):\n",
        "        # 1. Create a list of size `max_size` with all values None\n",
        "        self.data_list = [None] * max_size\n",
        "     \n",
        "    \n",
        "    def insert(self, key, value):\n",
        "        # 1. Find the index for the key using get_valid_index\n",
        "        idx = get_valid_index(self.data_list, key)\n",
        "        \n",
        "        # 2. Store the key-value pair at the right index\n",
        "        self.data_list[idx] = key, value\n",
        "    \n",
        "    \n",
        "    def find(self, key):\n",
        "        # 1. Find the index for the key using get_valid_index\n",
        "        idx = get_valid_index(self.data_list, key)\n",
        "        \n",
        "        # 2. Retrieve the data stored at the index\n",
        "        kv = self.data_list[idx]\n",
        "        \n",
        "        # 3. Return the value if found, else return None\n",
        "        return None if kv is None else kv[1]\n",
        "    \n",
        "    \n",
        "    def update(self, key, value):\n",
        "        # 1. Find the index for the key using get_valid_index\n",
        "        idx = get_valid_index(self.data_list, key)\n",
        "        \n",
        "        # 2. Store the new key-value pair at the right index\n",
        "        self.data_list[idx] = key, value\n",
        "\n",
        "    \n",
        "    def list_all(self):\n",
        "        # 1. Extract the key from each key-value pair \n",
        "        return [kv[0] for kv in self.data_list if kv is not None]"
      ]
    },
    {
      "cell_type": "markdown",
      "id": "happy-contributor",
      "metadata": {
        "id": "happy-contributor"
      },
      "source": [
        "If the `ProbingHashTable` class was defined correctly, the following cells should output `True`."
      ]
    },
    {
      "cell_type": "code",
      "execution_count": null,
      "id": "strange-apache",
      "metadata": {
        "id": "strange-apache",
        "colab": {
          "base_uri": "https://localhost:8080/"
        },
        "outputId": "7e385805-e612-43f4-eff2-7116c7097ae3"
      },
      "outputs": [
        {
          "output_type": "execute_result",
          "data": {
            "text/plain": [
              "True"
            ]
          },
          "metadata": {},
          "execution_count": 87
        }
      ],
      "source": [
        "# Create a new hash table\n",
        "probing_table = ProbingHashTable()\n",
        "\n",
        "# Insert a value\n",
        "probing_table.insert('listen', 99)\n",
        "\n",
        "# Check the value\n",
        "probing_table.find('listen') == 99"
      ]
    },
    {
      "cell_type": "code",
      "execution_count": null,
      "id": "lovely-boost",
      "metadata": {
        "id": "lovely-boost",
        "colab": {
          "base_uri": "https://localhost:8080/"
        },
        "outputId": "dee636c1-6d15-4093-86d4-12a45bd15a06"
      },
      "outputs": [
        {
          "output_type": "execute_result",
          "data": {
            "text/plain": [
              "True"
            ]
          },
          "metadata": {},
          "execution_count": 88
        }
      ],
      "source": [
        "# Insert a colliding key\n",
        "probing_table.insert('silent', 200)\n",
        "\n",
        "# Check the new and old keys\n",
        "probing_table.find('listen') == 99 and probing_table.find('silent') == 200"
      ]
    },
    {
      "cell_type": "code",
      "execution_count": null,
      "id": "yellow-burlington",
      "metadata": {
        "id": "yellow-burlington",
        "colab": {
          "base_uri": "https://localhost:8080/"
        },
        "outputId": "b870d962-5896-40fd-dc8c-ef678c5a300f"
      },
      "outputs": [
        {
          "output_type": "execute_result",
          "data": {
            "text/plain": [
              "True"
            ]
          },
          "metadata": {},
          "execution_count": 89
        }
      ],
      "source": [
        "# Update a key\n",
        "probing_table.insert('listen', 101)\n",
        "\n",
        "# Check the value\n",
        "probing_table.find('listen') == 101"
      ]
    },
    {
      "cell_type": "code",
      "execution_count": null,
      "id": "assumed-standing",
      "metadata": {
        "id": "assumed-standing",
        "colab": {
          "base_uri": "https://localhost:8080/"
        },
        "outputId": "4b81c97e-540b-445d-cac2-94c6b7f47ff3"
      },
      "outputs": [
        {
          "output_type": "execute_result",
          "data": {
            "text/plain": [
              "True"
            ]
          },
          "metadata": {},
          "execution_count": 90
        }
      ],
      "source": [
        "probing_table.list_all() == ['listen', 'silent']"
      ]
    },
    {
      "cell_type": "markdown",
      "id": "precise-zambia",
      "metadata": {
        "id": "precise-zambia"
      },
      "source": [
        "(Optional) Test your implementation of `ProbingHashTable` using the empty cells below."
      ]
    },
    {
      "cell_type": "code",
      "execution_count": null,
      "id": "ideal-retailer",
      "metadata": {
        "id": "ideal-retailer"
      },
      "outputs": [],
      "source": [
        "probing_table.insert('deepak', 561)"
      ]
    },
    {
      "cell_type": "code",
      "execution_count": null,
      "id": "manual-pendant",
      "metadata": {
        "id": "manual-pendant",
        "colab": {
          "base_uri": "https://localhost:8080/"
        },
        "outputId": "42e3f13c-dc10-4152-da51-4ed4d6bfa39e"
      },
      "outputs": [
        {
          "output_type": "execute_result",
          "data": {
            "text/plain": [
              "561"
            ]
          },
          "metadata": {},
          "execution_count": 92
        }
      ],
      "source": [
        "probing_table.find('deepak')"
      ]
    },
    {
      "cell_type": "code",
      "execution_count": null,
      "id": "automatic-recorder",
      "metadata": {
        "id": "automatic-recorder",
        "colab": {
          "base_uri": "https://localhost:8080/"
        },
        "outputId": "6935b604-1c66-42c0-d782-f7394e90c0ad"
      },
      "outputs": [
        {
          "output_type": "execute_result",
          "data": {
            "text/plain": [
              "True"
            ]
          },
          "metadata": {},
          "execution_count": 93
        }
      ],
      "source": [
        "probing_table.find('deepak') == 561"
      ]
    },
    {
      "cell_type": "code",
      "source": [
        "probing_table.insert('target', 777)"
      ],
      "metadata": {
        "id": "9z9vnO1beXO1"
      },
      "id": "9z9vnO1beXO1",
      "execution_count": null,
      "outputs": []
    },
    {
      "cell_type": "code",
      "source": [
        "probing_table.find('target') == 777"
      ],
      "metadata": {
        "colab": {
          "base_uri": "https://localhost:8080/"
        },
        "id": "SgZo_X7UeXLu",
        "outputId": "b94976c0-ceb8-452a-84c5-5c7b1bcb3e07"
      },
      "id": "SgZo_X7UeXLu",
      "execution_count": null,
      "outputs": [
        {
          "output_type": "execute_result",
          "data": {
            "text/plain": [
              "True"
            ]
          },
          "metadata": {},
          "execution_count": 116
        }
      ]
    },
    {
      "cell_type": "code",
      "source": [
        "probing_table.update('deepak', 751)"
      ],
      "metadata": {
        "id": "q2OcctrSeXHr"
      },
      "id": "q2OcctrSeXHr",
      "execution_count": null,
      "outputs": []
    },
    {
      "cell_type": "code",
      "source": [
        "probing_table.find('deepak')"
      ],
      "metadata": {
        "colab": {
          "base_uri": "https://localhost:8080/"
        },
        "id": "cPdQ2vCxfEIF",
        "outputId": "ebf9c2c1-77de-4348-c9d0-e51020f80943"
      },
      "id": "cPdQ2vCxfEIF",
      "execution_count": null,
      "outputs": [
        {
          "output_type": "execute_result",
          "data": {
            "text/plain": [
              "751"
            ]
          },
          "metadata": {},
          "execution_count": 118
        }
      ]
    },
    {
      "cell_type": "code",
      "source": [
        "probing_table.insert('kite', 97)\n",
        "\n",
        "probing_table.find('kite') == 97"
      ],
      "metadata": {
        "colab": {
          "base_uri": "https://localhost:8080/"
        },
        "id": "cmS7EX-Th7r5",
        "outputId": "1bdac014-2ec1-4728-deab-f9eeb6925403"
      },
      "id": "cmS7EX-Th7r5",
      "execution_count": null,
      "outputs": [
        {
          "output_type": "execute_result",
          "data": {
            "text/plain": [
              "True"
            ]
          },
          "metadata": {},
          "execution_count": 124
        }
      ]
    },
    {
      "cell_type": "code",
      "source": [
        "probing_table.insert('tike', 429 )\n",
        "\n",
        "probing_table.find('kite') == 97 and probing_table.find('tike') == 429"
      ],
      "metadata": {
        "colab": {
          "base_uri": "https://localhost:8080/"
        },
        "id": "xtJDggZth7Vk",
        "outputId": "418716fe-0d3a-48fc-d8df-b68085a3b185"
      },
      "id": "xtJDggZth7Vk",
      "execution_count": null,
      "outputs": [
        {
          "output_type": "execute_result",
          "data": {
            "text/plain": [
              "True"
            ]
          },
          "metadata": {},
          "execution_count": 128
        }
      ]
    },
    {
      "cell_type": "markdown",
      "id": "living-graphics",
      "metadata": {
        "id": "living-graphics"
      },
      "source": [
        "Save your work before continuing."
      ]
    },
    {
      "cell_type": "code",
      "execution_count": null,
      "id": "developed-sandwich",
      "metadata": {
        "id": "developed-sandwich",
        "colab": {
          "base_uri": "https://localhost:8080/",
          "height": 87
        },
        "outputId": "9b44a4ae-ea98-4b6f-f26c-900ca5c5f38d"
      },
      "outputs": [
        {
          "output_type": "stream",
          "name": "stdout",
          "text": [
            "[jovian] Detected Colab notebook...\u001b[0m\n",
            "[jovian] Uploading colab notebook to Jovian...\u001b[0m\n",
            "Committed successfully! https://jovian.ai/deepak-dewani/python-hash-tables-assignment\n"
          ]
        },
        {
          "output_type": "execute_result",
          "data": {
            "application/vnd.google.colaboratory.intrinsic+json": {
              "type": "string"
            },
            "text/plain": [
              "'https://jovian.ai/deepak-dewani/python-hash-tables-assignment'"
            ]
          },
          "metadata": {},
          "execution_count": 129
        }
      ],
      "source": [
        "jovian.commit(project=project)"
      ]
    },
    {
      "cell_type": "markdown",
      "id": "lined-somalia",
      "metadata": {
        "id": "lined-somalia"
      },
      "source": [
        "### Make a Submission\n",
        "\n",
        "Congrats! You have now implemented hash tables from scratch. The rest of this assignment is optional. \n",
        "\n",
        "You can make a submission on this page: https://jovian.ai/learn/data-structures-and-algorithms-in-python/assignment/assignment-2-hash-table-and-python-dictionaries . Submit the link to your Jovian notebook (the output of the previous cell).\n",
        "\n",
        "\n",
        "You can also make a direct submission by executing the following cell:"
      ]
    },
    {
      "cell_type": "code",
      "execution_count": null,
      "id": "european-norwegian",
      "metadata": {
        "id": "european-norwegian",
        "colab": {
          "base_uri": "https://localhost:8080/"
        },
        "outputId": "e72f6d60-dd63-4f71-c253-2447851723a0"
      },
      "outputs": [
        {
          "output_type": "stream",
          "name": "stdout",
          "text": [
            "[jovian] Detected Colab notebook...\u001b[0m\n",
            "[jovian] Uploading colab notebook to Jovian...\u001b[0m\n",
            "Committed successfully! https://jovian.ai/deepak-dewani/python-hash-tables-assignment\n",
            "[jovian] Submitting assignment..\u001b[0m\n",
            "[jovian] Verify your submission at https://jovian.ai/learn/data-structures-and-algorithms-in-python/assignment/assignment-2-hash-table-and-python-dictionaries\u001b[0m\n"
          ]
        }
      ],
      "source": [
        "jovian.submit(assignment=\"pythondsa-assignment2\")"
      ]
    },
    {
      "cell_type": "markdown",
      "id": "frank-valve",
      "metadata": {
        "id": "frank-valve"
      },
      "source": [
        "If you are stuck, you can get help on the forum: https://jovian.ai/forum/c/data-structures-and-algorithms-in-python/assignment-2/88"
      ]
    },
    {
      "cell_type": "markdown",
      "id": "qualified-affairs",
      "metadata": {
        "id": "qualified-affairs"
      },
      "source": [
        "### (Optional) Python Dictionaries using Hash Tables\n",
        "\n",
        "We can now implement Python dictionaries using hash tables. Also, Python provides a built-in function called `hash` which we can use instead of our custom hash function. It is likely to have far fewer collisions\n",
        "\n",
        "**(Optional) Question: Implement a python-friendly interface for the hash table.**"
      ]
    },
    {
      "cell_type": "code",
      "execution_count": null,
      "id": "typical-copper",
      "metadata": {
        "id": "typical-copper"
      },
      "outputs": [],
      "source": [
        "MAX_HASH_TABLE_SIZE = 4096\n",
        "\n",
        "class HashTable:\n",
        "    def __init__(self, max_size=MAX_HASH_TABLE_SIZE):\n",
        "        self.data_list = [None] * max_size\n",
        "        \n",
        "    def get_valid_index(self, key):\n",
        "        # Use Python's in-built `hash` function and implement linear probing\n",
        "        pass # change this\n",
        "        \n",
        "    def __getitem__(self, key):\n",
        "        # Implement the logic for \"find\" here\n",
        "        pass # change this\n",
        "    \n",
        "    def __setitem__(self, key, value):\n",
        "        # Implement the logic for \"insert/update\" here\n",
        "        pass # change this\n",
        "    \n",
        "    def __iter__(self):\n",
        "        return (x for x in self.data_list if x is not None)\n",
        "    \n",
        "    def __len__(self):\n",
        "        return len([x for x in self])\n",
        "    \n",
        "    def __repr__(self):\n",
        "        from textwrap import indent\n",
        "        pairs = [indent(\"{} : {}\".format(repr(kv[0]), repr(kv[1])), '  ') for kv in self]\n",
        "        return \"{\\n\" + \"{}\".format(',\\n'.join(pairs)) + \"\\n}\"\n",
        "    \n",
        "    def __str__(self):\n",
        "        return repr(self)"
      ]
    },
    {
      "cell_type": "markdown",
      "id": "popular-warren",
      "metadata": {
        "id": "popular-warren"
      },
      "source": [
        "If the `HashTable` class was defined correctly, the following cells should output `True`."
      ]
    },
    {
      "cell_type": "code",
      "execution_count": null,
      "id": "controlling-estate",
      "metadata": {
        "id": "controlling-estate"
      },
      "outputs": [],
      "source": [
        "# Create a hash table\n",
        "table = HashTable()\n",
        "\n",
        "# Insert some key-value pairs\n",
        "table['a'] = 1\n",
        "table['b'] = 34\n",
        "\n",
        "# Retrieve the inserted values\n",
        "table['a'] == 1 and table['b'] == 34"
      ]
    },
    {
      "cell_type": "code",
      "execution_count": null,
      "id": "driving-afternoon",
      "metadata": {
        "id": "driving-afternoon"
      },
      "outputs": [],
      "source": [
        "# Update a value\n",
        "table['a'] = 99\n",
        "\n",
        "# Check the updated value\n",
        "table['a'] == 99"
      ]
    },
    {
      "cell_type": "code",
      "execution_count": null,
      "id": "restricted-power",
      "metadata": {
        "id": "restricted-power"
      },
      "outputs": [],
      "source": [
        "# Get a list of key-value pairs\n",
        "list(table) == [('a', 99), ('b', 34)]"
      ]
    },
    {
      "cell_type": "markdown",
      "id": "hispanic-depth",
      "metadata": {
        "id": "hispanic-depth"
      },
      "source": [
        "Since we have also implemented the `__repr__` and `__str__` functions, the output of the next cell should be:\n",
        "\n",
        "```\n",
        "{\n",
        "  'a' : 99,\n",
        "  'b' : 34\n",
        "}\n",
        "```"
      ]
    },
    {
      "cell_type": "code",
      "execution_count": null,
      "id": "black-cedar",
      "metadata": {
        "id": "black-cedar"
      },
      "outputs": [],
      "source": [
        "table"
      ]
    },
    {
      "cell_type": "markdown",
      "id": "electrical-aberdeen",
      "metadata": {
        "id": "electrical-aberdeen"
      },
      "source": [
        "Let's save our work before continuing."
      ]
    },
    {
      "cell_type": "code",
      "execution_count": null,
      "id": "apparent-spider",
      "metadata": {
        "id": "apparent-spider"
      },
      "outputs": [],
      "source": [
        "import jovian"
      ]
    },
    {
      "cell_type": "code",
      "execution_count": null,
      "id": "tropical-singer",
      "metadata": {
        "id": "tropical-singer"
      },
      "outputs": [],
      "source": [
        "jovian.commit(project=project)"
      ]
    },
    {
      "cell_type": "markdown",
      "id": "great-piece",
      "metadata": {
        "id": "great-piece"
      },
      "source": [
        "### (Optional) Hash Table Improvements\n",
        "\n",
        "Here are some more improvements/changes you can make to your hash table implementation:\n",
        "\n",
        "* **Track the size of the hash table** i.e. number of key-value pairs so that `len(table)` has complexity O(1).\n",
        "* **Implement deletion with tombstones** as described here: https://research.cs.vt.edu/AVresearch/hashing/deletion.php\n",
        "* **Implement dynamic resizing** to automatically grow/shrink the data list: https://charlesreid1.com/wiki/Hash_Maps/Dynamic_Resizing\n",
        "* **Implement separate chaining**, an alternative to linear probing for collision resolution: https://www.youtube.com/watch/T9gct6Dx-jo\n"
      ]
    },
    {
      "cell_type": "markdown",
      "id": "annoying-background",
      "metadata": {
        "id": "annoying-background"
      },
      "source": [
        "### (Optional) Complexity Analysis\n",
        "\n",
        "With choice of a good hashing function and other improvements like dynamic resizing, you can \n",
        "\n",
        "\n",
        "| Operation      | Average-case time complexity | Worst-case time complexity |\n",
        "| ----------- | ----------- |---------|\n",
        "| Insert/Update      | **O(1)**    | **O(n)**|\n",
        "| Find   | **O(1)**    | **O(n)**|\n",
        "| Delete   | **O(1)**    | **O(n)**|\n",
        "| List   | **O(n)**    | **O(n)**|\n",
        "\n",
        "\n",
        "Here are some questions to ponder upon?\n",
        "\n",
        "- What is average case complexity? How does it differ from worst-case complexity?\n",
        "- Do you see why insert/find/update have average-case complexity of O(1) and worst-case complexity of O(n) ?\n",
        "- How is the complexity of hash tables different from binary search trees?\n",
        "- When should you prefer using hash table over binary trees or vice versa?\n",
        "\n",
        "Discuss your answers on the forum: https://jovian.ai/forum/c/data-structures-and-algorithms-in-python/assignment-2/88"
      ]
    }
  ],
  "metadata": {
    "colab": {
      "name": "02_python-hash-tables-assignment.ipynb",
      "provenance": [],
      "collapsed_sections": [
        "qualified-affairs",
        "great-piece",
        "annoying-background"
      ],
      "include_colab_link": true
    },
    "kernelspec": {
      "display_name": "Python 3 (ipykernel)",
      "language": "python",
      "name": "python3"
    },
    "language_info": {
      "codemirror_mode": {
        "name": "ipython",
        "version": 3
      },
      "file_extension": ".py",
      "mimetype": "text/x-python",
      "name": "python",
      "nbconvert_exporter": "python",
      "pygments_lexer": "ipython3",
      "version": "3.9.6"
    }
  },
  "nbformat": 4,
  "nbformat_minor": 5
}