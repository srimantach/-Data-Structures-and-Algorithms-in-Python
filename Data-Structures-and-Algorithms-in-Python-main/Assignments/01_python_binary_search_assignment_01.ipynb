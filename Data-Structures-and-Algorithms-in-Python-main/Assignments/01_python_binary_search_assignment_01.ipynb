{
  "cells": [
    {
      "cell_type": "markdown",
      "metadata": {
        "id": "view-in-github",
        "colab_type": "text"
      },
      "source": [
        "<a href=\"https://colab.research.google.com/github/deepak-dewani/Data-Structures-and-Algorithms-in-Python/blob/main/01_python_binary_search_assignment_01.ipynb\" target=\"_parent\"><img src=\"https://colab.research.google.com/assets/colab-badge.svg\" alt=\"Open In Colab\"/></a>"
      ]
    },
    {
      "cell_type": "code",
      "execution_count": null,
      "id": "1141951c",
      "metadata": {
        "colab": {
          "base_uri": "https://localhost:8080/"
        },
        "id": "1141951c",
        "outputId": "5010ea71-1b19-483a-e7a0-0bc91b164167"
      },
      "outputs": [
        {
          "output_type": "stream",
          "name": "stdout",
          "text": [
            "\u001b[?25l\r\u001b[K     |████▊                           | 10 kB 20.9 MB/s eta 0:00:01\r\u001b[K     |█████████▌                      | 20 kB 8.6 MB/s eta 0:00:01\r\u001b[K     |██████████████▎                 | 30 kB 8.1 MB/s eta 0:00:01\r\u001b[K     |███████████████████             | 40 kB 7.4 MB/s eta 0:00:01\r\u001b[K     |███████████████████████▉        | 51 kB 4.5 MB/s eta 0:00:01\r\u001b[K     |████████████████████████████▋   | 61 kB 5.2 MB/s eta 0:00:01\r\u001b[K     |████████████████████████████████| 68 kB 3.0 MB/s \n",
            "\u001b[?25h  Building wheel for uuid (setup.py) ... \u001b[?25l\u001b[?25hdone\n"
          ]
        }
      ],
      "source": [
        "# Jovian Commit Essentials\n",
        "# Please retain and execute this cell without modifying the contents for `jovian.commit` to work\n",
        "!pip install jovian --upgrade -q\n",
        "import jovian\n",
        "jovian.set_project('python-binary-search-assignment-practice')\n",
        "jovian.set_colab_id('1bguqIFNZ9grDrIyS3pZeoR2msmg3Ibg6')"
      ]
    },
    {
      "cell_type": "markdown",
      "id": "0e813de2",
      "metadata": {
        "id": "0e813de2"
      },
      "source": [
        "# Assignment 1 - Binary Search Practice\n",
        "\n",
        "_This assignment is a part of the course [\"Data Structures and Algorithms in Python\"](https://jovian.ai/learn/data-structures-and-algorithms-in-python)._\n",
        "\n"
      ]
    },
    {
      "cell_type": "code",
      "execution_count": null,
      "id": "658b8a2c",
      "metadata": {
        "id": "658b8a2c"
      },
      "outputs": [],
      "source": [
        "!pip install jovian --upgrade --quiet"
      ]
    },
    {
      "cell_type": "code",
      "execution_count": null,
      "id": "d51adaae",
      "metadata": {
        "id": "d51adaae"
      },
      "outputs": [],
      "source": [
        "import jovian"
      ]
    },
    {
      "cell_type": "code",
      "execution_count": null,
      "id": "2073c44e",
      "metadata": {
        "id": "2073c44e"
      },
      "outputs": [],
      "source": [
        "project='python-binary-search-assignment_Practice'"
      ]
    },
    {
      "cell_type": "code",
      "execution_count": null,
      "id": "930de71f",
      "metadata": {
        "colab": {
          "base_uri": "https://localhost:8080/",
          "height": 122
        },
        "id": "930de71f",
        "outputId": "479cf1dd-e0ea-471a-ecce-4181f349e94e"
      },
      "outputs": [
        {
          "output_type": "stream",
          "name": "stdout",
          "text": [
            "[jovian] Detected Colab notebook...\u001b[0m\n",
            "[jovian] Please enter your API key ( from https://jovian.ai/ ):\u001b[0m\n",
            "API KEY: ··········\n",
            "[jovian] Uploading colab notebook to Jovian...\u001b[0m\n",
            "Committed successfully! https://jovian.ai/deepak-dewani/python-binary-search-assignment-practice\n"
          ]
        },
        {
          "output_type": "execute_result",
          "data": {
            "application/vnd.google.colaboratory.intrinsic+json": {
              "type": "string"
            },
            "text/plain": [
              "'https://jovian.ai/deepak-dewani/python-binary-search-assignment-practice'"
            ]
          },
          "metadata": {},
          "execution_count": 5
        }
      ],
      "source": [
        "jovian.commit(project=project, privacy='secret', environment=None)"
      ]
    },
    {
      "cell_type": "markdown",
      "id": "80060023",
      "metadata": {
        "id": "80060023"
      },
      "source": [
        "## Problem - Rotated Lists\n",
        "\n",
        "We'll solve the following problem step-by-step:\n",
        "\n",
        "> You are given list of numbers, obtained by rotating a sorted list an unknown number of times. Write a function to determine the minimum number of times the original sorted list was rotated to obtain the given list. Your function should have the worst-case complexity of `O(log N)`, where N is the length of the list. You can assume that all the numbers in the list are unique.\n",
        ">\n",
        "> Example: The list `[5, 6, 9, 0, 2, 3, 4]` was obtained by rotating the sorted list `[0, 2, 3, 4, 5, 6, 9]` 3 times.\n",
        ">\n",
        "> We define \"rotating a list\" as removing the last element of the list and adding it before the first element. E.g. rotating the list `[3, 2, 4, 1]` produces `[1, 3, 2, 4]`. \n",
        ">\n",
        ">\"Sorted list\" refers to a list where the elements are arranged in the increasing order  e.g. `[1, 3, 5, 7]`.\n",
        ">"
      ]
    },
    {
      "cell_type": "markdown",
      "id": "21a13647",
      "metadata": {
        "id": "21a13647"
      },
      "source": [
        "## The Method\n",
        "\n",
        "Here's the systematic strategy we'll apply for solving problems:\n",
        "\n",
        "1. State the problem clearly. Identify the input & output formats.\n",
        "2. Come up with some example inputs & outputs. Try to cover all edge cases.\n",
        "3. Come up with a correct solution for the problem. State it in plain English.\n",
        "4. Implement the solution and test it using example inputs. Fix bugs, if any.\n",
        "5. Analyze the algorithm's complexity and identify inefficiencies, if any.\n",
        "6. Apply the right technique to overcome the inefficiency. Repeat steps 3 to 6.\n"
      ]
    },
    {
      "cell_type": "markdown",
      "id": "92fd78a9",
      "metadata": {
        "id": "92fd78a9"
      },
      "source": [
        "## Solution\n",
        "\n",
        "\n",
        "### 1. State the problem clearly. Identify the input & output formats.\n",
        "\n",
        "\n",
        "\n",
        "<br/>\n",
        "\n",
        "_**Q: Express the problem in your own words below \n",
        "\n",
        "**Problem**\n",
        "\n",
        "> Given with a rotated sorted list that has been rotated a number of times. And we need to find the minimum number of times the list has been rotated.\n",
        "\n",
        "<br/>\n",
        "\n",
        "**Q: The function you write will take one input called `nums`. What does it represent? \n",
        "\n",
        "**Input**\n",
        "\n",
        "1. `nums`: A sorted rotated list e.g. [7, 9, 3, 5, 6]\n",
        "\n",
        "<br/>\n",
        "\n",
        "_**Q: The function you write will return a single output called `rotations`. What does it represent? \n",
        "\n",
        "**Output**\n",
        "\n",
        "3. `rotations`: the number of times the sorted list are rotated. e.g. `2`\n",
        "\n",
        "<br/>\n",
        "\n",
        "Based on the above, we can now create a signature of our function:"
      ]
    },
    {
      "cell_type": "code",
      "execution_count": null,
      "id": "7a9da5d2",
      "metadata": {
        "id": "7a9da5d2"
      },
      "outputs": [],
      "source": [
        "def count_rotations(nums):\n",
        "    pass"
      ]
    },
    {
      "cell_type": "code",
      "execution_count": null,
      "id": "4d2b3c35",
      "metadata": {
        "colab": {
          "base_uri": "https://localhost:8080/",
          "height": 87
        },
        "id": "4d2b3c35",
        "outputId": "335f1e8b-5673-4e94-d83b-af9318cf32f4"
      },
      "outputs": [
        {
          "output_type": "stream",
          "name": "stdout",
          "text": [
            "[jovian] Detected Colab notebook...\u001b[0m\n",
            "[jovian] Uploading colab notebook to Jovian...\u001b[0m\n",
            "Committed successfully! https://jovian.ai/deepak-dewani/python-binary-search-assignment-practice\n"
          ]
        },
        {
          "output_type": "execute_result",
          "data": {
            "application/vnd.google.colaboratory.intrinsic+json": {
              "type": "string"
            },
            "text/plain": [
              "'https://jovian.ai/deepak-dewani/python-binary-search-assignment-practice'"
            ]
          },
          "metadata": {},
          "execution_count": 7
        }
      ],
      "source": [
        "jovian.commit(project=project)"
      ]
    },
    {
      "cell_type": "markdown",
      "id": "0292d74c",
      "metadata": {
        "id": "0292d74c"
      },
      "source": [
        "### 2. Come up with some example inputs & outputs. Try to cover all edge cases.\n",
        "\n",
        "Our function should be able to handle any set of valid inputs we pass into it. Here's a list of some possible variations we might encounter:\n",
        "\n",
        "1. A list of size 10 rotated 3 times.\n",
        "2. A list of size 8 rotated 5 times.\n",
        "3. A list that wasn't rotated at all.\n",
        "4. A list that was rotated just once. \n",
        "5. A list that was rotated `n-1` times, where `n` is the size of the list.\n",
        "6. A list that was rotated `n` times (do you get back the original list here?)\n",
        "7. An empty list.\n",
        "8. A list containing just one element.\n"
      ]
    },
    {
      "cell_type": "code",
      "execution_count": null,
      "id": "a31555a4",
      "metadata": {
        "id": "a31555a4"
      },
      "outputs": [],
      "source": [
        "test = {\n",
        "    'input': {\n",
        "        'nums': [19, 25, 29, 3, 5, 6, 7, 9, 11, 14]\n",
        "    },\n",
        "    'output': 3\n",
        "}"
      ]
    },
    {
      "cell_type": "code",
      "execution_count": null,
      "id": "84198eac",
      "metadata": {
        "colab": {
          "base_uri": "https://localhost:8080/"
        },
        "id": "84198eac",
        "outputId": "f02e1b82-19b0-49e5-f292-6187633890db"
      },
      "outputs": [
        {
          "output_type": "execute_result",
          "data": {
            "text/plain": [
              "(None, False)"
            ]
          },
          "metadata": {},
          "execution_count": 9
        }
      ],
      "source": [
        "nums0 = test['input']['nums']\n",
        "output0 = test['input']['nums']\n",
        "result0 = count_rotations(nums0)\n",
        "\n",
        "result0, result0 == output0"
      ]
    },
    {
      "cell_type": "code",
      "execution_count": null,
      "id": "44a8baa4",
      "metadata": {
        "id": "44a8baa4"
      },
      "outputs": [],
      "source": [
        "from jovian.pythondsa import evaluate_test_case"
      ]
    },
    {
      "cell_type": "code",
      "execution_count": null,
      "id": "2797de83",
      "metadata": {
        "colab": {
          "base_uri": "https://localhost:8080/"
        },
        "id": "2797de83",
        "outputId": "0ae5e373-5f8a-4667-dd84-9b6e08bdac4b"
      },
      "outputs": [
        {
          "output_type": "stream",
          "name": "stdout",
          "text": [
            "\n",
            "Input:\n",
            "{'nums': [19, 25, 29, 3, 5, 6, 7, 9, 11, 14]}\n",
            "\n",
            "Expected Output:\n",
            "3\n",
            "\n",
            "\n",
            "Actual Output:\n",
            "None\n",
            "\n",
            "Execution Time:\n",
            "0.003 ms\n",
            "\n",
            "Test Result:\n",
            "\u001b[91mFAILED\u001b[0m\n",
            "\n"
          ]
        },
        {
          "output_type": "execute_result",
          "data": {
            "text/plain": [
              "(None, False, 0.003)"
            ]
          },
          "metadata": {},
          "execution_count": 11
        }
      ],
      "source": [
        "evaluate_test_case(count_rotations, test)"
      ]
    },
    {
      "cell_type": "markdown",
      "id": "55de89c0",
      "metadata": {
        "id": "55de89c0"
      },
      "source": [
        "_**Q: Create proper test cases for each of the scenarios listed above.**_"
      ]
    },
    {
      "cell_type": "code",
      "execution_count": null,
      "id": "ee834c5f",
      "metadata": {
        "id": "ee834c5f"
      },
      "outputs": [],
      "source": [
        "test0 = test"
      ]
    },
    {
      "cell_type": "code",
      "execution_count": null,
      "id": "96f0f97e",
      "metadata": {
        "id": "96f0f97e"
      },
      "outputs": [],
      "source": [
        "# A list of size 8 rotated 5 times.\n",
        "test1 = {\n",
        "    'input': {\n",
        "        'nums': [4, 5, 6, 7, 8, 1, 2, 3]\n",
        "    },\n",
        "    'output': 5\n",
        "}"
      ]
    },
    {
      "cell_type": "code",
      "execution_count": null,
      "id": "c38f2d24",
      "metadata": {
        "id": "c38f2d24"
      },
      "outputs": [],
      "source": [
        "# A list that wasn't rotated at all.\n",
        "test2 = {\n",
        "    'input': {\n",
        "        'nums': [1, 2, 3, 4, 5, 6, 7, 8,]\n",
        "    },\n",
        "    'output': 0\n",
        "}"
      ]
    },
    {
      "cell_type": "code",
      "execution_count": null,
      "id": "87906e24",
      "metadata": {
        "id": "87906e24"
      },
      "outputs": [],
      "source": [
        "# A list that was rotated just once.\n",
        "test3 = {\n",
        "    'input': {\n",
        "        'nums': [9, 5, 6, 7, 8]\n",
        "    },\n",
        "    'output': 1\n",
        "}"
      ]
    },
    {
      "cell_type": "code",
      "execution_count": null,
      "id": "dc4454cc",
      "metadata": {
        "id": "dc4454cc"
      },
      "outputs": [],
      "source": [
        "# A list that was rotated n-1 times, where n is the size of the list.\n",
        "test4 = {\n",
        "    'input': {\n",
        "        'nums': [2, 3, 4, 5, 1]\n",
        "    },\n",
        "    'output': 4\n",
        "}"
      ]
    },
    {
      "cell_type": "code",
      "execution_count": null,
      "id": "df2b1af6",
      "metadata": {
        "id": "df2b1af6"
      },
      "outputs": [],
      "source": [
        "# A list that was rotated n times, where n is the size of the list\n",
        "test5 = {\n",
        "    'input': {\n",
        "        'nums': [3, 5, 7, 8, 9, 10]\n",
        "    },\n",
        "    'output': 0\n",
        "}"
      ]
    },
    {
      "cell_type": "code",
      "execution_count": null,
      "id": "7ca7322e",
      "metadata": {
        "id": "7ca7322e"
      },
      "outputs": [],
      "source": [
        "# An empty list.\n",
        "test6 = {\n",
        "    'input': {\n",
        "        'nums': []\n",
        "    },\n",
        "    'output': 0\n",
        "}"
      ]
    },
    {
      "cell_type": "code",
      "execution_count": null,
      "id": "2af56752",
      "metadata": {
        "id": "2af56752"
      },
      "outputs": [],
      "source": [
        "# A list containing just one element.\n",
        "test7 = {\n",
        "    'input': {\n",
        "        'nums': [1]\n",
        "    },\n",
        "    'output': 0\n",
        "}"
      ]
    },
    {
      "cell_type": "code",
      "execution_count": null,
      "id": "fb5b0a9b",
      "metadata": {
        "id": "fb5b0a9b"
      },
      "outputs": [],
      "source": [
        "tests = [test0, test1, test2, test3, test3, test5, test6, test7]"
      ]
    },
    {
      "cell_type": "code",
      "execution_count": null,
      "id": "118cf018",
      "metadata": {
        "colab": {
          "base_uri": "https://localhost:8080/"
        },
        "id": "118cf018",
        "outputId": "ea86fc92-d734-4850-ab66-95faffac6421"
      },
      "outputs": [
        {
          "output_type": "execute_result",
          "data": {
            "text/plain": [
              "[{'input': {'nums': [19, 25, 29, 3, 5, 6, 7, 9, 11, 14]}, 'output': 3},\n",
              " {'input': {'nums': [4, 5, 6, 7, 8, 1, 2, 3]}, 'output': 5},\n",
              " {'input': {'nums': [1, 2, 3, 4, 5, 6, 7, 8]}, 'output': 0},\n",
              " {'input': {'nums': [9, 5, 6, 7, 8]}, 'output': 1},\n",
              " {'input': {'nums': [9, 5, 6, 7, 8]}, 'output': 1},\n",
              " {'input': {'nums': [3, 5, 7, 8, 9, 10]}, 'output': 0},\n",
              " {'input': {'nums': []}, 'output': 0},\n",
              " {'input': {'nums': [1]}, 'output': 0}]"
            ]
          },
          "metadata": {},
          "execution_count": 21
        }
      ],
      "source": [
        "tests"
      ]
    },
    {
      "cell_type": "code",
      "execution_count": null,
      "id": "fdee43c3",
      "metadata": {
        "id": "fdee43c3"
      },
      "outputs": [],
      "source": [
        "from jovian.pythondsa import evaluate_test_cases"
      ]
    },
    {
      "cell_type": "code",
      "execution_count": null,
      "id": "eb48c620",
      "metadata": {
        "colab": {
          "base_uri": "https://localhost:8080/"
        },
        "id": "eb48c620",
        "outputId": "1c7f0467-0a5a-47dc-8ff1-47aeeb5cb94a"
      },
      "outputs": [
        {
          "output_type": "stream",
          "name": "stdout",
          "text": [
            "\n",
            "\u001b[1mTEST CASE #0\u001b[0m\n",
            "\n",
            "Input:\n",
            "{'nums': [19, 25, 29, 3, 5, 6, 7, 9, 11, 14]}\n",
            "\n",
            "Expected Output:\n",
            "3\n",
            "\n",
            "\n",
            "Actual Output:\n",
            "None\n",
            "\n",
            "Execution Time:\n",
            "0.003 ms\n",
            "\n",
            "Test Result:\n",
            "\u001b[91mFAILED\u001b[0m\n",
            "\n",
            "\n",
            "\u001b[1mTEST CASE #1\u001b[0m\n",
            "\n",
            "Input:\n",
            "{'nums': [4, 5, 6, 7, 8, 1, 2, 3]}\n",
            "\n",
            "Expected Output:\n",
            "5\n",
            "\n",
            "\n",
            "Actual Output:\n",
            "None\n",
            "\n",
            "Execution Time:\n",
            "0.002 ms\n",
            "\n",
            "Test Result:\n",
            "\u001b[91mFAILED\u001b[0m\n",
            "\n",
            "\n",
            "\u001b[1mTEST CASE #2\u001b[0m\n",
            "\n",
            "Input:\n",
            "{'nums': [1, 2, 3, 4, 5, 6, 7, 8]}\n",
            "\n",
            "Expected Output:\n",
            "0\n",
            "\n",
            "\n",
            "Actual Output:\n",
            "None\n",
            "\n",
            "Execution Time:\n",
            "0.002 ms\n",
            "\n",
            "Test Result:\n",
            "\u001b[91mFAILED\u001b[0m\n",
            "\n",
            "\n",
            "\u001b[1mTEST CASE #3\u001b[0m\n",
            "\n",
            "Input:\n",
            "{'nums': [9, 5, 6, 7, 8]}\n",
            "\n",
            "Expected Output:\n",
            "1\n",
            "\n",
            "\n",
            "Actual Output:\n",
            "None\n",
            "\n",
            "Execution Time:\n",
            "0.002 ms\n",
            "\n",
            "Test Result:\n",
            "\u001b[91mFAILED\u001b[0m\n",
            "\n",
            "\n",
            "\u001b[1mTEST CASE #4\u001b[0m\n",
            "\n",
            "Input:\n",
            "{'nums': [9, 5, 6, 7, 8]}\n",
            "\n",
            "Expected Output:\n",
            "1\n",
            "\n",
            "\n",
            "Actual Output:\n",
            "None\n",
            "\n",
            "Execution Time:\n",
            "0.001 ms\n",
            "\n",
            "Test Result:\n",
            "\u001b[91mFAILED\u001b[0m\n",
            "\n",
            "\n",
            "\u001b[1mTEST CASE #5\u001b[0m\n",
            "\n",
            "Input:\n",
            "{'nums': [3, 5, 7, 8, 9, 10]}\n",
            "\n",
            "Expected Output:\n",
            "0\n",
            "\n",
            "\n",
            "Actual Output:\n",
            "None\n",
            "\n",
            "Execution Time:\n",
            "0.002 ms\n",
            "\n",
            "Test Result:\n",
            "\u001b[91mFAILED\u001b[0m\n",
            "\n",
            "\n",
            "\u001b[1mTEST CASE #6\u001b[0m\n",
            "\n",
            "Input:\n",
            "{'nums': []}\n",
            "\n",
            "Expected Output:\n",
            "0\n",
            "\n",
            "\n",
            "Actual Output:\n",
            "None\n",
            "\n",
            "Execution Time:\n",
            "0.003 ms\n",
            "\n",
            "Test Result:\n",
            "\u001b[91mFAILED\u001b[0m\n",
            "\n",
            "\n",
            "\u001b[1mTEST CASE #7\u001b[0m\n",
            "\n",
            "Input:\n",
            "{'nums': [1]}\n",
            "\n",
            "Expected Output:\n",
            "0\n",
            "\n",
            "\n",
            "Actual Output:\n",
            "None\n",
            "\n",
            "Execution Time:\n",
            "0.002 ms\n",
            "\n",
            "Test Result:\n",
            "\u001b[91mFAILED\u001b[0m\n",
            "\n",
            "\n",
            "\u001b[1mSUMMARY\u001b[0m\n",
            "\n",
            "TOTAL: 8, \u001b[92mPASSED\u001b[0m: 0, \u001b[91mFAILED\u001b[0m: 8\n"
          ]
        },
        {
          "output_type": "execute_result",
          "data": {
            "text/plain": [
              "[(None, False, 0.003),\n",
              " (None, False, 0.002),\n",
              " (None, False, 0.002),\n",
              " (None, False, 0.002),\n",
              " (None, False, 0.001),\n",
              " (None, False, 0.002),\n",
              " (None, False, 0.003),\n",
              " (None, False, 0.002)]"
            ]
          },
          "metadata": {},
          "execution_count": 23
        }
      ],
      "source": [
        "evaluate_test_cases(count_rotations, tests)"
      ]
    },
    {
      "cell_type": "code",
      "execution_count": null,
      "id": "dfb33e8f",
      "metadata": {
        "colab": {
          "base_uri": "https://localhost:8080/",
          "height": 87
        },
        "id": "dfb33e8f",
        "outputId": "bc175349-ab55-4072-cad2-9183950e6ddd"
      },
      "outputs": [
        {
          "output_type": "stream",
          "name": "stdout",
          "text": [
            "[jovian] Detected Colab notebook...\u001b[0m\n",
            "[jovian] Uploading colab notebook to Jovian...\u001b[0m\n",
            "Committed successfully! https://jovian.ai/deepak-dewani/python-binary-search-assignment-practice\n"
          ]
        },
        {
          "output_type": "execute_result",
          "data": {
            "application/vnd.google.colaboratory.intrinsic+json": {
              "type": "string"
            },
            "text/plain": [
              "'https://jovian.ai/deepak-dewani/python-binary-search-assignment-practice'"
            ]
          },
          "metadata": {},
          "execution_count": 24
        }
      ],
      "source": [
        "jovian.commit(project=project)"
      ]
    },
    {
      "cell_type": "markdown",
      "id": "126f3b82",
      "metadata": {
        "id": "126f3b82"
      },
      "source": [
        "### 3. Come up with a correct solution for the problem. State it in plain English.\n",
        "\n",
        "\n",
        "_**Q : Describe the linear search solution explained above problem in your own words.**_\n",
        "\n",
        "1. Create a start position variable and give it the value 1\n",
        "2. comparing the number of the position or current number with the number before it.\n",
        "3. if the number is smaller than the number before it, then we would return the number\n",
        "4. if not the above case, then continue the looping till reaching the highest point.\n"
      ]
    },
    {
      "cell_type": "code",
      "execution_count": null,
      "id": "ab2db6a8",
      "metadata": {
        "id": "ab2db6a8"
      },
      "outputs": [],
      "source": [
        "import jovian"
      ]
    },
    {
      "cell_type": "code",
      "execution_count": null,
      "id": "3c898f6f",
      "metadata": {
        "colab": {
          "base_uri": "https://localhost:8080/",
          "height": 87
        },
        "id": "3c898f6f",
        "outputId": "79a79e92-9d27-4e2b-ebe8-1fbadc5b5510"
      },
      "outputs": [
        {
          "output_type": "stream",
          "name": "stdout",
          "text": [
            "[jovian] Detected Colab notebook...\u001b[0m\n",
            "[jovian] Uploading colab notebook to Jovian...\u001b[0m\n",
            "Committed successfully! https://jovian.ai/deepak-dewani/python-binary-search-assignment-practice\n"
          ]
        },
        {
          "output_type": "execute_result",
          "data": {
            "application/vnd.google.colaboratory.intrinsic+json": {
              "type": "string"
            },
            "text/plain": [
              "'https://jovian.ai/deepak-dewani/python-binary-search-assignment-practice'"
            ]
          },
          "metadata": {},
          "execution_count": 26
        }
      ],
      "source": [
        "jovian.commit(project=project)"
      ]
    },
    {
      "cell_type": "markdown",
      "id": "3bd2eff3",
      "metadata": {
        "id": "3bd2eff3"
      },
      "source": [
        "###  4. Implement the solution and test it using example inputs. Fix bugs, if any.\n",
        "\n",
        "_**Q: Implement the solution described in step 3.**_"
      ]
    },
    {
      "cell_type": "code",
      "execution_count": null,
      "id": "c40150a5",
      "metadata": {
        "id": "c40150a5"
      },
      "outputs": [],
      "source": [
        "def count_rotations_linear(nums):\n",
        "    position = 1                 # What is the intial value of position?\n",
        "    \n",
        "    while position < len(nums):                     # When should the loop be terminated?\n",
        "        \n",
        "        # Success criteria: check whether the number at the current position is smaller than the one before it\n",
        "        if position > 0 and nums[position] < nums[position - 1]:   # How to perform the check?\n",
        "            return position\n",
        "        \n",
        "        # Move to the next position\n",
        "        position += 1\n",
        "    \n",
        "    return 0                     # What if none of the positions passed the check               "
      ]
    },
    {
      "cell_type": "code",
      "execution_count": null,
      "id": "f14f5d00",
      "metadata": {
        "colab": {
          "base_uri": "https://localhost:8080/"
        },
        "id": "f14f5d00",
        "outputId": "1818ee08-082e-4474-ed0a-b510c8510281"
      },
      "outputs": [
        {
          "output_type": "execute_result",
          "data": {
            "text/plain": [
              "{'input': {'nums': [19, 25, 29, 3, 5, 6, 7, 9, 11, 14]}, 'output': 3}"
            ]
          },
          "metadata": {},
          "execution_count": 28
        }
      ],
      "source": [
        "test"
      ]
    },
    {
      "cell_type": "code",
      "execution_count": null,
      "id": "d7d6723a",
      "metadata": {
        "colab": {
          "base_uri": "https://localhost:8080/"
        },
        "id": "d7d6723a",
        "outputId": "85a95206-6488-4b7d-ce18-27e476ee4c86"
      },
      "outputs": [
        {
          "output_type": "stream",
          "name": "stdout",
          "text": [
            "\n",
            "Input:\n",
            "{'nums': [19, 25, 29, 3, 5, 6, 7, 9, 11, 14]}\n",
            "\n",
            "Expected Output:\n",
            "3\n",
            "\n",
            "\n",
            "Actual Output:\n",
            "3\n",
            "\n",
            "Execution Time:\n",
            "0.007 ms\n",
            "\n",
            "Test Result:\n",
            "\u001b[92mPASSED\u001b[0m\n",
            "\n"
          ]
        }
      ],
      "source": [
        "linear_search_result = evaluate_test_case(count_rotations_linear, test)"
      ]
    },
    {
      "cell_type": "code",
      "execution_count": null,
      "id": "24098600",
      "metadata": {
        "colab": {
          "base_uri": "https://localhost:8080/"
        },
        "id": "24098600",
        "outputId": "3756d90c-0b33-41a4-e9cb-17427bf0a4a1"
      },
      "outputs": [
        {
          "output_type": "execute_result",
          "data": {
            "text/plain": [
              "[{'input': {'nums': [19, 25, 29, 3, 5, 6, 7, 9, 11, 14]}, 'output': 3},\n",
              " {'input': {'nums': [4, 5, 6, 7, 8, 1, 2, 3]}, 'output': 5},\n",
              " {'input': {'nums': [1, 2, 3, 4, 5, 6, 7, 8]}, 'output': 0},\n",
              " {'input': {'nums': [9, 5, 6, 7, 8]}, 'output': 1},\n",
              " {'input': {'nums': [9, 5, 6, 7, 8]}, 'output': 1},\n",
              " {'input': {'nums': [3, 5, 7, 8, 9, 10]}, 'output': 0},\n",
              " {'input': {'nums': []}, 'output': 0},\n",
              " {'input': {'nums': [1]}, 'output': 0}]"
            ]
          },
          "metadata": {},
          "execution_count": 30
        }
      ],
      "source": [
        "tests"
      ]
    },
    {
      "cell_type": "code",
      "execution_count": null,
      "id": "4db371a2",
      "metadata": {
        "colab": {
          "base_uri": "https://localhost:8080/"
        },
        "id": "4db371a2",
        "outputId": "8b0bdd86-930c-4203-ab71-6913c20edb21"
      },
      "outputs": [
        {
          "output_type": "stream",
          "name": "stdout",
          "text": [
            "\n",
            "\u001b[1mTEST CASE #0\u001b[0m\n",
            "\n",
            "Input:\n",
            "{'nums': [19, 25, 29, 3, 5, 6, 7, 9, 11, 14]}\n",
            "\n",
            "Expected Output:\n",
            "3\n",
            "\n",
            "\n",
            "Actual Output:\n",
            "3\n",
            "\n",
            "Execution Time:\n",
            "0.006 ms\n",
            "\n",
            "Test Result:\n",
            "\u001b[92mPASSED\u001b[0m\n",
            "\n",
            "\n",
            "\u001b[1mTEST CASE #1\u001b[0m\n",
            "\n",
            "Input:\n",
            "{'nums': [4, 5, 6, 7, 8, 1, 2, 3]}\n",
            "\n",
            "Expected Output:\n",
            "5\n",
            "\n",
            "\n",
            "Actual Output:\n",
            "5\n",
            "\n",
            "Execution Time:\n",
            "0.007 ms\n",
            "\n",
            "Test Result:\n",
            "\u001b[92mPASSED\u001b[0m\n",
            "\n",
            "\n",
            "\u001b[1mTEST CASE #2\u001b[0m\n",
            "\n",
            "Input:\n",
            "{'nums': [1, 2, 3, 4, 5, 6, 7, 8]}\n",
            "\n",
            "Expected Output:\n",
            "0\n",
            "\n",
            "\n",
            "Actual Output:\n",
            "0\n",
            "\n",
            "Execution Time:\n",
            "0.007 ms\n",
            "\n",
            "Test Result:\n",
            "\u001b[92mPASSED\u001b[0m\n",
            "\n",
            "\n",
            "\u001b[1mTEST CASE #3\u001b[0m\n",
            "\n",
            "Input:\n",
            "{'nums': [9, 5, 6, 7, 8]}\n",
            "\n",
            "Expected Output:\n",
            "1\n",
            "\n",
            "\n",
            "Actual Output:\n",
            "1\n",
            "\n",
            "Execution Time:\n",
            "0.003 ms\n",
            "\n",
            "Test Result:\n",
            "\u001b[92mPASSED\u001b[0m\n",
            "\n",
            "\n",
            "\u001b[1mTEST CASE #4\u001b[0m\n",
            "\n",
            "Input:\n",
            "{'nums': [9, 5, 6, 7, 8]}\n",
            "\n",
            "Expected Output:\n",
            "1\n",
            "\n",
            "\n",
            "Actual Output:\n",
            "1\n",
            "\n",
            "Execution Time:\n",
            "0.003 ms\n",
            "\n",
            "Test Result:\n",
            "\u001b[92mPASSED\u001b[0m\n",
            "\n",
            "\n",
            "\u001b[1mTEST CASE #5\u001b[0m\n",
            "\n",
            "Input:\n",
            "{'nums': [3, 5, 7, 8, 9, 10]}\n",
            "\n",
            "Expected Output:\n",
            "0\n",
            "\n",
            "\n",
            "Actual Output:\n",
            "0\n",
            "\n",
            "Execution Time:\n",
            "0.006 ms\n",
            "\n",
            "Test Result:\n",
            "\u001b[92mPASSED\u001b[0m\n",
            "\n",
            "\n",
            "\u001b[1mTEST CASE #6\u001b[0m\n",
            "\n",
            "Input:\n",
            "{'nums': []}\n",
            "\n",
            "Expected Output:\n",
            "0\n",
            "\n",
            "\n",
            "Actual Output:\n",
            "0\n",
            "\n",
            "Execution Time:\n",
            "0.003 ms\n",
            "\n",
            "Test Result:\n",
            "\u001b[92mPASSED\u001b[0m\n",
            "\n",
            "\n",
            "\u001b[1mTEST CASE #7\u001b[0m\n",
            "\n",
            "Input:\n",
            "{'nums': [1]}\n",
            "\n",
            "Expected Output:\n",
            "0\n",
            "\n",
            "\n",
            "Actual Output:\n",
            "0\n",
            "\n",
            "Execution Time:\n",
            "0.002 ms\n",
            "\n",
            "Test Result:\n",
            "\u001b[92mPASSED\u001b[0m\n",
            "\n",
            "\n",
            "\u001b[1mSUMMARY\u001b[0m\n",
            "\n",
            "TOTAL: 8, \u001b[92mPASSED\u001b[0m: 8, \u001b[91mFAILED\u001b[0m: 0\n"
          ]
        }
      ],
      "source": [
        "linear_search_results = evaluate_test_cases(count_rotations_linear, tests)"
      ]
    },
    {
      "cell_type": "code",
      "execution_count": null,
      "id": "57e07057",
      "metadata": {
        "id": "57e07057"
      },
      "outputs": [],
      "source": [
        "import jovian"
      ]
    },
    {
      "cell_type": "code",
      "execution_count": null,
      "id": "d2886ae9",
      "metadata": {
        "colab": {
          "base_uri": "https://localhost:8080/",
          "height": 87
        },
        "id": "d2886ae9",
        "outputId": "a8cff9c7-c032-4068-d5cc-a84f858a4796"
      },
      "outputs": [
        {
          "output_type": "stream",
          "name": "stdout",
          "text": [
            "[jovian] Detected Colab notebook...\u001b[0m\n",
            "[jovian] Uploading colab notebook to Jovian...\u001b[0m\n",
            "Committed successfully! https://jovian.ai/deepak-dewani/python-binary-search-assignment-practice\n"
          ]
        },
        {
          "output_type": "execute_result",
          "data": {
            "application/vnd.google.colaboratory.intrinsic+json": {
              "type": "string"
            },
            "text/plain": [
              "'https://jovian.ai/deepak-dewani/python-binary-search-assignment-practice'"
            ]
          },
          "metadata": {},
          "execution_count": 33
        }
      ],
      "source": [
        "jovian.commit(project=project)"
      ]
    },
    {
      "cell_type": "markdown",
      "id": "ccd0f255",
      "metadata": {
        "id": "ccd0f255"
      },
      "source": [
        "### 5. Analyze the algorithm's complexity and identify inefficiencies, if any.\n",
        "\n",
        "Count the maximum number of iterations it may take for the algorithm to return the result.\n",
        "\n",
        "_**Q: What is the worst-case complexity (running time) of the algorithm expressed in the Big O Notation? Assume that the size of the list is `N` (uppercase).**_\n"
      ]
    },
    {
      "cell_type": "code",
      "execution_count": null,
      "id": "27f44e5f",
      "metadata": {
        "id": "27f44e5f"
      },
      "outputs": [],
      "source": [
        "linear_search_complexity = \"O[N]\""
      ]
    },
    {
      "cell_type": "markdown",
      "id": "192466de",
      "metadata": {
        "id": "192466de"
      },
      "source": [
        "### 6. Apply the right technique to overcome the inefficiency. Repeat steps 3 to 6.\n",
        "\n",
        "As you might have guessed, we can apply _Binary Search_ to solve this problem. The key question we need to answer in binary search is: Given the middle element, how to decide if it is the answer (smallest number), or whether the answer lies to the left or right of it. \n",
        "\n",
        "If the middle element is smaller than its predecessor, then it is the answer. However, if it isn't, this check is not sufficient to determine whether the answer lies to the left or the right of it. Consider the following examples.\n",
        "\n",
        "`[7, 8, 1, 3, 4, 5, 6]` (answer lies to the left of the middle element)\n",
        "\n",
        "`[1, 2, 3, 4, 5, -1, 0]` (answer lies to the right of the middle element)\n",
        "\n",
        "Here's a check that will help us determine if the answer lies to the left or the right: _If the middle element of the list is smaller than the last element of the range, then the answer lies to the left of it. Otherwise, the answer lies to the right.\n"
      ]
    },
    {
      "cell_type": "markdown",
      "id": "835d3827",
      "metadata": {
        "id": "835d3827"
      },
      "source": [
        "### 7. Come up with a correct solution for the problem. State it in plain English.\n",
        "\n",
        "\n",
        "\n",
        "_**Q: Describe the binary search solution explained above problem in your own words.**_\n",
        "\n",
        "1. defining the lowest and highest element, and by this calculate the middle element \n",
        "2. if middle element is smaller than the element before it, then middle element is the answer.\n",
        "3. otherwise, check for the middle element, if it is smaller than the last element of that list, than the answer lies in the left side of middle element.\n",
        "4. otherwise, it lies on the right side of list, and check for the answer.\n",
        "5. if all conditions fail than return 0.\n",
        "\n"
      ]
    },
    {
      "cell_type": "code",
      "execution_count": null,
      "id": "4def5c25",
      "metadata": {
        "id": "4def5c25"
      },
      "outputs": [],
      "source": [
        "import jovian"
      ]
    },
    {
      "cell_type": "code",
      "execution_count": null,
      "id": "840923e3",
      "metadata": {
        "colab": {
          "base_uri": "https://localhost:8080/",
          "height": 87
        },
        "id": "840923e3",
        "outputId": "19aefaa5-2cc4-4820-c448-41e6c9beefcc"
      },
      "outputs": [
        {
          "output_type": "stream",
          "name": "stdout",
          "text": [
            "[jovian] Detected Colab notebook...\u001b[0m\n",
            "[jovian] Uploading colab notebook to Jovian...\u001b[0m\n",
            "Committed successfully! https://jovian.ai/deepak-dewani/python-binary-search-assignment-practice\n"
          ]
        },
        {
          "output_type": "execute_result",
          "data": {
            "application/vnd.google.colaboratory.intrinsic+json": {
              "type": "string"
            },
            "text/plain": [
              "'https://jovian.ai/deepak-dewani/python-binary-search-assignment-practice'"
            ]
          },
          "metadata": {},
          "execution_count": 36
        }
      ],
      "source": [
        "jovian.commit(project=project)"
      ]
    },
    {
      "cell_type": "markdown",
      "id": "52b340f9",
      "metadata": {
        "id": "52b340f9"
      },
      "source": [
        "### 8. Implement the solution and test it using example inputs. Fix bugs, if any."
      ]
    },
    {
      "cell_type": "code",
      "execution_count": null,
      "id": "1b60fccd",
      "metadata": {
        "id": "1b60fccd"
      },
      "outputs": [],
      "source": [
        "def count_rotations_binary(nums):\n",
        "    lo = 0\n",
        "    hi = len(nums) - 1\n",
        "    \n",
        "    while lo <= hi:\n",
        "        mid = (lo + hi)//2\n",
        "        mid_number = nums[mid]\n",
        "        mid_before = nums[mid - 1]\n",
        "        \n",
        "        # Uncomment the next line for logging the values and fixing errors.\n",
        "#         print(\"lo:\", lo, \", hi:\", hi, \", mid:\", mid, \", mid_number:\", mid_number, \"mid_before:\", mid_before )\n",
        "        \n",
        "        if mid > 0 and mid_number < nums[mid - 1]:\n",
        "            # The middle position is the answer\n",
        "            return mid\n",
        "        \n",
        "        elif mid_number < nums[len(nums)-1]:\n",
        "            # Answer lies in the left half\n",
        "            hi = mid - 1\n",
        "\n",
        "        else:\n",
        "            # Answer lies in the right half\n",
        "            lo = mid + 1\n",
        "    \n",
        "    return 0"
      ]
    },
    {
      "cell_type": "code",
      "execution_count": null,
      "id": "8516033b",
      "metadata": {
        "colab": {
          "base_uri": "https://localhost:8080/"
        },
        "id": "8516033b",
        "outputId": "8e6fcf7b-cd38-4098-b783-f9e08ea33250"
      },
      "outputs": [
        {
          "output_type": "execute_result",
          "data": {
            "text/plain": [
              "{'input': {'nums': [19, 25, 29, 3, 5, 6, 7, 9, 11, 14]}, 'output': 3}"
            ]
          },
          "metadata": {},
          "execution_count": 38
        }
      ],
      "source": [
        "test"
      ]
    },
    {
      "cell_type": "code",
      "execution_count": null,
      "id": "49b46cd2",
      "metadata": {
        "colab": {
          "base_uri": "https://localhost:8080/"
        },
        "id": "49b46cd2",
        "outputId": "0d85683b-4e17-4a73-8e2f-73b28ae4182c"
      },
      "outputs": [
        {
          "output_type": "execute_result",
          "data": {
            "text/plain": [
              "[{'input': {'nums': [19, 25, 29, 3, 5, 6, 7, 9, 11, 14]}, 'output': 3},\n",
              " {'input': {'nums': [4, 5, 6, 7, 8, 1, 2, 3]}, 'output': 5},\n",
              " {'input': {'nums': [1, 2, 3, 4, 5, 6, 7, 8]}, 'output': 0},\n",
              " {'input': {'nums': [9, 5, 6, 7, 8]}, 'output': 1},\n",
              " {'input': {'nums': [9, 5, 6, 7, 8]}, 'output': 1},\n",
              " {'input': {'nums': [3, 5, 7, 8, 9, 10]}, 'output': 0},\n",
              " {'input': {'nums': []}, 'output': 0},\n",
              " {'input': {'nums': [1]}, 'output': 0}]"
            ]
          },
          "metadata": {},
          "execution_count": 39
        }
      ],
      "source": [
        "tests"
      ]
    },
    {
      "cell_type": "code",
      "execution_count": null,
      "id": "741eb10c",
      "metadata": {
        "colab": {
          "base_uri": "https://localhost:8080/"
        },
        "id": "741eb10c",
        "outputId": "3774150c-0e22-4d2f-ad32-abc35072e916"
      },
      "outputs": [
        {
          "output_type": "stream",
          "name": "stdout",
          "text": [
            "\n",
            "Input:\n",
            "{'nums': [19, 25, 29, 3, 5, 6, 7, 9, 11, 14]}\n",
            "\n",
            "Expected Output:\n",
            "3\n",
            "\n",
            "\n",
            "Actual Output:\n",
            "3\n",
            "\n",
            "Execution Time:\n",
            "0.008 ms\n",
            "\n",
            "Test Result:\n",
            "\u001b[92mPASSED\u001b[0m\n",
            "\n"
          ]
        }
      ],
      "source": [
        "binary_search_result = evaluate_test_case(count_rotations_binary, test)"
      ]
    },
    {
      "cell_type": "code",
      "execution_count": null,
      "id": "277f9bd6",
      "metadata": {
        "colab": {
          "base_uri": "https://localhost:8080/"
        },
        "id": "277f9bd6",
        "outputId": "47aec7d6-4d3e-48e9-b049-ba39aaf1cbf9"
      },
      "outputs": [
        {
          "output_type": "stream",
          "name": "stdout",
          "text": [
            "\n",
            "\u001b[1mTEST CASE #0\u001b[0m\n",
            "\n",
            "Input:\n",
            "{'nums': [19, 25, 29, 3, 5, 6, 7, 9, 11, 14]}\n",
            "\n",
            "Expected Output:\n",
            "3\n",
            "\n",
            "\n",
            "Actual Output:\n",
            "3\n",
            "\n",
            "Execution Time:\n",
            "0.009 ms\n",
            "\n",
            "Test Result:\n",
            "\u001b[92mPASSED\u001b[0m\n",
            "\n",
            "\n",
            "\u001b[1mTEST CASE #1\u001b[0m\n",
            "\n",
            "Input:\n",
            "{'nums': [4, 5, 6, 7, 8, 1, 2, 3]}\n",
            "\n",
            "Expected Output:\n",
            "5\n",
            "\n",
            "\n",
            "Actual Output:\n",
            "5\n",
            "\n",
            "Execution Time:\n",
            "0.006 ms\n",
            "\n",
            "Test Result:\n",
            "\u001b[92mPASSED\u001b[0m\n",
            "\n",
            "\n",
            "\u001b[1mTEST CASE #2\u001b[0m\n",
            "\n",
            "Input:\n",
            "{'nums': [1, 2, 3, 4, 5, 6, 7, 8]}\n",
            "\n",
            "Expected Output:\n",
            "0\n",
            "\n",
            "\n",
            "Actual Output:\n",
            "0\n",
            "\n",
            "Execution Time:\n",
            "0.007 ms\n",
            "\n",
            "Test Result:\n",
            "\u001b[92mPASSED\u001b[0m\n",
            "\n",
            "\n",
            "\u001b[1mTEST CASE #3\u001b[0m\n",
            "\n",
            "Input:\n",
            "{'nums': [9, 5, 6, 7, 8]}\n",
            "\n",
            "Expected Output:\n",
            "1\n",
            "\n",
            "\n",
            "Actual Output:\n",
            "1\n",
            "\n",
            "Execution Time:\n",
            "0.006 ms\n",
            "\n",
            "Test Result:\n",
            "\u001b[92mPASSED\u001b[0m\n",
            "\n",
            "\n",
            "\u001b[1mTEST CASE #4\u001b[0m\n",
            "\n",
            "Input:\n",
            "{'nums': [9, 5, 6, 7, 8]}\n",
            "\n",
            "Expected Output:\n",
            "1\n",
            "\n",
            "\n",
            "Actual Output:\n",
            "1\n",
            "\n",
            "Execution Time:\n",
            "0.005 ms\n",
            "\n",
            "Test Result:\n",
            "\u001b[92mPASSED\u001b[0m\n",
            "\n",
            "\n",
            "\u001b[1mTEST CASE #5\u001b[0m\n",
            "\n",
            "Input:\n",
            "{'nums': [3, 5, 7, 8, 9, 10]}\n",
            "\n",
            "Expected Output:\n",
            "0\n",
            "\n",
            "\n",
            "Actual Output:\n",
            "0\n",
            "\n",
            "Execution Time:\n",
            "0.005 ms\n",
            "\n",
            "Test Result:\n",
            "\u001b[92mPASSED\u001b[0m\n",
            "\n",
            "\n",
            "\u001b[1mTEST CASE #6\u001b[0m\n",
            "\n",
            "Input:\n",
            "{'nums': []}\n",
            "\n",
            "Expected Output:\n",
            "0\n",
            "\n",
            "\n",
            "Actual Output:\n",
            "0\n",
            "\n",
            "Execution Time:\n",
            "0.002 ms\n",
            "\n",
            "Test Result:\n",
            "\u001b[92mPASSED\u001b[0m\n",
            "\n",
            "\n",
            "\u001b[1mTEST CASE #7\u001b[0m\n",
            "\n",
            "Input:\n",
            "{'nums': [1]}\n",
            "\n",
            "Expected Output:\n",
            "0\n",
            "\n",
            "\n",
            "Actual Output:\n",
            "0\n",
            "\n",
            "Execution Time:\n",
            "0.004 ms\n",
            "\n",
            "Test Result:\n",
            "\u001b[92mPASSED\u001b[0m\n",
            "\n",
            "\n",
            "\u001b[1mSUMMARY\u001b[0m\n",
            "\n",
            "TOTAL: 8, \u001b[92mPASSED\u001b[0m: 8, \u001b[91mFAILED\u001b[0m: 0\n"
          ]
        }
      ],
      "source": [
        "binary_search_results = evaluate_test_cases(count_rotations_binary, tests)"
      ]
    },
    {
      "cell_type": "code",
      "execution_count": null,
      "id": "b5f6bfe1",
      "metadata": {
        "colab": {
          "base_uri": "https://localhost:8080/",
          "height": 87
        },
        "id": "b5f6bfe1",
        "outputId": "6f2acf0b-e05d-43e5-df51-b95da001f6d3"
      },
      "outputs": [
        {
          "output_type": "stream",
          "name": "stdout",
          "text": [
            "[jovian] Detected Colab notebook...\u001b[0m\n",
            "[jovian] Uploading colab notebook to Jovian...\u001b[0m\n",
            "Committed successfully! https://jovian.ai/deepak-dewani/python-binary-search-assignment-practice\n"
          ]
        },
        {
          "output_type": "execute_result",
          "data": {
            "application/vnd.google.colaboratory.intrinsic+json": {
              "type": "string"
            },
            "text/plain": [
              "'https://jovian.ai/deepak-dewani/python-binary-search-assignment-practice'"
            ]
          },
          "metadata": {},
          "execution_count": 42
        }
      ],
      "source": [
        "jovian.commit(project=project)"
      ]
    },
    {
      "cell_type": "markdown",
      "id": "00402e2d",
      "metadata": {
        "id": "00402e2d"
      },
      "source": [
        "### 9. Analyze the algorithm's complexity and identify inefficiencies, if any.\n",
        "\n",
        "_**Q: What is the worst-case complexity (running time) of the algorithm expressed in the Big O Notation? Assume that the size of the list is `N` (uppercase).**_\n",
        "\n",
        "Hint: Count the maximum number of iterations it may take for the algorithm to return the result."
      ]
    },
    {
      "cell_type": "markdown",
      "source": [
        "binary_search_complexity = \"O[LogN]\""
      ],
      "metadata": {
        "id": "a7e2db9f"
      },
      "id": "a7e2db9f"
    },
    {
      "cell_type": "code",
      "source": [
        "import numpy as np\n",
        "np.random.seed(20)\n",
        "\n",
        "values = np.sort(np.random.randint(1, 10000000, size= 100000000))\n",
        "values = np.unique(values)\n",
        "values"
      ],
      "metadata": {
        "colab": {
          "base_uri": "https://localhost:8080/"
        },
        "id": "rBib-E_GiJxk",
        "outputId": "90817929-cf64-4250-a9f0-a566a3f31e3a"
      },
      "id": "rBib-E_GiJxk",
      "execution_count": null,
      "outputs": [
        {
          "output_type": "execute_result",
          "data": {
            "text/plain": [
              "array([      1,       2,       3, ..., 9999997, 9999998, 9999999])"
            ]
          },
          "metadata": {},
          "execution_count": 45
        }
      ]
    },
    {
      "cell_type": "code",
      "source": [
        "large_test = {\n",
        "    'input': {\n",
        "        'nums': values\n",
        "    },\n",
        "    'output': 0\n",
        "}"
      ],
      "metadata": {
        "id": "1gNmep3kikeD"
      },
      "id": "1gNmep3kikeD",
      "execution_count": null,
      "outputs": []
    },
    {
      "cell_type": "code",
      "source": [
        "def count_rotations_linear(nums):\n",
        "    position = 1\n",
        "    while position < len(nums):\n",
        "      if position > 0 and nums[position] < nums[position - 1]:\n",
        "        return position\n",
        "      else:\n",
        "        position += 1\n",
        "    \n",
        "    return 0   "
      ],
      "metadata": {
        "id": "-HGrcZQdi29a"
      },
      "id": "-HGrcZQdi29a",
      "execution_count": null,
      "outputs": []
    },
    {
      "cell_type": "code",
      "source": [
        "linear_search_complexity = evaluate_test_case(count_rotations_linear, large_test)\n"
      ],
      "metadata": {
        "colab": {
          "base_uri": "https://localhost:8080/"
        },
        "id": "2L_623BNm21G",
        "outputId": "bbbfeb80-c2d5-4920-b789-d365ca7523bf"
      },
      "id": "2L_623BNm21G",
      "execution_count": null,
      "outputs": [
        {
          "output_type": "stream",
          "name": "stdout",
          "text": [
            "\n",
            "Input:\n",
            "{'nums': array([      1,       2,       3, ..., 9999997, 9999998, 9999999])}\n",
            "\n",
            "Expected Output:\n",
            "0\n",
            "\n",
            "\n",
            "Actual Output:\n",
            "0\n",
            "\n",
            "Execution Time:\n",
            "4650.73 ms\n",
            "\n",
            "Test Result:\n",
            "\u001b[92mPASSED\u001b[0m\n",
            "\n"
          ]
        }
      ]
    },
    {
      "cell_type": "code",
      "source": [
        "import jovian"
      ],
      "metadata": {
        "id": "ILRUnPBam8uM"
      },
      "id": "ILRUnPBam8uM",
      "execution_count": null,
      "outputs": []
    },
    {
      "cell_type": "code",
      "execution_count": null,
      "id": "ab190a26",
      "metadata": {
        "id": "ab190a26",
        "colab": {
          "base_uri": "https://localhost:8080/",
          "height": 87
        },
        "outputId": "c581614e-da79-48f4-cb4d-7401f0c8e9c5"
      },
      "outputs": [
        {
          "output_type": "stream",
          "name": "stdout",
          "text": [
            "[jovian] Detected Colab notebook...\u001b[0m\n",
            "[jovian] Uploading colab notebook to Jovian...\u001b[0m\n",
            "Committed successfully! https://jovian.ai/deepak-dewani/python-binary-search-assignment-practice\n"
          ]
        },
        {
          "output_type": "execute_result",
          "data": {
            "application/vnd.google.colaboratory.intrinsic+json": {
              "type": "string"
            },
            "text/plain": [
              "'https://jovian.ai/deepak-dewani/python-binary-search-assignment-practice'"
            ]
          },
          "metadata": {},
          "execution_count": 50
        }
      ],
      "source": [
        "jovian.commit()"
      ]
    },
    {
      "cell_type": "markdown",
      "source": [
        "**Binary Search**\n",
        "\n",
        "1. defining the lowest and highest element, and by this calculate the middle element\n",
        "2. if middle element is smaller than the element before it, then middle element is the answer.\n",
        "3. otherwise, check for the middle element, if it is smaller than the last element of that list, than the answer lies in the left side of middle element.\n",
        "4. otherwise, it lies on the right side of list, and check for the answer.\n",
        "5. if all conditions fail than return 0."
      ],
      "metadata": {
        "id": "jPUoqlmsnvda"
      },
      "id": "jPUoqlmsnvda"
    },
    {
      "cell_type": "code",
      "source": [
        "jovian.commit()"
      ],
      "metadata": {
        "colab": {
          "base_uri": "https://localhost:8080/",
          "height": 87
        },
        "id": "dlI5kMgWnoXJ",
        "outputId": "3954cbfe-3173-41ef-d67c-d16d0f8df44e"
      },
      "id": "dlI5kMgWnoXJ",
      "execution_count": null,
      "outputs": [
        {
          "output_type": "stream",
          "name": "stdout",
          "text": [
            "[jovian] Detected Colab notebook...\u001b[0m\n",
            "[jovian] Uploading colab notebook to Jovian...\u001b[0m\n",
            "Committed successfully! https://jovian.ai/deepak-dewani/python-binary-search-assignment-practice\n"
          ]
        },
        {
          "output_type": "execute_result",
          "data": {
            "application/vnd.google.colaboratory.intrinsic+json": {
              "type": "string"
            },
            "text/plain": [
              "'https://jovian.ai/deepak-dewani/python-binary-search-assignment-practice'"
            ]
          },
          "metadata": {},
          "execution_count": 51
        }
      ]
    },
    {
      "cell_type": "code",
      "source": [
        "def count_rotations_binary(nums):\n",
        "    lo = 0\n",
        "    hi = len(nums) - 1\n",
        "    \n",
        "    while lo <= hi:\n",
        "        mid = (lo + hi)//2\n",
        "        mid_number = nums[mid]\n",
        "        mid_before = nums[mid - 1]\n",
        "        \n",
        "        # Uncomment the next line for logging the values and fixing errors.\n",
        "#         print(\"lo:\", lo, \", hi:\", hi, \", mid:\", mid, \", mid_number:\", mid_number, \"mid_before:\", mid_before )\n",
        "        \n",
        "        if mid > 0 and mid_number < nums[mid - 1]:\n",
        "            # The middle position is the answer\n",
        "            return mid\n",
        "        \n",
        "        elif mid_number < nums[len(nums)-1]:\n",
        "            # Answer lies in the left half\n",
        "            hi = mid - 1\n",
        "\n",
        "        else:\n",
        "            # Answer lies in the right half\n",
        "            lo = mid + 1\n",
        "    \n",
        "    return 0"
      ],
      "metadata": {
        "id": "QC-Fsn2yoOvs"
      },
      "id": "QC-Fsn2yoOvs",
      "execution_count": null,
      "outputs": []
    },
    {
      "cell_type": "code",
      "source": [
        "binary_search_result = evaluate_test_case(count_rotations_binary, test)\n"
      ],
      "metadata": {
        "colab": {
          "base_uri": "https://localhost:8080/"
        },
        "id": "17-9Qm6Ao_Bu",
        "outputId": "12e05af5-d52a-4771-f651-5f5d1a127199"
      },
      "id": "17-9Qm6Ao_Bu",
      "execution_count": null,
      "outputs": [
        {
          "output_type": "stream",
          "name": "stdout",
          "text": [
            "\n",
            "Input:\n",
            "{'nums': [19, 25, 29, 3, 5, 6, 7, 9, 11, 14]}\n",
            "\n",
            "Expected Output:\n",
            "3\n",
            "\n",
            "\n",
            "Actual Output:\n",
            "3\n",
            "\n",
            "Execution Time:\n",
            "0.006 ms\n",
            "\n",
            "Test Result:\n",
            "\u001b[92mPASSED\u001b[0m\n",
            "\n"
          ]
        }
      ]
    },
    {
      "cell_type": "code",
      "source": [
        "binary_search_results = evaluate_test_cases(count_rotations_binary, tests)"
      ],
      "metadata": {
        "colab": {
          "base_uri": "https://localhost:8080/"
        },
        "id": "K6-VfcbFpITF",
        "outputId": "7a02adc3-0a59-4823-d6b2-cc4b70ab6e5a"
      },
      "id": "K6-VfcbFpITF",
      "execution_count": null,
      "outputs": [
        {
          "output_type": "stream",
          "name": "stdout",
          "text": [
            "\n",
            "\u001b[1mTEST CASE #0\u001b[0m\n",
            "\n",
            "Input:\n",
            "{'nums': [19, 25, 29, 3, 5, 6, 7, 9, 11, 14]}\n",
            "\n",
            "Expected Output:\n",
            "3\n",
            "\n",
            "\n",
            "Actual Output:\n",
            "3\n",
            "\n",
            "Execution Time:\n",
            "0.008 ms\n",
            "\n",
            "Test Result:\n",
            "\u001b[92mPASSED\u001b[0m\n",
            "\n",
            "\n",
            "\u001b[1mTEST CASE #1\u001b[0m\n",
            "\n",
            "Input:\n",
            "{'nums': [4, 5, 6, 7, 8, 1, 2, 3]}\n",
            "\n",
            "Expected Output:\n",
            "5\n",
            "\n",
            "\n",
            "Actual Output:\n",
            "5\n",
            "\n",
            "Execution Time:\n",
            "0.004 ms\n",
            "\n",
            "Test Result:\n",
            "\u001b[92mPASSED\u001b[0m\n",
            "\n",
            "\n",
            "\u001b[1mTEST CASE #2\u001b[0m\n",
            "\n",
            "Input:\n",
            "{'nums': [1, 2, 3, 4, 5, 6, 7, 8]}\n",
            "\n",
            "Expected Output:\n",
            "0\n",
            "\n",
            "\n",
            "Actual Output:\n",
            "0\n",
            "\n",
            "Execution Time:\n",
            "0.008 ms\n",
            "\n",
            "Test Result:\n",
            "\u001b[92mPASSED\u001b[0m\n",
            "\n",
            "\n",
            "\u001b[1mTEST CASE #3\u001b[0m\n",
            "\n",
            "Input:\n",
            "{'nums': [9, 5, 6, 7, 8]}\n",
            "\n",
            "Expected Output:\n",
            "1\n",
            "\n",
            "\n",
            "Actual Output:\n",
            "1\n",
            "\n",
            "Execution Time:\n",
            "0.005 ms\n",
            "\n",
            "Test Result:\n",
            "\u001b[92mPASSED\u001b[0m\n",
            "\n",
            "\n",
            "\u001b[1mTEST CASE #4\u001b[0m\n",
            "\n",
            "Input:\n",
            "{'nums': [9, 5, 6, 7, 8]}\n",
            "\n",
            "Expected Output:\n",
            "1\n",
            "\n",
            "\n",
            "Actual Output:\n",
            "1\n",
            "\n",
            "Execution Time:\n",
            "0.004 ms\n",
            "\n",
            "Test Result:\n",
            "\u001b[92mPASSED\u001b[0m\n",
            "\n",
            "\n",
            "\u001b[1mTEST CASE #5\u001b[0m\n",
            "\n",
            "Input:\n",
            "{'nums': [3, 5, 7, 8, 9, 10]}\n",
            "\n",
            "Expected Output:\n",
            "0\n",
            "\n",
            "\n",
            "Actual Output:\n",
            "0\n",
            "\n",
            "Execution Time:\n",
            "0.004 ms\n",
            "\n",
            "Test Result:\n",
            "\u001b[92mPASSED\u001b[0m\n",
            "\n",
            "\n",
            "\u001b[1mTEST CASE #6\u001b[0m\n",
            "\n",
            "Input:\n",
            "{'nums': []}\n",
            "\n",
            "Expected Output:\n",
            "0\n",
            "\n",
            "\n",
            "Actual Output:\n",
            "0\n",
            "\n",
            "Execution Time:\n",
            "0.002 ms\n",
            "\n",
            "Test Result:\n",
            "\u001b[92mPASSED\u001b[0m\n",
            "\n",
            "\n",
            "\u001b[1mTEST CASE #7\u001b[0m\n",
            "\n",
            "Input:\n",
            "{'nums': [1]}\n",
            "\n",
            "Expected Output:\n",
            "0\n",
            "\n",
            "\n",
            "Actual Output:\n",
            "0\n",
            "\n",
            "Execution Time:\n",
            "0.003 ms\n",
            "\n",
            "Test Result:\n",
            "\u001b[92mPASSED\u001b[0m\n",
            "\n",
            "\n",
            "\u001b[1mSUMMARY\u001b[0m\n",
            "\n",
            "TOTAL: 8, \u001b[92mPASSED\u001b[0m: 8, \u001b[91mFAILED\u001b[0m: 0\n"
          ]
        }
      ]
    },
    {
      "cell_type": "code",
      "source": [
        "binary_search_complexity = evaluate_test_case(count_rotations_binary, large_test)"
      ],
      "metadata": {
        "colab": {
          "base_uri": "https://localhost:8080/"
        },
        "id": "H83w5M7mpOkl",
        "outputId": "39c1ffa6-220a-49d0-a654-837c8b7ddc7a"
      },
      "id": "H83w5M7mpOkl",
      "execution_count": null,
      "outputs": [
        {
          "output_type": "stream",
          "name": "stdout",
          "text": [
            "\n",
            "Input:\n",
            "{'nums': array([      1,       2,       3, ..., 9999997, 9999998, 9999999])}\n",
            "\n",
            "Expected Output:\n",
            "0\n",
            "\n",
            "\n",
            "Actual Output:\n",
            "0\n",
            "\n",
            "Execution Time:\n",
            "0.047 ms\n",
            "\n",
            "Test Result:\n",
            "\u001b[92mPASSED\u001b[0m\n",
            "\n"
          ]
        }
      ]
    },
    {
      "cell_type": "code",
      "source": [
        "jovian.commit()"
      ],
      "metadata": {
        "colab": {
          "base_uri": "https://localhost:8080/",
          "height": 87
        },
        "id": "7LBAhiJ2pTHq",
        "outputId": "b4154a75-cff4-4844-ff85-f048111f22c1"
      },
      "id": "7LBAhiJ2pTHq",
      "execution_count": null,
      "outputs": [
        {
          "output_type": "stream",
          "name": "stdout",
          "text": [
            "[jovian] Detected Colab notebook...\u001b[0m\n",
            "[jovian] Uploading colab notebook to Jovian...\u001b[0m\n",
            "Committed successfully! https://jovian.ai/deepak-dewani/python-binary-search-assignment-practice\n"
          ]
        },
        {
          "output_type": "execute_result",
          "data": {
            "application/vnd.google.colaboratory.intrinsic+json": {
              "type": "string"
            },
            "text/plain": [
              "'https://jovian.ai/deepak-dewani/python-binary-search-assignment-practice'"
            ]
          },
          "metadata": {},
          "execution_count": 56
        }
      ]
    }
  ],
  "metadata": {
    "colab": {
      "collapsed_sections": [],
      "name": "01_python-binary-search-assignment_01.ipynb",
      "provenance": [],
      "include_colab_link": true
    },
    "kernelspec": {
      "display_name": "Python 3 (ipykernel)",
      "language": "python",
      "name": "python3"
    },
    "language_info": {
      "codemirror_mode": {
        "name": "ipython",
        "version": 3
      },
      "file_extension": ".py",
      "mimetype": "text/x-python",
      "name": "python",
      "nbconvert_exporter": "python",
      "pygments_lexer": "ipython3",
      "version": "3.9.6"
    }
  },
  "nbformat": 4,
  "nbformat_minor": 5
}