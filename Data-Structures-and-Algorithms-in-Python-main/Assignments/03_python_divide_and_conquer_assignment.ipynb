{
  "cells": [
    {
      "cell_type": "markdown",
      "metadata": {
        "id": "view-in-github",
        "colab_type": "text"
      },
      "source": [
        "<a href=\"https://colab.research.google.com/github/deepak-dewani/Data-Structures-and-Algorithms-in-Python/blob/main/03_python_divide_and_conquer_assignment.ipynb\" target=\"_parent\"><img src=\"https://colab.research.google.com/assets/colab-badge.svg\" alt=\"Open In Colab\"/></a>"
      ]
    },
    {
      "cell_type": "code",
      "execution_count": 1,
      "id": "e8f39d94",
      "metadata": {
        "colab": {
          "base_uri": "https://localhost:8080/"
        },
        "id": "e8f39d94",
        "outputId": "ec127722-b14f-4e13-a96f-382664b21886"
      },
      "outputs": [
        {
          "output_type": "stream",
          "name": "stdout",
          "text": [
            "\u001b[?25l\r\u001b[K     |████▊                           | 10 kB 21.3 MB/s eta 0:00:01\r\u001b[K     |█████████▌                      | 20 kB 12.1 MB/s eta 0:00:01\r\u001b[K     |██████████████▎                 | 30 kB 9.0 MB/s eta 0:00:01\r\u001b[K     |███████████████████             | 40 kB 3.8 MB/s eta 0:00:01\r\u001b[K     |███████████████████████▉        | 51 kB 3.8 MB/s eta 0:00:01\r\u001b[K     |████████████████████████████▋   | 61 kB 4.5 MB/s eta 0:00:01\r\u001b[K     |████████████████████████████████| 68 kB 2.8 MB/s \n",
            "\u001b[?25h  Building wheel for uuid (setup.py) ... \u001b[?25l\u001b[?25hdone\n"
          ]
        }
      ],
      "source": [
        "# Jovian Commit Essentials\n",
        "# Please retain and execute this cell without modifying the contents for `jovian.commit` to work\n",
        "!pip install jovian --upgrade -q\n",
        "import jovian\n",
        "jovian.set_project('python-divide-and-conquer-assignment')\n",
        "jovian.set_colab_id('1VGF01oQfILRluWl7XYpKiNyGgqzFVX7-')"
      ]
    },
    {
      "cell_type": "markdown",
      "id": "difficult-valuation",
      "metadata": {
        "id": "difficult-valuation"
      },
      "source": [
        "# Assignment 3 - Divide-n-Conquer Algorithms in Python\n",
        "\n",
        "_This assignment is a part of the course [\"Data Structures and Algorithms in Python\"](https://jovian.ai/learn/data-structures-and-algorithms-in-python)._\n",
        "\n",
        "In this assignment, you will implement an efficient algorithm for polynomial multiplication.\n",
        "\n",
        "As you go through this notebook, you will find the symbol **???** in certain places. To complete this assignment, you must replace all the **???** with appropriate values, expressions or statements to ensure that the notebook runs properly end-to-end. \n",
        "\n",
        "**Guidelines**\n",
        "\n",
        "1. Make sure to run all the code cells, otherwise you may get errors like `NameError` for undefined variables.\n",
        "2. Do not change variable names, delete cells or disturb other existing code. It may cause problems during evaluation.\n",
        "3. In some cases, you may need to add some code cells or new statements before or after the line of code containing the **???**. \n",
        "4. Since you'll be using a temporary online service for code execution, save your work by running `jovian.commit` at regular intervals.\n",
        "5. Questions marked **(Optional)** will not be considered for evaluation, and can be skipped. They are for your learning.\n",
        "6. If you are stuck, you can ask for help on the [community forum] (TODO - add link). Post errors or ask for hints, but **please don't ask for OR share the full working answer code** on the forum.\n",
        "7. There are some tests included with this notebook to help you test your implementation. However, after submission your code will be tested with some hidden test cases. Make sure to test your code exhaustively to cover all edge cases.\n",
        "\n",
        "\n",
        "**Important Links**\n",
        "\n",
        "* Submit your work here: https://jovian.ai/learn/data-structures-and-algorithms-in-python/assignment/assignment-3-sorting-and-divide-conquer-practice\n",
        "* Ask questions and get help: https://jovian.ai/forum/c/data-structures-and-algorithms-in-python/assignment-3/89\n",
        "* Lesson 3 video for review: https://jovian.ai/learn/data-structures-and-algorithms-in-python/lesson/lesson-3-sorting-algorithms-and-divide-and-conquer\n",
        "* Lesson 3 notebook for review: https://jovian.ai/aakashns/python-sorting-divide-and-conquer\n"
      ]
    },
    {
      "cell_type": "markdown",
      "id": "japanese-beverage",
      "metadata": {
        "id": "japanese-beverage"
      },
      "source": [
        "### How to Run the Code and Save Your Work\n",
        "\n",
        "**Option 1: Running using free online resources (1-click, recommended)**: Click the **Run** button at the top of this page and select **Run on Binder**. You can also select \"Run on Colab\" or \"Run on Kaggle\", but you'll need to create an account on [Google Colab](https://colab.research.google.com) or [Kaggle](https://kaggle.com) to use these platforms.\n",
        "\n",
        "\n",
        "**Option 2: Running on your computer locally**: To run the code on your computer locally, you'll need to set up [Python](https://www.python.org) & [Conda](https://docs.conda.io/projects/conda/en/latest/user-guide/install/), download the notebook and install the required libraries. Click the **Run** button at the top of this page, select the **Run Locally** option, and follow the instructions.\n",
        "\n",
        "**Saving your work**: You can save a snapshot of the assignment to your [Jovian](https://jovian.ai) profile, so that you can access it later and continue your work. Keep saving your work by running `jovian.commit` from time to time."
      ]
    },
    {
      "cell_type": "code",
      "execution_count": 2,
      "id": "revised-italy",
      "metadata": {
        "id": "revised-italy"
      },
      "outputs": [],
      "source": [
        "project='python-divide-and-conquer-assignment-practice'"
      ]
    },
    {
      "cell_type": "code",
      "execution_count": 3,
      "id": "genuine-simon",
      "metadata": {
        "id": "genuine-simon"
      },
      "outputs": [],
      "source": [
        "!pip install jovian --upgrade --quiet"
      ]
    },
    {
      "cell_type": "code",
      "execution_count": 4,
      "id": "velvet-extraction",
      "metadata": {
        "colab": {
          "base_uri": "https://localhost:8080/",
          "height": 122
        },
        "id": "velvet-extraction",
        "outputId": "f87c661b-1f23-4d61-bffd-7c51f99fb9b3"
      },
      "outputs": [
        {
          "output_type": "stream",
          "name": "stdout",
          "text": [
            "[jovian] Detected Colab notebook...\u001b[0m\n",
            "[jovian] Please enter your API key ( from https://jovian.ai/ ):\u001b[0m\n",
            "API KEY: ··········\n",
            "[jovian] Uploading colab notebook to Jovian...\u001b[0m\n",
            "Committed successfully! https://jovian.ai/deepak-dewani/python-divide-and-conquer-assignment-practice\n"
          ]
        },
        {
          "output_type": "execute_result",
          "data": {
            "application/vnd.google.colaboratory.intrinsic+json": {
              "type": "string"
            },
            "text/plain": [
              "'https://jovian.ai/deepak-dewani/python-divide-and-conquer-assignment-practice'"
            ]
          },
          "metadata": {},
          "execution_count": 4
        }
      ],
      "source": [
        "import jovian\n",
        "jovian.commit(project=project, privacy='secret', environment=None)"
      ]
    },
    {
      "cell_type": "markdown",
      "id": "final-database",
      "metadata": {
        "id": "final-database"
      },
      "source": [
        "## Problem Statement - Polynomial Multiplication\n",
        "\n",
        "> Given two polynomials represented by two lists, write a function that efficiently multiplies given two polynomials. For example, the lists `[2, 0, 5, 7]` and `[3, 4, 2]` represent the polynomials $2 + 5x^2 + 7x^3$ and $3 + 4x + 2x^2$. \n",
        "> \n",
        "> Their product is \n",
        ">\n",
        "> $(2 \\times 3) + (2 \\times 4 + 0 \\times 3)x + (2 \\times 2 + 3 \\times 5 + 4 \\times 0)x^2 + (7 \\times 3 + 5 \\times 4 + 0 \\times 2)x^3 + (7 \\times 4 + 5 \\times 2)x^4 + (7 \\times 2)x^5$ i.e. \n",
        ">\n",
        ">$6 + 8x + 19x^2 + 41x^3 + 38x^4 + 14x^5$\n",
        "> \n",
        ">It can be represented by the list `[6, 8, 19, 41, 38, 14]`.\n"
      ]
    },
    {
      "cell_type": "markdown",
      "id": "completed-evolution",
      "metadata": {
        "id": "completed-evolution"
      },
      "source": [
        "## The Method\n",
        "\n",
        "Here's the systematic strategy we'll apply for solving problems:\n",
        "\n",
        "1. State the problem clearly. Identify the input & output formats.\n",
        "2. Come up with some example inputs & outputs. Try to cover all edge cases.\n",
        "3. Come up with a correct solution for the problem. State it in plain English.\n",
        "4. Implement the solution and test it using example inputs. Fix bugs, if any.\n",
        "5. Analyze the algorithm's complexity and identify inefficiencies, if any.\n",
        "6. Apply the right technique to overcome the inefficiency. Repeat steps 3 to 6.\n",
        "\n",
        "This approach is explained in detail in [Lesson 1](https://jovian.ai/learn/data-structures-and-algorithms-in-python/lesson/lesson-1-binary-search-linked-lists-and-complexity) of the course. Let's apply this approach step-by-step."
      ]
    },
    {
      "cell_type": "markdown",
      "id": "compressed-intellectual",
      "metadata": {
        "id": "compressed-intellectual"
      },
      "source": [
        "## Solution\n",
        "\n",
        "\n",
        "### 1. State the problem clearly. Identify the input & output formats.\n",
        "\n",
        "While this problem is stated clearly enough, it's always useful to try and express in your own words, in a way that makes it most clear for you. \n",
        "\n",
        "\n",
        "**Problem**\n",
        "\n",
        ">Write a function that multiplies two polynomials, represented by two lists.\n",
        "\n",
        "<br/>\n",
        "\n",
        "\n",
        "**Input**\n",
        "\n",
        "1. [2, 4, 0, 0, 5] and [4, 9, 5, 4]\n",
        "2. [2, 4] and [2, 7, 5]\n",
        "\n",
        "\n",
        "\n",
        "**Output**\n",
        "\n",
        "1. [8 34 46 28 36 45 25 20]\n",
        "2. [4 22 38 20]\n",
        "\n",
        "\n",
        "<br/>\n",
        "\n",
        "Based on the above, we can now create a signature of our function:"
      ]
    },
    {
      "cell_type": "code",
      "execution_count": 5,
      "id": "frank-professor",
      "metadata": {
        "id": "frank-professor"
      },
      "outputs": [],
      "source": [
        "def multiply(poly1, poly2):\n",
        "    pass"
      ]
    },
    {
      "cell_type": "code",
      "execution_count": 6,
      "id": "unauthorized-amendment",
      "metadata": {
        "id": "unauthorized-amendment"
      },
      "outputs": [],
      "source": [
        "import jovian"
      ]
    },
    {
      "cell_type": "code",
      "execution_count": 7,
      "id": "exposed-extension",
      "metadata": {
        "colab": {
          "base_uri": "https://localhost:8080/",
          "height": 87
        },
        "id": "exposed-extension",
        "outputId": "89dd363e-494a-4e4f-ac07-acb631a86c7d"
      },
      "outputs": [
        {
          "output_type": "stream",
          "name": "stdout",
          "text": [
            "[jovian] Detected Colab notebook...\u001b[0m\n",
            "[jovian] Uploading colab notebook to Jovian...\u001b[0m\n",
            "Committed successfully! https://jovian.ai/deepak-dewani/python-divide-and-conquer-assignment-practice\n"
          ]
        },
        {
          "output_type": "execute_result",
          "data": {
            "application/vnd.google.colaboratory.intrinsic+json": {
              "type": "string"
            },
            "text/plain": [
              "'https://jovian.ai/deepak-dewani/python-divide-and-conquer-assignment-practice'"
            ]
          },
          "metadata": {},
          "execution_count": 7
        }
      ],
      "source": [
        "jovian.commit()"
      ]
    },
    {
      "cell_type": "markdown",
      "id": "latin-choir",
      "metadata": {
        "id": "latin-choir"
      },
      "source": [
        "### 2. Come up with some example inputs & outputs. Try to cover all edge cases.\n",
        "\n",
        "Our function should be able to handle any set of valid inputs we pass into it. List a few scenarios here:\n",
        "\n",
        "1. One list is empty (result would be 0s)\n",
        "2. One list is of 1s (result would be Other List).\n",
        "3. Both lists are same.\n",
        "4. Both lists are of same/different size (a really long list.).\n",
        "5. A list containing just one element. (add more if required)\n",
        "\n",
        "\n",
        "\n",
        "Create a test case of each of the above scenarios. We'll express our test cases as dictionaries, to test them easily. Each dictionary will contain 2 keys: `input` (a dictionary itself containing one key for each argument to the function and `output` (the expected result from the function). "
      ]
    },
    {
      "cell_type": "code",
      "execution_count": 8,
      "id": "fancy-exhaust",
      "metadata": {
        "id": "fancy-exhaust"
      },
      "outputs": [],
      "source": [
        "test0 = {\n",
        "    'input': {\n",
        "        'poly1': [2, 0, 5, 7],\n",
        "        'poly2': [3, 4, 2]\n",
        "    },\n",
        "    'output': [6, 8, 19, 41, 38, 14]\n",
        "}"
      ]
    },
    {
      "cell_type": "code",
      "execution_count": 9,
      "id": "featured-poster",
      "metadata": {
        "id": "featured-poster"
      },
      "outputs": [],
      "source": [
        "test1 = {\n",
        "    'input': {\n",
        "        'poly1': [2, 4, 0, 0, 5],\n",
        "        'poly2': [4, 9, 5, 4]\n",
        "    },\n",
        "    'output': [8, 34, 46, 28, 36, 45, 25, 20]\n",
        "}"
      ]
    },
    {
      "cell_type": "code",
      "execution_count": 10,
      "id": "matched-horizon",
      "metadata": {
        "id": "matched-horizon"
      },
      "outputs": [],
      "source": [
        "test2 = {\n",
        "    'input': {\n",
        "        'poly1': [2, 4],\n",
        "        'poly2': [2, 7, 5]\n",
        "    },\n",
        "    'output': [4, 22, 38, 20]\n",
        "}"
      ]
    },
    {
      "cell_type": "code",
      "execution_count": 11,
      "id": "functional-personal",
      "metadata": {
        "id": "functional-personal"
      },
      "outputs": [],
      "source": [
        "test3 = {\n",
        "    'input': {\n",
        "        'poly1': [1, 1, 1],\n",
        "        'poly2': [2, 7, 5]\n",
        "    },\n",
        "    'output': [2, 9, 14, 12, 5]\n",
        "}"
      ]
    },
    {
      "cell_type": "code",
      "execution_count": 12,
      "id": "useful-alaska",
      "metadata": {
        "id": "useful-alaska"
      },
      "outputs": [],
      "source": [
        "test4 = {\n",
        "    'input': {\n",
        "        'poly1': [],\n",
        "        'poly2': [2, 7, 4]\n",
        "    },\n",
        "    'output': []\n",
        "}"
      ]
    },
    {
      "cell_type": "code",
      "execution_count": 13,
      "id": "split-opportunity",
      "metadata": {
        "id": "split-opportunity"
      },
      "outputs": [],
      "source": [
        "test5 = {\n",
        "    'input': {\n",
        "        'poly1': [0, 1],\n",
        "        'poly2': [2, 6, -5, 3, 4]\n",
        "    },\n",
        "    'output': [0, 2, 6, -5, 3, 4]\n",
        "}"
      ]
    },
    {
      "cell_type": "code",
      "execution_count": 14,
      "id": "promotional-donor",
      "metadata": {
        "id": "promotional-donor"
      },
      "outputs": [],
      "source": [
        "test6 = {\n",
        "    'input': {\n",
        "        'poly1': [1],\n",
        "        'poly2': [2, 6, 5, 3, 4]\n",
        "    },\n",
        "    'output': [2, 6, 5, 3, 4]\n",
        "}"
      ]
    },
    {
      "cell_type": "code",
      "execution_count": 15,
      "id": "visible-object",
      "metadata": {
        "id": "visible-object"
      },
      "outputs": [],
      "source": [
        "test7 = {\n",
        "    'input': {\n",
        "        'poly1': [],\n",
        "        'poly2': [1]\n",
        "    },\n",
        "    'output': []\n",
        "}"
      ]
    },
    {
      "cell_type": "code",
      "execution_count": 16,
      "id": "little-dating",
      "metadata": {
        "id": "little-dating"
      },
      "outputs": [],
      "source": [
        "test8 = {\n",
        "    'input': {\n",
        "        'poly1': [2, 5, 3, 1, -1],\n",
        "        'poly2': [1, 2, 2, 3, 6]\n",
        "    },\n",
        "    'output': [2, 9, 17, 23, 34, 39, 19, 3, -6]\n",
        "}"
      ]
    },
    {
      "cell_type": "markdown",
      "id": "extreme-membrane",
      "metadata": {
        "id": "extreme-membrane"
      },
      "source": [
        "Let's store all the test cases in a list, for easier automated testing."
      ]
    },
    {
      "cell_type": "code",
      "execution_count": 17,
      "id": "emerging-request",
      "metadata": {
        "id": "emerging-request"
      },
      "outputs": [],
      "source": [
        "tests = [test0, test1, test2, test3, test4, test5, test6, test7, test8]"
      ]
    },
    {
      "cell_type": "code",
      "execution_count": 18,
      "id": "connected-favor",
      "metadata": {
        "id": "connected-favor"
      },
      "outputs": [],
      "source": [
        "import jovian"
      ]
    },
    {
      "cell_type": "code",
      "execution_count": 19,
      "id": "brave-bracelet",
      "metadata": {
        "colab": {
          "base_uri": "https://localhost:8080/",
          "height": 87
        },
        "id": "brave-bracelet",
        "outputId": "757f980c-22c8-4bea-e464-2059971530da"
      },
      "outputs": [
        {
          "output_type": "stream",
          "name": "stdout",
          "text": [
            "[jovian] Detected Colab notebook...\u001b[0m\n",
            "[jovian] Uploading colab notebook to Jovian...\u001b[0m\n",
            "Committed successfully! https://jovian.ai/deepak-dewani/python-divide-and-conquer-assignment-practice\n"
          ]
        },
        {
          "output_type": "execute_result",
          "data": {
            "application/vnd.google.colaboratory.intrinsic+json": {
              "type": "string"
            },
            "text/plain": [
              "'https://jovian.ai/deepak-dewani/python-divide-and-conquer-assignment-practice'"
            ]
          },
          "metadata": {},
          "execution_count": 19
        }
      ],
      "source": [
        "jovian.commit()"
      ]
    },
    {
      "cell_type": "markdown",
      "id": "satellite-exclusion",
      "metadata": {
        "id": "satellite-exclusion"
      },
      "source": [
        "### 3. Come up with a correct solution for the problem. State it in plain English.\n",
        "\n",
        "Our first goal should always be to come up with a _correct_ solution to the problem, which may not necessarily be the most _efficient_ solution. \n",
        "\n",
        "Here's the simplest solution: If you have lists `poly1` and `poly2` representing polynomials of length $m$ and $n$ respectively, the highest degree of the exponents are $m-1$ and $n-1$ respectively. Their product has the degree $(m - 1) + (n - 1)$ i.e $m + n - 2$. The list representing the product has the length $m + n - 1$. So, we can create a list `result` of length $m + n - 1$, and set \n",
        "\n",
        "`result[k]` = Sum of all the pairs `poly1[i] * poly2[j]` where `i+j = k`\n",
        "\n",
        "Example:\n",
        "\n",
        "$(2 + 5x^2 + 7x^3) \\times (3 + 4x + 2x^2)$\n",
        "\n",
        "$= (2 \\times 3) + (2 \\times 4 + 0 \\times 3)x + (2 \\times 2 + 3 \\times 5 + 4 \\times 0)x^2 + (7 \\times 3 + 5 \\times 4 + 0 \\times 2)x^3 + (7 \\times 4 + 5 \\times 2)x^4 + (7 \\times 2)x^5$\n",
        "\n",
        "$= 6 + 8x + 19x^2 + 41x^3 + 38x^4 + 14x^5$\n",
        "\n",
        "\n",
        "\n",
        "\n",
        "\n",
        "\n",
        "Explain this solution in your own words below:\n",
        "\n",
        "1. Create an emply list (result) with len(poly1) + len(poly2) - 1.\n",
        "Set the first element result[0] to poly1[0]*poly2[0] as this would be the value with multiplier \n",
        "x\n",
        "0\n",
        ".\n",
        "2. Second element result[1] would be poly1[1]*poly2[0] + poly1[0]*poly2[1], as these would have \n",
        "x\n",
        "1\n",
        " multiplier.\n",
        "3. Effectively, index could be read as the degree of the exponents and the value at the index as multiplier.\n",
        "i.e. result[k] = Sum of all the pairs poly1[i] * poly2[j] where i+j = k\n",
        "\n",
        "\n",
        "\n",
        "\n",
        "Let's save and upload our work before continuing.\n",
        "\n"
      ]
    },
    {
      "cell_type": "code",
      "execution_count": 20,
      "id": "relevant-initial",
      "metadata": {
        "id": "relevant-initial"
      },
      "outputs": [],
      "source": [
        "import jovian"
      ]
    },
    {
      "cell_type": "code",
      "execution_count": 21,
      "id": "fatty-rolling",
      "metadata": {
        "colab": {
          "base_uri": "https://localhost:8080/",
          "height": 87
        },
        "id": "fatty-rolling",
        "outputId": "a9199e1a-6632-4f07-8a4b-2cf5519f3b3a"
      },
      "outputs": [
        {
          "output_type": "stream",
          "name": "stdout",
          "text": [
            "[jovian] Detected Colab notebook...\u001b[0m\n",
            "[jovian] Uploading colab notebook to Jovian...\u001b[0m\n",
            "Committed successfully! https://jovian.ai/deepak-dewani/python-divide-and-conquer-assignment-practice\n"
          ]
        },
        {
          "output_type": "execute_result",
          "data": {
            "application/vnd.google.colaboratory.intrinsic+json": {
              "type": "string"
            },
            "text/plain": [
              "'https://jovian.ai/deepak-dewani/python-divide-and-conquer-assignment-practice'"
            ]
          },
          "metadata": {},
          "execution_count": 21
        }
      ],
      "source": [
        "jovian.commit()"
      ]
    },
    {
      "cell_type": "markdown",
      "id": "lucky-boxing",
      "metadata": {
        "id": "lucky-boxing"
      },
      "source": [
        "###  4. Implement the solution and test it using example inputs. Fix bugs, if any.\n",
        "\n",
        "Implement the solution"
      ]
    },
    {
      "cell_type": "code",
      "execution_count": 22,
      "id": "grateful-chile",
      "metadata": {
        "id": "grateful-chile"
      },
      "outputs": [],
      "source": [
        "def multiply_basic(poly1, poly2):\n",
        "    m = len(poly1)\n",
        "    n = len(poly2)\n",
        "    \n",
        "    if m>0 and n>0:\n",
        "      result = [0]*(m + n - 1) \n",
        "      for i in range(m):\n",
        "        for j in range(n):\n",
        "          result[i+j] += poly1[i] * poly2[j]           \n",
        "    \n",
        "    elif m==0 or n==0:\n",
        "        result = [] \n",
        "    \n",
        "    elif n==0:\n",
        "        result = []\n",
        "    \n",
        "    return result"
      ]
    },
    {
      "cell_type": "markdown",
      "id": "casual-bicycle",
      "metadata": {
        "id": "casual-bicycle"
      },
      "source": [
        "Test your solution using the test cases you've defined above."
      ]
    },
    {
      "cell_type": "code",
      "execution_count": 23,
      "id": "sunset-motor",
      "metadata": {
        "colab": {
          "base_uri": "https://localhost:8080/"
        },
        "id": "sunset-motor",
        "outputId": "d36a07c1-4393-4ff0-e442-1812563c93e5"
      },
      "outputs": [
        {
          "output_type": "stream",
          "name": "stdout",
          "text": [
            "Input-1: [2, 4, 0, 0, 5]\n",
            "Input-2: [4, 9, 5, 4]\n",
            "Expected output: [8, 34, 46, 28, 36, 45, 25, 20]\n",
            "Actual output: [8, 34, 46, 28, 36, 45, 25, 20]\n",
            "Match: True\n"
          ]
        }
      ],
      "source": [
        "print('Input-1:', test1['input']['poly1'])\n",
        "print('Input-2:', test1['input']['poly2'])\n",
        "print('Expected output:', test1['output'])\n",
        "result1 = multiply_basic(test1['input']['poly1'], test1['input']['poly2'])\n",
        "print('Actual output:', result1)\n",
        "print('Match:', result1 == test1['output'])"
      ]
    },
    {
      "cell_type": "code",
      "execution_count": 24,
      "id": "earned-sending",
      "metadata": {
        "id": "earned-sending"
      },
      "outputs": [],
      "source": [
        "from jovian.pythondsa import evaluate_test_cases"
      ]
    },
    {
      "cell_type": "code",
      "execution_count": 25,
      "id": "neutral-conducting",
      "metadata": {
        "colab": {
          "base_uri": "https://localhost:8080/"
        },
        "id": "neutral-conducting",
        "outputId": "788dacdd-34ad-4893-e07c-c1b1cb3c0a21"
      },
      "outputs": [
        {
          "output_type": "stream",
          "name": "stdout",
          "text": [
            "\n",
            "\u001b[1mTEST CASE #0\u001b[0m\n",
            "\n",
            "Input:\n",
            "{'poly1': [2, 0, 5, 7], 'poly2': [3, 4, 2]}\n",
            "\n",
            "Expected Output:\n",
            "[6, 8, 19, 41, 38, 14]\n",
            "\n",
            "\n",
            "Actual Output:\n",
            "[6, 8, 19, 41, 38, 14]\n",
            "\n",
            "Execution Time:\n",
            "0.015 ms\n",
            "\n",
            "Test Result:\n",
            "\u001b[92mPASSED\u001b[0m\n",
            "\n",
            "\n",
            "\u001b[1mTEST CASE #1\u001b[0m\n",
            "\n",
            "Input:\n",
            "{'poly1': [2, 4, 0, 0, 5], 'poly2': [4, 9, 5, 4]}\n",
            "\n",
            "Expected Output:\n",
            "[8, 34, 46, 28, 36, 45, 25, 20]\n",
            "\n",
            "\n",
            "Actual Output:\n",
            "[8, 34, 46, 28, 36, 45, 25, 20]\n",
            "\n",
            "Execution Time:\n",
            "0.018 ms\n",
            "\n",
            "Test Result:\n",
            "\u001b[92mPASSED\u001b[0m\n",
            "\n",
            "\n",
            "\u001b[1mTEST CASE #2\u001b[0m\n",
            "\n",
            "Input:\n",
            "{'poly1': [2, 4], 'poly2': [2, 7, 5]}\n",
            "\n",
            "Expected Output:\n",
            "[4, 22, 38, 20]\n",
            "\n",
            "\n",
            "Actual Output:\n",
            "[4, 22, 38, 20]\n",
            "\n",
            "Execution Time:\n",
            "0.011 ms\n",
            "\n",
            "Test Result:\n",
            "\u001b[92mPASSED\u001b[0m\n",
            "\n",
            "\n",
            "\u001b[1mTEST CASE #3\u001b[0m\n",
            "\n",
            "Input:\n",
            "{'poly1': [1, 1, 1], 'poly2': [2, 7, 5]}\n",
            "\n",
            "Expected Output:\n",
            "[2, 9, 14, 12, 5]\n",
            "\n",
            "\n",
            "Actual Output:\n",
            "[2, 9, 14, 12, 5]\n",
            "\n",
            "Execution Time:\n",
            "0.013 ms\n",
            "\n",
            "Test Result:\n",
            "\u001b[92mPASSED\u001b[0m\n",
            "\n",
            "\n",
            "\u001b[1mTEST CASE #4\u001b[0m\n",
            "\n",
            "Input:\n",
            "{'poly1': [], 'poly2': [2, 7, 4]}\n",
            "\n",
            "Expected Output:\n",
            "[]\n",
            "\n",
            "\n",
            "Actual Output:\n",
            "[]\n",
            "\n",
            "Execution Time:\n",
            "0.004 ms\n",
            "\n",
            "Test Result:\n",
            "\u001b[92mPASSED\u001b[0m\n",
            "\n",
            "\n",
            "\u001b[1mTEST CASE #5\u001b[0m\n",
            "\n",
            "Input:\n",
            "{'poly1': [0, 1], 'poly2': [2, 6, -5, 3, 4]}\n",
            "\n",
            "Expected Output:\n",
            "[0, 2, 6, -5, 3, 4]\n",
            "\n",
            "\n",
            "Actual Output:\n",
            "[0, 2, 6, -5, 3, 4]\n",
            "\n",
            "Execution Time:\n",
            "0.012 ms\n",
            "\n",
            "Test Result:\n",
            "\u001b[92mPASSED\u001b[0m\n",
            "\n",
            "\n",
            "\u001b[1mTEST CASE #6\u001b[0m\n",
            "\n",
            "Input:\n",
            "{'poly1': [1], 'poly2': [2, 6, 5, 3, 4]}\n",
            "\n",
            "Expected Output:\n",
            "[2, 6, 5, 3, 4]\n",
            "\n",
            "\n",
            "Actual Output:\n",
            "[2, 6, 5, 3, 4]\n",
            "\n",
            "Execution Time:\n",
            "0.009 ms\n",
            "\n",
            "Test Result:\n",
            "\u001b[92mPASSED\u001b[0m\n",
            "\n",
            "\n",
            "\u001b[1mTEST CASE #7\u001b[0m\n",
            "\n",
            "Input:\n",
            "{'poly1': [], 'poly2': [1]}\n",
            "\n",
            "Expected Output:\n",
            "[]\n",
            "\n",
            "\n",
            "Actual Output:\n",
            "[]\n",
            "\n",
            "Execution Time:\n",
            "0.003 ms\n",
            "\n",
            "Test Result:\n",
            "\u001b[92mPASSED\u001b[0m\n",
            "\n",
            "\n",
            "\u001b[1mTEST CASE #8\u001b[0m\n",
            "\n",
            "Input:\n",
            "{'poly1': [2, 5, 3, 1, -1], 'poly2': [1, 2, 2, 3, 6]}\n",
            "\n",
            "Expected Output:\n",
            "[2, 9, 17, 23, 34, 39, 19, 3, -6]\n",
            "\n",
            "\n",
            "Actual Output:\n",
            "[2, 9, 17, 23, 34, 39, 19, 3, -6]\n",
            "\n",
            "Execution Time:\n",
            "0.019 ms\n",
            "\n",
            "Test Result:\n",
            "\u001b[92mPASSED\u001b[0m\n",
            "\n",
            "\n",
            "\u001b[1mSUMMARY\u001b[0m\n",
            "\n",
            "TOTAL: 9, \u001b[92mPASSED\u001b[0m: 9, \u001b[91mFAILED\u001b[0m: 0\n"
          ]
        }
      ],
      "source": [
        "results = evaluate_test_cases(multiply_basic, tests)"
      ]
    },
    {
      "cell_type": "code",
      "execution_count": 26,
      "id": "lined-expense",
      "metadata": {
        "id": "lined-expense"
      },
      "outputs": [],
      "source": [
        "import jovian"
      ]
    },
    {
      "cell_type": "code",
      "execution_count": 27,
      "id": "recreational-regulation",
      "metadata": {
        "colab": {
          "base_uri": "https://localhost:8080/",
          "height": 87
        },
        "id": "recreational-regulation",
        "outputId": "e41e5ec5-cac9-4512-bb9e-054dfd46f097"
      },
      "outputs": [
        {
          "output_type": "stream",
          "name": "stdout",
          "text": [
            "[jovian] Detected Colab notebook...\u001b[0m\n",
            "[jovian] Uploading colab notebook to Jovian...\u001b[0m\n",
            "Committed successfully! https://jovian.ai/deepak-dewani/python-divide-and-conquer-assignment-practice\n"
          ]
        },
        {
          "output_type": "execute_result",
          "data": {
            "application/vnd.google.colaboratory.intrinsic+json": {
              "type": "string"
            },
            "text/plain": [
              "'https://jovian.ai/deepak-dewani/python-divide-and-conquer-assignment-practice'"
            ]
          },
          "metadata": {},
          "execution_count": 27
        }
      ],
      "source": [
        "jovian.commit()"
      ]
    },
    {
      "cell_type": "markdown",
      "id": "associate-platform",
      "metadata": {
        "id": "associate-platform"
      },
      "source": [
        "### 5. Analyze the algorithm's complexity and identify inefficiencies, if any.\n",
        "\n",
        "Can you analyze the time and space complexity of this algorithm?"
      ]
    },
    {
      "cell_type": "code",
      "execution_count": 28,
      "id": "aerial-motorcycle",
      "metadata": {
        "id": "aerial-motorcycle"
      },
      "outputs": [],
      "source": [
        "multiply_basic_time_complexity = 'O(n^2)'"
      ]
    },
    {
      "cell_type": "code",
      "execution_count": 29,
      "id": "sustained-chicago",
      "metadata": {
        "id": "sustained-chicago"
      },
      "outputs": [],
      "source": [
        "multiply_basic_space_complexity = 'O(N*N)' "
      ]
    },
    {
      "cell_type": "code",
      "execution_count": 30,
      "id": "accompanied-thailand",
      "metadata": {
        "id": "accompanied-thailand"
      },
      "outputs": [],
      "source": [
        "import jovian"
      ]
    },
    {
      "cell_type": "code",
      "execution_count": 31,
      "id": "egyptian-stranger",
      "metadata": {
        "colab": {
          "base_uri": "https://localhost:8080/",
          "height": 87
        },
        "id": "egyptian-stranger",
        "outputId": "730f3ab9-3aa8-4030-9ce8-702848336c40"
      },
      "outputs": [
        {
          "output_type": "stream",
          "name": "stdout",
          "text": [
            "[jovian] Detected Colab notebook...\u001b[0m\n",
            "[jovian] Uploading colab notebook to Jovian...\u001b[0m\n",
            "Committed successfully! https://jovian.ai/deepak-dewani/python-divide-and-conquer-assignment-practice\n"
          ]
        },
        {
          "output_type": "execute_result",
          "data": {
            "application/vnd.google.colaboratory.intrinsic+json": {
              "type": "string"
            },
            "text/plain": [
              "'https://jovian.ai/deepak-dewani/python-divide-and-conquer-assignment-practice'"
            ]
          },
          "metadata": {},
          "execution_count": 31
        }
      ],
      "source": [
        "jovian.commit()"
      ]
    },
    {
      "cell_type": "markdown",
      "id": "honey-desire",
      "metadata": {
        "id": "honey-desire"
      },
      "source": [
        "### 6. Apply the right technique to overcome the inefficiency. Repeat steps 3 to 6.\n",
        "\n",
        "We can apply the divide and conquer technique to solve this problem more efficiently. Given two polynomials `A` and `B`, we can express each of them as a sum of two polynomials as follows:\n",
        "\n",
        "<img src=\"https://i.imgur.com/FjKQF5h.png\" width=\"480\">\n",
        "\n",
        "We need to compute the terms `A0 * B0`, `A1 * B0 + A0 * B1` and `A1 * B1`. This can obviously be done using 4 multiplications, but here's a way of doing it with just three multiplications:\n",
        "\n",
        "<img src=\"https://i.imgur.com/G3vD1GX.png\" width=\"480\">\n",
        "\n",
        "\n",
        "Each of the products can themselves be computed recursively. For a more detailed explanation of this approach see http://www.cse.ust.hk/~dekai/271/notes/L03/L03.pdf .\n",
        "\n",
        "\n",
        "Need help? Discuss and ask questions on the forum: https://jovian.ai/forum/c/data-structures-and-algorithms-in-python/assignment-3/89\n"
      ]
    },
    {
      "cell_type": "markdown",
      "id": "parliamentary-spray",
      "metadata": {
        "id": "parliamentary-spray"
      },
      "source": [
        "### 7. Come up with a correct solution for the problem. State it in plain English.\n",
        "\n",
        "Explain the approach described above in your own words below:\n",
        "\n",
        "1.Divide the polynomials A & B in smaller polynomials Such as \n",
        "A(x)as A0(x) and A1(x)(say half)\n",
        "2. The original problem of size n is divided into 4 problems of input size n/2.\n",
        "3. Solve the four subproblems, by recursively calling the algorithm 4 times.\n",
        "\n",
        "\n",
        "\n",
        "Let's save and upload our work before continuing."
      ]
    },
    {
      "cell_type": "code",
      "execution_count": 32,
      "id": "recreational-occurrence",
      "metadata": {
        "id": "recreational-occurrence"
      },
      "outputs": [],
      "source": [
        "import jovian"
      ]
    },
    {
      "cell_type": "code",
      "execution_count": 33,
      "id": "flexible-snake",
      "metadata": {
        "colab": {
          "base_uri": "https://localhost:8080/",
          "height": 87
        },
        "id": "flexible-snake",
        "outputId": "fab8f5cd-c8f9-41f3-fb4b-11fd740f470d"
      },
      "outputs": [
        {
          "output_type": "stream",
          "name": "stdout",
          "text": [
            "[jovian] Detected Colab notebook...\u001b[0m\n",
            "[jovian] Uploading colab notebook to Jovian...\u001b[0m\n",
            "Committed successfully! https://jovian.ai/deepak-dewani/python-divide-and-conquer-assignment-practice\n"
          ]
        },
        {
          "output_type": "execute_result",
          "data": {
            "application/vnd.google.colaboratory.intrinsic+json": {
              "type": "string"
            },
            "text/plain": [
              "'https://jovian.ai/deepak-dewani/python-divide-and-conquer-assignment-practice'"
            ]
          },
          "metadata": {},
          "execution_count": 33
        }
      ],
      "source": [
        "jovian.commit()"
      ]
    },
    {
      "cell_type": "markdown",
      "id": "corresponding-gasoline",
      "metadata": {
        "id": "corresponding-gasoline"
      },
      "source": [
        "### 8. Implement the solution and test it using example inputs. Fix bugs, if any.\n",
        "\n",
        "We are now ready to implement the solution. You may find the following functions `add`, `split` and `increase_exponent` useful.\n"
      ]
    },
    {
      "cell_type": "code",
      "execution_count": 34,
      "id": "planned-budapest",
      "metadata": {
        "id": "planned-budapest"
      },
      "outputs": [],
      "source": [
        "def add(poly1, poly2):\n",
        "    \"\"\"Add two polynomials\"\"\"\n",
        "    result = [0] * max(len(poly1), len(poly2))\n",
        "    for i in range(len(result)):\n",
        "        if i < len(poly1):\n",
        "            result[i] += poly1[i]\n",
        "        if i < len(poly2):\n",
        "            result[i] += poly2[i]\n",
        "    return result"
      ]
    },
    {
      "cell_type": "code",
      "execution_count": 35,
      "id": "amazing-sympathy",
      "metadata": {
        "colab": {
          "base_uri": "https://localhost:8080/"
        },
        "id": "amazing-sympathy",
        "outputId": "a5d6fdf6-383a-4348-ce2b-7a9d9afc3905"
      },
      "outputs": [
        {
          "output_type": "execute_result",
          "data": {
            "text/plain": [
              "[1, 6, 6, 4]"
            ]
          },
          "metadata": {},
          "execution_count": 35
        }
      ],
      "source": [
        "add([1, 2, 3, 4], [0, 4, 3])"
      ]
    },
    {
      "cell_type": "code",
      "execution_count": 36,
      "id": "objective-stone",
      "metadata": {
        "id": "objective-stone"
      },
      "outputs": [],
      "source": [
        "def split(poly1, poly2):\n",
        "    \"\"\"Split each polynomial into two smaller polynomials\"\"\"\n",
        "    mid = max(len(poly1), len(poly2)) // 2\n",
        "    return  (poly1[:mid], poly1[mid:]), (poly2[:mid], poly2[mid:])"
      ]
    },
    {
      "cell_type": "code",
      "execution_count": 37,
      "id": "saving-folder",
      "metadata": {
        "colab": {
          "base_uri": "https://localhost:8080/"
        },
        "id": "saving-folder",
        "outputId": "d2a8eb1f-a5e1-4fc5-9b8d-f0122aacc02e"
      },
      "outputs": [
        {
          "output_type": "execute_result",
          "data": {
            "text/plain": [
              "(([1, 2, 3], [4]), ([0, 4, 3], [6, 7, 8, 2]))"
            ]
          },
          "metadata": {},
          "execution_count": 37
        }
      ],
      "source": [
        "split([1, 2, 3, 4], [0, 4, 3, 6, 7, 8, 2])"
      ]
    },
    {
      "cell_type": "code",
      "execution_count": 38,
      "id": "ethical-bradford",
      "metadata": {
        "id": "ethical-bradford"
      },
      "outputs": [],
      "source": [
        "def increase_exponent(poly, n):\n",
        "    \"\"\"Multiply poly1 by x^n\"\"\"\n",
        "    return [0] * n + poly"
      ]
    },
    {
      "cell_type": "code",
      "execution_count": 39,
      "id": "saving-arrangement",
      "metadata": {
        "colab": {
          "base_uri": "https://localhost:8080/"
        },
        "id": "saving-arrangement",
        "outputId": "62378b9a-14eb-4e9b-a240-9885c4b1d969"
      },
      "outputs": [
        {
          "output_type": "execute_result",
          "data": {
            "text/plain": [
              "[0, 0, 0, 1, 2, 3, 4]"
            ]
          },
          "metadata": {},
          "execution_count": 39
        }
      ],
      "source": [
        "increase_exponent([1, 2, 3, 4], 3)"
      ]
    },
    {
      "cell_type": "markdown",
      "id": "under-effectiveness",
      "metadata": {
        "id": "under-effectiveness"
      },
      "source": [
        "Implement the optimized multiplication algorithm below. You may use the some or all of the helper functions defined above."
      ]
    },
    {
      "cell_type": "code",
      "execution_count": 41,
      "id": "starting-characterization",
      "metadata": {
        "id": "starting-characterization"
      },
      "outputs": [],
      "source": [
        "# What this does is takes the first element of poly1, multiplies all elements of poly2\n",
        "\n",
        "\n",
        "# Standardizes the polynomial (Gets rid of trailing 0s)\n",
        "def standardize(poly):\n",
        "    poly = list(poly) # make a copy\n",
        "    if poly[len(poly)-1] == 0: # Check if the last element in the list is 0\n",
        "        poly.pop() #If last element is zero, remove from the list\n",
        "    return poly\n",
        "\n",
        "# Finds if the polynomial is 0\n",
        "def isZeroPoly(poly):\n",
        "    if poly == []: # Check if poly is blank [] or [0]<= standardize would remove the zero and return []\n",
        "        return True\n",
        "    else:\n",
        "        return False\n",
        "\n",
        "# Scales the polynomial by the scale variable ((3,[1,2,3]) => [3,6,9])\n",
        "def scalePoly(scale,poly):\n",
        "    poly = list(poly)\n",
        "    for x in range(0,len(poly)): # For final assembly of resulting poly\n",
        "        poly[x] = (poly[x] * scale)\n",
        "    poly = standardize(poly)\n",
        "    return poly\n",
        "\n",
        "# Gives the constant in the polynomial ([2,3,4] => [2])\n",
        "def constCoef(poly):\n",
        "    constant = poly[0]\n",
        "    return constant\n",
        "\n",
        "# Shifts the polynomial left ([2,3,4] => [0,2,3,4])\n",
        "def shiftLeft(poly):\n",
        "    newpoly = []\n",
        "    newpoly.append(0)\n",
        "    for x in range(0,len(poly)): # Increase exponent\n",
        "        newpoly.append(poly[x])\n",
        "    return newpoly\n",
        "\n",
        "# Shifts the polynomial right ([2,3,4] => [3,4])\n",
        "def shiftRight(poly):\n",
        "    #poly.remove(poly[0])\n",
        "    return poly[1:]\n",
        "\n",
        "def multiply_optimized(poly1, poly2):\n",
        "    # print (poly1, poly2)\n",
        "    if isZeroPoly(poly1):\n",
        "        return []\n",
        "    else:\n",
        "        return add(multiply_optimized(shiftRight(poly1), shiftLeft(poly2)),\n",
        "            scalePoly(constCoef(poly1), poly2))\n",
        "        "
      ]
    },
    {
      "cell_type": "markdown",
      "id": "novel-scout",
      "metadata": {
        "id": "novel-scout"
      },
      "source": [
        "Test your solution using the empty cells below."
      ]
    },
    {
      "cell_type": "code",
      "execution_count": 42,
      "id": "operating-ecology",
      "metadata": {
        "colab": {
          "base_uri": "https://localhost:8080/"
        },
        "id": "operating-ecology",
        "outputId": "b1a5e9b0-a3a9-48ea-ca43-b41b36146e36"
      },
      "outputs": [
        {
          "output_type": "execute_result",
          "data": {
            "text/plain": [
              "[0, 4, 11, 24, 44, 52, 63, 56, 38, 8]"
            ]
          },
          "metadata": {},
          "execution_count": 42
        }
      ],
      "source": [
        "multiply_optimized([1, 2, 3, 4], [0, 4, 3, 6, 7, 8, 2])"
      ]
    },
    {
      "cell_type": "code",
      "execution_count": 43,
      "id": "adverse-tamil",
      "metadata": {
        "colab": {
          "base_uri": "https://localhost:8080/"
        },
        "id": "adverse-tamil",
        "outputId": "1f230b3c-f794-4116-816f-5f38be02db8a"
      },
      "outputs": [
        {
          "output_type": "stream",
          "name": "stdout",
          "text": [
            "\n",
            "\u001b[1mTEST CASE #0\u001b[0m\n",
            "\n",
            "Input:\n",
            "{'poly1': [2, 0, 5, 7], 'poly2': [3, 4, 2]}\n",
            "\n",
            "Expected Output:\n",
            "[6, 8, 19, 41, 38, 14]\n",
            "\n",
            "\n",
            "Actual Output:\n",
            "[6, 8, 19, 41, 38, 14]\n",
            "\n",
            "Execution Time:\n",
            "0.086 ms\n",
            "\n",
            "Test Result:\n",
            "\u001b[92mPASSED\u001b[0m\n",
            "\n",
            "\n",
            "\u001b[1mTEST CASE #1\u001b[0m\n",
            "\n",
            "Input:\n",
            "{'poly1': [2, 4, 0, 0, 5], 'poly2': [4, 9, 5, 4]}\n",
            "\n",
            "Expected Output:\n",
            "[8, 34, 46, 28, 36, 45, 25, 20]\n",
            "\n",
            "\n",
            "Actual Output:\n",
            "[8, 34, 46, 28, 36, 45, 25, 20]\n",
            "\n",
            "Execution Time:\n",
            "0.081 ms\n",
            "\n",
            "Test Result:\n",
            "\u001b[92mPASSED\u001b[0m\n",
            "\n",
            "\n",
            "\u001b[1mTEST CASE #2\u001b[0m\n",
            "\n",
            "Input:\n",
            "{'poly1': [2, 4], 'poly2': [2, 7, 5]}\n",
            "\n",
            "Expected Output:\n",
            "[4, 22, 38, 20]\n",
            "\n",
            "\n",
            "Actual Output:\n",
            "[4, 22, 38, 20]\n",
            "\n",
            "Execution Time:\n",
            "0.03 ms\n",
            "\n",
            "Test Result:\n",
            "\u001b[92mPASSED\u001b[0m\n",
            "\n",
            "\n",
            "\u001b[1mTEST CASE #3\u001b[0m\n",
            "\n",
            "Input:\n",
            "{'poly1': [1, 1, 1], 'poly2': [2, 7, 5]}\n",
            "\n",
            "Expected Output:\n",
            "[2, 9, 14, 12, 5]\n",
            "\n",
            "\n",
            "Actual Output:\n",
            "[2, 9, 14, 12, 5]\n",
            "\n",
            "Execution Time:\n",
            "0.043 ms\n",
            "\n",
            "Test Result:\n",
            "\u001b[92mPASSED\u001b[0m\n",
            "\n",
            "\n",
            "\u001b[1mTEST CASE #4\u001b[0m\n",
            "\n",
            "Input:\n",
            "{'poly1': [], 'poly2': [2, 7, 4]}\n",
            "\n",
            "Expected Output:\n",
            "[]\n",
            "\n",
            "\n",
            "Actual Output:\n",
            "[]\n",
            "\n",
            "Execution Time:\n",
            "0.003 ms\n",
            "\n",
            "Test Result:\n",
            "\u001b[92mPASSED\u001b[0m\n",
            "\n",
            "\n",
            "\u001b[1mTEST CASE #5\u001b[0m\n",
            "\n",
            "Input:\n",
            "{'poly1': [0, 1], 'poly2': [2, 6, -5, 3, 4]}\n",
            "\n",
            "Expected Output:\n",
            "[0, 2, 6, -5, 3, 4]\n",
            "\n",
            "\n",
            "Actual Output:\n",
            "[0, 2, 6, -5, 3, 4]\n",
            "\n",
            "Execution Time:\n",
            "0.046 ms\n",
            "\n",
            "Test Result:\n",
            "\u001b[92mPASSED\u001b[0m\n",
            "\n",
            "\n",
            "\u001b[1mTEST CASE #6\u001b[0m\n",
            "\n",
            "Input:\n",
            "{'poly1': [1], 'poly2': [2, 6, 5, 3, 4]}\n",
            "\n",
            "Expected Output:\n",
            "[2, 6, 5, 3, 4]\n",
            "\n",
            "\n",
            "Actual Output:\n",
            "[2, 6, 5, 3, 4]\n",
            "\n",
            "Execution Time:\n",
            "0.028 ms\n",
            "\n",
            "Test Result:\n",
            "\u001b[92mPASSED\u001b[0m\n",
            "\n",
            "\n",
            "\u001b[1mTEST CASE #7\u001b[0m\n",
            "\n",
            "Input:\n",
            "{'poly1': [], 'poly2': [1]}\n",
            "\n",
            "Expected Output:\n",
            "[]\n",
            "\n",
            "\n",
            "Actual Output:\n",
            "[]\n",
            "\n",
            "Execution Time:\n",
            "0.003 ms\n",
            "\n",
            "Test Result:\n",
            "\u001b[92mPASSED\u001b[0m\n",
            "\n",
            "\n",
            "\u001b[1mTEST CASE #8\u001b[0m\n",
            "\n",
            "Input:\n",
            "{'poly1': [2, 5, 3, 1, -1], 'poly2': [1, 2, 2, 3, 6]}\n",
            "\n",
            "Expected Output:\n",
            "[2, 9, 17, 23, 34, 39, 19, 3, -6]\n",
            "\n",
            "\n",
            "Actual Output:\n",
            "[2, 9, 17, 23, 34, 39, 19, 3, -6]\n",
            "\n",
            "Execution Time:\n",
            "0.082 ms\n",
            "\n",
            "Test Result:\n",
            "\u001b[92mPASSED\u001b[0m\n",
            "\n",
            "\n",
            "\u001b[1mSUMMARY\u001b[0m\n",
            "\n",
            "TOTAL: 9, \u001b[92mPASSED\u001b[0m: 9, \u001b[91mFAILED\u001b[0m: 0\n"
          ]
        }
      ],
      "source": [
        "results = evaluate_test_cases(multiply_optimized, tests)"
      ]
    },
    {
      "cell_type": "code",
      "execution_count": 44,
      "id": "stable-korea",
      "metadata": {
        "id": "stable-korea"
      },
      "outputs": [],
      "source": [
        "import jovian"
      ]
    },
    {
      "cell_type": "code",
      "execution_count": 45,
      "id": "nominated-thousand",
      "metadata": {
        "colab": {
          "base_uri": "https://localhost:8080/",
          "height": 87
        },
        "id": "nominated-thousand",
        "outputId": "701ef4d2-6df2-4487-8523-c0b6e5990b73"
      },
      "outputs": [
        {
          "output_type": "stream",
          "name": "stdout",
          "text": [
            "[jovian] Detected Colab notebook...\u001b[0m\n",
            "[jovian] Uploading colab notebook to Jovian...\u001b[0m\n",
            "Committed successfully! https://jovian.ai/deepak-dewani/python-divide-and-conquer-assignment-practice\n"
          ]
        },
        {
          "output_type": "execute_result",
          "data": {
            "application/vnd.google.colaboratory.intrinsic+json": {
              "type": "string"
            },
            "text/plain": [
              "'https://jovian.ai/deepak-dewani/python-divide-and-conquer-assignment-practice'"
            ]
          },
          "metadata": {},
          "execution_count": 45
        }
      ],
      "source": [
        "jovian.commit()"
      ]
    },
    {
      "cell_type": "markdown",
      "id": "documented-leisure",
      "metadata": {
        "id": "documented-leisure"
      },
      "source": [
        "## Make a Submission\n",
        "\n",
        "Congrats! You have now implemented hash tables from scratch. The rest of this assignment is optional.\n",
        "\n",
        "You can make a submission on this page: https://jovian.ai/learn/data-structures-and-algorithms-in-python/assignment/assignment-3-sorting-and-divide-conquer-practice\n",
        "\n",
        "Submit the link to your Jovian notebook (the output of the previous cell).\n",
        "You can also make a direct submission by executing the following cell:"
      ]
    },
    {
      "cell_type": "code",
      "execution_count": 46,
      "id": "superior-windows",
      "metadata": {
        "colab": {
          "base_uri": "https://localhost:8080/"
        },
        "id": "superior-windows",
        "outputId": "0a8237da-bbf8-4204-b6f0-f133643c5926"
      },
      "outputs": [
        {
          "output_type": "stream",
          "name": "stdout",
          "text": [
            "[jovian] Detected Colab notebook...\u001b[0m\n",
            "[jovian] Uploading colab notebook to Jovian...\u001b[0m\n",
            "Committed successfully! https://jovian.ai/deepak-dewani/python-divide-and-conquer-assignment-practice\n",
            "[jovian] Submitting assignment..\u001b[0m\n",
            "[jovian] Verify your submission at https://jovian.ai/learn/data-structures-and-algorithms-in-python/assignment/assignment-3-sorting-and-divide-conquer-practice\u001b[0m\n"
          ]
        }
      ],
      "source": [
        "jovian.submit(assignment=\"pythondsa-assignment3\")"
      ]
    },
    {
      "cell_type": "markdown",
      "id": "early-norfolk",
      "metadata": {
        "id": "early-norfolk"
      },
      "source": [
        "### (Optional) 9. Analyze the algorithm's complexity and identify inefficiencies, if any.\n",
        "\n",
        "Can you analyze the time and space complexity of this algorithm? \n",
        "\n",
        "Hint: See the tree of subproblems below ([source](https://myithelpcentral.blogspot.com/2015/09/o-logn-notation-explanation-for-binary.html)). Substitute the right values for `n` and `b` to determine the time complexity.\n",
        "\n",
        "![](https://i.imgur.com/JAmZrE5.png)"
      ]
    },
    {
      "cell_type": "code",
      "execution_count": null,
      "id": "controlling-merchandise",
      "metadata": {
        "id": "controlling-merchandise"
      },
      "outputs": [],
      "source": [
        "import jovian"
      ]
    },
    {
      "cell_type": "code",
      "execution_count": null,
      "id": "ranging-testing",
      "metadata": {
        "id": "ranging-testing",
        "outputId": "2476c9ca-110c-4fca-9b58-3fba08b21f6a"
      },
      "outputs": [
        {
          "data": {
            "application/javascript": [
              "window.require && require([\"base/js/namespace\"],function(Jupyter){Jupyter.notebook.save_checkpoint()})"
            ],
            "text/plain": [
              "<IPython.core.display.Javascript object>"
            ]
          },
          "metadata": {},
          "output_type": "display_data"
        },
        {
          "name": "stdout",
          "output_type": "stream",
          "text": [
            "[jovian] Attempting to save notebook..\u001b[0m\n",
            "[jovian] Updating notebook \"aakashns/python-divide-and-conquer-assignment\" on https://jovian.ai/\u001b[0m\n",
            "[jovian] Uploading notebook..\u001b[0m\n",
            "[jovian] Capturing environment..\u001b[0m\n",
            "[jovian] Committed successfully! https://jovian.ai/aakashns/python-divide-and-conquer-assignment\u001b[0m\n"
          ]
        },
        {
          "data": {
            "text/plain": [
              "'https://jovian.ai/aakashns/python-divide-and-conquer-assignment'"
            ]
          },
          "execution_count": 14,
          "metadata": {},
          "output_type": "execute_result"
        }
      ],
      "source": [
        "jovian.commit()"
      ]
    }
  ],
  "metadata": {
    "kernelspec": {
      "display_name": "Python 3",
      "language": "python",
      "name": "python3"
    },
    "language_info": {
      "codemirror_mode": {
        "name": "ipython",
        "version": 3
      },
      "file_extension": ".py",
      "mimetype": "text/x-python",
      "name": "python",
      "nbconvert_exporter": "python",
      "pygments_lexer": "ipython3",
      "version": "3.6.12"
    },
    "colab": {
      "name": "03_python-divide-and-conquer-assignment.ipynb",
      "provenance": [],
      "collapsed_sections": [
        "honey-desire"
      ],
      "include_colab_link": true
    }
  },
  "nbformat": 4,
  "nbformat_minor": 5
}